{
 "cells": [
  {
   "cell_type": "markdown",
   "metadata": {},
   "source": [
    "# Borrower Reliability Research\n",
    "\n",
    "The customer is the credit department of the bank. It is necessary to find out whether the marital status and the number of children of the client affect the fact of repaying the loan on time. Input data from the bank - statistics on the solvency of customers.\n",
    "\n",
    "The results of the research will be taken into account when building a `credit scoring` model - a special system that assesses the ability of a potential borrower to repay a loan to a bank."
   ]
  },
  {
   "cell_type": "markdown",
   "metadata": {},
   "source": [
    "## 1. Open the data file and examine the general information"
   ]
  },
  {
   "cell_type": "code",
   "execution_count": 1,
   "metadata": {},
   "outputs": [],
   "source": [
    "# import libraries\n",
    "import pandas as pd\n",
    "from pymystem3 import Mystem\n",
    "import numpy as np\n",
    "m = Mystem()"
   ]
  },
  {
   "cell_type": "code",
   "execution_count": 2,
   "metadata": {},
   "outputs": [
    {
     "data": {
      "text/html": [
       "<div>\n",
       "<style scoped>\n",
       "    .dataframe tbody tr th:only-of-type {\n",
       "        vertical-align: middle;\n",
       "    }\n",
       "\n",
       "    .dataframe tbody tr th {\n",
       "        vertical-align: top;\n",
       "    }\n",
       "\n",
       "    .dataframe thead th {\n",
       "        text-align: right;\n",
       "    }\n",
       "</style>\n",
       "<table border=\"1\" class=\"dataframe\">\n",
       "  <thead>\n",
       "    <tr style=\"text-align: right;\">\n",
       "      <th></th>\n",
       "      <th>children</th>\n",
       "      <th>days_employed</th>\n",
       "      <th>dob_years</th>\n",
       "      <th>education</th>\n",
       "      <th>education_id</th>\n",
       "      <th>family_status</th>\n",
       "      <th>family_status_id</th>\n",
       "      <th>gender</th>\n",
       "      <th>income_type</th>\n",
       "      <th>debt</th>\n",
       "      <th>total_income</th>\n",
       "      <th>purpose</th>\n",
       "    </tr>\n",
       "  </thead>\n",
       "  <tbody>\n",
       "    <tr>\n",
       "      <th>0</th>\n",
       "      <td>1</td>\n",
       "      <td>-8437.673028</td>\n",
       "      <td>42</td>\n",
       "      <td>высшее</td>\n",
       "      <td>0</td>\n",
       "      <td>женат / замужем</td>\n",
       "      <td>0</td>\n",
       "      <td>F</td>\n",
       "      <td>сотрудник</td>\n",
       "      <td>0</td>\n",
       "      <td>253875.639453</td>\n",
       "      <td>покупка жилья</td>\n",
       "    </tr>\n",
       "    <tr>\n",
       "      <th>1</th>\n",
       "      <td>1</td>\n",
       "      <td>-4024.803754</td>\n",
       "      <td>36</td>\n",
       "      <td>среднее</td>\n",
       "      <td>1</td>\n",
       "      <td>женат / замужем</td>\n",
       "      <td>0</td>\n",
       "      <td>F</td>\n",
       "      <td>сотрудник</td>\n",
       "      <td>0</td>\n",
       "      <td>112080.014102</td>\n",
       "      <td>приобретение автомобиля</td>\n",
       "    </tr>\n",
       "    <tr>\n",
       "      <th>2</th>\n",
       "      <td>0</td>\n",
       "      <td>-5623.422610</td>\n",
       "      <td>33</td>\n",
       "      <td>Среднее</td>\n",
       "      <td>1</td>\n",
       "      <td>женат / замужем</td>\n",
       "      <td>0</td>\n",
       "      <td>M</td>\n",
       "      <td>сотрудник</td>\n",
       "      <td>0</td>\n",
       "      <td>145885.952297</td>\n",
       "      <td>покупка жилья</td>\n",
       "    </tr>\n",
       "    <tr>\n",
       "      <th>3</th>\n",
       "      <td>3</td>\n",
       "      <td>-4124.747207</td>\n",
       "      <td>32</td>\n",
       "      <td>среднее</td>\n",
       "      <td>1</td>\n",
       "      <td>женат / замужем</td>\n",
       "      <td>0</td>\n",
       "      <td>M</td>\n",
       "      <td>сотрудник</td>\n",
       "      <td>0</td>\n",
       "      <td>267628.550329</td>\n",
       "      <td>дополнительное образование</td>\n",
       "    </tr>\n",
       "    <tr>\n",
       "      <th>4</th>\n",
       "      <td>0</td>\n",
       "      <td>340266.072047</td>\n",
       "      <td>53</td>\n",
       "      <td>среднее</td>\n",
       "      <td>1</td>\n",
       "      <td>гражданский брак</td>\n",
       "      <td>1</td>\n",
       "      <td>F</td>\n",
       "      <td>пенсионер</td>\n",
       "      <td>0</td>\n",
       "      <td>158616.077870</td>\n",
       "      <td>сыграть свадьбу</td>\n",
       "    </tr>\n",
       "  </tbody>\n",
       "</table>\n",
       "</div>"
      ],
      "text/plain": [
       "   children  days_employed  dob_years education  education_id  \\\n",
       "0         1   -8437.673028         42    высшее             0   \n",
       "1         1   -4024.803754         36   среднее             1   \n",
       "2         0   -5623.422610         33   Среднее             1   \n",
       "3         3   -4124.747207         32   среднее             1   \n",
       "4         0  340266.072047         53   среднее             1   \n",
       "\n",
       "      family_status  family_status_id gender income_type  debt   total_income  \\\n",
       "0   женат / замужем                 0      F   сотрудник     0  253875.639453   \n",
       "1   женат / замужем                 0      F   сотрудник     0  112080.014102   \n",
       "2   женат / замужем                 0      M   сотрудник     0  145885.952297   \n",
       "3   женат / замужем                 0      M   сотрудник     0  267628.550329   \n",
       "4  гражданский брак                 1      F   пенсионер     0  158616.077870   \n",
       "\n",
       "                      purpose  \n",
       "0               покупка жилья  \n",
       "1     приобретение автомобиля  \n",
       "2               покупка жилья  \n",
       "3  дополнительное образование  \n",
       "4             сыграть свадьбу  "
      ]
     },
     "metadata": {},
     "output_type": "display_data"
    },
    {
     "name": "stdout",
     "output_type": "stream",
     "text": [
      "<class 'pandas.core.frame.DataFrame'>\n",
      "RangeIndex: 21525 entries, 0 to 21524\n",
      "Data columns (total 12 columns):\n",
      " #   Column            Non-Null Count  Dtype  \n",
      "---  ------            --------------  -----  \n",
      " 0   children          21525 non-null  int64  \n",
      " 1   days_employed     19351 non-null  float64\n",
      " 2   dob_years         21525 non-null  int64  \n",
      " 3   education         21525 non-null  object \n",
      " 4   education_id      21525 non-null  int64  \n",
      " 5   family_status     21525 non-null  object \n",
      " 6   family_status_id  21525 non-null  int64  \n",
      " 7   gender            21525 non-null  object \n",
      " 8   income_type       21525 non-null  object \n",
      " 9   debt              21525 non-null  int64  \n",
      " 10  total_income      19351 non-null  float64\n",
      " 11  purpose           21525 non-null  object \n",
      "dtypes: float64(2), int64(5), object(5)\n",
      "memory usage: 2.0+ MB\n"
     ]
    }
   ],
   "source": [
    "data = pd.read_csv('data.csv')\n",
    "display(data.head())\n",
    "data.info()"
   ]
  },
  {
   "cell_type": "markdown",
   "metadata": {},
   "source": [
    "**Сonclusion**\n",
    "  - Opened and viewed the dataset. \n",
    "  - There are no problems with the column names, there are missing values in `days_employed` and `total_income`, we will replace them with the median value, and make the `days_employed` values positive. \n",
    "  - Also in these lines, `float` data, replace with `int`."
   ]
  },
  {
   "cell_type": "markdown",
   "metadata": {},
   "source": [
    "## 2. Data preprocessing:"
   ]
  },
  {
   "cell_type": "markdown",
   "metadata": {},
   "source": [
    "### 2.1 `NaN` processing"
   ]
  },
  {
   "cell_type": "code",
   "execution_count": 3,
   "metadata": {},
   "outputs": [
    {
     "data": {
      "text/html": [
       "<div>\n",
       "<style scoped>\n",
       "    .dataframe tbody tr th:only-of-type {\n",
       "        vertical-align: middle;\n",
       "    }\n",
       "\n",
       "    .dataframe tbody tr th {\n",
       "        vertical-align: top;\n",
       "    }\n",
       "\n",
       "    .dataframe thead th {\n",
       "        text-align: right;\n",
       "    }\n",
       "</style>\n",
       "<table border=\"1\" class=\"dataframe\">\n",
       "  <thead>\n",
       "    <tr style=\"text-align: right;\">\n",
       "      <th></th>\n",
       "      <th>children</th>\n",
       "      <th>days_employed</th>\n",
       "      <th>dob_years</th>\n",
       "      <th>education</th>\n",
       "      <th>education_id</th>\n",
       "      <th>family_status</th>\n",
       "      <th>family_status_id</th>\n",
       "      <th>gender</th>\n",
       "      <th>income_type</th>\n",
       "      <th>debt</th>\n",
       "      <th>total_income</th>\n",
       "      <th>purpose</th>\n",
       "    </tr>\n",
       "  </thead>\n",
       "  <tbody>\n",
       "    <tr>\n",
       "      <th>0</th>\n",
       "      <td>1</td>\n",
       "      <td>8437.673028</td>\n",
       "      <td>42</td>\n",
       "      <td>высшее</td>\n",
       "      <td>0</td>\n",
       "      <td>женат / замужем</td>\n",
       "      <td>0</td>\n",
       "      <td>F</td>\n",
       "      <td>сотрудник</td>\n",
       "      <td>0</td>\n",
       "      <td>253875.639453</td>\n",
       "      <td>покупка жилья</td>\n",
       "    </tr>\n",
       "    <tr>\n",
       "      <th>1</th>\n",
       "      <td>1</td>\n",
       "      <td>4024.803754</td>\n",
       "      <td>36</td>\n",
       "      <td>среднее</td>\n",
       "      <td>1</td>\n",
       "      <td>женат / замужем</td>\n",
       "      <td>0</td>\n",
       "      <td>F</td>\n",
       "      <td>сотрудник</td>\n",
       "      <td>0</td>\n",
       "      <td>112080.014102</td>\n",
       "      <td>приобретение автомобиля</td>\n",
       "    </tr>\n",
       "    <tr>\n",
       "      <th>2</th>\n",
       "      <td>0</td>\n",
       "      <td>5623.422610</td>\n",
       "      <td>33</td>\n",
       "      <td>Среднее</td>\n",
       "      <td>1</td>\n",
       "      <td>женат / замужем</td>\n",
       "      <td>0</td>\n",
       "      <td>M</td>\n",
       "      <td>сотрудник</td>\n",
       "      <td>0</td>\n",
       "      <td>145885.952297</td>\n",
       "      <td>покупка жилья</td>\n",
       "    </tr>\n",
       "    <tr>\n",
       "      <th>3</th>\n",
       "      <td>3</td>\n",
       "      <td>4124.747207</td>\n",
       "      <td>32</td>\n",
       "      <td>среднее</td>\n",
       "      <td>1</td>\n",
       "      <td>женат / замужем</td>\n",
       "      <td>0</td>\n",
       "      <td>M</td>\n",
       "      <td>сотрудник</td>\n",
       "      <td>0</td>\n",
       "      <td>267628.550329</td>\n",
       "      <td>дополнительное образование</td>\n",
       "    </tr>\n",
       "    <tr>\n",
       "      <th>4</th>\n",
       "      <td>0</td>\n",
       "      <td>340266.072047</td>\n",
       "      <td>53</td>\n",
       "      <td>среднее</td>\n",
       "      <td>1</td>\n",
       "      <td>гражданский брак</td>\n",
       "      <td>1</td>\n",
       "      <td>F</td>\n",
       "      <td>пенсионер</td>\n",
       "      <td>0</td>\n",
       "      <td>158616.077870</td>\n",
       "      <td>сыграть свадьбу</td>\n",
       "    </tr>\n",
       "  </tbody>\n",
       "</table>\n",
       "</div>"
      ],
      "text/plain": [
       "   children  days_employed  dob_years education  education_id  \\\n",
       "0         1    8437.673028         42    высшее             0   \n",
       "1         1    4024.803754         36   среднее             1   \n",
       "2         0    5623.422610         33   Среднее             1   \n",
       "3         3    4124.747207         32   среднее             1   \n",
       "4         0  340266.072047         53   среднее             1   \n",
       "\n",
       "      family_status  family_status_id gender income_type  debt   total_income  \\\n",
       "0   женат / замужем                 0      F   сотрудник     0  253875.639453   \n",
       "1   женат / замужем                 0      F   сотрудник     0  112080.014102   \n",
       "2   женат / замужем                 0      M   сотрудник     0  145885.952297   \n",
       "3   женат / замужем                 0      M   сотрудник     0  267628.550329   \n",
       "4  гражданский брак                 1      F   пенсионер     0  158616.077870   \n",
       "\n",
       "                      purpose  \n",
       "0               покупка жилья  \n",
       "1     приобретение автомобиля  \n",
       "2               покупка жилья  \n",
       "3  дополнительное образование  \n",
       "4             сыграть свадьбу  "
      ]
     },
     "execution_count": 3,
     "metadata": {},
     "output_type": "execute_result"
    }
   ],
   "source": [
    "data['days_employed'] = data['days_employed'].fillna(data['days_employed'].median())\n",
    "data['total_income'] = data['total_income'].fillna(data['total_income'].median())\n",
    "data['days_employed'] = abs(data['days_employed'])\n",
    "data.head()"
   ]
  },
  {
   "cell_type": "markdown",
   "metadata": {},
   "source": [
    "**Сonclusion**\n",
    "  - Replaced the missing values in `days_employed` and `total_income` with the median value of these columns\n",
    "  - Converted values to a positive number"
   ]
  },
  {
   "cell_type": "markdown",
   "metadata": {},
   "source": [
    "### 2.2 Replacing the data type"
   ]
  },
  {
   "cell_type": "code",
   "execution_count": 4,
   "metadata": {},
   "outputs": [
    {
     "name": "stdout",
     "output_type": "stream",
     "text": [
      "<class 'pandas.core.frame.DataFrame'>\n",
      "RangeIndex: 21525 entries, 0 to 21524\n",
      "Data columns (total 12 columns):\n",
      " #   Column            Non-Null Count  Dtype \n",
      "---  ------            --------------  ----- \n",
      " 0   children          21525 non-null  int64 \n",
      " 1   days_employed     21525 non-null  int64 \n",
      " 2   dob_years         21525 non-null  int64 \n",
      " 3   education         21525 non-null  object\n",
      " 4   education_id      21525 non-null  int64 \n",
      " 5   family_status     21525 non-null  object\n",
      " 6   family_status_id  21525 non-null  int64 \n",
      " 7   gender            21525 non-null  object\n",
      " 8   income_type       21525 non-null  object\n",
      " 9   debt              21525 non-null  int64 \n",
      " 10  total_income      21525 non-null  int64 \n",
      " 11  purpose           21525 non-null  object\n",
      "dtypes: int64(7), object(5)\n",
      "memory usage: 2.0+ MB\n"
     ]
    }
   ],
   "source": [
    "data = data.astype({\"days_employed\": \"int64\", \"total_income\": \"int64\"})\n",
    "data.info()"
   ]
  },
  {
   "cell_type": "markdown",
   "metadata": {},
   "source": [
    "**Сonclusion**\n",
    "  - Replaced column data with int, since it is better to represent the number of days and total income as integers."
   ]
  },
  {
   "cell_type": "markdown",
   "metadata": {},
   "source": [
    "### 2.3 Handling Duplicate Values & outliers"
   ]
  },
  {
   "cell_type": "code",
   "execution_count": 5,
   "metadata": {},
   "outputs": [
    {
     "data": {
      "text/plain": [
       " 0     14149\n",
       " 1      4818\n",
       " 2      2055\n",
       " 3       330\n",
       " 20       76\n",
       "-1        47\n",
       " 4        41\n",
       " 5         9\n",
       "Name: children, dtype: int64"
      ]
     },
     "execution_count": 5,
     "metadata": {},
     "output_type": "execute_result"
    }
   ],
   "source": [
    "data['children'].value_counts()"
   ]
  },
  {
   "cell_type": "markdown",
   "metadata": {},
   "source": [
    "There are outliers here: \n",
    "  - `-1` and `20` children.\n",
    "  - We replace `-1` with `1` and delete data with `20` children (about 0.3%)\n"
   ]
  },
  {
   "cell_type": "code",
   "execution_count": 6,
   "metadata": {},
   "outputs": [],
   "source": [
    "data.loc[data['children'] == -1,'children'] = 1\n",
    "data = data[data.children != 20]"
   ]
  },
  {
   "cell_type": "code",
   "execution_count": 7,
   "metadata": {},
   "outputs": [
    {
     "data": {
      "text/plain": [
       "35    615\n",
       "40    605\n",
       "41    605\n",
       "34    600\n",
       "38    597\n",
       "42    594\n",
       "33    579\n",
       "39    572\n",
       "31    558\n",
       "36    553\n",
       "44    545\n",
       "29    543\n",
       "30    537\n",
       "48    537\n",
       "37    533\n",
       "50    511\n",
       "43    511\n",
       "32    508\n",
       "49    505\n",
       "28    503\n",
       "45    494\n",
       "27    491\n",
       "52    483\n",
       "56    482\n",
       "47    480\n",
       "54    478\n",
       "46    472\n",
       "58    461\n",
       "57    459\n",
       "53    458\n",
       "51    447\n",
       "59    442\n",
       "55    442\n",
       "26    407\n",
       "60    376\n",
       "25    356\n",
       "61    354\n",
       "62    351\n",
       "63    269\n",
       "64    264\n",
       "24    263\n",
       "23    253\n",
       "65    194\n",
       "22    183\n",
       "66    183\n",
       "67    167\n",
       "21    110\n",
       "0     100\n",
       "68     99\n",
       "69     84\n",
       "70     65\n",
       "71     58\n",
       "20     51\n",
       "72     33\n",
       "19     14\n",
       "73      8\n",
       "74      6\n",
       "75      1\n",
       "Name: dob_years, dtype: int64"
      ]
     },
     "execution_count": 7,
     "metadata": {},
     "output_type": "execute_result"
    }
   ],
   "source": [
    "data['dob_years'].value_counts()"
   ]
  },
  {
   "cell_type": "markdown",
   "metadata": {},
   "source": [
    "There are outliers here: \n",
    "  - `0` dob_years - 100 (about 0.4%), we delete them."
   ]
  },
  {
   "cell_type": "code",
   "execution_count": 8,
   "metadata": {},
   "outputs": [],
   "source": [
    "data = data[data.dob_years != 0]"
   ]
  },
  {
   "cell_type": "code",
   "execution_count": 9,
   "metadata": {},
   "outputs": [
    {
     "data": {
      "text/plain": [
       "среднее                13640\n",
       "высшее                  4674\n",
       "СРЕДНЕЕ                  768\n",
       "Среднее                  702\n",
       "неоконченное высшее      664\n",
       "ВЫСШЕЕ                   271\n",
       "Высшее                   266\n",
       "начальное                250\n",
       "Неоконченное высшее       47\n",
       "НЕОКОНЧЕННОЕ ВЫСШЕЕ       29\n",
       "НАЧАЛЬНОЕ                 17\n",
       "Начальное                 15\n",
       "ученая степень             4\n",
       "Ученая степень             1\n",
       "УЧЕНАЯ СТЕПЕНЬ             1\n",
       "Name: education, dtype: int64"
      ]
     },
     "execution_count": 9,
     "metadata": {},
     "output_type": "execute_result"
    }
   ],
   "source": [
    "data['education'].value_counts()"
   ]
  },
  {
   "cell_type": "markdown",
   "metadata": {},
   "source": [
    "There are dublicates here: \n",
    "  - duplicates written in different case"
   ]
  },
  {
   "cell_type": "code",
   "execution_count": 10,
   "metadata": {},
   "outputs": [
    {
     "data": {
      "text/plain": [
       "среднее                15110\n",
       "высшее                  5211\n",
       "неоконченное высшее      740\n",
       "начальное                282\n",
       "ученая степень             6\n",
       "Name: education, dtype: int64"
      ]
     },
     "execution_count": 10,
     "metadata": {},
     "output_type": "execute_result"
    }
   ],
   "source": [
    "data.education = data.education.str.lower()\n",
    "data.education.value_counts()"
   ]
  },
  {
   "cell_type": "code",
   "execution_count": 11,
   "metadata": {},
   "outputs": [
    {
     "data": {
      "text/plain": [
       "женат / замужем          12283\n",
       "гражданский брак          4144\n",
       "Не женат / не замужем     2788\n",
       "в разводе                 1183\n",
       "вдовец / вдова             951\n",
       "Name: family_status, dtype: int64"
      ]
     },
     "execution_count": 11,
     "metadata": {},
     "output_type": "execute_result"
    }
   ],
   "source": [
    "data.family_status.value_counts()"
   ]
  },
  {
   "cell_type": "code",
   "execution_count": 12,
   "metadata": {},
   "outputs": [
    {
     "data": {
      "text/plain": [
       "F      14118\n",
       "M       7230\n",
       "XNA        1\n",
       "Name: gender, dtype: int64"
      ]
     },
     "execution_count": 12,
     "metadata": {},
     "output_type": "execute_result"
    }
   ],
   "source": [
    "data.gender.value_counts()"
   ]
  },
  {
   "cell_type": "code",
   "execution_count": 13,
   "metadata": {},
   "outputs": [
    {
     "data": {
      "text/plain": [
       "сотрудник          11022\n",
       "компаньон           5043\n",
       "пенсионер           3827\n",
       "госслужащий         1451\n",
       "безработный            2\n",
       "предприниматель        2\n",
       "студент                1\n",
       "в декрете              1\n",
       "Name: income_type, dtype: int64"
      ]
     },
     "execution_count": 13,
     "metadata": {},
     "output_type": "execute_result"
    }
   ],
   "source": [
    "data.income_type.value_counts()"
   ]
  },
  {
   "cell_type": "code",
   "execution_count": 14,
   "metadata": {},
   "outputs": [
    {
     "data": {
      "text/plain": [
       "0    19624\n",
       "1     1725\n",
       "Name: debt, dtype: int64"
      ]
     },
     "execution_count": 14,
     "metadata": {},
     "output_type": "execute_result"
    }
   ],
   "source": [
    "data.debt.value_counts()"
   ]
  },
  {
   "cell_type": "markdown",
   "metadata": {},
   "source": [
    "Everything is fine here"
   ]
  },
  {
   "cell_type": "code",
   "execution_count": 15,
   "metadata": {},
   "outputs": [
    {
     "data": {
      "text/plain": [
       "свадьба                                   791\n",
       "на проведение свадьбы                     769\n",
       "сыграть свадьбу                           765\n",
       "операции с недвижимостью                  672\n",
       "покупка коммерческой недвижимости         658\n",
       "покупка жилья для сдачи                   650\n",
       "операции с коммерческой недвижимостью     645\n",
       "операции с жильем                         643\n",
       "покупка жилья для семьи                   639\n",
       "покупка жилья                             638\n",
       "жилье                                     637\n",
       "недвижимость                              629\n",
       "операции со своей недвижимостью           629\n",
       "строительство собственной недвижимости    627\n",
       "строительство жилой недвижимости          622\n",
       "строительство недвижимости                620\n",
       "покупка своего жилья                      619\n",
       "покупка недвижимости                      619\n",
       "ремонт жилью                              608\n",
       "покупка жилой недвижимости                602\n",
       "на покупку своего автомобиля              502\n",
       "заняться высшим образованием              493\n",
       "автомобиль                                490\n",
       "сделка с подержанным автомобилем          483\n",
       "автомобили                                475\n",
       "свой автомобиль                           474\n",
       "на покупку подержанного автомобиля        473\n",
       "на покупку автомобиля                     467\n",
       "приобретение автомобиля                   460\n",
       "дополнительное образование                457\n",
       "сделка с автомобилем                      454\n",
       "высшее образование                        445\n",
       "получение дополнительного образования     444\n",
       "образование                               442\n",
       "получение образования                     441\n",
       "профильное образование                    433\n",
       "получение высшего образования             423\n",
       "заняться образованием                     411\n",
       "Name: purpose, dtype: int64"
      ]
     },
     "execution_count": 15,
     "metadata": {},
     "output_type": "execute_result"
    }
   ],
   "source": [
    "data.purpose.value_counts()"
   ]
  },
  {
   "cell_type": "markdown",
   "metadata": {},
   "source": [
    "Repeating categories, later we will combine them using lemmatization and categorization"
   ]
  },
  {
   "cell_type": "code",
   "execution_count": 16,
   "metadata": {},
   "outputs": [
    {
     "data": {
      "text/plain": [
       "0"
      ]
     },
     "execution_count": 16,
     "metadata": {},
     "output_type": "execute_result"
    }
   ],
   "source": [
    "data = data.drop_duplicates()\n",
    "data.duplicated().sum()"
   ]
  },
  {
   "cell_type": "markdown",
   "metadata": {},
   "source": [
    "Remove obvious duplicates"
   ]
  },
  {
   "cell_type": "markdown",
   "metadata": {},
   "source": [
    "### 2.4 Lemmatization:"
   ]
  },
  {
   "cell_type": "code",
   "execution_count": 17,
   "metadata": {},
   "outputs": [],
   "source": [
    "purpose_data = data['purpose'].value_counts()\n",
    "lemmas = []\n",
    "for x in data['purpose'].head(50):\n",
    "    lemm = m.lemmatize(x)\n",
    "    for l in lemm:\n",
    "        if l not in lemmas:\n",
    "            lemmas.append(l)"
   ]
  },
  {
   "cell_type": "markdown",
   "metadata": {},
   "source": [
    "   - lemmatize the goal lemma of credits"
   ]
  },
  {
   "cell_type": "code",
   "execution_count": 18,
   "metadata": {},
   "outputs": [
    {
     "data": {
      "text/plain": [
       "['покупка',\n",
       " ' ',\n",
       " 'жилье',\n",
       " '\\n',\n",
       " 'приобретение',\n",
       " 'автомобиль',\n",
       " 'дополнительный',\n",
       " 'образование',\n",
       " 'сыграть',\n",
       " 'свадьба',\n",
       " 'операция',\n",
       " 'с',\n",
       " 'на',\n",
       " 'проведение',\n",
       " 'для',\n",
       " 'семья',\n",
       " 'недвижимость',\n",
       " 'коммерческий',\n",
       " 'жилой',\n",
       " 'строительство',\n",
       " 'собственный',\n",
       " 'подержать',\n",
       " 'свой',\n",
       " 'со',\n",
       " 'заниматься',\n",
       " 'сделка',\n",
       " 'подержанный',\n",
       " 'получение']"
      ]
     },
     "execution_count": 18,
     "metadata": {},
     "output_type": "execute_result"
    }
   ],
   "source": [
    "lemmas"
   ]
  },
  {
   "cell_type": "code",
   "execution_count": 19,
   "metadata": {},
   "outputs": [],
   "source": [
    "# У нас получилось 4 цели:\n",
    "house = 'жиль'\n",
    "house_2 = 'недвиж'\n",
    "auto = 'автомобил'\n",
    "study = 'образов'\n",
    "wedding = 'свадьб'"
   ]
  },
  {
   "cell_type": "markdown",
   "metadata": {},
   "source": [
    "   - Received 4 categories of loan objectives"
   ]
  },
  {
   "cell_type": "markdown",
   "metadata": {},
   "source": [
    "### 2.5 Categorization:"
   ]
  },
  {
   "cell_type": "code",
   "execution_count": 20,
   "metadata": {
    "scrolled": true
   },
   "outputs": [
    {
     "data": {
      "text/plain": [
       "property     10728\n",
       "car           4269\n",
       "education     3980\n",
       "wedding       2301\n",
       "Name: purpose_category, dtype: int64"
      ]
     },
     "execution_count": 20,
     "metadata": {},
     "output_type": "execute_result"
    }
   ],
   "source": [
    "def purpose_categoryze(purpose):\n",
    "    if house in purpose or house_2 in purpose:\n",
    "        return 'property'\n",
    "    elif auto in purpose:\n",
    "        return 'car'\n",
    "    elif study in purpose:\n",
    "        return 'education'\n",
    "    elif wedding in purpose:\n",
    "        return 'wedding'\n",
    "    \n",
    "data['purpose_category'] = data['purpose'].apply(purpose_categoryze)\n",
    "data['purpose_category'].value_counts()   "
   ]
  },
  {
   "cell_type": "markdown",
   "metadata": {},
   "source": [
    "   - We divided the data of the `purpose` column into 4 categories"
   ]
  },
  {
   "cell_type": "code",
   "execution_count": 21,
   "metadata": {},
   "outputs": [
    {
     "name": "stdout",
     "output_type": "stream",
     "text": [
      "Max total_income: 2265604\n",
      "Min total_income: 20667\n",
      "Median total_income: 145017.0\n"
     ]
    }
   ],
   "source": [
    "# Let's categorize \"total_income\" for further use by creating a new column \"total_income_cat\"\n",
    "\n",
    "print(f'Max total_income: {data.total_income.max()}')\n",
    "print(f'Min total_income: {data.total_income.min()}')\n",
    "print(f'Median total_income: {data.total_income.median()}')"
   ]
  },
  {
   "cell_type": "code",
   "execution_count": 22,
   "metadata": {},
   "outputs": [
    {
     "data": {
      "text/plain": [
       "average    11829\n",
       "high        5020\n",
       "small       4429\n",
       "Name: total_income_cat, dtype: int64"
      ]
     },
     "execution_count": 22,
     "metadata": {},
     "output_type": "execute_result"
    }
   ],
   "source": [
    "# We looked at the maximum and minimum income, from 20,000 to about 2,000,000, the median is 145,000. \n",
    "# Most likely, 2 million this is an outlier, let's divide it into 3 categories:\n",
    "    \n",
    "def income_categoryze(value):\n",
    "    if value < 100000:\n",
    "        return 'small'\n",
    "    elif 100000 <= value <= 200000:\n",
    "        return 'average'\n",
    "    else:\n",
    "        return 'high'\n",
    "\n",
    "data['total_income_cat'] = data['total_income'].apply(income_categoryze)\n",
    "data['total_income_cat'].value_counts()"
   ]
  },
  {
   "cell_type": "markdown",
   "metadata": {},
   "source": [
    "   - After creating and applying the function, we categorized the goals of the loan, highlighting 4 types,creating a separate column. \n",
    "   - Then did the same with income categories, dividing them into 3 groups. \n",
    "   - Checked everything using value_counts"
   ]
  },
  {
   "cell_type": "markdown",
   "metadata": {},
   "source": [
    "## 3. Answer the questions according to the condition:"
   ]
  },
  {
   "cell_type": "markdown",
   "metadata": {},
   "source": [
    "### 3.1 Is there a relationship between having children and repaying the loan on time?"
   ]
  },
  {
   "cell_type": "code",
   "execution_count": 23,
   "metadata": {},
   "outputs": [
    {
     "data": {
      "text/html": [
       "<div>\n",
       "<style scoped>\n",
       "    .dataframe tbody tr th:only-of-type {\n",
       "        vertical-align: middle;\n",
       "    }\n",
       "\n",
       "    .dataframe tbody tr th {\n",
       "        vertical-align: top;\n",
       "    }\n",
       "\n",
       "    .dataframe thead th {\n",
       "        text-align: right;\n",
       "    }\n",
       "</style>\n",
       "<table border=\"1\" class=\"dataframe\">\n",
       "  <thead>\n",
       "    <tr style=\"text-align: right;\">\n",
       "      <th></th>\n",
       "      <th>count_child</th>\n",
       "      <th>sum_child</th>\n",
       "      <th>result_child</th>\n",
       "    </tr>\n",
       "    <tr>\n",
       "      <th>children</th>\n",
       "      <th></th>\n",
       "      <th></th>\n",
       "      <th></th>\n",
       "    </tr>\n",
       "  </thead>\n",
       "  <tbody>\n",
       "    <tr>\n",
       "      <th>0</th>\n",
       "      <td>14022</td>\n",
       "      <td>1058</td>\n",
       "      <td>0.075453</td>\n",
       "    </tr>\n",
       "    <tr>\n",
       "      <th>1</th>\n",
       "      <td>4839</td>\n",
       "      <td>442</td>\n",
       "      <td>0.091341</td>\n",
       "    </tr>\n",
       "    <tr>\n",
       "      <th>2</th>\n",
       "      <td>2039</td>\n",
       "      <td>194</td>\n",
       "      <td>0.095145</td>\n",
       "    </tr>\n",
       "    <tr>\n",
       "      <th>3</th>\n",
       "      <td>328</td>\n",
       "      <td>27</td>\n",
       "      <td>0.082317</td>\n",
       "    </tr>\n",
       "    <tr>\n",
       "      <th>4</th>\n",
       "      <td>41</td>\n",
       "      <td>4</td>\n",
       "      <td>0.097561</td>\n",
       "    </tr>\n",
       "    <tr>\n",
       "      <th>5</th>\n",
       "      <td>9</td>\n",
       "      <td>0</td>\n",
       "      <td>0.000000</td>\n",
       "    </tr>\n",
       "  </tbody>\n",
       "</table>\n",
       "</div>"
      ],
      "text/plain": [
       "          count_child  sum_child  result_child\n",
       "children                                      \n",
       "0               14022       1058      0.075453\n",
       "1                4839        442      0.091341\n",
       "2                2039        194      0.095145\n",
       "3                 328         27      0.082317\n",
       "4                  41          4      0.097561\n",
       "5                   9          0      0.000000"
      ]
     },
     "execution_count": 23,
     "metadata": {},
     "output_type": "execute_result"
    }
   ],
   "source": [
    "debt_child = pd.DataFrame()\n",
    "debt_child['count_child'] = data.groupby('children')['debt'].count()    \n",
    "debt_child['sum_child'] = data.groupby('children')['debt'].sum()\n",
    "debt_child['result_child'] = debt_child['sum_child'] / debt_child['count_child'] \n",
    "debt_child.sort_values('result_child', ascending = False)\n",
    "\n",
    "debt_child"
   ]
  },
  {
   "cell_type": "markdown",
   "metadata": {},
   "source": [
    "<div class=\"alert alert-block alert-info\"> Answer: We checked the dependence, we see that those who have children are more likely to overdue the loan than the childless.Conclusion - there is a dependence, judging by this sample </div>"
   ]
  },
  {
   "cell_type": "markdown",
   "metadata": {},
   "source": [
    "### 3.2 Is there a relationship between marital status and loan repayment on time?"
   ]
  },
  {
   "cell_type": "code",
   "execution_count": 24,
   "metadata": {},
   "outputs": [
    {
     "data": {
      "text/html": [
       "<div>\n",
       "<style scoped>\n",
       "    .dataframe tbody tr th:only-of-type {\n",
       "        vertical-align: middle;\n",
       "    }\n",
       "\n",
       "    .dataframe tbody tr th {\n",
       "        vertical-align: top;\n",
       "    }\n",
       "\n",
       "    .dataframe thead th {\n",
       "        text-align: right;\n",
       "    }\n",
       "</style>\n",
       "<table border=\"1\" class=\"dataframe\">\n",
       "  <thead>\n",
       "    <tr style=\"text-align: right;\">\n",
       "      <th></th>\n",
       "      <th>count_family</th>\n",
       "      <th>sum_family</th>\n",
       "      <th>result_family</th>\n",
       "    </tr>\n",
       "    <tr>\n",
       "      <th>family_status</th>\n",
       "      <th></th>\n",
       "      <th></th>\n",
       "      <th></th>\n",
       "    </tr>\n",
       "  </thead>\n",
       "  <tbody>\n",
       "    <tr>\n",
       "      <th>Не женат / не замужем</th>\n",
       "      <td>2785</td>\n",
       "      <td>272</td>\n",
       "      <td>0.097666</td>\n",
       "    </tr>\n",
       "    <tr>\n",
       "      <th>в разводе</th>\n",
       "      <td>1183</td>\n",
       "      <td>84</td>\n",
       "      <td>0.071006</td>\n",
       "    </tr>\n",
       "    <tr>\n",
       "      <th>вдовец / вдова</th>\n",
       "      <td>950</td>\n",
       "      <td>62</td>\n",
       "      <td>0.065263</td>\n",
       "    </tr>\n",
       "    <tr>\n",
       "      <th>гражданский брак</th>\n",
       "      <td>4118</td>\n",
       "      <td>383</td>\n",
       "      <td>0.093006</td>\n",
       "    </tr>\n",
       "    <tr>\n",
       "      <th>женат / замужем</th>\n",
       "      <td>12242</td>\n",
       "      <td>924</td>\n",
       "      <td>0.075478</td>\n",
       "    </tr>\n",
       "  </tbody>\n",
       "</table>\n",
       "</div>"
      ],
      "text/plain": [
       "                       count_family  sum_family  result_family\n",
       "family_status                                                 \n",
       "Не женат / не замужем          2785         272       0.097666\n",
       "в разводе                      1183          84       0.071006\n",
       "вдовец / вдова                  950          62       0.065263\n",
       "гражданский брак               4118         383       0.093006\n",
       "женат / замужем               12242         924       0.075478"
      ]
     },
     "execution_count": 24,
     "metadata": {},
     "output_type": "execute_result"
    }
   ],
   "source": [
    "debt_fam = pd.DataFrame()\n",
    "debt_fam['count_family'] = data.groupby('family_status')['debt'].count()\n",
    "debt_fam['sum_family'] = data.groupby('family_status')['debt'].sum()\n",
    "debt_fam['result_family'] = debt_fam['sum_family'] / debt_fam['count_family']\n",
    "debt_fam"
   ]
  },
  {
   "cell_type": "markdown",
   "metadata": {},
   "source": [
    "<div class=\"alert alert-block alert-info\">Answer: Grouped by marital status, and looked at the dependence. Conclusion, unmarried / unmarried, or living in a civil marriage are more likely to delay the payment than people who are currently married or have been married before</div>"
   ]
  },
  {
   "cell_type": "markdown",
   "metadata": {},
   "source": [
    "### 3.3 Is there a relationship between income level and loan repayment on time?"
   ]
  },
  {
   "cell_type": "code",
   "execution_count": 25,
   "metadata": {},
   "outputs": [
    {
     "data": {
      "text/html": [
       "<div>\n",
       "<style scoped>\n",
       "    .dataframe tbody tr th:only-of-type {\n",
       "        vertical-align: middle;\n",
       "    }\n",
       "\n",
       "    .dataframe tbody tr th {\n",
       "        vertical-align: top;\n",
       "    }\n",
       "\n",
       "    .dataframe thead th {\n",
       "        text-align: right;\n",
       "    }\n",
       "</style>\n",
       "<table border=\"1\" class=\"dataframe\">\n",
       "  <thead>\n",
       "    <tr style=\"text-align: right;\">\n",
       "      <th></th>\n",
       "      <th>count_income</th>\n",
       "      <th>sum_income</th>\n",
       "      <th>result_income</th>\n",
       "    </tr>\n",
       "    <tr>\n",
       "      <th>total_income_cat</th>\n",
       "      <th></th>\n",
       "      <th></th>\n",
       "      <th></th>\n",
       "    </tr>\n",
       "  </thead>\n",
       "  <tbody>\n",
       "    <tr>\n",
       "      <th>average</th>\n",
       "      <td>11829</td>\n",
       "      <td>1017</td>\n",
       "      <td>0.085975</td>\n",
       "    </tr>\n",
       "    <tr>\n",
       "      <th>high</th>\n",
       "      <td>5020</td>\n",
       "      <td>355</td>\n",
       "      <td>0.070717</td>\n",
       "    </tr>\n",
       "    <tr>\n",
       "      <th>small</th>\n",
       "      <td>4429</td>\n",
       "      <td>353</td>\n",
       "      <td>0.079702</td>\n",
       "    </tr>\n",
       "  </tbody>\n",
       "</table>\n",
       "</div>"
      ],
      "text/plain": [
       "                  count_income  sum_income  result_income\n",
       "total_income_cat                                         \n",
       "average                  11829        1017       0.085975\n",
       "high                      5020         355       0.070717\n",
       "small                     4429         353       0.079702"
      ]
     },
     "execution_count": 25,
     "metadata": {},
     "output_type": "execute_result"
    }
   ],
   "source": [
    "debt_income = pd.DataFrame()\n",
    "debt_income['count_income'] = data.groupby('total_income_cat')['debt'].count()\n",
    "debt_income['sum_income'] = data.groupby('total_income_cat')['debt'].sum()\n",
    "debt_income['result_income'] = debt_income['sum_income'] / debt_income['count_income']\n",
    "debt_income"
   ]
  },
  {
   "cell_type": "markdown",
   "metadata": {},
   "source": [
    "<div class=\"alert alert-block alert-info\">Answer: People with average or low incomes are more likely to be in arrears than people with high incomes.</div>"
   ]
  },
  {
   "cell_type": "markdown",
   "metadata": {},
   "source": [
    "### 3.4 How do different purposes of a loan affect its repayment on time?"
   ]
  },
  {
   "cell_type": "code",
   "execution_count": 26,
   "metadata": {},
   "outputs": [
    {
     "data": {
      "text/html": [
       "<div>\n",
       "<style scoped>\n",
       "    .dataframe tbody tr th:only-of-type {\n",
       "        vertical-align: middle;\n",
       "    }\n",
       "\n",
       "    .dataframe tbody tr th {\n",
       "        vertical-align: top;\n",
       "    }\n",
       "\n",
       "    .dataframe thead th {\n",
       "        text-align: right;\n",
       "    }\n",
       "</style>\n",
       "<table border=\"1\" class=\"dataframe\">\n",
       "  <thead>\n",
       "    <tr style=\"text-align: right;\">\n",
       "      <th></th>\n",
       "      <th>count_purpose</th>\n",
       "      <th>sum_purpose</th>\n",
       "      <th>result_purpose</th>\n",
       "    </tr>\n",
       "    <tr>\n",
       "      <th>purpose_category</th>\n",
       "      <th></th>\n",
       "      <th></th>\n",
       "      <th></th>\n",
       "    </tr>\n",
       "  </thead>\n",
       "  <tbody>\n",
       "    <tr>\n",
       "      <th>car</th>\n",
       "      <td>4269</td>\n",
       "      <td>398</td>\n",
       "      <td>0.093230</td>\n",
       "    </tr>\n",
       "    <tr>\n",
       "      <th>education</th>\n",
       "      <td>3980</td>\n",
       "      <td>369</td>\n",
       "      <td>0.092714</td>\n",
       "    </tr>\n",
       "    <tr>\n",
       "      <th>property</th>\n",
       "      <td>10728</td>\n",
       "      <td>777</td>\n",
       "      <td>0.072427</td>\n",
       "    </tr>\n",
       "    <tr>\n",
       "      <th>wedding</th>\n",
       "      <td>2301</td>\n",
       "      <td>181</td>\n",
       "      <td>0.078661</td>\n",
       "    </tr>\n",
       "  </tbody>\n",
       "</table>\n",
       "</div>"
      ],
      "text/plain": [
       "                  count_purpose  sum_purpose  result_purpose\n",
       "purpose_category                                            \n",
       "car                        4269          398        0.093230\n",
       "education                  3980          369        0.092714\n",
       "property                  10728          777        0.072427\n",
       "wedding                    2301          181        0.078661"
      ]
     },
     "execution_count": 26,
     "metadata": {},
     "output_type": "execute_result"
    }
   ],
   "source": [
    "debt_purpose = pd.DataFrame()\n",
    "debt_purpose['count_purpose'] = data.groupby('purpose_category')['debt'].count()\n",
    "debt_purpose['sum_purpose'] = data.groupby('purpose_category')['debt'].sum()\n",
    "debt_purpose['result_purpose'] = debt_purpose['sum_purpose'] / debt_purpose['count_purpose']\n",
    "debt_purpose"
   ]
  },
  {
   "cell_type": "markdown",
   "metadata": {},
   "source": [
    "<div class=\"alert alert-block alert-info\">Answer: Those who take a loan for a car or for education are more likely to overdue.  </div>"
   ]
  },
  {
   "cell_type": "markdown",
   "metadata": {},
   "source": [
    "## 4. General conclusion:"
   ]
  },
  {
   "cell_type": "markdown",
   "metadata": {},
   "source": [
    "In this project, we have gone all the way:\n",
    "   - opening a dataset,\n",
    "   - processing, \n",
    "   - removing duplicates, \n",
    "   - categorizing and answering questions\n",
    "\n",
    "The general conclusion can be drawn as follows:\n",
    "   - By marital status - married or previously married allow fewer delays than unmarried or in a civil marriage.\n",
    "   - People with children allow delays more often, apparently this is due to the fact that children are an additional expense item.\n",
    "   - High income earners are less likely to be in arrears.\n",
    "\n",
    "The most unsuccessful client for the bank (or vice versa successful) is an unmarried person with 4 children with a low income who took out a loan for a car and driving lessons.\n"
   ]
  }
 ],
 "metadata": {
  "ExecuteTimeLog": [
   {
    "duration": 2198,
    "start_time": "2022-01-03T08:55:52.558Z"
   },
   {
    "duration": 1637,
    "start_time": "2022-01-03T08:56:24.755Z"
   },
   {
    "duration": 1445,
    "start_time": "2022-01-03T08:56:29.477Z"
   },
   {
    "duration": 58,
    "start_time": "2022-01-03T08:57:37.557Z"
   },
   {
    "duration": 61,
    "start_time": "2022-01-03T08:57:51.308Z"
   },
   {
    "duration": 56,
    "start_time": "2022-01-03T08:58:05.114Z"
   },
   {
    "duration": 11,
    "start_time": "2022-01-03T08:58:17.908Z"
   },
   {
    "duration": 654,
    "start_time": "2022-01-05T09:30:37.473Z"
   },
   {
    "duration": 10,
    "start_time": "2022-01-05T09:30:39.832Z"
   },
   {
    "duration": 65,
    "start_time": "2022-01-05T09:31:22.257Z"
   },
   {
    "duration": 246,
    "start_time": "2022-01-05T09:31:30.968Z"
   },
   {
    "duration": 224,
    "start_time": "2022-01-05T09:31:38.287Z"
   },
   {
    "duration": 3,
    "start_time": "2022-01-05T09:31:41.551Z"
   },
   {
    "duration": 6,
    "start_time": "2022-01-05T09:32:10.383Z"
   },
   {
    "duration": 7,
    "start_time": "2022-01-05T09:32:51.944Z"
   },
   {
    "duration": 9,
    "start_time": "2022-01-05T11:10:53.667Z"
   },
   {
    "duration": 11,
    "start_time": "2022-01-05T11:12:12.134Z"
   },
   {
    "duration": 5560,
    "start_time": "2022-01-05T11:13:26.139Z"
   },
   {
    "duration": 17,
    "start_time": "2022-01-05T11:13:34.054Z"
   },
   {
    "duration": 5867,
    "start_time": "2022-01-05T11:13:43.117Z"
   },
   {
    "duration": 4991,
    "start_time": "2022-01-05T11:13:49.861Z"
   },
   {
    "duration": 443,
    "start_time": "2022-01-05T11:13:56.381Z"
   },
   {
    "duration": 17,
    "start_time": "2022-01-05T11:14:04.189Z"
   },
   {
    "duration": 19,
    "start_time": "2022-01-05T11:14:19.773Z"
   },
   {
    "duration": 14,
    "start_time": "2022-01-05T11:15:10.554Z"
   },
   {
    "duration": 17,
    "start_time": "2022-01-05T11:15:19.032Z"
   },
   {
    "duration": 18,
    "start_time": "2022-01-05T11:15:25.892Z"
   },
   {
    "duration": 58,
    "start_time": "2022-01-05T11:17:28.620Z"
   },
   {
    "duration": 53,
    "start_time": "2022-01-05T11:17:55.205Z"
   },
   {
    "duration": 55,
    "start_time": "2022-01-05T11:18:21.852Z"
   },
   {
    "duration": 18,
    "start_time": "2022-01-05T11:22:14.611Z"
   },
   {
    "duration": 290,
    "start_time": "2022-01-05T11:26:18.591Z"
   },
   {
    "duration": 193,
    "start_time": "2022-01-05T11:26:32.535Z"
   },
   {
    "duration": 109,
    "start_time": "2022-01-05T11:26:40.347Z"
   },
   {
    "duration": 201,
    "start_time": "2022-01-05T11:26:46.279Z"
   },
   {
    "duration": 204,
    "start_time": "2022-01-05T11:27:09.844Z"
   },
   {
    "duration": 13,
    "start_time": "2022-01-05T11:27:21.360Z"
   },
   {
    "duration": -498,
    "start_time": "2022-01-05T11:27:39.082Z"
   },
   {
    "duration": 12,
    "start_time": "2022-01-05T11:27:40.694Z"
   },
   {
    "duration": 34,
    "start_time": "2022-01-05T11:27:44.567Z"
   },
   {
    "duration": 50,
    "start_time": "2022-01-05T11:28:07.735Z"
   },
   {
    "duration": 206,
    "start_time": "2022-01-05T11:28:15.675Z"
   },
   {
    "duration": 65,
    "start_time": "2022-01-05T11:28:21.449Z"
   },
   {
    "duration": 16,
    "start_time": "2022-01-05T11:28:22.614Z"
   },
   {
    "duration": 20,
    "start_time": "2022-01-05T11:28:28.658Z"
   },
   {
    "duration": 272,
    "start_time": "2022-01-05T11:28:55.992Z"
   },
   {
    "duration": 101,
    "start_time": "2022-01-05T11:29:01.072Z"
   },
   {
    "duration": 194,
    "start_time": "2022-01-05T11:29:07.006Z"
   },
   {
    "duration": 13,
    "start_time": "2022-01-05T11:29:13.791Z"
   },
   {
    "duration": 12,
    "start_time": "2022-01-05T11:29:21.038Z"
   },
   {
    "duration": 208,
    "start_time": "2022-01-05T11:29:25.512Z"
   },
   {
    "duration": 11,
    "start_time": "2022-01-05T11:30:00.003Z"
   },
   {
    "duration": 200,
    "start_time": "2022-01-05T11:30:28.134Z"
   },
   {
    "duration": 11,
    "start_time": "2022-01-05T11:30:31.680Z"
   },
   {
    "duration": 12,
    "start_time": "2022-01-05T11:31:17.317Z"
   },
   {
    "duration": 12,
    "start_time": "2022-01-05T11:31:28.102Z"
   },
   {
    "duration": 197,
    "start_time": "2022-01-05T11:31:38.798Z"
   },
   {
    "duration": 13,
    "start_time": "2022-01-05T11:31:42.782Z"
   },
   {
    "duration": 11,
    "start_time": "2022-01-05T11:32:06.454Z"
   },
   {
    "duration": 13,
    "start_time": "2022-01-05T11:33:23.837Z"
   },
   {
    "duration": 7,
    "start_time": "2022-01-05T11:34:02.668Z"
   },
   {
    "duration": 73,
    "start_time": "2022-01-05T11:34:07.484Z"
   },
   {
    "duration": 11,
    "start_time": "2022-01-05T11:34:12.908Z"
   },
   {
    "duration": 12,
    "start_time": "2022-01-05T11:34:53.516Z"
   },
   {
    "duration": 12,
    "start_time": "2022-01-05T11:35:35.123Z"
   },
   {
    "duration": 73,
    "start_time": "2022-01-05T11:36:07.139Z"
   },
   {
    "duration": 12,
    "start_time": "2022-01-05T11:36:09.433Z"
   },
   {
    "duration": 11,
    "start_time": "2022-01-05T11:36:52.268Z"
   },
   {
    "duration": 10,
    "start_time": "2022-01-05T11:38:05.962Z"
   },
   {
    "duration": 13,
    "start_time": "2022-01-05T11:38:34.444Z"
   },
   {
    "duration": 8,
    "start_time": "2022-01-05T11:38:47.627Z"
   },
   {
    "duration": 7,
    "start_time": "2022-01-05T11:38:54.300Z"
   },
   {
    "duration": 11,
    "start_time": "2022-01-05T11:38:57.211Z"
   },
   {
    "duration": 212,
    "start_time": "2022-01-05T11:39:05.564Z"
   },
   {
    "duration": 11,
    "start_time": "2022-01-05T11:39:09.511Z"
   },
   {
    "duration": 14,
    "start_time": "2022-01-05T11:39:23.778Z"
   },
   {
    "duration": 12,
    "start_time": "2022-01-05T11:39:27.819Z"
   },
   {
    "duration": 7,
    "start_time": "2022-01-05T11:39:52.435Z"
   },
   {
    "duration": 6,
    "start_time": "2022-01-07T07:19:19.736Z"
   },
   {
    "duration": 16,
    "start_time": "2022-01-07T07:19:30.223Z"
   },
   {
    "duration": 25,
    "start_time": "2022-01-07T07:19:54.857Z"
   },
   {
    "duration": 13,
    "start_time": "2022-01-07T07:29:36.998Z"
   },
   {
    "duration": 13,
    "start_time": "2022-01-07T07:29:43.156Z"
   },
   {
    "duration": 15,
    "start_time": "2022-01-07T07:36:52.777Z"
   },
   {
    "duration": 12,
    "start_time": "2022-01-07T07:37:50.953Z"
   },
   {
    "duration": 11,
    "start_time": "2022-01-07T07:38:42.928Z"
   },
   {
    "duration": 15,
    "start_time": "2022-01-07T07:38:57.407Z"
   },
   {
    "duration": 1974,
    "start_time": "2022-01-07T07:39:15.288Z"
   },
   {
    "duration": 12,
    "start_time": "2022-01-07T07:56:28.915Z"
   },
   {
    "duration": 13,
    "start_time": "2022-01-07T07:56:42.914Z"
   },
   {
    "duration": 7,
    "start_time": "2022-01-07T07:57:07.394Z"
   },
   {
    "duration": 16,
    "start_time": "2022-01-07T07:57:22.312Z"
   },
   {
    "duration": 17,
    "start_time": "2022-01-07T07:57:31.875Z"
   },
   {
    "duration": 15,
    "start_time": "2022-01-07T07:57:55.450Z"
   },
   {
    "duration": 16,
    "start_time": "2022-01-07T07:58:00.971Z"
   },
   {
    "duration": 13,
    "start_time": "2022-01-07T07:58:08.266Z"
   },
   {
    "duration": 547,
    "start_time": "2022-01-07T07:58:17.686Z"
   },
   {
    "duration": 10,
    "start_time": "2022-01-07T07:58:18.235Z"
   },
   {
    "duration": 1700,
    "start_time": "2022-01-07T07:58:18.247Z"
   },
   {
    "duration": 12,
    "start_time": "2022-01-07T07:58:19.948Z"
   },
   {
    "duration": 15,
    "start_time": "2022-01-07T07:58:32.234Z"
   },
   {
    "duration": 15,
    "start_time": "2022-01-07T07:58:39.194Z"
   },
   {
    "duration": 15,
    "start_time": "2022-01-07T07:58:50.378Z"
   },
   {
    "duration": 16,
    "start_time": "2022-01-07T08:00:13.825Z"
   },
   {
    "duration": 15,
    "start_time": "2022-01-07T08:00:51.897Z"
   },
   {
    "duration": 7,
    "start_time": "2022-01-07T08:46:53.736Z"
   },
   {
    "duration": 10,
    "start_time": "2022-01-07T08:51:21.629Z"
   },
   {
    "duration": 23,
    "start_time": "2022-01-07T08:52:08.500Z"
   },
   {
    "duration": 19,
    "start_time": "2022-01-07T08:52:13.397Z"
   },
   {
    "duration": 23,
    "start_time": "2022-01-07T08:52:47.102Z"
   },
   {
    "duration": 8,
    "start_time": "2022-01-07T08:52:48.661Z"
   },
   {
    "duration": 8,
    "start_time": "2022-01-07T08:52:53.699Z"
   },
   {
    "duration": 647,
    "start_time": "2022-01-07T08:52:58.543Z"
   },
   {
    "duration": 10,
    "start_time": "2022-01-07T08:52:59.192Z"
   },
   {
    "duration": 1754,
    "start_time": "2022-01-07T08:52:59.204Z"
   },
   {
    "duration": 16,
    "start_time": "2022-01-07T08:53:00.959Z"
   },
   {
    "duration": 22,
    "start_time": "2022-01-07T08:53:00.976Z"
   },
   {
    "duration": 18,
    "start_time": "2022-01-07T08:53:01.000Z"
   },
   {
    "duration": 25,
    "start_time": "2022-01-07T08:53:01.019Z"
   },
   {
    "duration": 7,
    "start_time": "2022-01-07T08:53:54.148Z"
   },
   {
    "duration": 106,
    "start_time": "2022-01-07T08:54:37.973Z"
   },
   {
    "duration": 7,
    "start_time": "2022-01-07T08:54:42.292Z"
   },
   {
    "duration": 8,
    "start_time": "2022-01-07T08:57:32.389Z"
   },
   {
    "duration": 12,
    "start_time": "2022-01-07T08:57:37.443Z"
   },
   {
    "duration": 10,
    "start_time": "2022-01-07T08:58:33.155Z"
   },
   {
    "duration": 8,
    "start_time": "2022-01-07T08:58:36.370Z"
   },
   {
    "duration": 13,
    "start_time": "2022-01-07T08:58:44.811Z"
   },
   {
    "duration": 8,
    "start_time": "2022-01-07T08:58:47.307Z"
   },
   {
    "duration": 11,
    "start_time": "2022-01-07T08:59:32.739Z"
   },
   {
    "duration": 10,
    "start_time": "2022-01-07T08:59:53.852Z"
   },
   {
    "duration": 837,
    "start_time": "2022-01-07T11:31:43.993Z"
   },
   {
    "duration": 8277,
    "start_time": "2022-01-07T11:32:15.745Z"
   },
   {
    "duration": 357,
    "start_time": "2022-01-07T11:32:34.437Z"
   },
   {
    "duration": 106,
    "start_time": "2022-01-07T11:32:43.221Z"
   },
   {
    "duration": 389,
    "start_time": "2022-01-07T11:32:46.580Z"
   },
   {
    "duration": 307,
    "start_time": "2022-01-07T11:33:22.461Z"
   },
   {
    "duration": 9081,
    "start_time": "2022-01-07T11:33:33.819Z"
   },
   {
    "duration": 11,
    "start_time": "2022-01-07T11:34:02.307Z"
   },
   {
    "duration": 10,
    "start_time": "2022-01-07T11:34:12.704Z"
   },
   {
    "duration": 9,
    "start_time": "2022-01-07T11:34:18.000Z"
   },
   {
    "duration": 339,
    "start_time": "2022-01-07T11:34:27.406Z"
   },
   {
    "duration": 317,
    "start_time": "2022-01-07T11:34:39.255Z"
   },
   {
    "duration": 308,
    "start_time": "2022-01-07T11:34:45.518Z"
   },
   {
    "duration": 529,
    "start_time": "2022-01-07T11:34:48.562Z"
   },
   {
    "duration": 10081,
    "start_time": "2022-01-07T11:34:58.314Z"
   },
   {
    "duration": 12,
    "start_time": "2022-01-07T11:43:02.952Z"
   },
   {
    "duration": 319,
    "start_time": "2022-01-07T11:43:09.553Z"
   },
   {
    "duration": 310,
    "start_time": "2022-01-07T11:43:35.748Z"
   },
   {
    "duration": 4293,
    "start_time": "2022-01-07T11:43:39.755Z"
   },
   {
    "duration": 5708,
    "start_time": "2022-01-07T11:44:31.129Z"
   },
   {
    "duration": 102,
    "start_time": "2022-01-07T11:45:31.064Z"
   },
   {
    "duration": 3858,
    "start_time": "2022-01-07T11:45:41.768Z"
   },
   {
    "duration": 3797,
    "start_time": "2022-01-07T11:46:04.759Z"
   },
   {
    "duration": 38,
    "start_time": "2022-01-07T12:28:30.478Z"
   },
   {
    "duration": 5,
    "start_time": "2022-01-08T10:20:36.767Z"
   },
   {
    "duration": 4,
    "start_time": "2022-01-08T10:22:21.717Z"
   },
   {
    "duration": 232,
    "start_time": "2022-01-08T13:12:26.188Z"
   },
   {
    "duration": 193,
    "start_time": "2022-01-08T13:12:33.197Z"
   },
   {
    "duration": 583,
    "start_time": "2022-01-08T13:12:43.177Z"
   },
   {
    "duration": 10,
    "start_time": "2022-01-08T13:12:43.762Z"
   },
   {
    "duration": 7,
    "start_time": "2022-01-08T13:12:43.774Z"
   },
   {
    "duration": 16,
    "start_time": "2022-01-08T13:12:43.783Z"
   },
   {
    "duration": 3,
    "start_time": "2022-01-08T13:12:43.801Z"
   },
   {
    "duration": 7,
    "start_time": "2022-01-08T13:12:43.806Z"
   },
   {
    "duration": 26,
    "start_time": "2022-01-08T13:12:43.814Z"
   },
   {
    "duration": 15,
    "start_time": "2022-01-08T13:12:43.841Z"
   },
   {
    "duration": 11,
    "start_time": "2022-01-08T13:12:43.858Z"
   },
   {
    "duration": 14,
    "start_time": "2022-01-08T13:12:43.871Z"
   },
   {
    "duration": 3421,
    "start_time": "2022-01-08T13:12:43.886Z"
   },
   {
    "duration": 2,
    "start_time": "2022-01-08T13:12:47.309Z"
   },
   {
    "duration": 29,
    "start_time": "2022-01-08T13:12:47.313Z"
   },
   {
    "duration": 308,
    "start_time": "2022-01-08T13:12:47.343Z"
   },
   {
    "duration": 19,
    "start_time": "2022-01-08T13:12:55.150Z"
   },
   {
    "duration": 17,
    "start_time": "2022-01-08T13:13:16.366Z"
   },
   {
    "duration": 81,
    "start_time": "2022-01-08T13:21:20.461Z"
   },
   {
    "duration": 21,
    "start_time": "2022-01-08T13:22:03.014Z"
   },
   {
    "duration": 62,
    "start_time": "2022-01-08T13:22:13.390Z"
   },
   {
    "duration": 11,
    "start_time": "2022-01-08T13:22:13.453Z"
   },
   {
    "duration": 13,
    "start_time": "2022-01-08T13:22:13.467Z"
   },
   {
    "duration": 18,
    "start_time": "2022-01-08T13:22:13.482Z"
   },
   {
    "duration": 5,
    "start_time": "2022-01-08T13:22:13.502Z"
   },
   {
    "duration": 33,
    "start_time": "2022-01-08T13:22:13.508Z"
   },
   {
    "duration": 8,
    "start_time": "2022-01-08T13:22:13.543Z"
   },
   {
    "duration": 18,
    "start_time": "2022-01-08T13:22:13.553Z"
   },
   {
    "duration": 8,
    "start_time": "2022-01-08T13:22:13.573Z"
   },
   {
    "duration": 17,
    "start_time": "2022-01-08T13:22:13.583Z"
   },
   {
    "duration": 3548,
    "start_time": "2022-01-08T13:22:13.601Z"
   },
   {
    "duration": 3,
    "start_time": "2022-01-08T13:22:17.152Z"
   },
   {
    "duration": 20,
    "start_time": "2022-01-08T13:22:17.157Z"
   },
   {
    "duration": 25,
    "start_time": "2022-01-08T13:22:17.179Z"
   },
   {
    "duration": 20,
    "start_time": "2022-01-08T13:22:48.078Z"
   },
   {
    "duration": 18,
    "start_time": "2022-01-08T13:23:41.958Z"
   },
   {
    "duration": 26,
    "start_time": "2022-01-08T13:24:24.596Z"
   },
   {
    "duration": 239,
    "start_time": "2022-01-08T13:24:37.068Z"
   },
   {
    "duration": 209,
    "start_time": "2022-01-08T13:24:46.813Z"
   },
   {
    "duration": 34,
    "start_time": "2022-01-08T13:25:48.505Z"
   },
   {
    "duration": 194,
    "start_time": "2022-01-08T13:26:12.988Z"
   },
   {
    "duration": 21,
    "start_time": "2022-01-08T13:26:18.415Z"
   },
   {
    "duration": 11,
    "start_time": "2022-01-08T13:26:47.858Z"
   },
   {
    "duration": 11,
    "start_time": "2022-01-08T13:27:02.200Z"
   },
   {
    "duration": 191,
    "start_time": "2022-01-08T13:27:06.980Z"
   },
   {
    "duration": 11,
    "start_time": "2022-01-08T13:27:10.156Z"
   },
   {
    "duration": 3,
    "start_time": "2022-01-08T13:28:23.608Z"
   },
   {
    "duration": 5,
    "start_time": "2022-01-08T13:28:31.036Z"
   },
   {
    "duration": 7,
    "start_time": "2022-01-08T13:28:35.183Z"
   },
   {
    "duration": 8,
    "start_time": "2022-01-08T13:28:53.292Z"
   },
   {
    "duration": 6,
    "start_time": "2022-01-08T13:29:05.748Z"
   },
   {
    "duration": 6,
    "start_time": "2022-01-08T13:29:10.913Z"
   },
   {
    "duration": 7,
    "start_time": "2022-01-08T13:29:14.130Z"
   },
   {
    "duration": 17,
    "start_time": "2022-01-08T13:29:38.580Z"
   },
   {
    "duration": 17,
    "start_time": "2022-01-08T13:30:10.474Z"
   },
   {
    "duration": 6,
    "start_time": "2022-01-08T13:33:01.472Z"
   },
   {
    "duration": 9,
    "start_time": "2022-01-08T13:33:09.546Z"
   },
   {
    "duration": 194,
    "start_time": "2022-01-08T13:33:35.004Z"
   },
   {
    "duration": 12,
    "start_time": "2022-01-08T13:33:39.177Z"
   },
   {
    "duration": 19,
    "start_time": "2022-01-08T13:34:22.421Z"
   },
   {
    "duration": 217,
    "start_time": "2022-01-08T13:34:44.418Z"
   },
   {
    "duration": 207,
    "start_time": "2022-01-08T13:34:50.214Z"
   },
   {
    "duration": 11,
    "start_time": "2022-01-08T13:34:55.180Z"
   },
   {
    "duration": 13,
    "start_time": "2022-01-08T13:35:08.081Z"
   },
   {
    "duration": 78,
    "start_time": "2022-01-08T13:36:22.009Z"
   },
   {
    "duration": 12,
    "start_time": "2022-01-08T13:36:27.231Z"
   },
   {
    "duration": 13,
    "start_time": "2022-01-08T13:36:30.559Z"
   },
   {
    "duration": 12,
    "start_time": "2022-01-08T13:36:34.223Z"
   },
   {
    "duration": 12,
    "start_time": "2022-01-08T13:40:13.665Z"
   },
   {
    "duration": 11,
    "start_time": "2022-01-08T13:40:26.433Z"
   },
   {
    "duration": 12,
    "start_time": "2022-01-08T13:40:32.408Z"
   },
   {
    "duration": 236,
    "start_time": "2022-01-08T13:41:39.860Z"
   },
   {
    "duration": 229,
    "start_time": "2022-01-08T13:41:56.705Z"
   },
   {
    "duration": 362,
    "start_time": "2022-01-08T13:42:01.635Z"
   },
   {
    "duration": 6,
    "start_time": "2022-01-08T13:42:06.052Z"
   },
   {
    "duration": 9,
    "start_time": "2022-01-08T13:42:11.319Z"
   },
   {
    "duration": 11,
    "start_time": "2022-01-08T13:42:54.097Z"
   },
   {
    "duration": 11,
    "start_time": "2022-01-08T13:42:58.771Z"
   },
   {
    "duration": 14,
    "start_time": "2022-01-08T13:43:45.566Z"
   },
   {
    "duration": 14,
    "start_time": "2022-01-08T13:44:02.722Z"
   },
   {
    "duration": 14,
    "start_time": "2022-01-08T13:44:09.334Z"
   },
   {
    "duration": 14,
    "start_time": "2022-01-08T13:48:22.447Z"
   },
   {
    "duration": 15,
    "start_time": "2022-01-08T13:49:07.253Z"
   },
   {
    "duration": 2,
    "start_time": "2022-01-08T13:49:56.926Z"
   },
   {
    "duration": 4,
    "start_time": "2022-01-08T13:51:27.120Z"
   },
   {
    "duration": 4,
    "start_time": "2022-01-08T13:51:43.072Z"
   },
   {
    "duration": 4,
    "start_time": "2022-01-08T13:52:13.554Z"
   },
   {
    "duration": 4,
    "start_time": "2022-01-08T13:53:20.133Z"
   },
   {
    "duration": 16,
    "start_time": "2022-01-08T14:20:00.463Z"
   },
   {
    "duration": 25,
    "start_time": "2022-01-08T14:20:17.237Z"
   },
   {
    "duration": 234,
    "start_time": "2022-01-08T14:20:34.707Z"
   },
   {
    "duration": 214,
    "start_time": "2022-01-08T14:20:41.088Z"
   },
   {
    "duration": 15,
    "start_time": "2022-01-08T14:20:46.897Z"
   },
   {
    "duration": 15,
    "start_time": "2022-01-08T14:21:06.033Z"
   },
   {
    "duration": 16,
    "start_time": "2022-01-08T14:21:35.276Z"
   },
   {
    "duration": 15,
    "start_time": "2022-01-08T14:21:50.635Z"
   },
   {
    "duration": 25,
    "start_time": "2022-01-08T14:22:02.050Z"
   },
   {
    "duration": 25,
    "start_time": "2022-01-08T14:22:13.559Z"
   },
   {
    "duration": 15,
    "start_time": "2022-01-08T14:22:17.226Z"
   },
   {
    "duration": 100,
    "start_time": "2022-01-08T14:22:38.513Z"
   },
   {
    "duration": 17,
    "start_time": "2022-01-08T14:23:10.966Z"
   },
   {
    "duration": 23,
    "start_time": "2022-01-08T14:23:54.350Z"
   },
   {
    "duration": 16,
    "start_time": "2022-01-08T14:23:59.025Z"
   },
   {
    "duration": 22,
    "start_time": "2022-01-08T14:24:18.587Z"
   },
   {
    "duration": 17,
    "start_time": "2022-01-08T14:27:00.536Z"
   },
   {
    "duration": 21,
    "start_time": "2022-01-08T14:30:01.041Z"
   },
   {
    "duration": 15,
    "start_time": "2022-01-08T14:33:37.277Z"
   },
   {
    "duration": 76,
    "start_time": "2022-01-08T14:36:54.080Z"
   },
   {
    "duration": 11,
    "start_time": "2022-01-08T14:36:54.158Z"
   },
   {
    "duration": 7,
    "start_time": "2022-01-08T14:36:54.171Z"
   },
   {
    "duration": 16,
    "start_time": "2022-01-08T14:36:54.181Z"
   },
   {
    "duration": 5,
    "start_time": "2022-01-08T14:36:54.199Z"
   },
   {
    "duration": 36,
    "start_time": "2022-01-08T14:36:54.205Z"
   },
   {
    "duration": 11,
    "start_time": "2022-01-08T14:36:54.243Z"
   },
   {
    "duration": 21,
    "start_time": "2022-01-08T14:36:54.258Z"
   },
   {
    "duration": 9,
    "start_time": "2022-01-08T14:36:54.281Z"
   },
   {
    "duration": 17,
    "start_time": "2022-01-08T14:36:54.291Z"
   },
   {
    "duration": 4233,
    "start_time": "2022-01-08T14:36:54.310Z"
   },
   {
    "duration": 3,
    "start_time": "2022-01-08T14:36:58.545Z"
   },
   {
    "duration": 18,
    "start_time": "2022-01-08T14:36:58.551Z"
   },
   {
    "duration": 16,
    "start_time": "2022-01-08T14:36:58.570Z"
   },
   {
    "duration": 56,
    "start_time": "2022-01-08T14:36:58.588Z"
   },
   {
    "duration": 22,
    "start_time": "2022-01-08T14:36:58.647Z"
   },
   {
    "duration": 17,
    "start_time": "2022-01-08T14:36:58.671Z"
   },
   {
    "duration": 16,
    "start_time": "2022-01-08T14:36:58.690Z"
   },
   {
    "duration": 868,
    "start_time": "2022-01-09T18:36:14.977Z"
   },
   {
    "duration": 20,
    "start_time": "2022-01-09T18:36:15.848Z"
   },
   {
    "duration": 27,
    "start_time": "2022-01-09T18:36:15.872Z"
   },
   {
    "duration": 6,
    "start_time": "2022-01-09T18:36:15.902Z"
   },
   {
    "duration": 3,
    "start_time": "2022-01-09T18:36:15.911Z"
   },
   {
    "duration": 48,
    "start_time": "2022-01-09T18:36:15.917Z"
   },
   {
    "duration": 34,
    "start_time": "2022-01-09T18:36:15.968Z"
   },
   {
    "duration": 8,
    "start_time": "2022-01-09T18:36:16.005Z"
   },
   {
    "duration": 59,
    "start_time": "2022-01-09T18:36:16.018Z"
   },
   {
    "duration": 5948,
    "start_time": "2022-01-09T18:36:16.081Z"
   },
   {
    "duration": 4,
    "start_time": "2022-01-09T18:36:22.032Z"
   },
   {
    "duration": 48,
    "start_time": "2022-01-09T18:36:22.039Z"
   },
   {
    "duration": 23,
    "start_time": "2022-01-09T18:36:22.089Z"
   },
   {
    "duration": 49,
    "start_time": "2022-01-09T18:36:22.114Z"
   },
   {
    "duration": 21,
    "start_time": "2022-01-09T18:36:22.166Z"
   },
   {
    "duration": 20,
    "start_time": "2022-01-09T18:36:22.189Z"
   },
   {
    "duration": 53,
    "start_time": "2022-01-09T18:36:22.211Z"
   },
   {
    "duration": 8,
    "start_time": "2022-01-09T18:36:55.066Z"
   },
   {
    "duration": 524,
    "start_time": "2022-01-10T06:25:11.112Z"
   },
   {
    "duration": 875,
    "start_time": "2022-01-10T06:25:18.666Z"
   },
   {
    "duration": 16,
    "start_time": "2022-01-10T06:25:19.545Z"
   },
   {
    "duration": 30,
    "start_time": "2022-01-10T06:25:19.565Z"
   },
   {
    "duration": 10,
    "start_time": "2022-01-10T06:25:19.599Z"
   },
   {
    "duration": 7,
    "start_time": "2022-01-10T06:25:19.612Z"
   },
   {
    "duration": 4,
    "start_time": "2022-01-10T06:25:19.661Z"
   },
   {
    "duration": 14,
    "start_time": "2022-01-10T06:25:19.668Z"
   },
   {
    "duration": 26,
    "start_time": "2022-01-10T06:25:19.686Z"
   },
   {
    "duration": 47,
    "start_time": "2022-01-10T06:25:19.715Z"
   },
   {
    "duration": 19,
    "start_time": "2022-01-10T06:25:19.765Z"
   },
   {
    "duration": 27,
    "start_time": "2022-01-10T06:25:19.787Z"
   },
   {
    "duration": 5465,
    "start_time": "2022-01-10T06:25:19.817Z"
   },
   {
    "duration": 3,
    "start_time": "2022-01-10T06:25:25.285Z"
   },
   {
    "duration": 29,
    "start_time": "2022-01-10T06:25:25.291Z"
   },
   {
    "duration": 42,
    "start_time": "2022-01-10T06:25:25.322Z"
   },
   {
    "duration": 33,
    "start_time": "2022-01-10T06:25:25.366Z"
   },
   {
    "duration": 20,
    "start_time": "2022-01-10T06:25:25.401Z"
   },
   {
    "duration": 47,
    "start_time": "2022-01-10T06:25:25.424Z"
   },
   {
    "duration": 23,
    "start_time": "2022-01-10T06:25:25.474Z"
   },
   {
    "duration": 53,
    "start_time": "2022-01-10T06:27:58.015Z"
   },
   {
    "duration": 35,
    "start_time": "2022-01-10T06:28:47.831Z"
   },
   {
    "duration": 89,
    "start_time": "2022-01-10T06:28:55.234Z"
   },
   {
    "duration": 44,
    "start_time": "2022-01-10T06:29:11.942Z"
   },
   {
    "duration": 85,
    "start_time": "2022-01-10T06:30:09.534Z"
   },
   {
    "duration": 84,
    "start_time": "2022-01-10T06:30:36.199Z"
   },
   {
    "duration": 152,
    "start_time": "2022-01-10T06:30:52.554Z"
   },
   {
    "duration": 24,
    "start_time": "2022-01-10T06:30:52.710Z"
   },
   {
    "duration": 42,
    "start_time": "2022-01-10T06:30:52.758Z"
   },
   {
    "duration": 10,
    "start_time": "2022-01-10T06:30:52.804Z"
   },
   {
    "duration": 5,
    "start_time": "2022-01-10T06:30:52.817Z"
   },
   {
    "duration": 3,
    "start_time": "2022-01-10T06:30:52.825Z"
   },
   {
    "duration": 36,
    "start_time": "2022-01-10T06:30:52.831Z"
   },
   {
    "duration": 25,
    "start_time": "2022-01-10T06:30:52.869Z"
   },
   {
    "duration": 8,
    "start_time": "2022-01-10T06:30:52.898Z"
   },
   {
    "duration": 54,
    "start_time": "2022-01-10T06:30:52.908Z"
   },
   {
    "duration": 26,
    "start_time": "2022-01-10T06:30:52.965Z"
   },
   {
    "duration": 67,
    "start_time": "2022-01-10T06:30:52.994Z"
   },
   {
    "duration": 45,
    "start_time": "2022-01-10T06:30:53.063Z"
   },
   {
    "duration": 5377,
    "start_time": "2022-01-10T06:30:53.111Z"
   },
   {
    "duration": 5,
    "start_time": "2022-01-10T06:30:58.491Z"
   },
   {
    "duration": 27,
    "start_time": "2022-01-10T06:30:58.498Z"
   },
   {
    "duration": 52,
    "start_time": "2022-01-10T06:30:58.527Z"
   },
   {
    "duration": 25,
    "start_time": "2022-01-10T06:30:58.582Z"
   },
   {
    "duration": 69,
    "start_time": "2022-01-10T06:30:58.609Z"
   },
   {
    "duration": 19,
    "start_time": "2022-01-10T06:30:58.683Z"
   },
   {
    "duration": 19,
    "start_time": "2022-01-10T06:30:58.705Z"
   },
   {
    "duration": 163,
    "start_time": "2022-01-10T06:32:05.516Z"
   },
   {
    "duration": 127,
    "start_time": "2022-01-10T06:32:11.100Z"
   },
   {
    "duration": 113,
    "start_time": "2022-01-10T06:33:17.308Z"
   },
   {
    "duration": 14,
    "start_time": "2022-01-10T06:33:17.424Z"
   },
   {
    "duration": 33,
    "start_time": "2022-01-10T06:33:17.441Z"
   },
   {
    "duration": 7,
    "start_time": "2022-01-10T06:33:17.477Z"
   },
   {
    "duration": 6,
    "start_time": "2022-01-10T06:33:17.486Z"
   },
   {
    "duration": 3,
    "start_time": "2022-01-10T06:33:17.495Z"
   },
   {
    "duration": 13,
    "start_time": "2022-01-10T06:33:17.500Z"
   },
   {
    "duration": 64,
    "start_time": "2022-01-10T06:33:17.517Z"
   },
   {
    "duration": 8,
    "start_time": "2022-01-10T06:33:17.584Z"
   },
   {
    "duration": 18,
    "start_time": "2022-01-10T06:33:17.594Z"
   },
   {
    "duration": 66,
    "start_time": "2022-01-10T06:33:17.614Z"
   },
   {
    "duration": 35,
    "start_time": "2022-01-10T06:33:17.684Z"
   },
   {
    "duration": 71,
    "start_time": "2022-01-10T06:33:17.722Z"
   },
   {
    "duration": 5348,
    "start_time": "2022-01-10T06:33:17.795Z"
   },
   {
    "duration": 14,
    "start_time": "2022-01-10T06:33:23.146Z"
   },
   {
    "duration": 26,
    "start_time": "2022-01-10T06:33:23.162Z"
   },
   {
    "duration": 23,
    "start_time": "2022-01-10T06:33:23.190Z"
   },
   {
    "duration": 62,
    "start_time": "2022-01-10T06:33:23.215Z"
   },
   {
    "duration": 21,
    "start_time": "2022-01-10T06:33:23.280Z"
   },
   {
    "duration": 25,
    "start_time": "2022-01-10T06:33:23.304Z"
   },
   {
    "duration": 48,
    "start_time": "2022-01-10T06:33:23.331Z"
   }
  ],
  "kernelspec": {
   "display_name": "Python 3",
   "language": "python",
   "name": "python3"
  },
  "language_info": {
   "codemirror_mode": {
    "name": "ipython",
    "version": 3
   },
   "file_extension": ".py",
   "mimetype": "text/x-python",
   "name": "python",
   "nbconvert_exporter": "python",
   "pygments_lexer": "ipython3",
   "version": "3.9.0"
  },
  "toc": {
   "base_numbering": 1,
   "nav_menu": {},
   "number_sections": true,
   "sideBar": true,
   "skip_h1_title": true,
   "title_cell": "Table of Contents",
   "title_sidebar": "Contents",
   "toc_cell": false,
   "toc_position": {},
   "toc_section_display": true,
   "toc_window_display": false
  }
 },
 "nbformat": 4,
 "nbformat_minor": 2
}
