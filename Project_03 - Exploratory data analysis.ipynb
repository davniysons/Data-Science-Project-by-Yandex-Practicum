{
 "cells": [
  {
   "cell_type": "markdown",
   "metadata": {},
   "source": [
    "# Exploratory data analysis\n",
    "\n",
    "At your disposal is the data of the service Yandex. Apartments for sale in Saint-Petersburg and neighboring settlements for several years. You need to learn how to determine the market value of real estate. Your task is to set the parameters. This will build an automated system: it will track anomalies and fraudulent activity \n",
    "\n",
    "Two types of data are available for each apartment for sale. The first ones are entered by the user, the second ones are obtained automatically on the basis of cartographic data. For example, the distance to the center, airport, nearest park and reservoir."
   ]
  },
  {
   "cell_type": "markdown",
   "metadata": {},
   "source": [
    "## 1. Examining data from a file:"
   ]
  },
  {
   "cell_type": "code",
   "execution_count": 1,
   "metadata": {},
   "outputs": [],
   "source": [
    "# import libraries: \n",
    "import pandas as pd\n",
    "from matplotlib import pyplot as plt\n",
    "import seaborn as sns"
   ]
  },
  {
   "cell_type": "code",
   "execution_count": 2,
   "metadata": {},
   "outputs": [
    {
     "data": {
      "text/html": [
       "<div>\n",
       "<style scoped>\n",
       "    .dataframe tbody tr th:only-of-type {\n",
       "        vertical-align: middle;\n",
       "    }\n",
       "\n",
       "    .dataframe tbody tr th {\n",
       "        vertical-align: top;\n",
       "    }\n",
       "\n",
       "    .dataframe thead th {\n",
       "        text-align: right;\n",
       "    }\n",
       "</style>\n",
       "<table border=\"1\" class=\"dataframe\">\n",
       "  <thead>\n",
       "    <tr style=\"text-align: right;\">\n",
       "      <th></th>\n",
       "      <th>total_images</th>\n",
       "      <th>last_price</th>\n",
       "      <th>total_area</th>\n",
       "      <th>first_day_exposition</th>\n",
       "      <th>rooms</th>\n",
       "      <th>ceiling_height</th>\n",
       "      <th>floors_total</th>\n",
       "      <th>living_area</th>\n",
       "      <th>floor</th>\n",
       "      <th>is_apartment</th>\n",
       "      <th>...</th>\n",
       "      <th>kitchen_area</th>\n",
       "      <th>balcony</th>\n",
       "      <th>locality_name</th>\n",
       "      <th>airports_nearest</th>\n",
       "      <th>cityCenters_nearest</th>\n",
       "      <th>parks_around3000</th>\n",
       "      <th>parks_nearest</th>\n",
       "      <th>ponds_around3000</th>\n",
       "      <th>ponds_nearest</th>\n",
       "      <th>days_exposition</th>\n",
       "    </tr>\n",
       "  </thead>\n",
       "  <tbody>\n",
       "    <tr>\n",
       "      <th>0</th>\n",
       "      <td>20</td>\n",
       "      <td>13000000.0</td>\n",
       "      <td>108.0</td>\n",
       "      <td>2019-03-07T00:00:00</td>\n",
       "      <td>3</td>\n",
       "      <td>2.70</td>\n",
       "      <td>16.0</td>\n",
       "      <td>51.0</td>\n",
       "      <td>8</td>\n",
       "      <td>NaN</td>\n",
       "      <td>...</td>\n",
       "      <td>25.0</td>\n",
       "      <td>NaN</td>\n",
       "      <td>Санкт-Петербург</td>\n",
       "      <td>18863.0</td>\n",
       "      <td>16028.0</td>\n",
       "      <td>1.0</td>\n",
       "      <td>482.0</td>\n",
       "      <td>2.0</td>\n",
       "      <td>755.0</td>\n",
       "      <td>NaN</td>\n",
       "    </tr>\n",
       "    <tr>\n",
       "      <th>1</th>\n",
       "      <td>7</td>\n",
       "      <td>3350000.0</td>\n",
       "      <td>40.4</td>\n",
       "      <td>2018-12-04T00:00:00</td>\n",
       "      <td>1</td>\n",
       "      <td>NaN</td>\n",
       "      <td>11.0</td>\n",
       "      <td>18.6</td>\n",
       "      <td>1</td>\n",
       "      <td>NaN</td>\n",
       "      <td>...</td>\n",
       "      <td>11.0</td>\n",
       "      <td>2.0</td>\n",
       "      <td>посёлок Шушары</td>\n",
       "      <td>12817.0</td>\n",
       "      <td>18603.0</td>\n",
       "      <td>0.0</td>\n",
       "      <td>NaN</td>\n",
       "      <td>0.0</td>\n",
       "      <td>NaN</td>\n",
       "      <td>81.0</td>\n",
       "    </tr>\n",
       "    <tr>\n",
       "      <th>2</th>\n",
       "      <td>10</td>\n",
       "      <td>5196000.0</td>\n",
       "      <td>56.0</td>\n",
       "      <td>2015-08-20T00:00:00</td>\n",
       "      <td>2</td>\n",
       "      <td>NaN</td>\n",
       "      <td>5.0</td>\n",
       "      <td>34.3</td>\n",
       "      <td>4</td>\n",
       "      <td>NaN</td>\n",
       "      <td>...</td>\n",
       "      <td>8.3</td>\n",
       "      <td>0.0</td>\n",
       "      <td>Санкт-Петербург</td>\n",
       "      <td>21741.0</td>\n",
       "      <td>13933.0</td>\n",
       "      <td>1.0</td>\n",
       "      <td>90.0</td>\n",
       "      <td>2.0</td>\n",
       "      <td>574.0</td>\n",
       "      <td>558.0</td>\n",
       "    </tr>\n",
       "    <tr>\n",
       "      <th>3</th>\n",
       "      <td>0</td>\n",
       "      <td>64900000.0</td>\n",
       "      <td>159.0</td>\n",
       "      <td>2015-07-24T00:00:00</td>\n",
       "      <td>3</td>\n",
       "      <td>NaN</td>\n",
       "      <td>14.0</td>\n",
       "      <td>NaN</td>\n",
       "      <td>9</td>\n",
       "      <td>NaN</td>\n",
       "      <td>...</td>\n",
       "      <td>NaN</td>\n",
       "      <td>0.0</td>\n",
       "      <td>Санкт-Петербург</td>\n",
       "      <td>28098.0</td>\n",
       "      <td>6800.0</td>\n",
       "      <td>2.0</td>\n",
       "      <td>84.0</td>\n",
       "      <td>3.0</td>\n",
       "      <td>234.0</td>\n",
       "      <td>424.0</td>\n",
       "    </tr>\n",
       "    <tr>\n",
       "      <th>4</th>\n",
       "      <td>2</td>\n",
       "      <td>10000000.0</td>\n",
       "      <td>100.0</td>\n",
       "      <td>2018-06-19T00:00:00</td>\n",
       "      <td>2</td>\n",
       "      <td>3.03</td>\n",
       "      <td>14.0</td>\n",
       "      <td>32.0</td>\n",
       "      <td>13</td>\n",
       "      <td>NaN</td>\n",
       "      <td>...</td>\n",
       "      <td>41.0</td>\n",
       "      <td>NaN</td>\n",
       "      <td>Санкт-Петербург</td>\n",
       "      <td>31856.0</td>\n",
       "      <td>8098.0</td>\n",
       "      <td>2.0</td>\n",
       "      <td>112.0</td>\n",
       "      <td>1.0</td>\n",
       "      <td>48.0</td>\n",
       "      <td>121.0</td>\n",
       "    </tr>\n",
       "  </tbody>\n",
       "</table>\n",
       "<p>5 rows × 22 columns</p>\n",
       "</div>"
      ],
      "text/plain": [
       "   total_images  last_price  total_area first_day_exposition  rooms  \\\n",
       "0            20  13000000.0       108.0  2019-03-07T00:00:00      3   \n",
       "1             7   3350000.0        40.4  2018-12-04T00:00:00      1   \n",
       "2            10   5196000.0        56.0  2015-08-20T00:00:00      2   \n",
       "3             0  64900000.0       159.0  2015-07-24T00:00:00      3   \n",
       "4             2  10000000.0       100.0  2018-06-19T00:00:00      2   \n",
       "\n",
       "   ceiling_height  floors_total  living_area  floor is_apartment  ...  \\\n",
       "0            2.70          16.0         51.0      8          NaN  ...   \n",
       "1             NaN          11.0         18.6      1          NaN  ...   \n",
       "2             NaN           5.0         34.3      4          NaN  ...   \n",
       "3             NaN          14.0          NaN      9          NaN  ...   \n",
       "4            3.03          14.0         32.0     13          NaN  ...   \n",
       "\n",
       "   kitchen_area  balcony    locality_name  airports_nearest  \\\n",
       "0          25.0      NaN  Санкт-Петербург           18863.0   \n",
       "1          11.0      2.0   посёлок Шушары           12817.0   \n",
       "2           8.3      0.0  Санкт-Петербург           21741.0   \n",
       "3           NaN      0.0  Санкт-Петербург           28098.0   \n",
       "4          41.0      NaN  Санкт-Петербург           31856.0   \n",
       "\n",
       "  cityCenters_nearest  parks_around3000  parks_nearest  ponds_around3000  \\\n",
       "0             16028.0               1.0          482.0               2.0   \n",
       "1             18603.0               0.0            NaN               0.0   \n",
       "2             13933.0               1.0           90.0               2.0   \n",
       "3              6800.0               2.0           84.0               3.0   \n",
       "4              8098.0               2.0          112.0               1.0   \n",
       "\n",
       "   ponds_nearest  days_exposition  \n",
       "0          755.0              NaN  \n",
       "1            NaN             81.0  \n",
       "2          574.0            558.0  \n",
       "3          234.0            424.0  \n",
       "4           48.0            121.0  \n",
       "\n",
       "[5 rows x 22 columns]"
      ]
     },
     "metadata": {},
     "output_type": "display_data"
    },
    {
     "name": "stdout",
     "output_type": "stream",
     "text": [
      "<class 'pandas.core.frame.DataFrame'>\n",
      "RangeIndex: 23699 entries, 0 to 23698\n",
      "Data columns (total 22 columns):\n",
      " #   Column                Non-Null Count  Dtype  \n",
      "---  ------                --------------  -----  \n",
      " 0   total_images          23699 non-null  int64  \n",
      " 1   last_price            23699 non-null  float64\n",
      " 2   total_area            23699 non-null  float64\n",
      " 3   first_day_exposition  23699 non-null  object \n",
      " 4   rooms                 23699 non-null  int64  \n",
      " 5   ceiling_height        14504 non-null  float64\n",
      " 6   floors_total          23613 non-null  float64\n",
      " 7   living_area           21796 non-null  float64\n",
      " 8   floor                 23699 non-null  int64  \n",
      " 9   is_apartment          2775 non-null   object \n",
      " 10  studio                23699 non-null  bool   \n",
      " 11  open_plan             23699 non-null  bool   \n",
      " 12  kitchen_area          21421 non-null  float64\n",
      " 13  balcony               12180 non-null  float64\n",
      " 14  locality_name         23650 non-null  object \n",
      " 15  airports_nearest      18157 non-null  float64\n",
      " 16  cityCenters_nearest   18180 non-null  float64\n",
      " 17  parks_around3000      18181 non-null  float64\n",
      " 18  parks_nearest         8079 non-null   float64\n",
      " 19  ponds_around3000      18181 non-null  float64\n",
      " 20  ponds_nearest         9110 non-null   float64\n",
      " 21  days_exposition       20518 non-null  float64\n",
      "dtypes: bool(2), float64(14), int64(3), object(3)\n",
      "memory usage: 3.7+ MB\n"
     ]
    }
   ],
   "source": [
    "data = pd.read_csv('real_estate_data.csv', sep = '\\t')\n",
    "display(data.head())\n",
    "data.info()"
   ]
  },
  {
   "cell_type": "code",
   "execution_count": 3,
   "metadata": {},
   "outputs": [
    {
     "data": {
      "text/plain": [
       "0"
      ]
     },
     "execution_count": 3,
     "metadata": {},
     "output_type": "execute_result"
    }
   ],
   "source": [
    "# Check for duplicates:\n",
    "data.duplicated().sum()"
   ]
  },
  {
   "cell_type": "code",
   "execution_count": 4,
   "metadata": {},
   "outputs": [
    {
     "data": {
      "text/plain": [
       "total_images                0\n",
       "last_price                  0\n",
       "total_area                  0\n",
       "first_day_exposition        0\n",
       "rooms                       0\n",
       "ceiling_height           9195\n",
       "floors_total               86\n",
       "living_area              1903\n",
       "floor                       0\n",
       "is_apartment            20924\n",
       "studio                      0\n",
       "open_plan                   0\n",
       "kitchen_area             2278\n",
       "balcony                 11519\n",
       "locality_name              49\n",
       "airports_nearest         5542\n",
       "cityCenters_nearest      5519\n",
       "parks_around3000         5518\n",
       "parks_nearest           15620\n",
       "ponds_around3000         5518\n",
       "ponds_nearest           14589\n",
       "days_exposition          3181\n",
       "dtype: int64"
      ]
     },
     "execution_count": 4,
     "metadata": {},
     "output_type": "execute_result"
    }
   ],
   "source": [
    "# Check for NaN:\n",
    "data.isna().sum()"
   ]
  },
  {
   "cell_type": "markdown",
   "metadata": {},
   "source": [
    "### Conclusion:\n"
   ]
  },
  {
   "cell_type": "markdown",
   "metadata": {},
   "source": [
    "    - Opened and reviewed the data, checked for duplicates. There are no duplicates. \n",
    "    - By the name of the columns there are no questions, everything is written correctly, clearly. \n",
    "    - There are many missing values, and the data type is not logically specified everywhere. \n",
    "    Let's start preprocessing"
   ]
  },
  {
   "cell_type": "markdown",
   "metadata": {},
   "source": [
    "## 2. Data preprocessing"
   ]
  },
  {
   "cell_type": "markdown",
   "metadata": {},
   "source": [
    "Everything is fine with these positions, we leave it as is\n",
    "   - `total_images`\n",
    "   - `total_area`\n",
    "   - `floor`\n",
    "   - `studio`\n",
    "   - `open_plan`\n",
    "   "
   ]
  },
  {
   "cell_type": "markdown",
   "metadata": {},
   "source": [
    "**last_price :**"
   ]
  },
  {
   "cell_type": "markdown",
   "metadata": {},
   "source": [
    "Let's bring `last_price` to an integer for the convenience of further calculations:"
   ]
  },
  {
   "cell_type": "code",
   "execution_count": 5,
   "metadata": {},
   "outputs": [],
   "source": [
    "data.last_price = data.last_price.astype(int)"
   ]
  },
  {
   "cell_type": "markdown",
   "metadata": {},
   "source": [
    "**first_day_exposition :**"
   ]
  },
  {
   "cell_type": "markdown",
   "metadata": {},
   "source": [
    "In the `date` column, replace the data with `datetime`, removing the placement time:"
   ]
  },
  {
   "cell_type": "code",
   "execution_count": 6,
   "metadata": {},
   "outputs": [],
   "source": [
    "data.first_day_exposition = pd.to_datetime(data.first_day_exposition, format= '%Y-%m-%d')"
   ]
  },
  {
   "cell_type": "markdown",
   "metadata": {},
   "source": [
    "**rooms :**"
   ]
  },
  {
   "cell_type": "code",
   "execution_count": 7,
   "metadata": {},
   "outputs": [
    {
     "data": {
      "text/plain": [
       "0      197\n",
       "1     8047\n",
       "2     7940\n",
       "3     5814\n",
       "4     1180\n",
       "5      326\n",
       "6      105\n",
       "7       59\n",
       "8       12\n",
       "9        8\n",
       "10       3\n",
       "11       2\n",
       "12       1\n",
       "14       2\n",
       "15       1\n",
       "16       1\n",
       "19       1\n",
       "Name: rooms, dtype: int64"
      ]
     },
     "execution_count": 7,
     "metadata": {},
     "output_type": "execute_result"
    }
   ],
   "source": [
    "data.rooms.value_counts().sort_index()"
   ]
  },
  {
   "cell_type": "markdown",
   "metadata": {},
   "source": [
    "There is a certain number (less than 1%) where 0 `rooms` are indicated, we will delete these lines, there may be an error in the data."
   ]
  },
  {
   "cell_type": "code",
   "execution_count": 8,
   "metadata": {},
   "outputs": [
    {
     "data": {
      "text/plain": [
       "0"
      ]
     },
     "execution_count": 8,
     "metadata": {},
     "output_type": "execute_result"
    }
   ],
   "source": [
    "data = data.query('rooms != 0')\n",
    "data.rooms.isna().sum()"
   ]
  },
  {
   "cell_type": "markdown",
   "metadata": {},
   "source": [
    "**ceiling_height :**"
   ]
  },
  {
   "cell_type": "code",
   "execution_count": 9,
   "metadata": {},
   "outputs": [
    {
     "data": {
      "text/plain": [
       "2.50    3513\n",
       "2.60    1637\n",
       "2.70    1552\n",
       "3.00    1109\n",
       "2.80     979\n",
       "        ... \n",
       "5.00       1\n",
       "4.65       1\n",
       "4.37       1\n",
       "4.06       1\n",
       "3.59       1\n",
       "Name: ceiling_height, Length: 182, dtype: int64"
      ]
     },
     "execution_count": 9,
     "metadata": {},
     "output_type": "execute_result"
    }
   ],
   "source": [
    "data.ceiling_height.value_counts()"
   ]
  },
  {
   "cell_type": "code",
   "execution_count": 10,
   "metadata": {},
   "outputs": [
    {
     "data": {
      "text/plain": [
       "count    14422.000000\n",
       "mean         2.769607\n",
       "std          1.248101\n",
       "min          1.000000\n",
       "25%          2.510000\n",
       "50%          2.650000\n",
       "75%          2.800000\n",
       "max        100.000000\n",
       "Name: ceiling_height, dtype: float64"
      ]
     },
     "execution_count": 10,
     "metadata": {},
     "output_type": "execute_result"
    }
   ],
   "source": [
    "data.ceiling_height.describe()"
   ]
  },
  {
   "cell_type": "code",
   "execution_count": 11,
   "metadata": {},
   "outputs": [
    {
     "data": {
      "text/plain": [
       "9080"
      ]
     },
     "execution_count": 11,
     "metadata": {},
     "output_type": "execute_result"
    }
   ],
   "source": [
    "data.ceiling_height.isna().sum()"
   ]
  },
  {
   "cell_type": "markdown",
   "metadata": {},
   "source": [
    "There are many missing values, replace them with the median value:"
   ]
  },
  {
   "cell_type": "code",
   "execution_count": 12,
   "metadata": {},
   "outputs": [],
   "source": [
    "data.ceiling_height.fillna(data.ceiling_height.median(), inplace =True)"
   ]
  },
  {
   "cell_type": "code",
   "execution_count": 13,
   "metadata": {},
   "outputs": [
    {
     "data": {
      "text/html": [
       "<div>\n",
       "<style scoped>\n",
       "    .dataframe tbody tr th:only-of-type {\n",
       "        vertical-align: middle;\n",
       "    }\n",
       "\n",
       "    .dataframe tbody tr th {\n",
       "        vertical-align: top;\n",
       "    }\n",
       "\n",
       "    .dataframe thead th {\n",
       "        text-align: right;\n",
       "    }\n",
       "</style>\n",
       "<table border=\"1\" class=\"dataframe\">\n",
       "  <thead>\n",
       "    <tr style=\"text-align: right;\">\n",
       "      <th></th>\n",
       "      <th>total_images</th>\n",
       "      <th>last_price</th>\n",
       "      <th>total_area</th>\n",
       "      <th>first_day_exposition</th>\n",
       "      <th>rooms</th>\n",
       "      <th>ceiling_height</th>\n",
       "      <th>floors_total</th>\n",
       "      <th>living_area</th>\n",
       "      <th>floor</th>\n",
       "      <th>is_apartment</th>\n",
       "      <th>...</th>\n",
       "      <th>kitchen_area</th>\n",
       "      <th>balcony</th>\n",
       "      <th>locality_name</th>\n",
       "      <th>airports_nearest</th>\n",
       "      <th>cityCenters_nearest</th>\n",
       "      <th>parks_around3000</th>\n",
       "      <th>parks_nearest</th>\n",
       "      <th>ponds_around3000</th>\n",
       "      <th>ponds_nearest</th>\n",
       "      <th>days_exposition</th>\n",
       "    </tr>\n",
       "  </thead>\n",
       "  <tbody>\n",
       "    <tr>\n",
       "      <th>355</th>\n",
       "      <td>17</td>\n",
       "      <td>3600000</td>\n",
       "      <td>55.2</td>\n",
       "      <td>2018-07-12</td>\n",
       "      <td>2</td>\n",
       "      <td>25.0</td>\n",
       "      <td>5.0</td>\n",
       "      <td>32.0</td>\n",
       "      <td>2</td>\n",
       "      <td>False</td>\n",
       "      <td>...</td>\n",
       "      <td>NaN</td>\n",
       "      <td>2.0</td>\n",
       "      <td>Гатчина</td>\n",
       "      <td>NaN</td>\n",
       "      <td>NaN</td>\n",
       "      <td>NaN</td>\n",
       "      <td>NaN</td>\n",
       "      <td>NaN</td>\n",
       "      <td>NaN</td>\n",
       "      <td>259.0</td>\n",
       "    </tr>\n",
       "    <tr>\n",
       "      <th>3148</th>\n",
       "      <td>14</td>\n",
       "      <td>2900000</td>\n",
       "      <td>75.0</td>\n",
       "      <td>2018-11-12</td>\n",
       "      <td>3</td>\n",
       "      <td>32.0</td>\n",
       "      <td>3.0</td>\n",
       "      <td>53.0</td>\n",
       "      <td>2</td>\n",
       "      <td>NaN</td>\n",
       "      <td>...</td>\n",
       "      <td>8.0</td>\n",
       "      <td>NaN</td>\n",
       "      <td>Волхов</td>\n",
       "      <td>NaN</td>\n",
       "      <td>NaN</td>\n",
       "      <td>NaN</td>\n",
       "      <td>NaN</td>\n",
       "      <td>NaN</td>\n",
       "      <td>NaN</td>\n",
       "      <td>NaN</td>\n",
       "    </tr>\n",
       "    <tr>\n",
       "      <th>3474</th>\n",
       "      <td>3</td>\n",
       "      <td>1400000</td>\n",
       "      <td>30.0</td>\n",
       "      <td>2018-03-16</td>\n",
       "      <td>1</td>\n",
       "      <td>8.0</td>\n",
       "      <td>5.0</td>\n",
       "      <td>15.3</td>\n",
       "      <td>2</td>\n",
       "      <td>False</td>\n",
       "      <td>...</td>\n",
       "      <td>7.3</td>\n",
       "      <td>NaN</td>\n",
       "      <td>деревня Нурма</td>\n",
       "      <td>NaN</td>\n",
       "      <td>NaN</td>\n",
       "      <td>NaN</td>\n",
       "      <td>NaN</td>\n",
       "      <td>NaN</td>\n",
       "      <td>NaN</td>\n",
       "      <td>125.0</td>\n",
       "    </tr>\n",
       "    <tr>\n",
       "      <th>4643</th>\n",
       "      <td>0</td>\n",
       "      <td>4300000</td>\n",
       "      <td>45.0</td>\n",
       "      <td>2018-02-01</td>\n",
       "      <td>2</td>\n",
       "      <td>25.0</td>\n",
       "      <td>9.0</td>\n",
       "      <td>30.0</td>\n",
       "      <td>2</td>\n",
       "      <td>NaN</td>\n",
       "      <td>...</td>\n",
       "      <td>7.0</td>\n",
       "      <td>1.0</td>\n",
       "      <td>Санкт-Петербург</td>\n",
       "      <td>12016.0</td>\n",
       "      <td>13256.0</td>\n",
       "      <td>1.0</td>\n",
       "      <td>658.0</td>\n",
       "      <td>1.0</td>\n",
       "      <td>331.0</td>\n",
       "      <td>181.0</td>\n",
       "    </tr>\n",
       "    <tr>\n",
       "      <th>5076</th>\n",
       "      <td>0</td>\n",
       "      <td>3850000</td>\n",
       "      <td>30.5</td>\n",
       "      <td>2018-10-03</td>\n",
       "      <td>1</td>\n",
       "      <td>24.0</td>\n",
       "      <td>5.0</td>\n",
       "      <td>19.5</td>\n",
       "      <td>1</td>\n",
       "      <td>True</td>\n",
       "      <td>...</td>\n",
       "      <td>5.5</td>\n",
       "      <td>NaN</td>\n",
       "      <td>Санкт-Петербург</td>\n",
       "      <td>29686.0</td>\n",
       "      <td>8389.0</td>\n",
       "      <td>3.0</td>\n",
       "      <td>397.0</td>\n",
       "      <td>1.0</td>\n",
       "      <td>578.0</td>\n",
       "      <td>7.0</td>\n",
       "    </tr>\n",
       "  </tbody>\n",
       "</table>\n",
       "<p>5 rows × 22 columns</p>\n",
       "</div>"
      ],
      "text/plain": [
       "      total_images  last_price  total_area first_day_exposition  rooms  \\\n",
       "355             17     3600000        55.2           2018-07-12      2   \n",
       "3148            14     2900000        75.0           2018-11-12      3   \n",
       "3474             3     1400000        30.0           2018-03-16      1   \n",
       "4643             0     4300000        45.0           2018-02-01      2   \n",
       "5076             0     3850000        30.5           2018-10-03      1   \n",
       "\n",
       "      ceiling_height  floors_total  living_area  floor is_apartment  ...  \\\n",
       "355             25.0           5.0         32.0      2        False  ...   \n",
       "3148            32.0           3.0         53.0      2          NaN  ...   \n",
       "3474             8.0           5.0         15.3      2        False  ...   \n",
       "4643            25.0           9.0         30.0      2          NaN  ...   \n",
       "5076            24.0           5.0         19.5      1         True  ...   \n",
       "\n",
       "      kitchen_area  balcony    locality_name  airports_nearest  \\\n",
       "355            NaN      2.0          Гатчина               NaN   \n",
       "3148           8.0      NaN           Волхов               NaN   \n",
       "3474           7.3      NaN    деревня Нурма               NaN   \n",
       "4643           7.0      1.0  Санкт-Петербург           12016.0   \n",
       "5076           5.5      NaN  Санкт-Петербург           29686.0   \n",
       "\n",
       "     cityCenters_nearest  parks_around3000  parks_nearest  ponds_around3000  \\\n",
       "355                  NaN               NaN            NaN               NaN   \n",
       "3148                 NaN               NaN            NaN               NaN   \n",
       "3474                 NaN               NaN            NaN               NaN   \n",
       "4643             13256.0               1.0          658.0               1.0   \n",
       "5076              8389.0               3.0          397.0               1.0   \n",
       "\n",
       "      ponds_nearest  days_exposition  \n",
       "355             NaN            259.0  \n",
       "3148            NaN              NaN  \n",
       "3474            NaN            125.0  \n",
       "4643          331.0            181.0  \n",
       "5076          578.0              7.0  \n",
       "\n",
       "[5 rows x 22 columns]"
      ]
     },
     "execution_count": 13,
     "metadata": {},
     "output_type": "execute_result"
    }
   ],
   "source": [
    "data.query('ceiling_height < 2 | ceiling_height > 6').head()"
   ]
  },
  {
   "cell_type": "markdown",
   "metadata": {},
   "source": [
    "There are only 31 rows (0.15%) where the ceiling height is below 2 meters or above 6 meters. Delete erroneous data"
   ]
  },
  {
   "cell_type": "code",
   "execution_count": 14,
   "metadata": {},
   "outputs": [],
   "source": [
    "data = data[(data.ceiling_height >=2) & (data.ceiling_height <=6)]"
   ]
  },
  {
   "cell_type": "markdown",
   "metadata": {},
   "source": [
    "**floors_total :**"
   ]
  },
  {
   "cell_type": "code",
   "execution_count": 15,
   "metadata": {},
   "outputs": [
    {
     "data": {
      "text/plain": [
       "1.0       25\n",
       "2.0      380\n",
       "3.0      661\n",
       "4.0     1194\n",
       "5.0     5769\n",
       "6.0      910\n",
       "7.0      589\n",
       "8.0      388\n",
       "9.0     3747\n",
       "10.0    1168\n",
       "11.0     200\n",
       "12.0    1354\n",
       "13.0     229\n",
       "14.0     543\n",
       "15.0     361\n",
       "16.0    1355\n",
       "17.0     814\n",
       "18.0     492\n",
       "19.0     330\n",
       "20.0     265\n",
       "21.0     151\n",
       "22.0     282\n",
       "23.0     346\n",
       "24.0     453\n",
       "25.0    1048\n",
       "26.0     122\n",
       "27.0     162\n",
       "28.0      21\n",
       "29.0       1\n",
       "33.0       1\n",
       "34.0       1\n",
       "35.0      22\n",
       "36.0       2\n",
       "52.0       1\n",
       "60.0       1\n",
       "Name: floors_total, dtype: int64"
      ]
     },
     "execution_count": 15,
     "metadata": {},
     "output_type": "execute_result"
    }
   ],
   "source": [
    "data.floors_total.value_counts().sort_index()"
   ]
  },
  {
   "cell_type": "code",
   "execution_count": 16,
   "metadata": {},
   "outputs": [
    {
     "data": {
      "text/plain": [
       "count    23388.00000\n",
       "mean        10.62314\n",
       "std          6.56650\n",
       "min          1.00000\n",
       "25%          5.00000\n",
       "50%          9.00000\n",
       "75%         16.00000\n",
       "max         60.00000\n",
       "Name: floors_total, dtype: float64"
      ]
     },
     "execution_count": 16,
     "metadata": {},
     "output_type": "execute_result"
    }
   ],
   "source": [
    "data.floors_total.describe()"
   ]
  },
  {
   "cell_type": "code",
   "execution_count": 17,
   "metadata": {},
   "outputs": [
    {
     "data": {
      "text/plain": [
       "83"
      ]
     },
     "execution_count": 17,
     "metadata": {},
     "output_type": "execute_result"
    }
   ],
   "source": [
    "data.floors_total.isna().sum()"
   ]
  },
  {
   "cell_type": "markdown",
   "metadata": {},
   "source": [
    "There are only 83 rows (0.3%) with null data. Will delete these rows and convert to integer"
   ]
  },
  {
   "cell_type": "code",
   "execution_count": 18,
   "metadata": {},
   "outputs": [],
   "source": [
    "data.floors_total = data.floors_total.fillna('0')"
   ]
  },
  {
   "cell_type": "code",
   "execution_count": 19,
   "metadata": {},
   "outputs": [],
   "source": [
    "data = data.query('floors_total != 0')"
   ]
  },
  {
   "cell_type": "code",
   "execution_count": 20,
   "metadata": {},
   "outputs": [],
   "source": [
    "data.floors_total = data.floors_total.astype(int)"
   ]
  },
  {
   "cell_type": "markdown",
   "metadata": {},
   "source": [
    "**living_area :**"
   ]
  },
  {
   "cell_type": "code",
   "execution_count": 21,
   "metadata": {},
   "outputs": [
    {
     "data": {
      "text/plain": [
       "1889"
      ]
     },
     "execution_count": 21,
     "metadata": {},
     "output_type": "execute_result"
    }
   ],
   "source": [
    "data.living_area.isna().sum()"
   ]
  },
  {
   "cell_type": "markdown",
   "metadata": {},
   "source": [
    "**kitchen_area :**"
   ]
  },
  {
   "cell_type": "code",
   "execution_count": 22,
   "metadata": {},
   "outputs": [
    {
     "data": {
      "text/plain": [
       "1889"
      ]
     },
     "execution_count": 22,
     "metadata": {},
     "output_type": "execute_result"
    }
   ],
   "source": [
    "data.living_area.isna().sum()"
   ]
  },
  {
   "cell_type": "markdown",
   "metadata": {},
   "source": [
    "There are a large number of missing values in the columns with areas (about 8%), we will not get rid of such an amount of data, we will leave it as it is"
   ]
  },
  {
   "cell_type": "markdown",
   "metadata": {},
   "source": [
    "**is_apartment :**"
   ]
  },
  {
   "cell_type": "code",
   "execution_count": 23,
   "metadata": {},
   "outputs": [
    {
     "data": {
      "text/plain": [
       "20715"
      ]
     },
     "execution_count": 23,
     "metadata": {},
     "output_type": "execute_result"
    }
   ],
   "source": [
    "data.is_apartment.isna().sum()"
   ]
  },
  {
   "cell_type": "markdown",
   "metadata": {},
   "source": [
    "In the data column, apartments or not - almost 90% of missing values. Let's leave it as it is"
   ]
  },
  {
   "cell_type": "markdown",
   "metadata": {},
   "source": [
    "**balcony :**"
   ]
  },
  {
   "cell_type": "code",
   "execution_count": 24,
   "metadata": {},
   "outputs": [
    {
     "data": {
      "text/plain": [
       "11436"
      ]
     },
     "execution_count": 24,
     "metadata": {},
     "output_type": "execute_result"
    }
   ],
   "source": [
    "data.balcony.isna().sum() "
   ]
  },
  {
   "cell_type": "markdown",
   "metadata": {},
   "source": [
    "There are a lot of missing values in the column with the number of balconies (~50%).\n",
    "Suppose that if there is no balcony, then we simply skipped filling in this value.\n",
    "Let's replace the missing values with \"0\". We will also convert the data to integer values,\n",
    "as there can hardly be one and a half balconies."
   ]
  },
  {
   "cell_type": "code",
   "execution_count": 25,
   "metadata": {},
   "outputs": [],
   "source": [
    "data.loc[data['balcony'].isna(),'balcony'] = 0   # скорее всего их нет, так что заменим на 0\n",
    "data.balcony = data.balcony.astype(int)"
   ]
  },
  {
   "cell_type": "markdown",
   "metadata": {},
   "source": [
    "**locality_name :**"
   ]
  },
  {
   "cell_type": "code",
   "execution_count": 26,
   "metadata": {},
   "outputs": [
    {
     "data": {
      "text/plain": [
       "49"
      ]
     },
     "execution_count": 26,
     "metadata": {},
     "output_type": "execute_result"
    }
   ],
   "source": [
    "data.locality_name.isna().sum()"
   ]
  },
  {
   "cell_type": "markdown",
   "metadata": {},
   "source": [
    "There are missing values in the location name column, replace them with 'unknown'"
   ]
  },
  {
   "cell_type": "code",
   "execution_count": 27,
   "metadata": {},
   "outputs": [],
   "source": [
    "data.loc[data['locality_name'].isna(),'locality_name'] = 'unknown'"
   ]
  },
  {
   "cell_type": "markdown",
   "metadata": {},
   "source": [
    "**days_exposition :**"
   ]
  },
  {
   "cell_type": "code",
   "execution_count": 28,
   "metadata": {},
   "outputs": [
    {
     "data": {
      "text/plain": [
       "3161"
      ]
     },
     "execution_count": 28,
     "metadata": {},
     "output_type": "execute_result"
    }
   ],
   "source": [
    "data.days_exposition.isna().sum()"
   ]
  },
  {
   "cell_type": "markdown",
   "metadata": {},
   "source": [
    "There are missing values in the column with the number of days, replace them with '0' and convert them to an integer"
   ]
  },
  {
   "cell_type": "code",
   "execution_count": 29,
   "metadata": {},
   "outputs": [],
   "source": [
    "data.days_exposition.fillna(0, inplace =True)\n",
    "data.days_exposition = data.days_exposition.astype(int)\n",
    "\n"
   ]
  },
  {
   "cell_type": "markdown",
   "metadata": {},
   "source": [
    "### Conclusion:\n"
   ]
  },
  {
   "cell_type": "markdown",
   "metadata": {},
   "source": [
    "   - replaced missing values in the columns necessary for the task, \n",
    "   - deleted unnecessary rows"
   ]
  },
  {
   "cell_type": "markdown",
   "metadata": {},
   "source": [
    "## 3. Calculations and adding results to the table:"
   ]
  },
  {
   "cell_type": "markdown",
   "metadata": {},
   "source": [
    "Let's add a column with the cost per square meter:"
   ]
  },
  {
   "cell_type": "code",
   "execution_count": 30,
   "metadata": {},
   "outputs": [],
   "source": [
    "data['price_meters'] = data['last_price'] / data['total_area']"
   ]
  },
  {
   "cell_type": "markdown",
   "metadata": {},
   "source": [
    "Add columns with day, month and year of publication:"
   ]
  },
  {
   "cell_type": "code",
   "execution_count": 31,
   "metadata": {},
   "outputs": [],
   "source": [
    "data['day_publication'] = data['first_day_exposition'].dt.day\n",
    "data['month_publication'] = data['first_day_exposition'].dt.month\n",
    "data['year_publication'] = data['first_day_exposition'].dt.year"
   ]
  },
  {
   "cell_type": "markdown",
   "metadata": {},
   "source": [
    "Added a column with the floor category:"
   ]
  },
  {
   "cell_type": "code",
   "execution_count": 32,
   "metadata": {},
   "outputs": [],
   "source": [
    "def floors_categoryze(row):\n",
    "    floor = row['floor']\n",
    "    floor_total = row['floors_total']\n",
    "    if floor == 1:\n",
    "        return 'first floor'\n",
    "    elif floor == floor_total:\n",
    "        return 'last floor'\n",
    "    else:\n",
    "        return 'another floor'\n",
    "    \n",
    "data['floor_category'] = data.apply(floors_categoryze, axis = 1)"
   ]
  },
  {
   "cell_type": "markdown",
   "metadata": {},
   "source": [
    "Added columns with the ratio of living area to total area and kitchen to total area:"
   ]
  },
  {
   "cell_type": "code",
   "execution_count": 33,
   "metadata": {},
   "outputs": [],
   "source": [
    "data['ratio_living_total'] = data['living_area'] / data['total_area']\n",
    "data['ratio_kitchen_total'] = data['kitchen_area'] / data['total_area']"
   ]
  },
  {
   "cell_type": "markdown",
   "metadata": {},
   "source": [
    "### Conclusion:"
   ]
  },
  {
   "cell_type": "markdown",
   "metadata": {},
   "source": [
    "   - Added new columns for future research.\n",
    "   - We also applied categorization, divided the floors into categories."
   ]
  },
  {
   "cell_type": "markdown",
   "metadata": {},
   "source": [
    "## 4. Exploratory data analysis:"
   ]
  },
  {
   "cell_type": "markdown",
   "metadata": {},
   "source": [
    "**total_area:**"
   ]
  },
  {
   "cell_type": "code",
   "execution_count": 34,
   "metadata": {},
   "outputs": [
    {
     "data": {
      "image/png": "[encoded data removed]",
      "text/plain": [
       "<Figure size 432x288 with 1 Axes>"
      ]
     },
     "metadata": {
      "needs_background": "light"
     },
     "output_type": "display_data"
    },
    {
     "data": {
      "text/plain": [
       "count    23471.000000\n",
       "mean        60.619274\n",
       "std         35.627239\n",
       "min         12.000000\n",
       "25%         40.200000\n",
       "50%         52.000000\n",
       "75%         70.000000\n",
       "max        900.000000\n",
       "Name: total_area, dtype: float64"
      ]
     },
     "execution_count": 34,
     "metadata": {},
     "output_type": "execute_result"
    }
   ],
   "source": [
    "data.plot(y = 'total_area', kind = 'hist', bins = 100, range = (10,100))\n",
    "plt.title('Distribution of apartments by total area')\n",
    "plt.xlabel('Apartment area, m.')\n",
    "plt.ylabel('Number of apartments')\n",
    "plt.show()\n",
    "data.total_area.describe()"
   ]
  },
  {
   "cell_type": "markdown",
   "metadata": {},
   "source": [
    "We made a histogram for the total area, we see that the main part of the apartments is from 30 to 60 m2, while there are outliers up to 900 m2."
   ]
  },
  {
   "cell_type": "markdown",
   "metadata": {},
   "source": [
    "**last_price:**"
   ]
  },
  {
   "cell_type": "code",
   "execution_count": 35,
   "metadata": {},
   "outputs": [],
   "source": [
    "data.last_price = round(data.last_price / 1000000, 2)"
   ]
  },
  {
   "cell_type": "code",
   "execution_count": 36,
   "metadata": {},
   "outputs": [
    {
     "data": {
      "image/png": "[encoded data removed]",
      "text/plain": [
       "<Figure size 432x288 with 1 Axes>"
      ]
     },
     "metadata": {
      "needs_background": "light"
     },
     "output_type": "display_data"
    },
    {
     "data": {
      "text/plain": [
       "count    23471.000000\n",
       "mean         6.570755\n",
       "std         10.925442\n",
       "min          0.010000\n",
       "25%          3.450000\n",
       "50%          4.650000\n",
       "75%          6.800000\n",
       "max        763.000000\n",
       "Name: last_price, dtype: float64"
      ]
     },
     "execution_count": 36,
     "metadata": {},
     "output_type": "execute_result"
    }
   ],
   "source": [
    "data.plot(y = 'last_price', kind = 'hist', range = (0,20))\n",
    "plt.title('Distribution of apartments by last_price')\n",
    "plt.xlabel('Apartment price, $million')\n",
    "plt.ylabel('Number of apartments')\n",
    "plt.show()\n",
    "data.last_price.describe()"
   ]
  },
  {
   "cell_type": "markdown",
   "metadata": {},
   "source": [
    "We got rid of the e-format of numbers, studied the cost of apartments. The main part is from 2.5 to 7.5 million."
   ]
  },
  {
   "cell_type": "markdown",
   "metadata": {},
   "source": [
    "**rooms:**"
   ]
  },
  {
   "cell_type": "code",
   "execution_count": 37,
   "metadata": {},
   "outputs": [
    {
     "data": {
      "image/png": "[encoded data removed]",
      "text/plain": [
       "<Figure size 432x288 with 1 Axes>"
      ]
     },
     "metadata": {
      "needs_background": "light"
     },
     "output_type": "display_data"
    },
    {
     "data": {
      "text/plain": [
       "count    23471.000000\n",
       "mean         2.088237\n",
       "std          1.066359\n",
       "min          1.000000\n",
       "25%          1.000000\n",
       "50%          2.000000\n",
       "75%          3.000000\n",
       "max         19.000000\n",
       "Name: rooms, dtype: float64"
      ]
     },
     "execution_count": 37,
     "metadata": {},
     "output_type": "execute_result"
    }
   ],
   "source": [
    "data.plot(y = 'rooms', kind = 'hist', bins =20, range = (1,8))\n",
    "plt.title('Distribution of apartments by number of rooms')\n",
    "plt.xlabel('Number of rooms')\n",
    "plt.ylabel('Number of apartments')\n",
    "plt.show()\n",
    "data.rooms.describe()"
   ]
  },
  {
   "cell_type": "markdown",
   "metadata": {},
   "source": [
    "We built a histogram by the number of rooms. We see that 1 and 2-room apartments are presented equally,\n",
    "there are also a large number of 3k apartments."
   ]
  },
  {
   "cell_type": "markdown",
   "metadata": {},
   "source": [
    "**ceiling_height:**"
   ]
  },
  {
   "cell_type": "code",
   "execution_count": 38,
   "metadata": {},
   "outputs": [
    {
     "data": {
      "image/png": "[encoded data removed]",
      "text/plain": [
       "<Figure size 432x288 with 1 Axes>"
      ]
     },
     "metadata": {
      "needs_background": "light"
     },
     "output_type": "display_data"
    },
    {
     "data": {
      "text/plain": [
       "count    23471.000000\n",
       "mean         2.088237\n",
       "std          1.066359\n",
       "min          1.000000\n",
       "25%          1.000000\n",
       "50%          2.000000\n",
       "75%          3.000000\n",
       "max         19.000000\n",
       "Name: rooms, dtype: float64"
      ]
     },
     "execution_count": 38,
     "metadata": {},
     "output_type": "execute_result"
    }
   ],
   "source": [
    "data.plot(y = 'ceiling_height', kind = 'hist', bins =20, range = (2,4))\n",
    "plt.title('Distribution of apartments by ceiling height')\n",
    "plt.xlabel('ceiling_height')\n",
    "plt.ylabel('Number of apartments')\n",
    "plt.show()\n",
    "data.rooms.describe()"
   ]
  },
  {
   "cell_type": "markdown",
   "metadata": {},
   "source": [
    "According to the ceilings, as I wrote above, there are emissions of 0 and 100m. But in general, the main part of the data is ceilings from 2.5 to 3m which is normal."
   ]
  },
  {
   "cell_type": "markdown",
   "metadata": {},
   "source": [
    "**days_exposition:**"
   ]
  },
  {
   "cell_type": "code",
   "execution_count": 39,
   "metadata": {},
   "outputs": [
    {
     "data": {
      "text/plain": [
       "count    20310.000000\n",
       "mean       181.554899\n",
       "std        220.155266\n",
       "min          1.000000\n",
       "25%         45.000000\n",
       "50%         96.000000\n",
       "75%        232.000000\n",
       "max       1580.000000\n",
       "Name: days_exposition, dtype: float64"
      ]
     },
     "execution_count": 39,
     "metadata": {},
     "output_type": "execute_result"
    },
    {
     "data": {
      "image/png": "[encoded data removed]",
      "text/plain": [
       "<Figure size 432x288 with 1 Axes>"
      ]
     },
     "metadata": {
      "needs_background": "light"
     },
     "output_type": "display_data"
    }
   ],
   "source": [
    "data.query('days_exposition != 0').days_exposition.hist(bins = 100, range = (0,1580))\n",
    "data.query('days_exposition != 0').days_exposition.describe()\n"
   ]
  },
  {
   "cell_type": "markdown",
   "metadata": {},
   "source": [
    "We investigate the time of sale of the apartment. Exclude data with 0 days.\n",
    "Median - 96 days, mean twice as much - 181 days\n",
    "The average is strongly influenced by data on apartments that have been sold for more than 2 years, the maximum value is 4.5 years"
   ]
  },
  {
   "cell_type": "code",
   "execution_count": 40,
   "metadata": {},
   "outputs": [
    {
     "data": {
      "text/plain": [
       "<AxesSubplot:>"
      ]
     },
     "execution_count": 40,
     "metadata": {},
     "output_type": "execute_result"
    },
    {
     "data": {
      "image/png": "[encoded data removed]",
      "text/plain": [
       "<Figure size 432x288 with 1 Axes>"
      ]
     },
     "metadata": {
      "needs_background": "light"
     },
     "output_type": "display_data"
    }
   ],
   "source": [
    "data.query('days_exposition != 0').days_exposition.hist(bins = 100, range = (0,200))\n",
    "data.query('days_exposition != 0').days_exposition.value_counts()\n",
    "error_data = [0,45,60,90]\n",
    "data.query('days_exposition != @error_data').days_exposition.hist(bins = 100, range = (0,200))\n"
   ]
  },
  {
   "cell_type": "markdown",
   "metadata": {},
   "source": [
    "By reducing the size of the histogram we will see outliers at 45,60,90 days.\n",
    "By visiting the Yandex real estate website, we see that these days\n",
    "ads are removed from publication automatically, we discard these values."
   ]
  },
  {
   "cell_type": "code",
   "execution_count": 41,
   "metadata": {},
   "outputs": [
    {
     "data": {
      "text/plain": [
       "count    18704.000000\n",
       "mean       192.363398\n",
       "std        226.128641\n",
       "min          1.000000\n",
       "25%         42.000000\n",
       "50%        111.000000\n",
       "75%        253.000000\n",
       "max       1580.000000\n",
       "Name: days_exposition, dtype: float64"
      ]
     },
     "execution_count": 41,
     "metadata": {},
     "output_type": "execute_result"
    }
   ],
   "source": [
    "data.query('days_exposition != @error_data').days_exposition.describe()"
   ]
  },
  {
   "cell_type": "markdown",
   "metadata": {},
   "source": [
    "Removed knockout values,we conclude that 50% of the apartments are sold within 3 months. Within a month - 25%, but there are also long sales, up to several years."
   ]
  },
  {
   "cell_type": "markdown",
   "metadata": {},
   "source": [
    "### Let's calculate how much the cost of an apartment depends on the following factors:"
   ]
  },
  {
   "cell_type": "code",
   "execution_count": 42,
   "metadata": {},
   "outputs": [
    {
     "data": {
      "text/html": [
       "<div>\n",
       "<style scoped>\n",
       "    .dataframe tbody tr th:only-of-type {\n",
       "        vertical-align: middle;\n",
       "    }\n",
       "\n",
       "    .dataframe tbody tr th {\n",
       "        vertical-align: top;\n",
       "    }\n",
       "\n",
       "    .dataframe thead th {\n",
       "        text-align: right;\n",
       "    }\n",
       "</style>\n",
       "<table border=\"1\" class=\"dataframe\">\n",
       "  <thead>\n",
       "    <tr style=\"text-align: right;\">\n",
       "      <th></th>\n",
       "      <th>price_meters</th>\n",
       "      <th>total_area</th>\n",
       "      <th>rooms</th>\n",
       "      <th>cityCenters_nearest</th>\n",
       "    </tr>\n",
       "  </thead>\n",
       "  <tbody>\n",
       "    <tr>\n",
       "      <th>price_meters</th>\n",
       "      <td>1.000000</td>\n",
       "      <td>0.305806</td>\n",
       "      <td>0.060121</td>\n",
       "      <td>-0.318063</td>\n",
       "    </tr>\n",
       "    <tr>\n",
       "      <th>total_area</th>\n",
       "      <td>0.305806</td>\n",
       "      <td>1.000000</td>\n",
       "      <td>0.760210</td>\n",
       "      <td>-0.232788</td>\n",
       "    </tr>\n",
       "    <tr>\n",
       "      <th>rooms</th>\n",
       "      <td>0.060121</td>\n",
       "      <td>0.760210</td>\n",
       "      <td>1.000000</td>\n",
       "      <td>-0.188816</td>\n",
       "    </tr>\n",
       "    <tr>\n",
       "      <th>cityCenters_nearest</th>\n",
       "      <td>-0.318063</td>\n",
       "      <td>-0.232788</td>\n",
       "      <td>-0.188816</td>\n",
       "      <td>1.000000</td>\n",
       "    </tr>\n",
       "  </tbody>\n",
       "</table>\n",
       "</div>"
      ],
      "text/plain": [
       "                     price_meters  total_area     rooms  cityCenters_nearest\n",
       "price_meters             1.000000    0.305806  0.060121            -0.318063\n",
       "total_area               0.305806    1.000000  0.760210            -0.232788\n",
       "rooms                    0.060121    0.760210  1.000000            -0.188816\n",
       "cityCenters_nearest     -0.318063   -0.232788 -0.188816             1.000000"
      ]
     },
     "execution_count": 42,
     "metadata": {},
     "output_type": "execute_result"
    }
   ],
   "source": [
    "data[['price_meters','total_area','rooms','cityCenters_nearest']].corr()"
   ]
  },
  {
   "cell_type": "markdown",
   "metadata": {},
   "source": [
    "We looked at the correlation, we see that the cost practically does not depend on the number of rooms, and with an increase in the area, the cost per square meter increases but slightly. Also, the cost decreases with increasing distance from the city center, but again - slightly"
   ]
  },
  {
   "cell_type": "markdown",
   "metadata": {},
   "source": [
    "### Let's calculate how much the cost of an apartment depends on floor:"
   ]
  },
  {
   "cell_type": "code",
   "execution_count": 43,
   "metadata": {},
   "outputs": [
    {
     "data": {
      "text/plain": [
       "<AxesSubplot:xlabel='floor_category'>"
      ]
     },
     "execution_count": 43,
     "metadata": {},
     "output_type": "execute_result"
    },
    {
     "data": {
      "image/png": "[encoded data removed]",
      "text/plain": [
       "<Figure size 432x288 with 1 Axes>"
      ]
     },
     "metadata": {
      "needs_background": "light"
     },
     "output_type": "display_data"
    }
   ],
   "source": [
    "floor_corr = data.pivot_table(\n",
    "    index = 'floor_category', values = 'price_meters', aggfunc = ['mean', 'count', 'median'])\n",
    "floor_corr.columns = ['mean', 'count', 'median']\n",
    "floor_corr.plot(y = 'median')"
   ]
  },
  {
   "cell_type": "markdown",
   "metadata": {},
   "source": [
    "The lowest cost is for apartments on the first floor, a little higher - on the last. The most expensive apartments are those that are not on the first and last floor."
   ]
  },
  {
   "cell_type": "markdown",
   "metadata": {},
   "source": [
    "### Calculate how much the cost of the apartment depends on the date of placement:"
   ]
  },
  {
   "cell_type": "code",
   "execution_count": 44,
   "metadata": {},
   "outputs": [
    {
     "data": {
      "text/html": [
       "<div>\n",
       "<style scoped>\n",
       "    .dataframe tbody tr th:only-of-type {\n",
       "        vertical-align: middle;\n",
       "    }\n",
       "\n",
       "    .dataframe tbody tr th {\n",
       "        vertical-align: top;\n",
       "    }\n",
       "\n",
       "    .dataframe thead th {\n",
       "        text-align: right;\n",
       "    }\n",
       "</style>\n",
       "<table border=\"1\" class=\"dataframe\">\n",
       "  <thead>\n",
       "    <tr style=\"text-align: right;\">\n",
       "      <th></th>\n",
       "      <th>price_meters</th>\n",
       "      <th>day_publication</th>\n",
       "      <th>month_publication</th>\n",
       "      <th>year_publication</th>\n",
       "    </tr>\n",
       "  </thead>\n",
       "  <tbody>\n",
       "    <tr>\n",
       "      <th>price_meters</th>\n",
       "      <td>1.000000</td>\n",
       "      <td>0.012201</td>\n",
       "      <td>-0.002472</td>\n",
       "      <td>0.007883</td>\n",
       "    </tr>\n",
       "    <tr>\n",
       "      <th>day_publication</th>\n",
       "      <td>0.012201</td>\n",
       "      <td>1.000000</td>\n",
       "      <td>-0.019175</td>\n",
       "      <td>-0.027035</td>\n",
       "    </tr>\n",
       "    <tr>\n",
       "      <th>month_publication</th>\n",
       "      <td>-0.002472</td>\n",
       "      <td>-0.019175</td>\n",
       "      <td>1.000000</td>\n",
       "      <td>-0.268318</td>\n",
       "    </tr>\n",
       "    <tr>\n",
       "      <th>year_publication</th>\n",
       "      <td>0.007883</td>\n",
       "      <td>-0.027035</td>\n",
       "      <td>-0.268318</td>\n",
       "      <td>1.000000</td>\n",
       "    </tr>\n",
       "  </tbody>\n",
       "</table>\n",
       "</div>"
      ],
      "text/plain": [
       "                   price_meters  day_publication  month_publication  \\\n",
       "price_meters           1.000000         0.012201          -0.002472   \n",
       "day_publication        0.012201         1.000000          -0.019175   \n",
       "month_publication     -0.002472        -0.019175           1.000000   \n",
       "year_publication       0.007883        -0.027035          -0.268318   \n",
       "\n",
       "                   year_publication  \n",
       "price_meters               0.007883  \n",
       "day_publication           -0.027035  \n",
       "month_publication         -0.268318  \n",
       "year_publication           1.000000  "
      ]
     },
     "execution_count": 44,
     "metadata": {},
     "output_type": "execute_result"
    }
   ],
   "source": [
    "data[['price_meters','day_publication', 'month_publication','year_publication']].corr()"
   ]
  },
  {
   "cell_type": "markdown",
   "metadata": {},
   "source": [
    "The cost of the apartment does not depend on the date of placement of the advertisement"
   ]
  },
  {
   "cell_type": "markdown",
   "metadata": {},
   "source": [
    "### Calculate how much the cost of the apartment depends on the date of placement:"
   ]
  },
  {
   "cell_type": "code",
   "execution_count": 45,
   "metadata": {},
   "outputs": [
    {
     "data": {
      "text/plain": [
       "<AxesSubplot:xlabel='year_publication'>"
      ]
     },
     "execution_count": 45,
     "metadata": {},
     "output_type": "execute_result"
    },
    {
     "data": {
      "image/png": "[encoded data removed]",
      "text/plain": [
       "<Figure size 432x288 with 1 Axes>"
      ]
     },
     "metadata": {
      "needs_background": "light"
     },
     "output_type": "display_data"
    },
    {
     "data": {
      "image/png": "[encoded data removed]",
      "text/plain": [
       "<Figure size 432x288 with 1 Axes>"
      ]
     },
     "metadata": {
      "needs_background": "light"
     },
     "output_type": "display_data"
    },
    {
     "data": {
      "image/png": "[encoded data removed]",
      "text/plain": [
       "<Figure size 432x288 with 1 Axes>"
      ]
     },
     "metadata": {
      "needs_background": "light"
     },
     "output_type": "display_data"
    }
   ],
   "source": [
    "day_corr = data.pivot_table(\n",
    "    index = 'day_publication', values = 'price_meters', aggfunc = ['mean', 'count', 'median'])\n",
    "day_corr.columns = ['mean', 'count', 'median']\n",
    "\n",
    "month_corr = data.pivot_table(\n",
    "    index = 'month_publication', values = 'price_meters', aggfunc = ['mean', 'count', 'median'])\n",
    "month_corr.columns = ['mean', 'count', 'median']\n",
    "\n",
    "year_corr = data.pivot_table(\n",
    "    index = 'year_publication', values = 'price_meters', aggfunc = ['mean', 'count', 'median'])\n",
    "year_corr.columns = ['mean', 'count', 'median']\n",
    "\n",
    "day_corr.plot(y = 'median')\n",
    "month_corr.plot(y = 'median')\n",
    "year_corr.plot(y = 'median')\n",
    "\n"
   ]
  },
  {
   "cell_type": "markdown",
   "metadata": {},
   "source": [
    "We built graphs of the dependence of the cost of a meter on the day, month, year of publication:\n",
    "   - From the day - practically does not depend.\n",
    "   - From a month - in the may-june the cost of apartments falls.\n",
    "   - From a year - Fall in value since 2014, which corresponds to: the fall in oil prices and the ruble, anti-Russian economic sanctions, the introduction of counter-sanctions. https://realty.rbc.ru/news/5b76c9fb9a79471f1c1c81db\n",
    "\n",
    "\n",
    "    \n"
   ]
  },
  {
   "cell_type": "markdown",
   "metadata": {},
   "source": [
    "### Let's choose 10 settlements with the largest number of ads:"
   ]
  },
  {
   "cell_type": "code",
   "execution_count": 46,
   "metadata": {},
   "outputs": [
    {
     "data": {
      "text/html": [
       "<div>\n",
       "<style scoped>\n",
       "    .dataframe tbody tr th:only-of-type {\n",
       "        vertical-align: middle;\n",
       "    }\n",
       "\n",
       "    .dataframe tbody tr th {\n",
       "        vertical-align: top;\n",
       "    }\n",
       "\n",
       "    .dataframe thead th {\n",
       "        text-align: right;\n",
       "    }\n",
       "</style>\n",
       "<table border=\"1\" class=\"dataframe\">\n",
       "  <thead>\n",
       "    <tr style=\"text-align: right;\">\n",
       "      <th></th>\n",
       "      <th>count</th>\n",
       "      <th>mean_price</th>\n",
       "    </tr>\n",
       "    <tr>\n",
       "      <th>locality_name</th>\n",
       "      <th></th>\n",
       "      <th></th>\n",
       "    </tr>\n",
       "  </thead>\n",
       "  <tbody>\n",
       "    <tr>\n",
       "      <th>Санкт-Петербург</th>\n",
       "      <td>15592</td>\n",
       "      <td>114769.940736</td>\n",
       "    </tr>\n",
       "    <tr>\n",
       "      <th>посёлок Мурино</th>\n",
       "      <td>494</td>\n",
       "      <td>85071.279587</td>\n",
       "    </tr>\n",
       "    <tr>\n",
       "      <th>посёлок Шушары</th>\n",
       "      <td>436</td>\n",
       "      <td>78405.738420</td>\n",
       "    </tr>\n",
       "    <tr>\n",
       "      <th>Всеволожск</th>\n",
       "      <td>392</td>\n",
       "      <td>68618.013712</td>\n",
       "    </tr>\n",
       "    <tr>\n",
       "      <th>Пушкин</th>\n",
       "      <td>369</td>\n",
       "      <td>103125.819291</td>\n",
       "    </tr>\n",
       "    <tr>\n",
       "      <th>Колпино</th>\n",
       "      <td>338</td>\n",
       "      <td>75424.579098</td>\n",
       "    </tr>\n",
       "    <tr>\n",
       "      <th>посёлок Парголово</th>\n",
       "      <td>323</td>\n",
       "      <td>90289.778393</td>\n",
       "    </tr>\n",
       "    <tr>\n",
       "      <th>Гатчина</th>\n",
       "      <td>306</td>\n",
       "      <td>68757.678644</td>\n",
       "    </tr>\n",
       "    <tr>\n",
       "      <th>деревня Кудрово</th>\n",
       "      <td>283</td>\n",
       "      <td>92297.218847</td>\n",
       "    </tr>\n",
       "    <tr>\n",
       "      <th>Выборг</th>\n",
       "      <td>237</td>\n",
       "      <td>58141.909153</td>\n",
       "    </tr>\n",
       "  </tbody>\n",
       "</table>\n",
       "</div>"
      ],
      "text/plain": [
       "                   count     mean_price\n",
       "locality_name                          \n",
       "Санкт-Петербург    15592  114769.940736\n",
       "посёлок Мурино       494   85071.279587\n",
       "посёлок Шушары       436   78405.738420\n",
       "Всеволожск           392   68618.013712\n",
       "Пушкин               369  103125.819291\n",
       "Колпино              338   75424.579098\n",
       "посёлок Парголово    323   90289.778393\n",
       "Гатчина              306   68757.678644\n",
       "деревня Кудрово      283   92297.218847\n",
       "Выборг               237   58141.909153"
      ]
     },
     "execution_count": 46,
     "metadata": {},
     "output_type": "execute_result"
    }
   ],
   "source": [
    "local_pt = data.pivot_table(index = 'locality_name', values = 'price_meters', aggfunc=['count', 'mean'])\n",
    "local_pt.columns = ['count', 'mean_price']\n",
    "local_pt.sort_values('count', ascending = False).head(10)"
   ]
  },
  {
   "cell_type": "markdown",
   "metadata": {},
   "source": [
    "### Let's highlight the settlements with the highest and lowest cost per square meter:"
   ]
  },
  {
   "cell_type": "code",
   "execution_count": 47,
   "metadata": {},
   "outputs": [
    {
     "name": "stdout",
     "output_type": "stream",
     "text": [
      "                   count     mean_price\n",
      "locality_name                          \n",
      "посёлок Лисий Нос      2  121616.221359\n",
      "                    count    mean_price\n",
      "locality_name                          \n",
      "деревня Старополье      3  11206.221198\n"
     ]
    }
   ],
   "source": [
    "max_price = local_pt[local_pt['mean_price'] == local_pt['mean_price'].max()]\n",
    "min_price = local_pt[local_pt['mean_price'] == local_pt['mean_price'].min()]\n",
    "print(max_price)\n",
    "print(min_price)"
   ]
  },
  {
   "cell_type": "markdown",
   "metadata": {},
   "source": [
    "### Select apartments in St. Petersburg, and add a column with the distance to the center in km (initially data in meters), fill empty values with median and convert to integer:"
   ]
  },
  {
   "cell_type": "code",
   "execution_count": 48,
   "metadata": {},
   "outputs": [],
   "source": [
    "piter_data = data.query('locality_name == \"Санкт-Петербург\"')"
   ]
  },
  {
   "cell_type": "code",
   "execution_count": 49,
   "metadata": {
    "collapsed": true
   },
   "outputs": [
    {
     "name": "stderr",
     "output_type": "stream",
     "text": [
      "<ipython-input-49-31774da1f3b2>:1: SettingWithCopyWarning: \n",
      "A value is trying to be set on a copy of a slice from a DataFrame.\n",
      "Try using .loc[row_indexer,col_indexer] = value instead\n",
      "\n",
      "See the caveats in the documentation: https://pandas.pydata.org/pandas-docs/stable/user_guide/indexing.html#returning-a-view-versus-a-copy\n",
      "  piter_data['center_km'] = piter_data.cityCenters_nearest / 1000\n"
     ]
    }
   ],
   "source": [
    "piter_data['center_km'] = piter_data.cityCenters_nearest / 1000"
   ]
  },
  {
   "cell_type": "code",
   "execution_count": 50,
   "metadata": {
    "collapsed": true
   },
   "outputs": [
    {
     "name": "stderr",
     "output_type": "stream",
     "text": [
      "c:\\users\\user\\appdata\\local\\programs\\python\\python39\\lib\\site-packages\\pandas\\core\\generic.py:6392: SettingWithCopyWarning: \n",
      "A value is trying to be set on a copy of a slice from a DataFrame\n",
      "\n",
      "See the caveats in the documentation: https://pandas.pydata.org/pandas-docs/stable/user_guide/indexing.html#returning-a-view-versus-a-copy\n",
      "  return self._update_inplace(result)\n",
      "c:\\users\\user\\appdata\\local\\programs\\python\\python39\\lib\\site-packages\\pandas\\core\\generic.py:5516: SettingWithCopyWarning: \n",
      "A value is trying to be set on a copy of a slice from a DataFrame.\n",
      "Try using .loc[row_indexer,col_indexer] = value instead\n",
      "\n",
      "See the caveats in the documentation: https://pandas.pydata.org/pandas-docs/stable/user_guide/indexing.html#returning-a-view-versus-a-copy\n",
      "  self[name] = value\n"
     ]
    },
    {
     "data": {
      "text/html": [
       "<div>\n",
       "<style scoped>\n",
       "    .dataframe tbody tr th:only-of-type {\n",
       "        vertical-align: middle;\n",
       "    }\n",
       "\n",
       "    .dataframe tbody tr th {\n",
       "        vertical-align: top;\n",
       "    }\n",
       "\n",
       "    .dataframe thead th {\n",
       "        text-align: right;\n",
       "    }\n",
       "</style>\n",
       "<table border=\"1\" class=\"dataframe\">\n",
       "  <thead>\n",
       "    <tr style=\"text-align: right;\">\n",
       "      <th></th>\n",
       "      <th>total_images</th>\n",
       "      <th>last_price</th>\n",
       "      <th>total_area</th>\n",
       "      <th>first_day_exposition</th>\n",
       "      <th>rooms</th>\n",
       "      <th>ceiling_height</th>\n",
       "      <th>floors_total</th>\n",
       "      <th>living_area</th>\n",
       "      <th>floor</th>\n",
       "      <th>is_apartment</th>\n",
       "      <th>...</th>\n",
       "      <th>ponds_nearest</th>\n",
       "      <th>days_exposition</th>\n",
       "      <th>price_meters</th>\n",
       "      <th>day_publication</th>\n",
       "      <th>month_publication</th>\n",
       "      <th>year_publication</th>\n",
       "      <th>floor_category</th>\n",
       "      <th>ratio_living_total</th>\n",
       "      <th>ratio_kitchen_total</th>\n",
       "      <th>center_km</th>\n",
       "    </tr>\n",
       "  </thead>\n",
       "  <tbody>\n",
       "    <tr>\n",
       "      <th>0</th>\n",
       "      <td>20</td>\n",
       "      <td>13.00</td>\n",
       "      <td>108.00</td>\n",
       "      <td>2019-03-07</td>\n",
       "      <td>3</td>\n",
       "      <td>2.70</td>\n",
       "      <td>16</td>\n",
       "      <td>51.0</td>\n",
       "      <td>8</td>\n",
       "      <td>NaN</td>\n",
       "      <td>...</td>\n",
       "      <td>755.0</td>\n",
       "      <td>0</td>\n",
       "      <td>120370.370370</td>\n",
       "      <td>7</td>\n",
       "      <td>3</td>\n",
       "      <td>2019</td>\n",
       "      <td>another floor</td>\n",
       "      <td>0.472222</td>\n",
       "      <td>0.231481</td>\n",
       "      <td>16</td>\n",
       "    </tr>\n",
       "    <tr>\n",
       "      <th>2</th>\n",
       "      <td>10</td>\n",
       "      <td>5.20</td>\n",
       "      <td>56.00</td>\n",
       "      <td>2015-08-20</td>\n",
       "      <td>2</td>\n",
       "      <td>2.65</td>\n",
       "      <td>5</td>\n",
       "      <td>34.3</td>\n",
       "      <td>4</td>\n",
       "      <td>NaN</td>\n",
       "      <td>...</td>\n",
       "      <td>574.0</td>\n",
       "      <td>558</td>\n",
       "      <td>92785.714286</td>\n",
       "      <td>20</td>\n",
       "      <td>8</td>\n",
       "      <td>2015</td>\n",
       "      <td>another floor</td>\n",
       "      <td>0.612500</td>\n",
       "      <td>0.148214</td>\n",
       "      <td>13</td>\n",
       "    </tr>\n",
       "    <tr>\n",
       "      <th>3</th>\n",
       "      <td>0</td>\n",
       "      <td>64.90</td>\n",
       "      <td>159.00</td>\n",
       "      <td>2015-07-24</td>\n",
       "      <td>3</td>\n",
       "      <td>2.65</td>\n",
       "      <td>14</td>\n",
       "      <td>NaN</td>\n",
       "      <td>9</td>\n",
       "      <td>NaN</td>\n",
       "      <td>...</td>\n",
       "      <td>234.0</td>\n",
       "      <td>424</td>\n",
       "      <td>408176.100629</td>\n",
       "      <td>24</td>\n",
       "      <td>7</td>\n",
       "      <td>2015</td>\n",
       "      <td>another floor</td>\n",
       "      <td>NaN</td>\n",
       "      <td>NaN</td>\n",
       "      <td>6</td>\n",
       "    </tr>\n",
       "    <tr>\n",
       "      <th>4</th>\n",
       "      <td>2</td>\n",
       "      <td>10.00</td>\n",
       "      <td>100.00</td>\n",
       "      <td>2018-06-19</td>\n",
       "      <td>2</td>\n",
       "      <td>3.03</td>\n",
       "      <td>14</td>\n",
       "      <td>32.0</td>\n",
       "      <td>13</td>\n",
       "      <td>NaN</td>\n",
       "      <td>...</td>\n",
       "      <td>48.0</td>\n",
       "      <td>121</td>\n",
       "      <td>100000.000000</td>\n",
       "      <td>19</td>\n",
       "      <td>6</td>\n",
       "      <td>2018</td>\n",
       "      <td>another floor</td>\n",
       "      <td>0.320000</td>\n",
       "      <td>0.410000</td>\n",
       "      <td>8</td>\n",
       "    </tr>\n",
       "    <tr>\n",
       "      <th>7</th>\n",
       "      <td>5</td>\n",
       "      <td>7.92</td>\n",
       "      <td>71.60</td>\n",
       "      <td>2019-04-18</td>\n",
       "      <td>2</td>\n",
       "      <td>2.65</td>\n",
       "      <td>24</td>\n",
       "      <td>NaN</td>\n",
       "      <td>22</td>\n",
       "      <td>NaN</td>\n",
       "      <td>...</td>\n",
       "      <td>NaN</td>\n",
       "      <td>0</td>\n",
       "      <td>110544.692737</td>\n",
       "      <td>18</td>\n",
       "      <td>4</td>\n",
       "      <td>2019</td>\n",
       "      <td>another floor</td>\n",
       "      <td>NaN</td>\n",
       "      <td>0.263966</td>\n",
       "      <td>11</td>\n",
       "    </tr>\n",
       "    <tr>\n",
       "      <th>...</th>\n",
       "      <td>...</td>\n",
       "      <td>...</td>\n",
       "      <td>...</td>\n",
       "      <td>...</td>\n",
       "      <td>...</td>\n",
       "      <td>...</td>\n",
       "      <td>...</td>\n",
       "      <td>...</td>\n",
       "      <td>...</td>\n",
       "      <td>...</td>\n",
       "      <td>...</td>\n",
       "      <td>...</td>\n",
       "      <td>...</td>\n",
       "      <td>...</td>\n",
       "      <td>...</td>\n",
       "      <td>...</td>\n",
       "      <td>...</td>\n",
       "      <td>...</td>\n",
       "      <td>...</td>\n",
       "      <td>...</td>\n",
       "      <td>...</td>\n",
       "    </tr>\n",
       "    <tr>\n",
       "      <th>23689</th>\n",
       "      <td>13</td>\n",
       "      <td>3.55</td>\n",
       "      <td>35.30</td>\n",
       "      <td>2018-02-28</td>\n",
       "      <td>1</td>\n",
       "      <td>2.86</td>\n",
       "      <td>15</td>\n",
       "      <td>16.3</td>\n",
       "      <td>4</td>\n",
       "      <td>NaN</td>\n",
       "      <td>...</td>\n",
       "      <td>652.0</td>\n",
       "      <td>29</td>\n",
       "      <td>100566.572238</td>\n",
       "      <td>28</td>\n",
       "      <td>2</td>\n",
       "      <td>2018</td>\n",
       "      <td>another floor</td>\n",
       "      <td>0.461756</td>\n",
       "      <td>0.257790</td>\n",
       "      <td>16</td>\n",
       "    </tr>\n",
       "    <tr>\n",
       "      <th>23690</th>\n",
       "      <td>3</td>\n",
       "      <td>5.50</td>\n",
       "      <td>52.00</td>\n",
       "      <td>2018-07-19</td>\n",
       "      <td>2</td>\n",
       "      <td>2.65</td>\n",
       "      <td>5</td>\n",
       "      <td>31.0</td>\n",
       "      <td>2</td>\n",
       "      <td>NaN</td>\n",
       "      <td>...</td>\n",
       "      <td>NaN</td>\n",
       "      <td>15</td>\n",
       "      <td>105769.230769</td>\n",
       "      <td>19</td>\n",
       "      <td>7</td>\n",
       "      <td>2018</td>\n",
       "      <td>another floor</td>\n",
       "      <td>0.596154</td>\n",
       "      <td>0.115385</td>\n",
       "      <td>6</td>\n",
       "    </tr>\n",
       "    <tr>\n",
       "      <th>23691</th>\n",
       "      <td>11</td>\n",
       "      <td>9.47</td>\n",
       "      <td>72.90</td>\n",
       "      <td>2016-10-13</td>\n",
       "      <td>2</td>\n",
       "      <td>2.75</td>\n",
       "      <td>25</td>\n",
       "      <td>40.3</td>\n",
       "      <td>7</td>\n",
       "      <td>NaN</td>\n",
       "      <td>...</td>\n",
       "      <td>806.0</td>\n",
       "      <td>519</td>\n",
       "      <td>129903.978052</td>\n",
       "      <td>13</td>\n",
       "      <td>10</td>\n",
       "      <td>2016</td>\n",
       "      <td>another floor</td>\n",
       "      <td>0.552812</td>\n",
       "      <td>0.145405</td>\n",
       "      <td>4</td>\n",
       "    </tr>\n",
       "    <tr>\n",
       "      <th>23694</th>\n",
       "      <td>9</td>\n",
       "      <td>9.70</td>\n",
       "      <td>133.81</td>\n",
       "      <td>2017-03-21</td>\n",
       "      <td>3</td>\n",
       "      <td>3.70</td>\n",
       "      <td>5</td>\n",
       "      <td>73.3</td>\n",
       "      <td>3</td>\n",
       "      <td>NaN</td>\n",
       "      <td>...</td>\n",
       "      <td>381.0</td>\n",
       "      <td>0</td>\n",
       "      <td>72490.845228</td>\n",
       "      <td>21</td>\n",
       "      <td>3</td>\n",
       "      <td>2017</td>\n",
       "      <td>another floor</td>\n",
       "      <td>0.547792</td>\n",
       "      <td>0.103356</td>\n",
       "      <td>4</td>\n",
       "    </tr>\n",
       "    <tr>\n",
       "      <th>23697</th>\n",
       "      <td>13</td>\n",
       "      <td>11.48</td>\n",
       "      <td>76.75</td>\n",
       "      <td>2017-03-28</td>\n",
       "      <td>2</td>\n",
       "      <td>3.00</td>\n",
       "      <td>17</td>\n",
       "      <td>NaN</td>\n",
       "      <td>12</td>\n",
       "      <td>NaN</td>\n",
       "      <td>...</td>\n",
       "      <td>196.0</td>\n",
       "      <td>602</td>\n",
       "      <td>149511.400651</td>\n",
       "      <td>28</td>\n",
       "      <td>3</td>\n",
       "      <td>2017</td>\n",
       "      <td>another floor</td>\n",
       "      <td>NaN</td>\n",
       "      <td>0.303583</td>\n",
       "      <td>10</td>\n",
       "    </tr>\n",
       "  </tbody>\n",
       "</table>\n",
       "<p>15592 rows × 30 columns</p>\n",
       "</div>"
      ],
      "text/plain": [
       "       total_images  last_price  total_area first_day_exposition  rooms  \\\n",
       "0                20       13.00      108.00           2019-03-07      3   \n",
       "2                10        5.20       56.00           2015-08-20      2   \n",
       "3                 0       64.90      159.00           2015-07-24      3   \n",
       "4                 2       10.00      100.00           2018-06-19      2   \n",
       "7                 5        7.92       71.60           2019-04-18      2   \n",
       "...             ...         ...         ...                  ...    ...   \n",
       "23689            13        3.55       35.30           2018-02-28      1   \n",
       "23690             3        5.50       52.00           2018-07-19      2   \n",
       "23691            11        9.47       72.90           2016-10-13      2   \n",
       "23694             9        9.70      133.81           2017-03-21      3   \n",
       "23697            13       11.48       76.75           2017-03-28      2   \n",
       "\n",
       "       ceiling_height  floors_total  living_area  floor is_apartment  ...  \\\n",
       "0                2.70            16         51.0      8          NaN  ...   \n",
       "2                2.65             5         34.3      4          NaN  ...   \n",
       "3                2.65            14          NaN      9          NaN  ...   \n",
       "4                3.03            14         32.0     13          NaN  ...   \n",
       "7                2.65            24          NaN     22          NaN  ...   \n",
       "...               ...           ...          ...    ...          ...  ...   \n",
       "23689            2.86            15         16.3      4          NaN  ...   \n",
       "23690            2.65             5         31.0      2          NaN  ...   \n",
       "23691            2.75            25         40.3      7          NaN  ...   \n",
       "23694            3.70             5         73.3      3          NaN  ...   \n",
       "23697            3.00            17          NaN     12          NaN  ...   \n",
       "\n",
       "       ponds_nearest  days_exposition   price_meters  day_publication  \\\n",
       "0              755.0                0  120370.370370                7   \n",
       "2              574.0              558   92785.714286               20   \n",
       "3              234.0              424  408176.100629               24   \n",
       "4               48.0              121  100000.000000               19   \n",
       "7                NaN                0  110544.692737               18   \n",
       "...              ...              ...            ...              ...   \n",
       "23689          652.0               29  100566.572238               28   \n",
       "23690            NaN               15  105769.230769               19   \n",
       "23691          806.0              519  129903.978052               13   \n",
       "23694          381.0                0   72490.845228               21   \n",
       "23697          196.0              602  149511.400651               28   \n",
       "\n",
       "      month_publication  year_publication  floor_category  ratio_living_total  \\\n",
       "0                     3              2019   another floor            0.472222   \n",
       "2                     8              2015   another floor            0.612500   \n",
       "3                     7              2015   another floor                 NaN   \n",
       "4                     6              2018   another floor            0.320000   \n",
       "7                     4              2019   another floor                 NaN   \n",
       "...                 ...               ...             ...                 ...   \n",
       "23689                 2              2018   another floor            0.461756   \n",
       "23690                 7              2018   another floor            0.596154   \n",
       "23691                10              2016   another floor            0.552812   \n",
       "23694                 3              2017   another floor            0.547792   \n",
       "23697                 3              2017   another floor                 NaN   \n",
       "\n",
       "       ratio_kitchen_total  center_km  \n",
       "0                 0.231481         16  \n",
       "2                 0.148214         13  \n",
       "3                      NaN          6  \n",
       "4                 0.410000          8  \n",
       "7                 0.263966         11  \n",
       "...                    ...        ...  \n",
       "23689             0.257790         16  \n",
       "23690             0.115385          6  \n",
       "23691             0.145405          4  \n",
       "23694             0.103356          4  \n",
       "23697             0.303583         10  \n",
       "\n",
       "[15592 rows x 30 columns]"
      ]
     },
     "execution_count": 50,
     "metadata": {},
     "output_type": "execute_result"
    }
   ],
   "source": [
    "piter_data.center_km.fillna(piter_data.center_km.median(), inplace =True)\n",
    "piter_data.center_km = piter_data.center_km.astype(int)\n",
    "piter_data"
   ]
  },
  {
   "cell_type": "code",
   "execution_count": 51,
   "metadata": {},
   "outputs": [
    {
     "data": {
      "text/plain": [
       "<AxesSubplot:xlabel='center_km'>"
      ]
     },
     "execution_count": 51,
     "metadata": {},
     "output_type": "execute_result"
    },
    {
     "data": {
      "image/png": "[encoded data removed]",
      "text/plain": [
       "<Figure size 432x288 with 1 Axes>"
      ]
     },
     "metadata": {
      "needs_background": "light"
     },
     "output_type": "display_data"
    }
   ],
   "source": [
    "# Построим график зависимости стоимости от удаленности от центра.\n",
    "price_from_loc = piter_data.pivot_table(index = 'center_km', values = 'price_meters')\n",
    "price_from_loc.plot()\n"
   ]
  },
  {
   "cell_type": "markdown",
   "metadata": {},
   "source": [
    "We found out that a sharp change in the cost of apartments is in the region of 3 and 7 km. Let's leave 7 km, it is quite possible that 3 km is a certain area in which the cost falls for other reasons."
   ]
  },
  {
   "cell_type": "markdown",
   "metadata": {},
   "source": [
    "### Let's make a new dataframe for the central part of the cityand we will carry out for it the same studies that we did for the general dataframe:"
   ]
  },
  {
   "cell_type": "code",
   "execution_count": 52,
   "metadata": {},
   "outputs": [],
   "source": [
    "piter_centre = piter_data.query('center_km <= 7')"
   ]
  },
  {
   "cell_type": "markdown",
   "metadata": {},
   "source": [
    "**Correlation of cost dependence on the following factors:**"
   ]
  },
  {
   "cell_type": "code",
   "execution_count": 54,
   "metadata": {},
   "outputs": [
    {
     "data": {
      "text/html": [
       "<div>\n",
       "<style scoped>\n",
       "    .dataframe tbody tr th:only-of-type {\n",
       "        vertical-align: middle;\n",
       "    }\n",
       "\n",
       "    .dataframe tbody tr th {\n",
       "        vertical-align: top;\n",
       "    }\n",
       "\n",
       "    .dataframe thead th {\n",
       "        text-align: right;\n",
       "    }\n",
       "</style>\n",
       "<table border=\"1\" class=\"dataframe\">\n",
       "  <thead>\n",
       "    <tr style=\"text-align: right;\">\n",
       "      <th></th>\n",
       "      <th>price_meters</th>\n",
       "      <th>total_area</th>\n",
       "      <th>rooms</th>\n",
       "      <th>cityCenters_nearest</th>\n",
       "    </tr>\n",
       "  </thead>\n",
       "  <tbody>\n",
       "    <tr>\n",
       "      <th>price_meters</th>\n",
       "      <td>1.000000</td>\n",
       "      <td>0.252126</td>\n",
       "      <td>0.006358</td>\n",
       "      <td>-0.031502</td>\n",
       "    </tr>\n",
       "    <tr>\n",
       "      <th>total_area</th>\n",
       "      <td>0.252126</td>\n",
       "      <td>1.000000</td>\n",
       "      <td>0.741958</td>\n",
       "      <td>-0.106139</td>\n",
       "    </tr>\n",
       "    <tr>\n",
       "      <th>rooms</th>\n",
       "      <td>0.006358</td>\n",
       "      <td>0.741958</td>\n",
       "      <td>1.000000</td>\n",
       "      <td>-0.176644</td>\n",
       "    </tr>\n",
       "    <tr>\n",
       "      <th>cityCenters_nearest</th>\n",
       "      <td>-0.031502</td>\n",
       "      <td>-0.106139</td>\n",
       "      <td>-0.176644</td>\n",
       "      <td>1.000000</td>\n",
       "    </tr>\n",
       "  </tbody>\n",
       "</table>\n",
       "</div>"
      ],
      "text/plain": [
       "                     price_meters  total_area     rooms  cityCenters_nearest\n",
       "price_meters             1.000000    0.252126  0.006358            -0.031502\n",
       "total_area               0.252126    1.000000  0.741958            -0.106139\n",
       "rooms                    0.006358    0.741958  1.000000            -0.176644\n",
       "cityCenters_nearest     -0.031502   -0.106139 -0.176644             1.000000"
      ]
     },
     "execution_count": 54,
     "metadata": {},
     "output_type": "execute_result"
    }
   ],
   "source": [
    "piter_centre[['price_meters','total_area','rooms','cityCenters_nearest']].corr()"
   ]
  },
  {
   "cell_type": "markdown",
   "metadata": {},
   "source": [
    "The dependence of the cost on the area of the apartment has slightly decreased, but in general the data is the same as in the general dataset"
   ]
  },
  {
   "cell_type": "markdown",
   "metadata": {},
   "source": [
    "**Dependence of the cost of an apartment in the center on the floor:**"
   ]
  },
  {
   "cell_type": "code",
   "execution_count": 56,
   "metadata": {},
   "outputs": [
    {
     "data": {
      "text/plain": [
       "<AxesSubplot:xlabel='floor_category'>"
      ]
     },
     "execution_count": 56,
     "metadata": {},
     "output_type": "execute_result"
    },
    {
     "data": {
      "image/png": "[encoded data removed]",
      "text/plain": [
       "<Figure size 432x288 with 1 Axes>"
      ]
     },
     "metadata": {
      "needs_background": "light"
     },
     "output_type": "display_data"
    }
   ],
   "source": [
    "piter_floor_corr = piter_centre.pivot_table(\n",
    "    index = 'floor_category', values = 'price_meters', aggfunc = ['mean', 'count', 'median'])\n",
    "piter_floor_corr.columns = ['mean', 'count', 'median']\n",
    "piter_floor_corr.plot(y = 'median')"
   ]
  },
  {
   "cell_type": "markdown",
   "metadata": {},
   "source": [
    "Dependence of cost on a floor - without changes."
   ]
  },
  {
   "cell_type": "markdown",
   "metadata": {},
   "source": [
    "**The dependence of the cost of an apartment in the center on the time of publication:**"
   ]
  },
  {
   "cell_type": "code",
   "execution_count": 58,
   "metadata": {},
   "outputs": [
    {
     "data": {
      "text/plain": [
       "<AxesSubplot:xlabel='year_publication'>"
      ]
     },
     "execution_count": 58,
     "metadata": {},
     "output_type": "execute_result"
    },
    {
     "data": {
      "image/png": "[encoded data removed]",
      "text/plain": [
       "<Figure size 432x288 with 1 Axes>"
      ]
     },
     "metadata": {
      "needs_background": "light"
     },
     "output_type": "display_data"
    },
    {
     "data": {
      "image/png": "[encoded data removed]",
      "text/plain": [
       "<Figure size 432x288 with 1 Axes>"
      ]
     },
     "metadata": {
      "needs_background": "light"
     },
     "output_type": "display_data"
    },
    {
     "data": {
      "image/png": "[encoded data removed]",
      "text/plain": [
       "<Figure size 432x288 with 1 Axes>"
      ]
     },
     "metadata": {
      "needs_background": "light"
     },
     "output_type": "display_data"
    }
   ],
   "source": [
    "piter_center_day_corr = piter_centre.pivot_table(\n",
    "    index = 'day_publication', values = 'price_meters', aggfunc = ['mean', 'count', 'median'])\n",
    "piter_center_day_corr.columns = ['mean', 'count', 'median']\n",
    "\n",
    "month_corr = data.pivot_table(\n",
    "    index = 'month_publication', values = 'price_meters', aggfunc = ['mean', 'count', 'median'])\n",
    "month_corr.columns = ['mean', 'count', 'median']\n",
    "\n",
    "year_corr = data.pivot_table(\n",
    "    index = 'year_publication', values = 'price_meters', aggfunc = ['mean', 'count', 'median'])\n",
    "year_corr.columns = ['mean', 'count', 'median']\n",
    "\n",
    "day_corr.plot(y = 'median')\n",
    "month_corr.plot(y = 'median')\n",
    "year_corr.plot(y = 'median')"
   ]
  },
  {
   "cell_type": "markdown",
   "metadata": {},
   "source": [
    "Without changes."
   ]
  },
  {
   "cell_type": "markdown",
   "metadata": {},
   "source": [
    "# General conclusion:"
   ]
  },
  {
   "cell_type": "markdown",
   "metadata": {},
   "source": [
    "In this project, we first viewed and processed the original dataset:\n",
    " - removed missing values where necessary,\n",
    " - replaced data types with the ones necessary for convenient work.\n",
    " - calculated and added to the table the price per square meter of housing,\n",
    " - converted date to days, months and years\n",
    " - created a new category for the floors of apartments.\n",
    "\n",
    "Studied outliers (anomalies), in the table, processed them.\n",
    "We concluded that the cost per square meter is mainly affected by the number of storeys, the number of rooms, and the distance from the center. Placement time has little effect.\n",
    "\n",
    "Separately, the center of St. Petersburg was singled out in order to compare the values for it with the general table. It was found that there are practically no differences."
   ]
  },
  {
   "cell_type": "markdown",
   "metadata": {},
   "source": [
    "*For the study, data from \"Yandex Practicum\" were used."
   ]
  },
  {
   "cell_type": "code",
   "execution_count": null,
   "metadata": {},
   "outputs": [],
   "source": []
  }
 ],
 "metadata": {
  "ExecuteTimeLog": [
   {
    "duration": 935,
    "start_time": "2022-01-14T10:00:21.639Z"
   },
   {
    "duration": 86,
    "start_time": "2022-01-14T10:00:29.527Z"
   },
   {
    "duration": 125,
    "start_time": "2022-01-14T10:00:38.574Z"
   },
   {
    "duration": 105,
    "start_time": "2022-01-14T10:00:46.054Z"
   },
   {
    "duration": 80,
    "start_time": "2022-01-14T10:00:53.808Z"
   },
   {
    "duration": 110,
    "start_time": "2022-01-14T10:01:01.534Z"
   },
   {
    "duration": 106,
    "start_time": "2022-01-14T10:01:04.854Z"
   },
   {
    "duration": 120,
    "start_time": "2022-01-14T10:01:10.992Z"
   },
   {
    "duration": 128,
    "start_time": "2022-01-14T10:01:13.992Z"
   },
   {
    "duration": 168,
    "start_time": "2022-01-14T10:01:16.238Z"
   },
   {
    "duration": 83,
    "start_time": "2022-01-14T10:01:20.111Z"
   },
   {
    "duration": 117,
    "start_time": "2022-01-14T10:02:10.206Z"
   },
   {
    "duration": 142,
    "start_time": "2022-01-14T10:02:15.743Z"
   },
   {
    "duration": 144,
    "start_time": "2022-01-14T10:02:19.311Z"
   },
   {
    "duration": 125,
    "start_time": "2022-01-14T10:02:25.381Z"
   },
   {
    "duration": 110,
    "start_time": "2022-01-14T10:03:41.735Z"
   },
   {
    "duration": 122,
    "start_time": "2022-01-14T10:03:46.997Z"
   },
   {
    "duration": 114,
    "start_time": "2022-01-14T10:03:58.868Z"
   },
   {
    "duration": 81,
    "start_time": "2022-01-14T10:04:31.656Z"
   },
   {
    "duration": 118,
    "start_time": "2022-01-14T10:05:25.669Z"
   },
   {
    "duration": 118,
    "start_time": "2022-01-14T10:05:56.445Z"
   },
   {
    "duration": 224,
    "start_time": "2022-01-14T10:06:09.109Z"
   },
   {
    "duration": 156,
    "start_time": "2022-01-14T10:06:17.484Z"
   },
   {
    "duration": 623,
    "start_time": "2022-01-14T10:06:22.052Z"
   },
   {
    "duration": 187,
    "start_time": "2022-01-14T10:06:25.965Z"
   },
   {
    "duration": 203,
    "start_time": "2022-01-14T10:06:34.596Z"
   },
   {
    "duration": 168,
    "start_time": "2022-01-14T10:06:56.772Z"
   },
   {
    "duration": 434,
    "start_time": "2022-01-14T10:23:22.647Z"
   },
   {
    "duration": 367,
    "start_time": "2022-01-14T10:23:26.021Z"
   },
   {
    "duration": 387,
    "start_time": "2022-01-14T10:23:28.704Z"
   },
   {
    "duration": 347,
    "start_time": "2022-01-14T10:23:38.157Z"
   },
   {
    "duration": 341,
    "start_time": "2022-01-14T10:23:40.157Z"
   },
   {
    "duration": 345,
    "start_time": "2022-01-14T10:23:50.868Z"
   },
   {
    "duration": 8911,
    "start_time": "2022-01-14T10:24:02.583Z"
   },
   {
    "duration": 12,
    "start_time": "2022-01-14T10:24:17.342Z"
   },
   {
    "duration": 11,
    "start_time": "2022-01-14T10:24:40.973Z"
   },
   {
    "duration": 13,
    "start_time": "2022-01-14T10:24:51.659Z"
   },
   {
    "duration": 10,
    "start_time": "2022-01-14T10:25:03.332Z"
   },
   {
    "duration": 18,
    "start_time": "2022-01-14T10:25:13.308Z"
   },
   {
    "duration": 18,
    "start_time": "2022-01-14T10:25:26.908Z"
   },
   {
    "duration": 41,
    "start_time": "2022-01-14T10:34:49.622Z"
   },
   {
    "duration": 8,
    "start_time": "2022-01-14T10:39:05.328Z"
   },
   {
    "duration": 12,
    "start_time": "2022-01-14T10:43:43.982Z"
   },
   {
    "duration": 9,
    "start_time": "2022-01-14T10:43:53.926Z"
   },
   {
    "duration": 384,
    "start_time": "2022-01-14T10:44:03.566Z"
   },
   {
    "duration": 10,
    "start_time": "2022-01-14T10:44:06.788Z"
   },
   {
    "duration": 12,
    "start_time": "2022-01-14T10:44:47.141Z"
   },
   {
    "duration": 8194,
    "start_time": "2022-01-14T10:45:47.918Z"
   },
   {
    "duration": 11,
    "start_time": "2022-01-14T10:46:13.405Z"
   },
   {
    "duration": 467,
    "start_time": "2022-01-14T10:52:03.899Z"
   },
   {
    "duration": 321,
    "start_time": "2022-01-14T10:52:13.682Z"
   },
   {
    "duration": 9,
    "start_time": "2022-01-14T11:51:17.336Z"
   },
   {
    "duration": 10,
    "start_time": "2022-01-14T11:51:37.785Z"
   },
   {
    "duration": 362,
    "start_time": "2022-01-14T11:52:21.010Z"
   },
   {
    "duration": 426,
    "start_time": "2022-01-14T11:52:41.625Z"
   },
   {
    "duration": 12,
    "start_time": "2022-01-14T11:52:49.482Z"
   },
   {
    "duration": 387,
    "start_time": "2022-01-14T11:53:36.449Z"
   },
   {
    "duration": 11,
    "start_time": "2022-01-14T12:01:07.855Z"
   },
   {
    "duration": 480,
    "start_time": "2022-01-14T12:01:17.677Z"
   },
   {
    "duration": 8,
    "start_time": "2022-01-14T12:01:21.376Z"
   },
   {
    "duration": 7,
    "start_time": "2022-01-14T12:01:35.278Z"
   },
   {
    "duration": 62,
    "start_time": "2022-01-14T12:01:49.253Z"
   },
   {
    "duration": 46,
    "start_time": "2022-01-14T12:02:06.477Z"
   },
   {
    "duration": 14,
    "start_time": "2022-01-14T12:02:14.511Z"
   },
   {
    "duration": 13,
    "start_time": "2022-01-14T12:02:21.780Z"
   },
   {
    "duration": 12,
    "start_time": "2022-01-14T12:02:29.936Z"
   },
   {
    "duration": 13,
    "start_time": "2022-01-14T12:02:33.836Z"
   },
   {
    "duration": 17,
    "start_time": "2022-01-14T12:03:24.117Z"
   },
   {
    "duration": 317,
    "start_time": "2022-01-14T12:17:13.546Z"
   },
   {
    "duration": 411,
    "start_time": "2022-01-14T12:17:18.903Z"
   },
   {
    "duration": 12,
    "start_time": "2022-01-14T12:17:24.862Z"
   },
   {
    "duration": 8,
    "start_time": "2022-01-14T12:17:43.022Z"
   },
   {
    "duration": 463,
    "start_time": "2022-01-14T12:17:47.118Z"
   },
   {
    "duration": 8,
    "start_time": "2022-01-14T12:17:49.208Z"
   },
   {
    "duration": 7,
    "start_time": "2022-01-14T12:17:51.838Z"
   },
   {
    "duration": 8,
    "start_time": "2022-01-14T12:18:56.285Z"
   },
   {
    "duration": 9,
    "start_time": "2022-01-14T12:19:03.614Z"
   },
   {
    "duration": 8,
    "start_time": "2022-01-14T12:19:11.589Z"
   },
   {
    "duration": 8,
    "start_time": "2022-01-14T12:19:18.677Z"
   },
   {
    "duration": 1050,
    "start_time": "2022-01-14T12:20:10.485Z"
   },
   {
    "duration": 1648,
    "start_time": "2022-01-14T12:20:15.781Z"
   },
   {
    "duration": 10,
    "start_time": "2022-01-14T12:20:22.989Z"
   },
   {
    "duration": 10,
    "start_time": "2022-01-14T12:20:28.477Z"
   },
   {
    "duration": 12,
    "start_time": "2022-01-14T12:20:40.133Z"
   },
   {
    "duration": 121,
    "start_time": "2022-01-14T12:21:37.709Z"
   },
   {
    "duration": 112,
    "start_time": "2022-01-14T12:21:41.822Z"
   },
   {
    "duration": 118,
    "start_time": "2022-01-14T12:21:47.548Z"
   },
   {
    "duration": 14,
    "start_time": "2022-01-14T12:21:54.484Z"
   },
   {
    "duration": 14,
    "start_time": "2022-01-14T12:22:49.797Z"
   },
   {
    "duration": 336,
    "start_time": "2022-01-14T12:27:26.331Z"
   },
   {
    "duration": 7,
    "start_time": "2022-01-14T12:27:41.499Z"
   },
   {
    "duration": 11,
    "start_time": "2022-01-14T12:27:55.875Z"
   },
   {
    "duration": 10,
    "start_time": "2022-01-14T12:28:10.787Z"
   },
   {
    "duration": 12,
    "start_time": "2022-01-14T12:28:28.913Z"
   },
   {
    "duration": 10,
    "start_time": "2022-01-14T12:28:55.442Z"
   },
   {
    "duration": 10,
    "start_time": "2022-01-14T12:29:02.404Z"
   },
   {
    "duration": 10,
    "start_time": "2022-01-14T12:41:04.792Z"
   },
   {
    "duration": 11,
    "start_time": "2022-01-14T12:41:17.846Z"
   },
   {
    "duration": 10,
    "start_time": "2022-01-14T12:41:22.262Z"
   },
   {
    "duration": 11,
    "start_time": "2022-01-14T12:43:52.052Z"
   },
   {
    "duration": 16,
    "start_time": "2022-01-14T12:46:09.756Z"
   },
   {
    "duration": 17,
    "start_time": "2022-01-14T12:47:28.740Z"
   },
   {
    "duration": 18,
    "start_time": "2022-01-14T12:47:36.951Z"
   },
   {
    "duration": 23,
    "start_time": "2022-01-14T12:47:59.013Z"
   },
   {
    "duration": 387,
    "start_time": "2022-01-14T12:49:31.540Z"
   },
   {
    "duration": 355,
    "start_time": "2022-01-14T12:50:01.196Z"
   },
   {
    "duration": 367,
    "start_time": "2022-01-14T12:50:04.571Z"
   },
   {
    "duration": 19,
    "start_time": "2022-01-14T12:50:08.155Z"
   },
   {
    "duration": 370,
    "start_time": "2022-01-14T12:50:21.155Z"
   },
   {
    "duration": 21,
    "start_time": "2022-01-14T12:50:25.587Z"
   },
   {
    "duration": 20,
    "start_time": "2022-01-14T12:50:35.163Z"
   },
   {
    "duration": 19,
    "start_time": "2022-01-14T12:51:13.476Z"
   },
   {
    "duration": 27,
    "start_time": "2022-01-14T13:01:19.046Z"
   },
   {
    "duration": 33,
    "start_time": "2022-01-14T13:01:23.188Z"
   },
   {
    "duration": 392,
    "start_time": "2022-01-14T13:01:30.252Z"
   },
   {
    "duration": 38,
    "start_time": "2022-01-14T13:02:13.677Z"
   },
   {
    "duration": 32,
    "start_time": "2022-01-14T13:02:16.555Z"
   },
   {
    "duration": 24,
    "start_time": "2022-01-14T13:02:33.084Z"
   },
   {
    "duration": 29,
    "start_time": "2022-01-14T13:02:40.322Z"
   },
   {
    "duration": 31,
    "start_time": "2022-01-14T13:03:15.963Z"
   },
   {
    "duration": 30,
    "start_time": "2022-01-14T13:03:27.708Z"
   },
   {
    "duration": 561,
    "start_time": "2022-01-14T13:04:12.492Z"
   },
   {
    "duration": 386,
    "start_time": "2022-01-14T13:04:17.180Z"
   },
   {
    "duration": 364,
    "start_time": "2022-01-14T13:04:20.827Z"
   },
   {
    "duration": 42,
    "start_time": "2022-01-14T13:04:27.316Z"
   },
   {
    "duration": 361,
    "start_time": "2022-01-14T13:04:48.724Z"
   },
   {
    "duration": 112,
    "start_time": "2022-01-14T13:04:58.338Z"
   },
   {
    "duration": 387,
    "start_time": "2022-01-14T13:05:02.212Z"
   },
   {
    "duration": 364,
    "start_time": "2022-01-14T13:05:13.354Z"
   },
   {
    "duration": 434,
    "start_time": "2022-01-14T13:05:18.018Z"
   },
   {
    "duration": 31,
    "start_time": "2022-01-14T13:05:45.635Z"
   },
   {
    "duration": 370,
    "start_time": "2022-01-14T13:05:51.842Z"
   },
   {
    "duration": 29,
    "start_time": "2022-01-14T13:05:58.907Z"
   },
   {
    "duration": 44,
    "start_time": "2022-01-14T13:06:56.723Z"
   },
   {
    "duration": 46,
    "start_time": "2022-01-14T13:08:35.851Z"
   },
   {
    "duration": 57,
    "start_time": "2022-01-14T13:08:52.002Z"
   },
   {
    "duration": 42,
    "start_time": "2022-01-14T13:08:58.731Z"
   },
   {
    "duration": 389,
    "start_time": "2022-01-14T13:09:15.618Z"
   },
   {
    "duration": 124,
    "start_time": "2022-01-14T13:09:53.050Z"
   },
   {
    "duration": 516,
    "start_time": "2022-01-14T13:09:55.467Z"
   },
   {
    "duration": -747,
    "start_time": "2022-01-14T13:10:19.570Z"
   },
   {
    "duration": 86,
    "start_time": "2022-01-14T13:10:20.592Z"
   },
   {
    "duration": 40,
    "start_time": "2022-01-14T13:10:39.107Z"
   },
   {
    "duration": 874,
    "start_time": "2022-01-14T13:11:07.554Z"
   },
   {
    "duration": 72,
    "start_time": "2022-01-14T13:12:15.626Z"
   },
   {
    "duration": 64,
    "start_time": "2022-01-14T13:12:25.512Z"
   },
   {
    "duration": 42,
    "start_time": "2022-01-14T13:12:33.561Z"
   },
   {
    "duration": 39,
    "start_time": "2022-01-14T13:12:36.745Z"
   },
   {
    "duration": 39,
    "start_time": "2022-01-14T13:12:45.082Z"
   },
   {
    "duration": 40,
    "start_time": "2022-01-14T13:12:49.035Z"
   },
   {
    "duration": 38,
    "start_time": "2022-01-14T13:24:20.398Z"
   },
   {
    "duration": 2844,
    "start_time": "2022-01-14T13:25:17.147Z"
   },
   {
    "duration": 156,
    "start_time": "2022-01-14T13:25:34.012Z"
   },
   {
    "duration": 45,
    "start_time": "2022-01-14T13:25:36.914Z"
   },
   {
    "duration": 43,
    "start_time": "2022-01-14T13:29:56.193Z"
   },
   {
    "duration": 49,
    "start_time": "2022-01-14T13:30:15.329Z"
   },
   {
    "duration": 47,
    "start_time": "2022-01-14T13:31:43.440Z"
   },
   {
    "duration": 43,
    "start_time": "2022-01-14T13:31:55.448Z"
   },
   {
    "duration": 46,
    "start_time": "2022-01-14T13:34:20.269Z"
   },
   {
    "duration": 45,
    "start_time": "2022-01-14T13:34:24.240Z"
   },
   {
    "duration": 46,
    "start_time": "2022-01-14T13:34:27.359Z"
   },
   {
    "duration": 52,
    "start_time": "2022-01-14T13:35:01.519Z"
   },
   {
    "duration": 52,
    "start_time": "2022-01-14T13:35:48.743Z"
   },
   {
    "duration": 487,
    "start_time": "2022-01-14T13:36:15.215Z"
   },
   {
    "duration": 111,
    "start_time": "2022-01-14T13:36:20.688Z"
   },
   {
    "duration": 115,
    "start_time": "2022-01-14T13:36:36.008Z"
   },
   {
    "duration": 108,
    "start_time": "2022-01-14T13:36:47.794Z"
   },
   {
    "duration": 54,
    "start_time": "2022-01-14T13:39:06.566Z"
   },
   {
    "duration": 71,
    "start_time": "2022-01-14T13:39:24.910Z"
   },
   {
    "duration": 57,
    "start_time": "2022-01-14T13:39:36.175Z"
   },
   {
    "duration": 62,
    "start_time": "2022-01-14T13:39:50.432Z"
   },
   {
    "duration": 67,
    "start_time": "2022-01-14T13:42:35.357Z"
   },
   {
    "duration": 75,
    "start_time": "2022-01-14T13:43:02.060Z"
   },
   {
    "duration": 72,
    "start_time": "2022-01-14T13:43:37.076Z"
   },
   {
    "duration": 82,
    "start_time": "2022-01-14T13:43:45.006Z"
   },
   {
    "duration": 77,
    "start_time": "2022-01-14T13:44:43.233Z"
   },
   {
    "duration": 438,
    "start_time": "2022-01-14T13:45:40.204Z"
   },
   {
    "duration": 72,
    "start_time": "2022-01-14T13:45:44.044Z"
   },
   {
    "duration": 77,
    "start_time": "2022-01-14T13:45:48.683Z"
   },
   {
    "duration": 131,
    "start_time": "2022-01-14T13:45:59.501Z"
   },
   {
    "duration": 76,
    "start_time": "2022-01-14T13:46:02.652Z"
   },
   {
    "duration": 126,
    "start_time": "2022-01-14T13:46:06.727Z"
   },
   {
    "duration": 54,
    "start_time": "2022-01-14T13:46:06.856Z"
   },
   {
    "duration": 12,
    "start_time": "2022-01-14T13:46:06.913Z"
   },
   {
    "duration": 118,
    "start_time": "2022-01-14T13:46:06.927Z"
   },
   {
    "duration": 7,
    "start_time": "2022-01-14T13:46:07.048Z"
   },
   {
    "duration": 443,
    "start_time": "2022-01-14T13:47:28.731Z"
   },
   {
    "duration": 85,
    "start_time": "2022-01-14T13:47:43.533Z"
   },
   {
    "duration": 112,
    "start_time": "2022-01-14T13:47:49.451Z"
   },
   {
    "duration": 126,
    "start_time": "2022-01-14T13:47:53.342Z"
   },
   {
    "duration": 51,
    "start_time": "2022-01-14T13:47:53.471Z"
   },
   {
    "duration": 14,
    "start_time": "2022-01-14T13:47:53.525Z"
   },
   {
    "duration": 118,
    "start_time": "2022-01-14T13:47:53.542Z"
   },
   {
    "duration": 6,
    "start_time": "2022-01-14T13:47:53.662Z"
   },
   {
    "duration": 83,
    "start_time": "2022-01-14T13:47:56.987Z"
   },
   {
    "duration": 117,
    "start_time": "2022-01-14T13:48:38.229Z"
   },
   {
    "duration": 122,
    "start_time": "2022-01-14T13:48:43.235Z"
   },
   {
    "duration": 899,
    "start_time": "2022-01-14T13:48:47.899Z"
   },
   {
    "duration": 91,
    "start_time": "2022-01-14T13:49:17.060Z"
   },
   {
    "duration": 84,
    "start_time": "2022-01-14T13:49:23.667Z"
   },
   {
    "duration": 74,
    "start_time": "2022-01-14T13:49:55.107Z"
   },
   {
    "duration": 84,
    "start_time": "2022-01-14T13:50:22.483Z"
   },
   {
    "duration": 410,
    "start_time": "2022-01-14T13:50:31.460Z"
   },
   {
    "duration": 95,
    "start_time": "2022-01-14T13:50:35.126Z"
   },
   {
    "duration": 126,
    "start_time": "2022-01-14T13:53:10.147Z"
   },
   {
    "duration": 83,
    "start_time": "2022-01-14T13:53:22.219Z"
   },
   {
    "duration": 86,
    "start_time": "2022-01-14T13:53:36.890Z"
   },
   {
    "duration": 94,
    "start_time": "2022-01-14T13:54:31.555Z"
   },
   {
    "duration": 88,
    "start_time": "2022-01-14T13:54:37.938Z"
   },
   {
    "duration": 91,
    "start_time": "2022-01-14T13:54:40.729Z"
   },
   {
    "duration": 432,
    "start_time": "2022-01-14T13:54:47.673Z"
   },
   {
    "duration": 93,
    "start_time": "2022-01-14T13:54:52.628Z"
   },
   {
    "duration": 94,
    "start_time": "2022-01-14T13:55:01.356Z"
   },
   {
    "duration": 396,
    "start_time": "2022-01-14T13:55:07.892Z"
   },
   {
    "duration": 467,
    "start_time": "2022-01-14T13:55:29.354Z"
   },
   {
    "duration": 416,
    "start_time": "2022-01-14T13:55:38.072Z"
   },
   {
    "duration": 98,
    "start_time": "2022-01-14T13:56:08.232Z"
   },
   {
    "duration": 94,
    "start_time": "2022-01-14T13:56:14.393Z"
   },
   {
    "duration": 131,
    "start_time": "2022-01-14T13:57:07.498Z"
   },
   {
    "duration": 6,
    "start_time": "2022-01-14T14:02:16.233Z"
   },
   {
    "duration": 24,
    "start_time": "2022-01-14T14:02:22.385Z"
   },
   {
    "duration": 39,
    "start_time": "2022-01-14T14:02:29.808Z"
   },
   {
    "duration": 330,
    "start_time": "2022-01-14T14:02:53.593Z"
   },
   {
    "duration": 14,
    "start_time": "2022-01-14T14:02:57.002Z"
   },
   {
    "duration": 14,
    "start_time": "2022-01-14T14:03:16.465Z"
   },
   {
    "duration": 15,
    "start_time": "2022-01-14T14:03:42.457Z"
   },
   {
    "duration": 10,
    "start_time": "2022-01-14T14:03:48.479Z"
   },
   {
    "duration": 39,
    "start_time": "2022-01-14T14:04:05.017Z"
   },
   {
    "duration": 40,
    "start_time": "2022-01-14T14:04:22.368Z"
   },
   {
    "duration": 7,
    "start_time": "2022-01-14T14:06:12.704Z"
   },
   {
    "duration": 70,
    "start_time": "2022-01-14T14:06:15.359Z"
   },
   {
    "duration": 69,
    "start_time": "2022-01-14T14:06:32.760Z"
   },
   {
    "duration": 67,
    "start_time": "2022-01-14T14:06:38.032Z"
   },
   {
    "duration": 130,
    "start_time": "2022-01-14T14:06:45.593Z"
   },
   {
    "duration": 39,
    "start_time": "2022-01-14T14:06:45.725Z"
   },
   {
    "duration": 35,
    "start_time": "2022-01-14T14:06:45.767Z"
   },
   {
    "duration": 106,
    "start_time": "2022-01-14T14:06:45.804Z"
   },
   {
    "duration": 68,
    "start_time": "2022-01-14T14:06:45.912Z"
   },
   {
    "duration": 494,
    "start_time": "2022-01-14T14:07:15.489Z"
   },
   {
    "duration": 67,
    "start_time": "2022-01-14T14:07:44.304Z"
   },
   {
    "duration": 76,
    "start_time": "2022-01-14T14:08:17.354Z"
   },
   {
    "duration": 140,
    "start_time": "2022-01-14T14:16:19.053Z"
   },
   {
    "duration": 4845,
    "start_time": "2022-01-14T14:27:07.933Z"
   },
   {
    "duration": 11745,
    "start_time": "2022-01-14T14:27:33.162Z"
   },
   {
    "duration": 121,
    "start_time": "2022-01-14T14:28:25.178Z"
   },
   {
    "duration": 10051,
    "start_time": "2022-01-14T14:28:28.530Z"
   },
   {
    "duration": 10334,
    "start_time": "2022-01-14T14:29:01.242Z"
   },
   {
    "duration": 832,
    "start_time": "2022-01-14T14:30:58.225Z"
   },
   {
    "duration": 815,
    "start_time": "2022-01-14T14:31:27.537Z"
   },
   {
    "duration": 80,
    "start_time": "2022-01-14T14:32:17.477Z"
   },
   {
    "duration": 818,
    "start_time": "2022-01-14T14:34:22.336Z"
   },
   {
    "duration": 893,
    "start_time": "2022-01-14T14:35:06.862Z"
   },
   {
    "duration": 132,
    "start_time": "2022-01-15T08:47:54.593Z"
   },
   {
    "duration": 37,
    "start_time": "2022-01-15T08:47:54.728Z"
   },
   {
    "duration": 34,
    "start_time": "2022-01-15T08:47:54.768Z"
   },
   {
    "duration": 138,
    "start_time": "2022-01-15T08:47:54.805Z"
   },
   {
    "duration": 867,
    "start_time": "2022-01-15T08:47:54.946Z"
   },
   {
    "duration": 412,
    "start_time": "2022-01-15T08:50:18.609Z"
   },
   {
    "duration": 528,
    "start_time": "2022-01-15T08:50:29.791Z"
   },
   {
    "duration": 113,
    "start_time": "2022-01-15T08:50:54.225Z"
   },
   {
    "duration": 14,
    "start_time": "2022-01-15T08:51:01.536Z"
   },
   {
    "duration": 615,
    "start_time": "2022-01-15T09:00:23.022Z"
   },
   {
    "duration": 550,
    "start_time": "2022-01-15T09:01:09.761Z"
   },
   {
    "duration": 562,
    "start_time": "2022-01-15T09:01:16.043Z"
   },
   {
    "duration": 783,
    "start_time": "2022-01-15T09:01:32.125Z"
   },
   {
    "duration": 520,
    "start_time": "2022-01-15T09:03:38.659Z"
   },
   {
    "duration": 702,
    "start_time": "2022-01-15T09:03:43.875Z"
   },
   {
    "duration": 303,
    "start_time": "2022-01-15T09:04:45.252Z"
   },
   {
    "duration": 331,
    "start_time": "2022-01-15T09:05:31.124Z"
   },
   {
    "duration": 314,
    "start_time": "2022-01-15T09:05:45.347Z"
   },
   {
    "duration": 302,
    "start_time": "2022-01-15T09:05:53.611Z"
   },
   {
    "duration": 324,
    "start_time": "2022-01-15T09:06:22.394Z"
   },
   {
    "duration": 337,
    "start_time": "2022-01-15T09:06:28.203Z"
   },
   {
    "duration": 1034,
    "start_time": "2022-01-15T09:09:26.982Z"
   },
   {
    "duration": 41,
    "start_time": "2022-01-15T09:09:28.019Z"
   },
   {
    "duration": 42,
    "start_time": "2022-01-15T09:09:28.064Z"
   },
   {
    "duration": 109,
    "start_time": "2022-01-15T09:09:28.109Z"
   },
   {
    "duration": 851,
    "start_time": "2022-01-15T09:09:28.220Z"
   },
   {
    "duration": 729,
    "start_time": "2022-01-15T09:09:29.074Z"
   },
   {
    "duration": 348,
    "start_time": "2022-01-15T09:09:29.805Z"
   },
   {
    "duration": 332,
    "start_time": "2022-01-15T09:09:30.156Z"
   },
   {
    "duration": 596,
    "start_time": "2022-01-15T09:09:48.194Z"
   },
   {
    "duration": 325,
    "start_time": "2022-01-15T09:09:54.115Z"
   },
   {
    "duration": 331,
    "start_time": "2022-01-15T09:09:57.483Z"
   },
   {
    "duration": 496,
    "start_time": "2022-01-15T09:10:24.570Z"
   },
   {
    "duration": 346,
    "start_time": "2022-01-15T09:12:18.936Z"
   },
   {
    "duration": 621,
    "start_time": "2022-01-15T09:12:33.386Z"
   },
   {
    "duration": 560,
    "start_time": "2022-01-15T09:12:47.353Z"
   },
   {
    "duration": 512,
    "start_time": "2022-01-15T09:14:07.346Z"
   },
   {
    "duration": 319,
    "start_time": "2022-01-15T09:14:12.456Z"
   },
   {
    "duration": 348,
    "start_time": "2022-01-15T09:16:42.679Z"
   },
   {
    "duration": 345,
    "start_time": "2022-01-15T09:16:51.073Z"
   },
   {
    "duration": 383,
    "start_time": "2022-01-15T09:20:22.952Z"
   },
   {
    "duration": 353,
    "start_time": "2022-01-15T09:21:35.038Z"
   },
   {
    "duration": 429,
    "start_time": "2022-01-15T09:24:57.210Z"
   },
   {
    "duration": 730,
    "start_time": "2022-01-15T09:27:26.045Z"
   },
   {
    "duration": 572,
    "start_time": "2022-01-15T09:27:54.773Z"
   },
   {
    "duration": 969,
    "start_time": "2022-01-17T12:34:52.072Z"
   },
   {
    "duration": 52,
    "start_time": "2022-01-17T12:34:53.045Z"
   },
   {
    "duration": 34,
    "start_time": "2022-01-17T12:34:53.101Z"
   },
   {
    "duration": 141,
    "start_time": "2022-01-17T12:34:53.139Z"
   },
   {
    "duration": 918,
    "start_time": "2022-01-17T12:34:53.284Z"
   },
   {
    "duration": 722,
    "start_time": "2022-01-17T12:34:54.204Z"
   },
   {
    "duration": 332,
    "start_time": "2022-01-17T12:34:54.929Z"
   },
   {
    "duration": 371,
    "start_time": "2022-01-17T12:34:55.264Z"
   },
   {
    "duration": 341,
    "start_time": "2022-01-17T12:34:55.638Z"
   },
   {
    "duration": 585,
    "start_time": "2022-01-17T12:34:55.983Z"
   },
   {
    "duration": 564,
    "start_time": "2022-01-17T12:35:19.897Z"
   },
   {
    "duration": 566,
    "start_time": "2022-01-17T12:35:41.752Z"
   },
   {
    "duration": 650,
    "start_time": "2022-01-17T12:36:26.201Z"
   },
   {
    "duration": 558,
    "start_time": "2022-01-17T12:36:38.759Z"
   },
   {
    "duration": 527,
    "start_time": "2022-01-17T12:37:34.407Z"
   },
   {
    "duration": 17,
    "start_time": "2022-01-17T12:38:44.735Z"
   },
   {
    "duration": 540,
    "start_time": "2022-01-17T12:38:55.039Z"
   },
   {
    "duration": 936,
    "start_time": "2022-01-17T12:42:15.352Z"
   },
   {
    "duration": 1122,
    "start_time": "2022-01-17T12:42:23.764Z"
   },
   {
    "duration": 959,
    "start_time": "2022-01-17T12:42:35.430Z"
   },
   {
    "duration": 16,
    "start_time": "2022-01-17T12:43:10.060Z"
   },
   {
    "duration": 17,
    "start_time": "2022-01-17T12:43:15.773Z"
   },
   {
    "duration": 20,
    "start_time": "2022-01-17T12:43:18.189Z"
   },
   {
    "duration": 467,
    "start_time": "2022-01-17T12:49:17.956Z"
   },
   {
    "duration": 7,
    "start_time": "2022-01-17T12:49:22.715Z"
   },
   {
    "duration": 9,
    "start_time": "2022-01-17T12:50:43.884Z"
   },
   {
    "duration": 125,
    "start_time": "2022-01-17T12:51:30.266Z"
   },
   {
    "duration": 10,
    "start_time": "2022-01-17T12:51:37.634Z"
   },
   {
    "duration": 7,
    "start_time": "2022-01-17T12:52:00.559Z"
   },
   {
    "duration": 2336,
    "start_time": "2022-01-17T12:52:45.178Z"
   },
   {
    "duration": 131,
    "start_time": "2022-01-17T12:53:22.819Z"
   },
   {
    "duration": 109,
    "start_time": "2022-01-17T12:53:46.905Z"
   },
   {
    "duration": 604,
    "start_time": "2022-01-17T12:54:28.882Z"
   },
   {
    "duration": 111,
    "start_time": "2022-01-17T12:54:41.042Z"
   },
   {
    "duration": 118,
    "start_time": "2022-01-17T12:54:48.888Z"
   },
   {
    "duration": 9,
    "start_time": "2022-01-17T12:55:01.473Z"
   },
   {
    "duration": 108,
    "start_time": "2022-01-17T13:02:14.422Z"
   },
   {
    "duration": 7,
    "start_time": "2022-01-17T13:02:17.543Z"
   },
   {
    "duration": 8,
    "start_time": "2022-01-17T13:02:49.102Z"
   },
   {
    "duration": 105,
    "start_time": "2022-01-17T13:04:12.373Z"
   },
   {
    "duration": 169,
    "start_time": "2022-01-17T13:04:21.172Z"
   },
   {
    "duration": 151,
    "start_time": "2022-01-17T13:04:28.997Z"
   },
   {
    "duration": 133,
    "start_time": "2022-01-17T13:04:39.382Z"
   },
   {
    "duration": 118,
    "start_time": "2022-01-17T13:05:01.950Z"
   },
   {
    "duration": 144,
    "start_time": "2022-01-17T13:15:31.798Z"
   },
   {
    "duration": 8775,
    "start_time": "2022-01-17T13:15:54.839Z"
   },
   {
    "duration": 17,
    "start_time": "2022-01-17T13:16:19.708Z"
   },
   {
    "duration": 110,
    "start_time": "2022-01-17T13:16:54.316Z"
   },
   {
    "duration": 18,
    "start_time": "2022-01-17T13:16:59.937Z"
   },
   {
    "duration": 18,
    "start_time": "2022-01-17T13:17:52.682Z"
   },
   {
    "duration": 393,
    "start_time": "2022-01-17T13:18:20.403Z"
   },
   {
    "duration": 17,
    "start_time": "2022-01-17T13:18:32.869Z"
   },
   {
    "duration": 376,
    "start_time": "2022-01-17T13:19:03.409Z"
   },
   {
    "duration": 670,
    "start_time": "2022-01-17T13:19:15.314Z"
   },
   {
    "duration": 339,
    "start_time": "2022-01-17T13:19:24.617Z"
   },
   {
    "duration": 71,
    "start_time": "2022-01-17T13:19:50.937Z"
   },
   {
    "duration": 349,
    "start_time": "2022-01-17T13:20:10.396Z"
   },
   {
    "duration": 20,
    "start_time": "2022-01-17T13:20:33.242Z"
   },
   {
    "duration": 14,
    "start_time": "2022-01-17T13:20:44.879Z"
   },
   {
    "duration": 15,
    "start_time": "2022-01-17T13:21:03.304Z"
   },
   {
    "duration": 320,
    "start_time": "2022-01-21T11:44:47.533Z"
   },
   {
    "duration": 668,
    "start_time": "2022-01-21T11:44:51.810Z"
   },
   {
    "duration": 22,
    "start_time": "2022-01-21T11:44:52.480Z"
   },
   {
    "duration": 7,
    "start_time": "2022-01-21T11:44:52.504Z"
   },
   {
    "duration": 65,
    "start_time": "2022-01-21T11:44:52.513Z"
   },
   {
    "duration": 448,
    "start_time": "2022-01-21T11:44:52.580Z"
   },
   {
    "duration": 372,
    "start_time": "2022-01-21T11:44:53.029Z"
   },
   {
    "duration": 179,
    "start_time": "2022-01-21T11:44:53.402Z"
   },
   {
    "duration": 183,
    "start_time": "2022-01-21T11:44:53.582Z"
   },
   {
    "duration": 178,
    "start_time": "2022-01-21T11:44:53.767Z"
   },
   {
    "duration": 296,
    "start_time": "2022-01-21T11:44:53.946Z"
   },
   {
    "duration": 453,
    "start_time": "2022-01-21T11:44:54.244Z"
   },
   {
    "duration": 10,
    "start_time": "2022-01-21T11:44:54.698Z"
   },
   {
    "duration": 20,
    "start_time": "2022-01-21T11:44:54.709Z"
   },
   {
    "duration": 7,
    "start_time": "2022-01-21T11:46:33.986Z"
   },
   {
    "duration": 91,
    "start_time": "2022-01-21T11:46:44.731Z"
   },
   {
    "duration": 153,
    "start_time": "2022-01-21T11:47:04.987Z"
   },
   {
    "duration": 187,
    "start_time": "2022-01-21T11:47:12.883Z"
   },
   {
    "duration": 26,
    "start_time": "2022-01-21T11:51:16.561Z"
   },
   {
    "duration": 29,
    "start_time": "2022-01-21T11:51:25.241Z"
   },
   {
    "duration": 376,
    "start_time": "2022-01-21T11:51:37.664Z"
   },
   {
    "duration": 322,
    "start_time": "2022-01-21T11:52:01.056Z"
   },
   {
    "duration": 161,
    "start_time": "2022-01-21T11:52:06.041Z"
   },
   {
    "duration": 204,
    "start_time": "2022-01-21T11:53:17.920Z"
   },
   {
    "duration": 8,
    "start_time": "2022-01-21T11:54:54.832Z"
   },
   {
    "duration": 8,
    "start_time": "2022-01-21T11:54:56.295Z"
   },
   {
    "duration": 278,
    "start_time": "2022-01-21T11:55:06.880Z"
   },
   {
    "duration": 10,
    "start_time": "2022-01-21T11:55:11.863Z"
   },
   {
    "duration": 100,
    "start_time": "2022-01-21T11:55:24.169Z"
   },
   {
    "duration": 10,
    "start_time": "2022-01-21T11:55:28.072Z"
   },
   {
    "duration": 8,
    "start_time": "2022-01-21T11:56:15.103Z"
   },
   {
    "duration": 9,
    "start_time": "2022-01-21T11:56:32.752Z"
   },
   {
    "duration": 89,
    "start_time": "2022-01-21T11:56:42.696Z"
   },
   {
    "duration": 209,
    "start_time": "2022-01-21T11:56:45.047Z"
   },
   {
    "duration": 10,
    "start_time": "2022-01-21T11:56:51.767Z"
   },
   {
    "duration": 316,
    "start_time": "2022-01-21T11:59:51.399Z"
   },
   {
    "duration": 307,
    "start_time": "2022-01-21T12:00:09.672Z"
   },
   {
    "duration": 9,
    "start_time": "2022-01-21T12:00:12.622Z"
   },
   {
    "duration": 8,
    "start_time": "2022-01-21T12:00:18.990Z"
   },
   {
    "duration": 9,
    "start_time": "2022-01-21T12:00:21.726Z"
   },
   {
    "duration": 278,
    "start_time": "2022-01-21T12:02:07.094Z"
   },
   {
    "duration": 23,
    "start_time": "2022-01-21T12:02:14.367Z"
   },
   {
    "duration": 26,
    "start_time": "2022-01-21T12:02:22.600Z"
   },
   {
    "duration": 16,
    "start_time": "2022-01-21T12:02:56.223Z"
   },
   {
    "duration": 22,
    "start_time": "2022-01-21T12:03:01.582Z"
   },
   {
    "duration": 293,
    "start_time": "2022-01-21T12:03:21.118Z"
   },
   {
    "duration": 285,
    "start_time": "2022-01-21T12:03:49.454Z"
   },
   {
    "duration": 17,
    "start_time": "2022-01-21T12:04:03.088Z"
   },
   {
    "duration": 324,
    "start_time": "2022-01-21T12:04:14.934Z"
   },
   {
    "duration": 23,
    "start_time": "2022-01-21T12:04:18.166Z"
   },
   {
    "duration": 23,
    "start_time": "2022-01-21T12:04:28.110Z"
   },
   {
    "duration": 22,
    "start_time": "2022-01-21T12:04:34.837Z"
   },
   {
    "duration": 22,
    "start_time": "2022-01-21T12:05:09.046Z"
   },
   {
    "duration": 272,
    "start_time": "2022-01-21T12:05:39.035Z"
   },
   {
    "duration": 6,
    "start_time": "2022-01-21T12:06:05.148Z"
   },
   {
    "duration": 97,
    "start_time": "2022-01-21T12:06:17.005Z"
   },
   {
    "duration": 308,
    "start_time": "2022-01-21T12:06:19.965Z"
   },
   {
    "duration": 20,
    "start_time": "2022-01-21T12:06:52.414Z"
   },
   {
    "duration": 300,
    "start_time": "2022-01-21T12:06:57.909Z"
   },
   {
    "duration": 7,
    "start_time": "2022-01-21T12:07:02.493Z"
   },
   {
    "duration": 7280,
    "start_time": "2022-01-21T12:07:38.619Z"
   },
   {
    "duration": 7067,
    "start_time": "2022-01-21T12:07:55.021Z"
   },
   {
    "duration": 6986,
    "start_time": "2022-01-21T12:08:08.271Z"
   },
   {
    "duration": 845,
    "start_time": "2022-01-21T12:09:14.796Z"
   },
   {
    "duration": 85,
    "start_time": "2022-01-21T12:09:21.500Z"
   },
   {
    "duration": 83,
    "start_time": "2022-01-21T12:09:22.852Z"
   },
   {
    "duration": 278,
    "start_time": "2022-01-21T12:09:25.579Z"
   },
   {
    "duration": 108,
    "start_time": "2022-01-21T12:09:44.973Z"
   },
   {
    "duration": 354,
    "start_time": "2022-01-21T12:09:47.892Z"
   },
   {
    "duration": 274,
    "start_time": "2022-01-21T12:09:55.044Z"
   },
   {
    "duration": 2,
    "start_time": "2022-01-21T12:10:25.655Z"
   },
   {
    "duration": 6,
    "start_time": "2022-01-21T12:10:29.579Z"
   },
   {
    "duration": 806,
    "start_time": "2022-01-21T12:10:33.115Z"
   },
   {
    "duration": 86,
    "start_time": "2022-01-21T12:11:17.812Z"
   },
   {
    "duration": 134,
    "start_time": "2022-01-21T12:11:23.899Z"
   },
   {
    "duration": 273,
    "start_time": "2022-01-21T12:11:28.332Z"
   },
   {
    "duration": 8,
    "start_time": "2022-01-21T12:11:31.219Z"
   },
   {
    "duration": 366,
    "start_time": "2022-01-21T12:22:39.131Z"
   },
   {
    "duration": 5,
    "start_time": "2022-01-21T12:22:49.926Z"
   },
   {
    "duration": -1337,
    "start_time": "2022-01-21T12:23:03.943Z"
   },
   {
    "duration": 313,
    "start_time": "2022-01-21T12:23:04.284Z"
   },
   {
    "duration": 5,
    "start_time": "2022-01-21T12:23:09.805Z"
   },
   {
    "duration": 7,
    "start_time": "2022-01-21T12:23:24.764Z"
   },
   {
    "duration": 7,
    "start_time": "2022-01-21T12:23:30.758Z"
   },
   {
    "duration": 8,
    "start_time": "2022-01-21T12:24:25.357Z"
   },
   {
    "duration": 8,
    "start_time": "2022-01-21T12:28:29.996Z"
   },
   {
    "duration": 6,
    "start_time": "2022-01-21T12:29:10.932Z"
   },
   {
    "duration": 37,
    "start_time": "2022-01-21T12:29:17.531Z"
   },
   {
    "duration": 8040,
    "start_time": "2022-01-21T12:30:39.732Z"
   },
   {
    "duration": 190,
    "start_time": "2022-01-21T12:31:26.011Z"
   },
   {
    "duration": 11,
    "start_time": "2022-01-21T12:31:37.818Z"
   },
   {
    "duration": 5453,
    "start_time": "2022-01-21T12:31:46.234Z"
   },
   {
    "duration": 8,
    "start_time": "2022-01-21T12:32:02.370Z"
   },
   {
    "duration": 91,
    "start_time": "2022-01-21T12:32:07.065Z"
   },
   {
    "duration": 21,
    "start_time": "2022-01-21T12:32:07.158Z"
   },
   {
    "duration": 6,
    "start_time": "2022-01-21T12:32:07.181Z"
   },
   {
    "duration": 65,
    "start_time": "2022-01-21T12:32:07.197Z"
   },
   {
    "duration": 450,
    "start_time": "2022-01-21T12:32:07.264Z"
   },
   {
    "duration": 295,
    "start_time": "2022-01-21T12:32:07.716Z"
   },
   {
    "duration": 178,
    "start_time": "2022-01-21T12:32:08.013Z"
   },
   {
    "duration": 190,
    "start_time": "2022-01-21T12:32:08.193Z"
   },
   {
    "duration": 174,
    "start_time": "2022-01-21T12:32:08.384Z"
   },
   {
    "duration": 350,
    "start_time": "2022-01-21T12:32:08.560Z"
   },
   {
    "duration": 448,
    "start_time": "2022-01-21T12:32:08.912Z"
   },
   {
    "duration": 11,
    "start_time": "2022-01-21T12:32:09.363Z"
   },
   {
    "duration": 11,
    "start_time": "2022-01-21T12:32:09.376Z"
   },
   {
    "duration": 183,
    "start_time": "2022-01-21T12:32:09.388Z"
   },
   {
    "duration": 10,
    "start_time": "2022-01-21T12:32:09.573Z"
   },
   {
    "duration": 21,
    "start_time": "2022-01-21T12:32:09.585Z"
   },
   {
    "duration": 25,
    "start_time": "2022-01-21T12:32:09.607Z"
   },
   {
    "duration": 10,
    "start_time": "2022-01-21T12:32:09.633Z"
   },
   {
    "duration": 41,
    "start_time": "2022-01-21T12:32:19.507Z"
   },
   {
    "duration": 40,
    "start_time": "2022-01-21T12:33:10.931Z"
   },
   {
    "duration": 10,
    "start_time": "2022-01-21T12:33:55.157Z"
   },
   {
    "duration": 9,
    "start_time": "2022-01-21T12:34:05.481Z"
   },
   {
    "duration": 351,
    "start_time": "2022-01-21T12:34:43.657Z"
   },
   {
    "duration": 99,
    "start_time": "2022-01-21T12:34:53.730Z"
   },
   {
    "duration": 1293,
    "start_time": "2022-01-21T12:35:04.723Z"
   },
   {
    "duration": 2440,
    "start_time": "2022-01-21T12:35:19.155Z"
   },
   {
    "duration": 43,
    "start_time": "2022-01-21T12:35:30.705Z"
   },
   {
    "duration": 16,
    "start_time": "2022-01-21T12:35:37.620Z"
   },
   {
    "duration": 1480,
    "start_time": "2022-01-21T12:36:05.043Z"
   },
   {
    "duration": 307,
    "start_time": "2022-01-21T12:36:11.626Z"
   },
   {
    "duration": 12,
    "start_time": "2022-01-21T12:36:23.419Z"
   },
   {
    "duration": 10,
    "start_time": "2022-01-21T12:39:56.248Z"
   },
   {
    "duration": 41,
    "start_time": "2022-01-21T12:40:11.618Z"
   },
   {
    "duration": 41,
    "start_time": "2022-01-21T12:40:44.699Z"
   },
   {
    "duration": 41,
    "start_time": "2022-01-21T12:40:57.033Z"
   },
   {
    "duration": 42,
    "start_time": "2022-01-21T12:41:09.834Z"
   },
   {
    "duration": 286,
    "start_time": "2022-01-21T12:41:51.530Z"
   },
   {
    "duration": 20,
    "start_time": "2022-01-21T12:43:16.281Z"
   },
   {
    "duration": 24,
    "start_time": "2022-01-21T12:43:20.167Z"
   },
   {
    "duration": 16,
    "start_time": "2022-01-21T12:43:53.735Z"
   },
   {
    "duration": 11,
    "start_time": "2022-01-21T12:44:11.449Z"
   },
   {
    "duration": 155,
    "start_time": "2022-01-21T12:44:19.088Z"
   },
   {
    "duration": 450,
    "start_time": "2022-01-21T12:44:30.577Z"
   },
   {
    "duration": 155,
    "start_time": "2022-01-21T12:44:42.744Z"
   },
   {
    "duration": 565,
    "start_time": "2022-01-21T12:45:24.888Z"
   },
   {
    "duration": 233,
    "start_time": "2022-01-21T12:46:31.119Z"
   },
   {
    "duration": 278,
    "start_time": "2022-01-21T12:53:11.612Z"
   },
   {
    "duration": 7,
    "start_time": "2022-01-21T12:53:21.085Z"
   },
   {
    "duration": 39,
    "start_time": "2022-01-21T12:53:29.996Z"
   },
   {
    "duration": 6,
    "start_time": "2022-01-21T12:53:57.045Z"
   },
   {
    "duration": 12,
    "start_time": "2022-01-21T12:54:43.644Z"
   },
   {
    "duration": 160,
    "start_time": "2022-01-21T12:56:54.491Z"
   },
   {
    "duration": 93,
    "start_time": "2022-01-21T12:58:41.499Z"
   },
   {
    "duration": 373,
    "start_time": "2022-01-21T12:58:44.108Z"
   },
   {
    "duration": 16,
    "start_time": "2022-01-21T12:58:48.748Z"
   },
   {
    "duration": 695,
    "start_time": "2022-01-26T07:23:35.404Z"
   },
   {
    "duration": 28,
    "start_time": "2022-01-26T07:23:36.102Z"
   },
   {
    "duration": 11,
    "start_time": "2022-01-26T07:23:36.132Z"
   },
   {
    "duration": 93,
    "start_time": "2022-01-26T07:23:36.145Z"
   },
   {
    "duration": 501,
    "start_time": "2022-01-26T07:23:36.240Z"
   },
   {
    "duration": 468,
    "start_time": "2022-01-26T07:23:36.743Z"
   },
   {
    "duration": 226,
    "start_time": "2022-01-26T07:23:37.213Z"
   },
   {
    "duration": 252,
    "start_time": "2022-01-26T07:23:37.442Z"
   },
   {
    "duration": 227,
    "start_time": "2022-01-26T07:23:37.698Z"
   },
   {
    "duration": 395,
    "start_time": "2022-01-26T07:23:37.927Z"
   },
   {
    "duration": 566,
    "start_time": "2022-01-26T07:23:38.324Z"
   },
   {
    "duration": 17,
    "start_time": "2022-01-26T07:23:38.892Z"
   },
   {
    "duration": 10,
    "start_time": "2022-01-26T07:23:38.911Z"
   },
   {
    "duration": 216,
    "start_time": "2022-01-26T07:23:38.923Z"
   },
   {
    "duration": 10,
    "start_time": "2022-01-26T07:23:39.141Z"
   },
   {
    "duration": 22,
    "start_time": "2022-01-26T07:23:39.153Z"
   },
   {
    "duration": 28,
    "start_time": "2022-01-26T07:23:39.177Z"
   },
   {
    "duration": 15,
    "start_time": "2022-01-26T07:23:39.207Z"
   },
   {
    "duration": 278,
    "start_time": "2022-01-26T07:23:39.224Z"
   },
   {
    "duration": 13,
    "start_time": "2022-01-26T07:23:39.504Z"
   },
   {
    "duration": 211,
    "start_time": "2022-01-26T07:23:39.519Z"
   },
   {
    "duration": 16,
    "start_time": "2022-01-26T07:23:39.732Z"
   },
   {
    "duration": 696,
    "start_time": "2022-01-26T07:24:41.503Z"
   },
   {
    "duration": 677,
    "start_time": "2022-01-26T07:25:01.721Z"
   },
   {
    "duration": 558,
    "start_time": "2022-01-26T07:28:58.029Z"
   },
   {
    "duration": 414,
    "start_time": "2022-01-26T07:30:24.365Z"
   },
   {
    "duration": 418,
    "start_time": "2022-01-26T07:30:30.421Z"
   },
   {
    "duration": 452,
    "start_time": "2022-01-26T07:30:38.862Z"
   },
   {
    "duration": 583,
    "start_time": "2022-01-26T07:30:54.469Z"
   },
   {
    "duration": 616,
    "start_time": "2022-01-26T07:31:34.197Z"
   },
   {
    "duration": 701,
    "start_time": "2022-01-26T07:31:37.387Z"
   },
   {
    "duration": 2577,
    "start_time": "2022-01-26T07:31:47.813Z"
   },
   {
    "duration": 2439,
    "start_time": "2022-01-26T07:32:20.908Z"
   },
   {
    "duration": 6584,
    "start_time": "2022-01-26T07:32:24.972Z"
   },
   {
    "duration": 427,
    "start_time": "2022-01-26T07:32:33.019Z"
   },
   {
    "duration": 207,
    "start_time": "2022-01-26T07:33:13.086Z"
   },
   {
    "duration": 95,
    "start_time": "2022-01-26T07:33:40.882Z"
   },
   {
    "duration": 414,
    "start_time": "2022-01-26T07:33:50.018Z"
   },
   {
    "duration": 429,
    "start_time": "2022-01-26T07:34:05.882Z"
   },
   {
    "duration": 415,
    "start_time": "2022-01-26T07:34:22.268Z"
   },
   {
    "duration": 689,
    "start_time": "2022-01-26T07:34:46.443Z"
   },
   {
    "duration": 422,
    "start_time": "2022-01-26T07:34:57.907Z"
   },
   {
    "duration": 422,
    "start_time": "2022-01-26T07:35:13.827Z"
   },
   {
    "duration": 258,
    "start_time": "2022-01-26T07:36:31.699Z"
   },
   {
    "duration": 219,
    "start_time": "2022-01-26T07:37:52.171Z"
   },
   {
    "duration": 208,
    "start_time": "2022-01-26T07:37:57.747Z"
   },
   {
    "duration": 222,
    "start_time": "2022-01-26T07:38:03.218Z"
   },
   {
    "duration": 95,
    "start_time": "2022-01-26T07:38:20.752Z"
   },
   {
    "duration": 27,
    "start_time": "2022-01-26T07:38:20.849Z"
   },
   {
    "duration": 24,
    "start_time": "2022-01-26T07:38:20.878Z"
   },
   {
    "duration": 64,
    "start_time": "2022-01-26T07:38:20.904Z"
   },
   {
    "duration": 516,
    "start_time": "2022-01-26T07:38:20.970Z"
   },
   {
    "duration": 536,
    "start_time": "2022-01-26T07:38:21.488Z"
   },
   {
    "duration": 240,
    "start_time": "2022-01-26T07:38:22.026Z"
   },
   {
    "duration": 241,
    "start_time": "2022-01-26T07:38:22.269Z"
   },
   {
    "duration": 227,
    "start_time": "2022-01-26T07:38:22.512Z"
   },
   {
    "duration": 382,
    "start_time": "2022-01-26T07:38:22.741Z"
   },
   {
    "duration": 577,
    "start_time": "2022-01-26T07:38:23.125Z"
   },
   {
    "duration": 13,
    "start_time": "2022-01-26T07:38:23.703Z"
   },
   {
    "duration": 12,
    "start_time": "2022-01-26T07:38:23.718Z"
   },
   {
    "duration": 232,
    "start_time": "2022-01-26T07:38:23.732Z"
   },
   {
    "duration": 12,
    "start_time": "2022-01-26T07:38:23.966Z"
   },
   {
    "duration": 34,
    "start_time": "2022-01-26T07:38:23.980Z"
   },
   {
    "duration": 8,
    "start_time": "2022-01-26T07:38:24.015Z"
   },
   {
    "duration": 17,
    "start_time": "2022-01-26T07:38:24.025Z"
   },
   {
    "duration": 226,
    "start_time": "2022-01-26T07:38:24.044Z"
   },
   {
    "duration": 15,
    "start_time": "2022-01-26T07:38:24.271Z"
   },
   {
    "duration": 309,
    "start_time": "2022-01-26T07:38:24.299Z"
   },
   {
    "duration": 19,
    "start_time": "2022-01-26T07:38:24.609Z"
   },
   {
    "duration": 501,
    "start_time": "2022-01-26T07:39:37.411Z"
   },
   {
    "duration": -417,
    "start_time": "2022-01-26T07:40:24.289Z"
   },
   {
    "duration": 221,
    "start_time": "2022-01-26T07:40:27.505Z"
   },
   {
    "duration": 80,
    "start_time": "2022-01-26T07:40:35.786Z"
   },
   {
    "duration": 213,
    "start_time": "2022-01-26T07:40:39.945Z"
   },
   {
    "duration": 5788,
    "start_time": "2022-01-26T07:41:00.417Z"
   },
   {
    "duration": 5235,
    "start_time": "2022-01-26T07:41:12.673Z"
   },
   {
    "duration": 239,
    "start_time": "2022-01-26T07:41:37.330Z"
   },
   {
    "duration": 235,
    "start_time": "2022-01-26T07:42:08.776Z"
   },
   {
    "duration": 105,
    "start_time": "2022-01-26T07:42:35.149Z"
   },
   {
    "duration": 26,
    "start_time": "2022-01-26T07:42:35.256Z"
   },
   {
    "duration": 9,
    "start_time": "2022-01-26T07:42:35.300Z"
   },
   {
    "duration": 66,
    "start_time": "2022-01-26T07:42:35.311Z"
   },
   {
    "duration": 563,
    "start_time": "2022-01-26T07:42:35.379Z"
   },
   {
    "duration": 428,
    "start_time": "2022-01-26T07:42:35.943Z"
   },
   {
    "duration": 231,
    "start_time": "2022-01-26T07:42:36.373Z"
   },
   {
    "duration": 252,
    "start_time": "2022-01-26T07:42:36.607Z"
   },
   {
    "duration": 236,
    "start_time": "2022-01-26T07:42:36.861Z"
   },
   {
    "duration": 396,
    "start_time": "2022-01-26T07:42:37.098Z"
   },
   {
    "duration": 576,
    "start_time": "2022-01-26T07:42:37.495Z"
   },
   {
    "duration": 14,
    "start_time": "2022-01-26T07:42:38.073Z"
   },
   {
    "duration": 12,
    "start_time": "2022-01-26T07:42:38.098Z"
   },
   {
    "duration": 215,
    "start_time": "2022-01-26T07:42:38.111Z"
   },
   {
    "duration": 11,
    "start_time": "2022-01-26T07:42:38.328Z"
   },
   {
    "duration": 240,
    "start_time": "2022-01-26T07:42:38.341Z"
   },
   {
    "duration": 31,
    "start_time": "2022-01-26T07:42:38.583Z"
   },
   {
    "duration": 8,
    "start_time": "2022-01-26T07:42:38.617Z"
   },
   {
    "duration": 14,
    "start_time": "2022-01-26T07:42:38.627Z"
   },
   {
    "duration": 242,
    "start_time": "2022-01-26T07:42:38.643Z"
   },
   {
    "duration": 22,
    "start_time": "2022-01-26T07:42:38.887Z"
   },
   {
    "duration": 222,
    "start_time": "2022-01-26T07:42:38.911Z"
   },
   {
    "duration": 18,
    "start_time": "2022-01-26T07:42:39.136Z"
   },
   {
    "duration": 221,
    "start_time": "2022-01-26T07:43:04.969Z"
   },
   {
    "duration": 437,
    "start_time": "2022-01-26T07:45:07.993Z"
   },
   {
    "duration": 446,
    "start_time": "2022-01-26T07:45:59.672Z"
   },
   {
    "duration": 298973,
    "start_time": "2022-01-26T07:46:18.977Z"
   },
   {
    "duration": 227,
    "start_time": "2022-01-26T07:51:25.293Z"
   },
   {
    "duration": 222,
    "start_time": "2022-01-26T07:51:50.992Z"
   },
   {
    "duration": 430,
    "start_time": "2022-01-26T07:52:16.783Z"
   },
   {
    "duration": 655,
    "start_time": "2022-01-26T07:52:55.662Z"
   },
   {
    "duration": 1162,
    "start_time": "2022-01-26T09:47:05.963Z"
   },
   {
    "duration": 24,
    "start_time": "2022-01-26T09:47:07.126Z"
   },
   {
    "duration": 8,
    "start_time": "2022-01-26T09:47:07.152Z"
   },
   {
    "duration": 77,
    "start_time": "2022-01-26T09:47:07.162Z"
   },
   {
    "duration": 480,
    "start_time": "2022-01-26T09:47:07.240Z"
   },
   {
    "duration": 394,
    "start_time": "2022-01-26T09:47:07.722Z"
   },
   {
    "duration": 207,
    "start_time": "2022-01-26T09:47:08.117Z"
   },
   {
    "duration": 216,
    "start_time": "2022-01-26T09:47:08.326Z"
   },
   {
    "duration": 253,
    "start_time": "2022-01-26T09:47:08.544Z"
   },
   {
    "duration": 356,
    "start_time": "2022-01-26T09:47:08.799Z"
   },
   {
    "duration": 514,
    "start_time": "2022-01-26T09:47:09.156Z"
   },
   {
    "duration": 11,
    "start_time": "2022-01-26T09:47:09.672Z"
   },
   {
    "duration": 11,
    "start_time": "2022-01-26T09:47:09.685Z"
   },
   {
    "duration": 194,
    "start_time": "2022-01-26T09:47:09.712Z"
   },
   {
    "duration": 11,
    "start_time": "2022-01-26T09:47:09.908Z"
   },
   {
    "duration": 605,
    "start_time": "2022-01-26T09:47:09.920Z"
   },
   {
    "duration": 311,
    "start_time": "2022-01-26T09:47:10.527Z"
   },
   {
    "duration": -365,
    "start_time": "2022-01-26T09:47:11.205Z"
   },
   {
    "duration": -368,
    "start_time": "2022-01-26T09:47:11.209Z"
   },
   {
    "duration": -370,
    "start_time": "2022-01-26T09:47:11.211Z"
   },
   {
    "duration": -372,
    "start_time": "2022-01-26T09:47:11.214Z"
   },
   {
    "duration": -374,
    "start_time": "2022-01-26T09:47:11.217Z"
   },
   {
    "duration": -379,
    "start_time": "2022-01-26T09:47:11.223Z"
   },
   {
    "duration": -382,
    "start_time": "2022-01-26T09:47:11.226Z"
   },
   {
    "duration": -384,
    "start_time": "2022-01-26T09:47:11.229Z"
   },
   {
    "duration": 7853,
    "start_time": "2022-01-26T09:48:20.188Z"
   },
   {
    "duration": 94,
    "start_time": "2022-01-26T09:49:29.454Z"
   },
   {
    "duration": 24,
    "start_time": "2022-01-26T09:49:29.550Z"
   },
   {
    "duration": 8,
    "start_time": "2022-01-26T09:49:29.576Z"
   },
   {
    "duration": 76,
    "start_time": "2022-01-26T09:49:29.586Z"
   },
   {
    "duration": 560,
    "start_time": "2022-01-26T09:49:29.664Z"
   },
   {
    "duration": 390,
    "start_time": "2022-01-26T09:49:30.225Z"
   },
   {
    "duration": 200,
    "start_time": "2022-01-26T09:49:30.617Z"
   },
   {
    "duration": 218,
    "start_time": "2022-01-26T09:49:30.819Z"
   },
   {
    "duration": 216,
    "start_time": "2022-01-26T09:49:31.040Z"
   },
   {
    "duration": 342,
    "start_time": "2022-01-26T09:49:31.258Z"
   },
   {
    "duration": 529,
    "start_time": "2022-01-26T09:49:31.602Z"
   },
   {
    "duration": 12,
    "start_time": "2022-01-26T09:49:32.132Z"
   },
   {
    "duration": 10,
    "start_time": "2022-01-26T09:49:32.146Z"
   },
   {
    "duration": 289,
    "start_time": "2022-01-26T09:49:32.157Z"
   },
   {
    "duration": 10,
    "start_time": "2022-01-26T09:49:32.447Z"
   },
   {
    "duration": 623,
    "start_time": "2022-01-26T09:49:32.459Z"
   },
   {
    "duration": 7316,
    "start_time": "2022-01-26T09:49:33.084Z"
   },
   {
    "duration": 30,
    "start_time": "2022-01-26T09:49:40.402Z"
   },
   {
    "duration": 8,
    "start_time": "2022-01-26T09:49:40.433Z"
   },
   {
    "duration": 18,
    "start_time": "2022-01-26T09:49:40.442Z"
   },
   {
    "duration": 202,
    "start_time": "2022-01-26T09:49:40.461Z"
   },
   {
    "duration": 13,
    "start_time": "2022-01-26T09:49:40.665Z"
   },
   {
    "duration": 193,
    "start_time": "2022-01-26T09:49:40.679Z"
   },
   {
    "duration": 16,
    "start_time": "2022-01-26T09:49:40.873Z"
   },
   {
    "duration": 598,
    "start_time": "2022-01-26T09:49:40.890Z"
   },
   {
    "duration": 91,
    "start_time": "2022-01-26T09:50:09.561Z"
   },
   {
    "duration": 24,
    "start_time": "2022-01-26T09:50:09.654Z"
   },
   {
    "duration": 12,
    "start_time": "2022-01-26T09:50:09.681Z"
   },
   {
    "duration": 76,
    "start_time": "2022-01-26T09:50:09.695Z"
   },
   {
    "duration": 486,
    "start_time": "2022-01-26T09:50:09.772Z"
   },
   {
    "duration": 392,
    "start_time": "2022-01-26T09:50:10.260Z"
   },
   {
    "duration": 221,
    "start_time": "2022-01-26T09:50:10.654Z"
   },
   {
    "duration": 237,
    "start_time": "2022-01-26T09:50:10.876Z"
   },
   {
    "duration": 326,
    "start_time": "2022-01-26T09:50:11.116Z"
   },
   {
    "duration": 368,
    "start_time": "2022-01-26T09:50:11.444Z"
   },
   {
    "duration": 510,
    "start_time": "2022-01-26T09:50:11.814Z"
   },
   {
    "duration": 12,
    "start_time": "2022-01-26T09:50:12.325Z"
   },
   {
    "duration": 16,
    "start_time": "2022-01-26T09:50:12.338Z"
   },
   {
    "duration": 208,
    "start_time": "2022-01-26T09:50:12.355Z"
   },
   {
    "duration": 11,
    "start_time": "2022-01-26T09:50:12.564Z"
   },
   {
    "duration": 617,
    "start_time": "2022-01-26T09:50:12.577Z"
   },
   {
    "duration": 7632,
    "start_time": "2022-01-26T09:50:13.196Z"
   },
   {
    "duration": 23,
    "start_time": "2022-01-26T09:50:20.830Z"
   },
   {
    "duration": 21,
    "start_time": "2022-01-26T09:50:20.854Z"
   },
   {
    "duration": 44,
    "start_time": "2022-01-26T09:50:20.877Z"
   },
   {
    "duration": 211,
    "start_time": "2022-01-26T09:50:20.922Z"
   },
   {
    "duration": 13,
    "start_time": "2022-01-26T09:50:21.135Z"
   },
   {
    "duration": 212,
    "start_time": "2022-01-26T09:50:21.149Z"
   },
   {
    "duration": 598,
    "start_time": "2022-01-26T09:50:21.362Z"
   },
   {
    "duration": 96,
    "start_time": "2022-01-26T10:52:51.320Z"
   },
   {
    "duration": 24,
    "start_time": "2022-01-26T10:52:51.418Z"
   },
   {
    "duration": 9,
    "start_time": "2022-01-26T10:52:51.444Z"
   },
   {
    "duration": 94,
    "start_time": "2022-01-26T10:52:51.455Z"
   },
   {
    "duration": 478,
    "start_time": "2022-01-26T10:52:51.551Z"
   },
   {
    "duration": 387,
    "start_time": "2022-01-26T10:52:52.031Z"
   },
   {
    "duration": 363,
    "start_time": "2022-01-26T10:52:52.419Z"
   },
   {
    "duration": 226,
    "start_time": "2022-01-26T10:52:52.786Z"
   },
   {
    "duration": 209,
    "start_time": "2022-01-26T10:52:53.014Z"
   },
   {
    "duration": 348,
    "start_time": "2022-01-26T10:52:53.225Z"
   },
   {
    "duration": 526,
    "start_time": "2022-01-26T10:52:53.574Z"
   },
   {
    "duration": 14,
    "start_time": "2022-01-26T10:52:54.102Z"
   },
   {
    "duration": 10,
    "start_time": "2022-01-26T10:52:54.117Z"
   },
   {
    "duration": 198,
    "start_time": "2022-01-26T10:52:54.129Z"
   },
   {
    "duration": 10,
    "start_time": "2022-01-26T10:52:54.329Z"
   },
   {
    "duration": 593,
    "start_time": "2022-01-26T10:52:54.340Z"
   },
   {
    "duration": 7502,
    "start_time": "2022-01-26T10:52:54.934Z"
   },
   {
    "duration": 23,
    "start_time": "2022-01-26T10:53:02.439Z"
   },
   {
    "duration": 8,
    "start_time": "2022-01-26T10:53:02.464Z"
   },
   {
    "duration": 39,
    "start_time": "2022-01-26T10:53:02.473Z"
   },
   {
    "duration": 198,
    "start_time": "2022-01-26T10:53:02.514Z"
   },
   {
    "duration": 14,
    "start_time": "2022-01-26T10:53:02.714Z"
   },
   {
    "duration": 211,
    "start_time": "2022-01-26T10:53:02.730Z"
   },
   {
    "duration": 593,
    "start_time": "2022-01-26T10:53:02.942Z"
   }
  ],
  "kernelspec": {
   "display_name": "Python 3",
   "language": "python",
   "name": "python3"
  },
  "language_info": {
   "codemirror_mode": {
    "name": "ipython",
    "version": 3
   },
   "file_extension": ".py",
   "mimetype": "text/x-python",
   "name": "python",
   "nbconvert_exporter": "python",
   "pygments_lexer": "ipython3",
   "version": "3.9.0"
  },
  "toc": {
   "base_numbering": 1,
   "nav_menu": {},
   "number_sections": true,
   "sideBar": true,
   "skip_h1_title": true,
   "title_cell": "Содержание",
   "title_sidebar": "Contents",
   "toc_cell": true,
   "toc_position": {},
   "toc_section_display": true,
   "toc_window_display": true
  }
 },
 "nbformat": 4,
 "nbformat_minor": 2
}
