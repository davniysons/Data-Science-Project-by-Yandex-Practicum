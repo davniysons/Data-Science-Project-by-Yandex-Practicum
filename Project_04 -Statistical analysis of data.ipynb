{
 "cells": [
  {
   "cell_type": "markdown",
   "metadata": {},
   "source": [
    "# Determination of a prospective tariff for a telecom company:"
   ]
  },
  {
   "cell_type": "markdown",
   "metadata": {},
   "source": [
    "### Description of the project:\n",
    "You are an analyst at Megaline, a federal mobile operator. Clients are offered two tariff plans: \"Smart\" and \"Ultra\". To adjust the advertising budget, the commercial department wants to understand which tariff brings in more money.\n",
    "You have to make a preliminary analysis of tariffs on a small sample of customers. At your disposal are the data of 500 Megaline users: who they are, where they are from, what tariff they use, how many calls and messages each sent in 2018. It is necessary to analyze the behavior of customers and draw a conclusion - which tariff is better.\n",
    "\n",
    "### Description of tariffs:\n",
    "\n",
    "#### Tariff Smart:\n",
    "- Monthly fee: 550 rubles\n",
    "- Included 500 minutes of calls, 50 messages and 15 GB of internet traffic\n",
    "- The cost of services in excess of the tariff package: 1. minute of conversation: 3 rubles (\"Megaline\" always rounds up the values of minutes and megabytes. If the user spoke only 1 second, a whole minute is counted in the tariff); 2. message: 3 rubles; 3. 1 GB of Internet traffic: 200 rubles.\n",
    "\n",
    "#### Tariff Ultra:\n",
    "- Monthly fee: 1950 rubles\n",
    "- Included 3000 minutes of calls, 1000 messages and 30 GB of internet traffic\n",
    "- Cost of services in excess of the tariff package: 1. minute of conversation: 1 ruble; 2. message: 1 ruble; 3. 1 GB of Internet traffic: 150 rubles.\n",
    "\n",
    "### Notes:\n",
    "Megaline always rounds seconds to minutes, and megabytes to gigabytes. Each call is rounded up separately: even if it lasted only 1 second, it will be counted as 1 minute.\n",
    "For web traffic, individual sessions are not counted. Instead, the monthly total is rounded up. If a subscriber uses 1025 megabytes this month, they will be charged for 2 gigabytes.\n"
   ]
  },
  {
   "cell_type": "markdown",
   "metadata": {},
   "source": [
    "### 1. Importing libraries, loading data:"
   ]
  },
  {
   "cell_type": "code",
   "execution_count": 1,
   "metadata": {},
   "outputs": [],
   "source": [
    "import pandas as pd\n",
    "import math\n",
    "import numpy as np\n",
    "import seaborn as sns\n",
    "import matplotlib.pyplot as plt\n",
    "import scipy.stats as st\n",
    "\n",
    "calls = pd.read_csv('calls.csv')\n",
    "internet = pd.read_csv('internet.csv')\n",
    "messages = pd.read_csv('messages.csv')\n",
    "tariffs = pd.read_csv('tariffs.csv')\n",
    "users = pd.read_csv('users.csv')\n",
    "\n"
   ]
  },
  {
   "cell_type": "markdown",
   "metadata": {},
   "source": [
    "#### Check for duplicates:"
   ]
  },
  {
   "cell_type": "code",
   "execution_count": 2,
   "metadata": {},
   "outputs": [
    {
     "name": "stdout",
     "output_type": "stream",
     "text": [
      "0\n",
      "0\n",
      "0\n",
      "0\n",
      "0\n"
     ]
    }
   ],
   "source": [
    "print(calls.duplicated().sum())\n",
    "print(internet.duplicated().sum())\n",
    "print(messages.duplicated().sum())\n",
    "print(tariffs.duplicated().sum())\n",
    "print(users.duplicated().sum())"
   ]
  },
  {
   "cell_type": "markdown",
   "metadata": {},
   "source": [
    "### 2. Explore the data, finalize the data according to the conditions of the problem:"
   ]
  },
  {
   "cell_type": "markdown",
   "metadata": {},
   "source": [
    "**calls:**"
   ]
  },
  {
   "cell_type": "code",
   "execution_count": 3,
   "metadata": {},
   "outputs": [
    {
     "name": "stdout",
     "output_type": "stream",
     "text": [
      "<class 'pandas.core.frame.DataFrame'>\n",
      "RangeIndex: 202607 entries, 0 to 202606\n",
      "Data columns (total 4 columns):\n",
      " #   Column     Non-Null Count   Dtype  \n",
      "---  ------     --------------   -----  \n",
      " 0   id         202607 non-null  object \n",
      " 1   call_date  202607 non-null  object \n",
      " 2   duration   202607 non-null  float64\n",
      " 3   user_id    202607 non-null  int64  \n",
      "dtypes: float64(1), int64(1), object(2)\n",
      "memory usage: 6.2+ MB\n"
     ]
    }
   ],
   "source": [
    "calls.head()\n",
    "calls.info()"
   ]
  },
  {
   "cell_type": "markdown",
   "metadata": {},
   "source": [
    "Round the call time \"up\" to minutes, and convert it to an integer:"
   ]
  },
  {
   "cell_type": "code",
   "execution_count": 4,
   "metadata": {},
   "outputs": [],
   "source": [
    "calls.duration = calls.duration.apply(np.ceil).astype(int)"
   ]
  },
  {
   "cell_type": "markdown",
   "metadata": {},
   "source": [
    "Convert the date and create a separate column with the month of the call:"
   ]
  },
  {
   "cell_type": "code",
   "execution_count": 5,
   "metadata": {},
   "outputs": [
    {
     "data": {
      "text/html": [
       "<div>\n",
       "<style scoped>\n",
       "    .dataframe tbody tr th:only-of-type {\n",
       "        vertical-align: middle;\n",
       "    }\n",
       "\n",
       "    .dataframe tbody tr th {\n",
       "        vertical-align: top;\n",
       "    }\n",
       "\n",
       "    .dataframe thead th {\n",
       "        text-align: right;\n",
       "    }\n",
       "</style>\n",
       "<table border=\"1\" class=\"dataframe\">\n",
       "  <thead>\n",
       "    <tr style=\"text-align: right;\">\n",
       "      <th></th>\n",
       "      <th>id</th>\n",
       "      <th>call_date</th>\n",
       "      <th>duration</th>\n",
       "      <th>user_id</th>\n",
       "      <th>month</th>\n",
       "    </tr>\n",
       "  </thead>\n",
       "  <tbody>\n",
       "    <tr>\n",
       "      <th>0</th>\n",
       "      <td>1000_0</td>\n",
       "      <td>2018-07-25</td>\n",
       "      <td>0</td>\n",
       "      <td>1000</td>\n",
       "      <td>7</td>\n",
       "    </tr>\n",
       "    <tr>\n",
       "      <th>1</th>\n",
       "      <td>1000_1</td>\n",
       "      <td>2018-08-17</td>\n",
       "      <td>0</td>\n",
       "      <td>1000</td>\n",
       "      <td>8</td>\n",
       "    </tr>\n",
       "    <tr>\n",
       "      <th>2</th>\n",
       "      <td>1000_2</td>\n",
       "      <td>2018-06-11</td>\n",
       "      <td>3</td>\n",
       "      <td>1000</td>\n",
       "      <td>6</td>\n",
       "    </tr>\n",
       "    <tr>\n",
       "      <th>3</th>\n",
       "      <td>1000_3</td>\n",
       "      <td>2018-09-21</td>\n",
       "      <td>14</td>\n",
       "      <td>1000</td>\n",
       "      <td>9</td>\n",
       "    </tr>\n",
       "    <tr>\n",
       "      <th>4</th>\n",
       "      <td>1000_4</td>\n",
       "      <td>2018-12-15</td>\n",
       "      <td>6</td>\n",
       "      <td>1000</td>\n",
       "      <td>12</td>\n",
       "    </tr>\n",
       "  </tbody>\n",
       "</table>\n",
       "</div>"
      ],
      "text/plain": [
       "       id  call_date  duration  user_id  month\n",
       "0  1000_0 2018-07-25         0     1000      7\n",
       "1  1000_1 2018-08-17         0     1000      8\n",
       "2  1000_2 2018-06-11         3     1000      6\n",
       "3  1000_3 2018-09-21        14     1000      9\n",
       "4  1000_4 2018-12-15         6     1000     12"
      ]
     },
     "execution_count": 5,
     "metadata": {},
     "output_type": "execute_result"
    }
   ],
   "source": [
    "calls.call_date = pd.to_datetime(calls.call_date, format= '%Y-%m-%d')\n",
    "calls['month'] = calls.call_date.dt.month\n",
    "calls.head()"
   ]
  },
  {
   "cell_type": "markdown",
   "metadata": {},
   "source": [
    "**internet:**"
   ]
  },
  {
   "cell_type": "markdown",
   "metadata": {},
   "source": [
    "Convert the date and create a separate column with the month of traffic consumption:"
   ]
  },
  {
   "cell_type": "code",
   "execution_count": 6,
   "metadata": {},
   "outputs": [
    {
     "name": "stdout",
     "output_type": "stream",
     "text": [
      "<class 'pandas.core.frame.DataFrame'>\n",
      "RangeIndex: 149396 entries, 0 to 149395\n",
      "Data columns (total 5 columns):\n",
      " #   Column        Non-Null Count   Dtype  \n",
      "---  ------        --------------   -----  \n",
      " 0   Unnamed: 0    149396 non-null  int64  \n",
      " 1   id            149396 non-null  object \n",
      " 2   mb_used       149396 non-null  float64\n",
      " 3   session_date  149396 non-null  object \n",
      " 4   user_id       149396 non-null  int64  \n",
      "dtypes: float64(1), int64(2), object(2)\n",
      "memory usage: 5.7+ MB\n"
     ]
    }
   ],
   "source": [
    "internet.info()\n",
    "internet.session_date = pd.to_datetime(internet.session_date, format= '%Y-%m-%d')\n",
    "internet['month'] = internet.session_date.dt.month"
   ]
  },
  {
   "cell_type": "markdown",
   "metadata": {},
   "source": [
    "Convert megabytes to gigabytes and create a separate column:"
   ]
  },
  {
   "cell_type": "code",
   "execution_count": 7,
   "metadata": {},
   "outputs": [
    {
     "data": {
      "text/html": [
       "<div>\n",
       "<style scoped>\n",
       "    .dataframe tbody tr th:only-of-type {\n",
       "        vertical-align: middle;\n",
       "    }\n",
       "\n",
       "    .dataframe tbody tr th {\n",
       "        vertical-align: top;\n",
       "    }\n",
       "\n",
       "    .dataframe thead th {\n",
       "        text-align: right;\n",
       "    }\n",
       "</style>\n",
       "<table border=\"1\" class=\"dataframe\">\n",
       "  <thead>\n",
       "    <tr style=\"text-align: right;\">\n",
       "      <th></th>\n",
       "      <th>Unnamed: 0</th>\n",
       "      <th>id</th>\n",
       "      <th>mb_used</th>\n",
       "      <th>session_date</th>\n",
       "      <th>user_id</th>\n",
       "      <th>month</th>\n",
       "      <th>gb_used</th>\n",
       "    </tr>\n",
       "  </thead>\n",
       "  <tbody>\n",
       "    <tr>\n",
       "      <th>0</th>\n",
       "      <td>0</td>\n",
       "      <td>1000_0</td>\n",
       "      <td>112.95</td>\n",
       "      <td>2018-11-25</td>\n",
       "      <td>1000</td>\n",
       "      <td>11</td>\n",
       "      <td>0.110303</td>\n",
       "    </tr>\n",
       "    <tr>\n",
       "      <th>1</th>\n",
       "      <td>1</td>\n",
       "      <td>1000_1</td>\n",
       "      <td>1052.81</td>\n",
       "      <td>2018-09-07</td>\n",
       "      <td>1000</td>\n",
       "      <td>9</td>\n",
       "      <td>1.028135</td>\n",
       "    </tr>\n",
       "    <tr>\n",
       "      <th>2</th>\n",
       "      <td>2</td>\n",
       "      <td>1000_2</td>\n",
       "      <td>1197.26</td>\n",
       "      <td>2018-06-25</td>\n",
       "      <td>1000</td>\n",
       "      <td>6</td>\n",
       "      <td>1.169199</td>\n",
       "    </tr>\n",
       "    <tr>\n",
       "      <th>3</th>\n",
       "      <td>3</td>\n",
       "      <td>1000_3</td>\n",
       "      <td>550.27</td>\n",
       "      <td>2018-08-22</td>\n",
       "      <td>1000</td>\n",
       "      <td>8</td>\n",
       "      <td>0.537373</td>\n",
       "    </tr>\n",
       "    <tr>\n",
       "      <th>4</th>\n",
       "      <td>4</td>\n",
       "      <td>1000_4</td>\n",
       "      <td>302.56</td>\n",
       "      <td>2018-09-24</td>\n",
       "      <td>1000</td>\n",
       "      <td>9</td>\n",
       "      <td>0.295469</td>\n",
       "    </tr>\n",
       "  </tbody>\n",
       "</table>\n",
       "</div>"
      ],
      "text/plain": [
       "   Unnamed: 0      id  mb_used session_date  user_id  month   gb_used\n",
       "0           0  1000_0   112.95   2018-11-25     1000     11  0.110303\n",
       "1           1  1000_1  1052.81   2018-09-07     1000      9  1.028135\n",
       "2           2  1000_2  1197.26   2018-06-25     1000      6  1.169199\n",
       "3           3  1000_3   550.27   2018-08-22     1000      8  0.537373\n",
       "4           4  1000_4   302.56   2018-09-24     1000      9  0.295469"
      ]
     },
     "execution_count": 7,
     "metadata": {},
     "output_type": "execute_result"
    }
   ],
   "source": [
    "internet['gb_used'] = internet.mb_used / 1024\n",
    "internet.head()"
   ]
  },
  {
   "cell_type": "markdown",
   "metadata": {},
   "source": [
    "**messages:**"
   ]
  },
  {
   "cell_type": "markdown",
   "metadata": {},
   "source": [
    "Convert the date and create a separate column with the month of the message count:"
   ]
  },
  {
   "cell_type": "code",
   "execution_count": 8,
   "metadata": {},
   "outputs": [
    {
     "data": {
      "text/html": [
       "<div>\n",
       "<style scoped>\n",
       "    .dataframe tbody tr th:only-of-type {\n",
       "        vertical-align: middle;\n",
       "    }\n",
       "\n",
       "    .dataframe tbody tr th {\n",
       "        vertical-align: top;\n",
       "    }\n",
       "\n",
       "    .dataframe thead th {\n",
       "        text-align: right;\n",
       "    }\n",
       "</style>\n",
       "<table border=\"1\" class=\"dataframe\">\n",
       "  <thead>\n",
       "    <tr style=\"text-align: right;\">\n",
       "      <th></th>\n",
       "      <th>id</th>\n",
       "      <th>message_date</th>\n",
       "      <th>user_id</th>\n",
       "      <th>month</th>\n",
       "    </tr>\n",
       "  </thead>\n",
       "  <tbody>\n",
       "    <tr>\n",
       "      <th>0</th>\n",
       "      <td>1000_0</td>\n",
       "      <td>2018-06-27</td>\n",
       "      <td>1000</td>\n",
       "      <td>6</td>\n",
       "    </tr>\n",
       "    <tr>\n",
       "      <th>1</th>\n",
       "      <td>1000_1</td>\n",
       "      <td>2018-10-08</td>\n",
       "      <td>1000</td>\n",
       "      <td>10</td>\n",
       "    </tr>\n",
       "    <tr>\n",
       "      <th>2</th>\n",
       "      <td>1000_2</td>\n",
       "      <td>2018-08-04</td>\n",
       "      <td>1000</td>\n",
       "      <td>8</td>\n",
       "    </tr>\n",
       "    <tr>\n",
       "      <th>3</th>\n",
       "      <td>1000_3</td>\n",
       "      <td>2018-06-16</td>\n",
       "      <td>1000</td>\n",
       "      <td>6</td>\n",
       "    </tr>\n",
       "    <tr>\n",
       "      <th>4</th>\n",
       "      <td>1000_4</td>\n",
       "      <td>2018-12-05</td>\n",
       "      <td>1000</td>\n",
       "      <td>12</td>\n",
       "    </tr>\n",
       "  </tbody>\n",
       "</table>\n",
       "</div>"
      ],
      "text/plain": [
       "       id message_date  user_id  month\n",
       "0  1000_0   2018-06-27     1000      6\n",
       "1  1000_1   2018-10-08     1000     10\n",
       "2  1000_2   2018-08-04     1000      8\n",
       "3  1000_3   2018-06-16     1000      6\n",
       "4  1000_4   2018-12-05     1000     12"
      ]
     },
     "execution_count": 8,
     "metadata": {},
     "output_type": "execute_result"
    }
   ],
   "source": [
    "messages.message_date = pd.to_datetime(messages.message_date, format= '%Y-%m-%d')\n",
    "messages['month'] = messages.message_date.dt.month\n",
    "messages.head()"
   ]
  },
  {
   "cell_type": "markdown",
   "metadata": {},
   "source": [
    "**tariffs:**"
   ]
  },
  {
   "cell_type": "markdown",
   "metadata": {},
   "source": [
    "We don't change anything here."
   ]
  },
  {
   "cell_type": "code",
   "execution_count": 9,
   "metadata": {},
   "outputs": [
    {
     "name": "stdout",
     "output_type": "stream",
     "text": [
      "<class 'pandas.core.frame.DataFrame'>\n",
      "RangeIndex: 2 entries, 0 to 1\n",
      "Data columns (total 8 columns):\n",
      " #   Column                 Non-Null Count  Dtype \n",
      "---  ------                 --------------  ----- \n",
      " 0   messages_included      2 non-null      int64 \n",
      " 1   mb_per_month_included  2 non-null      int64 \n",
      " 2   minutes_included       2 non-null      int64 \n",
      " 3   rub_monthly_fee        2 non-null      int64 \n",
      " 4   rub_per_gb             2 non-null      int64 \n",
      " 5   rub_per_message        2 non-null      int64 \n",
      " 6   rub_per_minute         2 non-null      int64 \n",
      " 7   tariff_name            2 non-null      object\n",
      "dtypes: int64(7), object(1)\n",
      "memory usage: 256.0+ bytes\n"
     ]
    },
    {
     "data": {
      "text/html": [
       "<div>\n",
       "<style scoped>\n",
       "    .dataframe tbody tr th:only-of-type {\n",
       "        vertical-align: middle;\n",
       "    }\n",
       "\n",
       "    .dataframe tbody tr th {\n",
       "        vertical-align: top;\n",
       "    }\n",
       "\n",
       "    .dataframe thead th {\n",
       "        text-align: right;\n",
       "    }\n",
       "</style>\n",
       "<table border=\"1\" class=\"dataframe\">\n",
       "  <thead>\n",
       "    <tr style=\"text-align: right;\">\n",
       "      <th></th>\n",
       "      <th>messages_included</th>\n",
       "      <th>mb_per_month_included</th>\n",
       "      <th>minutes_included</th>\n",
       "      <th>rub_monthly_fee</th>\n",
       "      <th>rub_per_gb</th>\n",
       "      <th>rub_per_message</th>\n",
       "      <th>rub_per_minute</th>\n",
       "      <th>tariff_name</th>\n",
       "    </tr>\n",
       "  </thead>\n",
       "  <tbody>\n",
       "    <tr>\n",
       "      <th>0</th>\n",
       "      <td>50</td>\n",
       "      <td>15360</td>\n",
       "      <td>500</td>\n",
       "      <td>550</td>\n",
       "      <td>200</td>\n",
       "      <td>3</td>\n",
       "      <td>3</td>\n",
       "      <td>smart</td>\n",
       "    </tr>\n",
       "    <tr>\n",
       "      <th>1</th>\n",
       "      <td>1000</td>\n",
       "      <td>30720</td>\n",
       "      <td>3000</td>\n",
       "      <td>1950</td>\n",
       "      <td>150</td>\n",
       "      <td>1</td>\n",
       "      <td>1</td>\n",
       "      <td>ultra</td>\n",
       "    </tr>\n",
       "  </tbody>\n",
       "</table>\n",
       "</div>"
      ],
      "text/plain": [
       "   messages_included  mb_per_month_included  minutes_included  \\\n",
       "0                 50                  15360               500   \n",
       "1               1000                  30720              3000   \n",
       "\n",
       "   rub_monthly_fee  rub_per_gb  rub_per_message  rub_per_minute tariff_name  \n",
       "0              550         200                3               3       smart  \n",
       "1             1950         150                1               1       ultra  "
      ]
     },
     "execution_count": 9,
     "metadata": {},
     "output_type": "execute_result"
    }
   ],
   "source": [
    "tariffs.info()\n",
    "tariffs.head()"
   ]
  },
  {
   "cell_type": "markdown",
   "metadata": {},
   "source": [
    "**users:**"
   ]
  },
  {
   "cell_type": "code",
   "execution_count": 10,
   "metadata": {},
   "outputs": [
    {
     "name": "stdout",
     "output_type": "stream",
     "text": [
      "<class 'pandas.core.frame.DataFrame'>\n",
      "RangeIndex: 500 entries, 0 to 499\n",
      "Data columns (total 8 columns):\n",
      " #   Column      Non-Null Count  Dtype \n",
      "---  ------      --------------  ----- \n",
      " 0   user_id     500 non-null    int64 \n",
      " 1   age         500 non-null    int64 \n",
      " 2   churn_date  38 non-null     object\n",
      " 3   city        500 non-null    object\n",
      " 4   first_name  500 non-null    object\n",
      " 5   last_name   500 non-null    object\n",
      " 6   reg_date    500 non-null    object\n",
      " 7   tariff      500 non-null    object\n",
      "dtypes: int64(2), object(6)\n",
      "memory usage: 31.4+ KB\n"
     ]
    },
    {
     "data": {
      "text/html": [
       "<div>\n",
       "<style scoped>\n",
       "    .dataframe tbody tr th:only-of-type {\n",
       "        vertical-align: middle;\n",
       "    }\n",
       "\n",
       "    .dataframe tbody tr th {\n",
       "        vertical-align: top;\n",
       "    }\n",
       "\n",
       "    .dataframe thead th {\n",
       "        text-align: right;\n",
       "    }\n",
       "</style>\n",
       "<table border=\"1\" class=\"dataframe\">\n",
       "  <thead>\n",
       "    <tr style=\"text-align: right;\">\n",
       "      <th></th>\n",
       "      <th>user_id</th>\n",
       "      <th>age</th>\n",
       "      <th>churn_date</th>\n",
       "      <th>city</th>\n",
       "      <th>first_name</th>\n",
       "      <th>last_name</th>\n",
       "      <th>reg_date</th>\n",
       "      <th>tariff</th>\n",
       "    </tr>\n",
       "  </thead>\n",
       "  <tbody>\n",
       "    <tr>\n",
       "      <th>495</th>\n",
       "      <td>1495</td>\n",
       "      <td>65</td>\n",
       "      <td>NaN</td>\n",
       "      <td>Иркутск</td>\n",
       "      <td>Авксентий</td>\n",
       "      <td>Фокин</td>\n",
       "      <td>2018-08-28</td>\n",
       "      <td>ultra</td>\n",
       "    </tr>\n",
       "    <tr>\n",
       "      <th>496</th>\n",
       "      <td>1496</td>\n",
       "      <td>36</td>\n",
       "      <td>NaN</td>\n",
       "      <td>Вологда</td>\n",
       "      <td>Трифон</td>\n",
       "      <td>Блохин</td>\n",
       "      <td>2018-01-27</td>\n",
       "      <td>smart</td>\n",
       "    </tr>\n",
       "    <tr>\n",
       "      <th>497</th>\n",
       "      <td>1497</td>\n",
       "      <td>32</td>\n",
       "      <td>NaN</td>\n",
       "      <td>Челябинск</td>\n",
       "      <td>Каролина</td>\n",
       "      <td>Агеева</td>\n",
       "      <td>2018-10-09</td>\n",
       "      <td>smart</td>\n",
       "    </tr>\n",
       "    <tr>\n",
       "      <th>498</th>\n",
       "      <td>1498</td>\n",
       "      <td>68</td>\n",
       "      <td>2018-10-25</td>\n",
       "      <td>Владикавказ</td>\n",
       "      <td>Всеволод</td>\n",
       "      <td>Акимчин</td>\n",
       "      <td>2018-07-19</td>\n",
       "      <td>smart</td>\n",
       "    </tr>\n",
       "    <tr>\n",
       "      <th>499</th>\n",
       "      <td>1499</td>\n",
       "      <td>35</td>\n",
       "      <td>NaN</td>\n",
       "      <td>Пермь</td>\n",
       "      <td>Гектор</td>\n",
       "      <td>Корнилов</td>\n",
       "      <td>2018-09-27</td>\n",
       "      <td>smart</td>\n",
       "    </tr>\n",
       "  </tbody>\n",
       "</table>\n",
       "</div>"
      ],
      "text/plain": [
       "     user_id  age  churn_date         city first_name last_name    reg_date  \\\n",
       "495     1495   65         NaN      Иркутск  Авксентий     Фокин  2018-08-28   \n",
       "496     1496   36         NaN      Вологда     Трифон    Блохин  2018-01-27   \n",
       "497     1497   32         NaN    Челябинск   Каролина    Агеева  2018-10-09   \n",
       "498     1498   68  2018-10-25  Владикавказ   Всеволод   Акимчин  2018-07-19   \n",
       "499     1499   35         NaN        Пермь     Гектор  Корнилов  2018-09-27   \n",
       "\n",
       "    tariff  \n",
       "495  ultra  \n",
       "496  smart  \n",
       "497  smart  \n",
       "498  smart  \n",
       "499  smart  "
      ]
     },
     "execution_count": 10,
     "metadata": {},
     "output_type": "execute_result"
    }
   ],
   "source": [
    "users.info()\n",
    "users.tail()"
   ]
  },
  {
   "cell_type": "markdown",
   "metadata": {},
   "source": [
    "Convert dates: "
   ]
  },
  {
   "cell_type": "code",
   "execution_count": 11,
   "metadata": {},
   "outputs": [
    {
     "data": {
      "text/html": [
       "<div>\n",
       "<style scoped>\n",
       "    .dataframe tbody tr th:only-of-type {\n",
       "        vertical-align: middle;\n",
       "    }\n",
       "\n",
       "    .dataframe tbody tr th {\n",
       "        vertical-align: top;\n",
       "    }\n",
       "\n",
       "    .dataframe thead th {\n",
       "        text-align: right;\n",
       "    }\n",
       "</style>\n",
       "<table border=\"1\" class=\"dataframe\">\n",
       "  <thead>\n",
       "    <tr style=\"text-align: right;\">\n",
       "      <th></th>\n",
       "      <th>user_id</th>\n",
       "      <th>age</th>\n",
       "      <th>churn_date</th>\n",
       "      <th>city</th>\n",
       "      <th>first_name</th>\n",
       "      <th>last_name</th>\n",
       "      <th>reg_date</th>\n",
       "      <th>tariff</th>\n",
       "    </tr>\n",
       "  </thead>\n",
       "  <tbody>\n",
       "    <tr>\n",
       "      <th>0</th>\n",
       "      <td>1000</td>\n",
       "      <td>52</td>\n",
       "      <td>NaT</td>\n",
       "      <td>Краснодар</td>\n",
       "      <td>Рафаил</td>\n",
       "      <td>Верещагин</td>\n",
       "      <td>2018-05-25</td>\n",
       "      <td>ultra</td>\n",
       "    </tr>\n",
       "    <tr>\n",
       "      <th>1</th>\n",
       "      <td>1001</td>\n",
       "      <td>41</td>\n",
       "      <td>NaT</td>\n",
       "      <td>Москва</td>\n",
       "      <td>Иван</td>\n",
       "      <td>Ежов</td>\n",
       "      <td>2018-11-01</td>\n",
       "      <td>smart</td>\n",
       "    </tr>\n",
       "    <tr>\n",
       "      <th>2</th>\n",
       "      <td>1002</td>\n",
       "      <td>59</td>\n",
       "      <td>NaT</td>\n",
       "      <td>Стерлитамак</td>\n",
       "      <td>Евгений</td>\n",
       "      <td>Абрамович</td>\n",
       "      <td>2018-06-17</td>\n",
       "      <td>smart</td>\n",
       "    </tr>\n",
       "    <tr>\n",
       "      <th>3</th>\n",
       "      <td>1003</td>\n",
       "      <td>23</td>\n",
       "      <td>NaT</td>\n",
       "      <td>Москва</td>\n",
       "      <td>Белла</td>\n",
       "      <td>Белякова</td>\n",
       "      <td>2018-08-17</td>\n",
       "      <td>ultra</td>\n",
       "    </tr>\n",
       "    <tr>\n",
       "      <th>4</th>\n",
       "      <td>1004</td>\n",
       "      <td>68</td>\n",
       "      <td>NaT</td>\n",
       "      <td>Новокузнецк</td>\n",
       "      <td>Татьяна</td>\n",
       "      <td>Авдеенко</td>\n",
       "      <td>2018-05-14</td>\n",
       "      <td>ultra</td>\n",
       "    </tr>\n",
       "  </tbody>\n",
       "</table>\n",
       "</div>"
      ],
      "text/plain": [
       "   user_id  age churn_date         city first_name  last_name   reg_date  \\\n",
       "0     1000   52        NaT    Краснодар     Рафаил  Верещагин 2018-05-25   \n",
       "1     1001   41        NaT       Москва       Иван       Ежов 2018-11-01   \n",
       "2     1002   59        NaT  Стерлитамак    Евгений  Абрамович 2018-06-17   \n",
       "3     1003   23        NaT       Москва      Белла   Белякова 2018-08-17   \n",
       "4     1004   68        NaT  Новокузнецк    Татьяна   Авдеенко 2018-05-14   \n",
       "\n",
       "  tariff  \n",
       "0  ultra  \n",
       "1  smart  \n",
       "2  smart  \n",
       "3  ultra  \n",
       "4  ultra  "
      ]
     },
     "execution_count": 11,
     "metadata": {},
     "output_type": "execute_result"
    }
   ],
   "source": [
    "users.churn_date = pd.to_datetime(users.churn_date, format= '%Y-%m-%d')\n",
    "users.reg_date = pd.to_datetime(users.reg_date, format= '%Y-%m-%d')\n",
    "users.head()"
   ]
  },
  {
   "cell_type": "markdown",
   "metadata": {},
   "source": [
    "### 3.Preparing and creating new data tables:"
   ]
  },
  {
   "cell_type": "markdown",
   "metadata": {},
   "source": [
    "**Calculate the number and duration of calls for users by month:**"
   ]
  },
  {
   "cell_type": "code",
   "execution_count": 12,
   "metadata": {},
   "outputs": [
    {
     "data": {
      "text/html": [
       "<div>\n",
       "<style scoped>\n",
       "    .dataframe tbody tr th:only-of-type {\n",
       "        vertical-align: middle;\n",
       "    }\n",
       "\n",
       "    .dataframe tbody tr th {\n",
       "        vertical-align: top;\n",
       "    }\n",
       "\n",
       "    .dataframe thead th {\n",
       "        text-align: right;\n",
       "    }\n",
       "</style>\n",
       "<table border=\"1\" class=\"dataframe\">\n",
       "  <thead>\n",
       "    <tr style=\"text-align: right;\">\n",
       "      <th></th>\n",
       "      <th></th>\n",
       "      <th>call_time</th>\n",
       "      <th>call_count</th>\n",
       "    </tr>\n",
       "    <tr>\n",
       "      <th>user_id</th>\n",
       "      <th>month</th>\n",
       "      <th></th>\n",
       "      <th></th>\n",
       "    </tr>\n",
       "  </thead>\n",
       "  <tbody>\n",
       "    <tr>\n",
       "      <th rowspan=\"5\" valign=\"top\">1000</th>\n",
       "      <th>5</th>\n",
       "      <td>159</td>\n",
       "      <td>22</td>\n",
       "    </tr>\n",
       "    <tr>\n",
       "      <th>6</th>\n",
       "      <td>172</td>\n",
       "      <td>43</td>\n",
       "    </tr>\n",
       "    <tr>\n",
       "      <th>7</th>\n",
       "      <td>340</td>\n",
       "      <td>47</td>\n",
       "    </tr>\n",
       "    <tr>\n",
       "      <th>8</th>\n",
       "      <td>408</td>\n",
       "      <td>52</td>\n",
       "    </tr>\n",
       "    <tr>\n",
       "      <th>9</th>\n",
       "      <td>466</td>\n",
       "      <td>58</td>\n",
       "    </tr>\n",
       "    <tr>\n",
       "      <th>...</th>\n",
       "      <th>...</th>\n",
       "      <td>...</td>\n",
       "      <td>...</td>\n",
       "    </tr>\n",
       "    <tr>\n",
       "      <th>1498</th>\n",
       "      <th>10</th>\n",
       "      <td>247</td>\n",
       "      <td>41</td>\n",
       "    </tr>\n",
       "    <tr>\n",
       "      <th rowspan=\"4\" valign=\"top\">1499</th>\n",
       "      <th>9</th>\n",
       "      <td>70</td>\n",
       "      <td>9</td>\n",
       "    </tr>\n",
       "    <tr>\n",
       "      <th>10</th>\n",
       "      <td>449</td>\n",
       "      <td>68</td>\n",
       "    </tr>\n",
       "    <tr>\n",
       "      <th>11</th>\n",
       "      <td>612</td>\n",
       "      <td>74</td>\n",
       "    </tr>\n",
       "    <tr>\n",
       "      <th>12</th>\n",
       "      <td>492</td>\n",
       "      <td>69</td>\n",
       "    </tr>\n",
       "  </tbody>\n",
       "</table>\n",
       "<p>3174 rows × 2 columns</p>\n",
       "</div>"
      ],
      "text/plain": [
       "               call_time  call_count\n",
       "user_id month                       \n",
       "1000    5            159          22\n",
       "        6            172          43\n",
       "        7            340          47\n",
       "        8            408          52\n",
       "        9            466          58\n",
       "...                  ...         ...\n",
       "1498    10           247          41\n",
       "1499    9             70           9\n",
       "        10           449          68\n",
       "        11           612          74\n",
       "        12           492          69\n",
       "\n",
       "[3174 rows x 2 columns]"
      ]
     },
     "execution_count": 12,
     "metadata": {},
     "output_type": "execute_result"
    }
   ],
   "source": [
    "calls_pt = calls.pivot_table(index =['user_id', 'month'], values = 'duration', aggfunc = ['sum', 'count'] )\n",
    "calls_pt.columns = ['call_time', 'call_count']\n",
    "calls_pt"
   ]
  },
  {
   "cell_type": "markdown",
   "metadata": {},
   "source": [
    "**Calculate the number of messages for users by month:**"
   ]
  },
  {
   "cell_type": "code",
   "execution_count": 13,
   "metadata": {},
   "outputs": [
    {
     "data": {
      "text/html": [
       "<div>\n",
       "<style scoped>\n",
       "    .dataframe tbody tr th:only-of-type {\n",
       "        vertical-align: middle;\n",
       "    }\n",
       "\n",
       "    .dataframe tbody tr th {\n",
       "        vertical-align: top;\n",
       "    }\n",
       "\n",
       "    .dataframe thead th {\n",
       "        text-align: right;\n",
       "    }\n",
       "</style>\n",
       "<table border=\"1\" class=\"dataframe\">\n",
       "  <thead>\n",
       "    <tr style=\"text-align: right;\">\n",
       "      <th></th>\n",
       "      <th></th>\n",
       "      <th>message_count</th>\n",
       "    </tr>\n",
       "    <tr>\n",
       "      <th>user_id</th>\n",
       "      <th>month</th>\n",
       "      <th></th>\n",
       "    </tr>\n",
       "  </thead>\n",
       "  <tbody>\n",
       "    <tr>\n",
       "      <th rowspan=\"5\" valign=\"top\">1000</th>\n",
       "      <th>5</th>\n",
       "      <td>22</td>\n",
       "    </tr>\n",
       "    <tr>\n",
       "      <th>6</th>\n",
       "      <td>60</td>\n",
       "    </tr>\n",
       "    <tr>\n",
       "      <th>7</th>\n",
       "      <td>75</td>\n",
       "    </tr>\n",
       "    <tr>\n",
       "      <th>8</th>\n",
       "      <td>81</td>\n",
       "    </tr>\n",
       "    <tr>\n",
       "      <th>9</th>\n",
       "      <td>57</td>\n",
       "    </tr>\n",
       "    <tr>\n",
       "      <th>...</th>\n",
       "      <th>...</th>\n",
       "      <td>...</td>\n",
       "    </tr>\n",
       "    <tr>\n",
       "      <th>1498</th>\n",
       "      <th>10</th>\n",
       "      <td>42</td>\n",
       "    </tr>\n",
       "    <tr>\n",
       "      <th rowspan=\"4\" valign=\"top\">1499</th>\n",
       "      <th>9</th>\n",
       "      <td>11</td>\n",
       "    </tr>\n",
       "    <tr>\n",
       "      <th>10</th>\n",
       "      <td>48</td>\n",
       "    </tr>\n",
       "    <tr>\n",
       "      <th>11</th>\n",
       "      <td>59</td>\n",
       "    </tr>\n",
       "    <tr>\n",
       "      <th>12</th>\n",
       "      <td>66</td>\n",
       "    </tr>\n",
       "  </tbody>\n",
       "</table>\n",
       "<p>2717 rows × 1 columns</p>\n",
       "</div>"
      ],
      "text/plain": [
       "               message_count\n",
       "user_id month               \n",
       "1000    5                 22\n",
       "        6                 60\n",
       "        7                 75\n",
       "        8                 81\n",
       "        9                 57\n",
       "...                      ...\n",
       "1498    10                42\n",
       "1499    9                 11\n",
       "        10                48\n",
       "        11                59\n",
       "        12                66\n",
       "\n",
       "[2717 rows x 1 columns]"
      ]
     },
     "execution_count": 13,
     "metadata": {},
     "output_type": "execute_result"
    }
   ],
   "source": [
    "message_pt = messages.pivot_table(index =['user_id', 'month'], values = 'id', aggfunc = ['count'] )\n",
    "message_pt.columns = ['message_count']\n",
    "message_pt"
   ]
  },
  {
   "cell_type": "markdown",
   "metadata": {},
   "source": [
    "**Calculate the number of megabytes used for users by months:**"
   ]
  },
  {
   "cell_type": "code",
   "execution_count": 14,
   "metadata": {},
   "outputs": [
    {
     "data": {
      "text/html": [
       "<div>\n",
       "<style scoped>\n",
       "    .dataframe tbody tr th:only-of-type {\n",
       "        vertical-align: middle;\n",
       "    }\n",
       "\n",
       "    .dataframe tbody tr th {\n",
       "        vertical-align: top;\n",
       "    }\n",
       "\n",
       "    .dataframe thead th {\n",
       "        text-align: right;\n",
       "    }\n",
       "</style>\n",
       "<table border=\"1\" class=\"dataframe\">\n",
       "  <thead>\n",
       "    <tr style=\"text-align: right;\">\n",
       "      <th></th>\n",
       "      <th></th>\n",
       "      <th>mb_sum</th>\n",
       "    </tr>\n",
       "    <tr>\n",
       "      <th>user_id</th>\n",
       "      <th>month</th>\n",
       "      <th></th>\n",
       "    </tr>\n",
       "  </thead>\n",
       "  <tbody>\n",
       "    <tr>\n",
       "      <th rowspan=\"5\" valign=\"top\">1000</th>\n",
       "      <th>5</th>\n",
       "      <td>2253.49</td>\n",
       "    </tr>\n",
       "    <tr>\n",
       "      <th>6</th>\n",
       "      <td>23233.77</td>\n",
       "    </tr>\n",
       "    <tr>\n",
       "      <th>7</th>\n",
       "      <td>14003.64</td>\n",
       "    </tr>\n",
       "    <tr>\n",
       "      <th>8</th>\n",
       "      <td>14055.93</td>\n",
       "    </tr>\n",
       "    <tr>\n",
       "      <th>9</th>\n",
       "      <td>14568.91</td>\n",
       "    </tr>\n",
       "    <tr>\n",
       "      <th>...</th>\n",
       "      <th>...</th>\n",
       "      <td>...</td>\n",
       "    </tr>\n",
       "    <tr>\n",
       "      <th>1498</th>\n",
       "      <th>10</th>\n",
       "      <td>20579.36</td>\n",
       "    </tr>\n",
       "    <tr>\n",
       "      <th rowspan=\"4\" valign=\"top\">1499</th>\n",
       "      <th>9</th>\n",
       "      <td>1845.75</td>\n",
       "    </tr>\n",
       "    <tr>\n",
       "      <th>10</th>\n",
       "      <td>17788.51</td>\n",
       "    </tr>\n",
       "    <tr>\n",
       "      <th>11</th>\n",
       "      <td>17963.31</td>\n",
       "    </tr>\n",
       "    <tr>\n",
       "      <th>12</th>\n",
       "      <td>13055.58</td>\n",
       "    </tr>\n",
       "  </tbody>\n",
       "</table>\n",
       "<p>3203 rows × 1 columns</p>\n",
       "</div>"
      ],
      "text/plain": [
       "                 mb_sum\n",
       "user_id month          \n",
       "1000    5       2253.49\n",
       "        6      23233.77\n",
       "        7      14003.64\n",
       "        8      14055.93\n",
       "        9      14568.91\n",
       "...                 ...\n",
       "1498    10     20579.36\n",
       "1499    9       1845.75\n",
       "        10     17788.51\n",
       "        11     17963.31\n",
       "        12     13055.58\n",
       "\n",
       "[3203 rows x 1 columns]"
      ]
     },
     "execution_count": 14,
     "metadata": {},
     "output_type": "execute_result"
    }
   ],
   "source": [
    "internet_pt = internet.pivot_table(index =['user_id', 'month'], values = 'mb_used', aggfunc = ['sum'] )\n",
    "internet_pt.columns = ['mb_sum']\n",
    "internet_pt"
   ]
  },
  {
   "cell_type": "markdown",
   "metadata": {},
   "source": [
    "**Consolidate data into one table:**"
   ]
  },
  {
   "cell_type": "code",
   "execution_count": 15,
   "metadata": {},
   "outputs": [
    {
     "data": {
      "text/html": [
       "<div>\n",
       "<style scoped>\n",
       "    .dataframe tbody tr th:only-of-type {\n",
       "        vertical-align: middle;\n",
       "    }\n",
       "\n",
       "    .dataframe tbody tr th {\n",
       "        vertical-align: top;\n",
       "    }\n",
       "\n",
       "    .dataframe thead th {\n",
       "        text-align: right;\n",
       "    }\n",
       "</style>\n",
       "<table border=\"1\" class=\"dataframe\">\n",
       "  <thead>\n",
       "    <tr style=\"text-align: right;\">\n",
       "      <th></th>\n",
       "      <th>user_id</th>\n",
       "      <th>month</th>\n",
       "      <th>call_time</th>\n",
       "      <th>call_count</th>\n",
       "      <th>message_count</th>\n",
       "      <th>mb_sum</th>\n",
       "      <th>tariff</th>\n",
       "    </tr>\n",
       "  </thead>\n",
       "  <tbody>\n",
       "    <tr>\n",
       "      <th>0</th>\n",
       "      <td>1000</td>\n",
       "      <td>5</td>\n",
       "      <td>159</td>\n",
       "      <td>22</td>\n",
       "      <td>22.0</td>\n",
       "      <td>2253.49</td>\n",
       "      <td>ultra</td>\n",
       "    </tr>\n",
       "    <tr>\n",
       "      <th>1</th>\n",
       "      <td>1000</td>\n",
       "      <td>6</td>\n",
       "      <td>172</td>\n",
       "      <td>43</td>\n",
       "      <td>60.0</td>\n",
       "      <td>23233.77</td>\n",
       "      <td>ultra</td>\n",
       "    </tr>\n",
       "    <tr>\n",
       "      <th>2</th>\n",
       "      <td>1000</td>\n",
       "      <td>7</td>\n",
       "      <td>340</td>\n",
       "      <td>47</td>\n",
       "      <td>75.0</td>\n",
       "      <td>14003.64</td>\n",
       "      <td>ultra</td>\n",
       "    </tr>\n",
       "    <tr>\n",
       "      <th>3</th>\n",
       "      <td>1000</td>\n",
       "      <td>8</td>\n",
       "      <td>408</td>\n",
       "      <td>52</td>\n",
       "      <td>81.0</td>\n",
       "      <td>14055.93</td>\n",
       "      <td>ultra</td>\n",
       "    </tr>\n",
       "    <tr>\n",
       "      <th>4</th>\n",
       "      <td>1000</td>\n",
       "      <td>9</td>\n",
       "      <td>466</td>\n",
       "      <td>58</td>\n",
       "      <td>57.0</td>\n",
       "      <td>14568.91</td>\n",
       "      <td>ultra</td>\n",
       "    </tr>\n",
       "    <tr>\n",
       "      <th>...</th>\n",
       "      <td>...</td>\n",
       "      <td>...</td>\n",
       "      <td>...</td>\n",
       "      <td>...</td>\n",
       "      <td>...</td>\n",
       "      <td>...</td>\n",
       "      <td>...</td>\n",
       "    </tr>\n",
       "    <tr>\n",
       "      <th>3169</th>\n",
       "      <td>1498</td>\n",
       "      <td>10</td>\n",
       "      <td>247</td>\n",
       "      <td>41</td>\n",
       "      <td>42.0</td>\n",
       "      <td>20579.36</td>\n",
       "      <td>smart</td>\n",
       "    </tr>\n",
       "    <tr>\n",
       "      <th>3170</th>\n",
       "      <td>1499</td>\n",
       "      <td>9</td>\n",
       "      <td>70</td>\n",
       "      <td>9</td>\n",
       "      <td>11.0</td>\n",
       "      <td>1845.75</td>\n",
       "      <td>smart</td>\n",
       "    </tr>\n",
       "    <tr>\n",
       "      <th>3171</th>\n",
       "      <td>1499</td>\n",
       "      <td>10</td>\n",
       "      <td>449</td>\n",
       "      <td>68</td>\n",
       "      <td>48.0</td>\n",
       "      <td>17788.51</td>\n",
       "      <td>smart</td>\n",
       "    </tr>\n",
       "    <tr>\n",
       "      <th>3172</th>\n",
       "      <td>1499</td>\n",
       "      <td>11</td>\n",
       "      <td>612</td>\n",
       "      <td>74</td>\n",
       "      <td>59.0</td>\n",
       "      <td>17963.31</td>\n",
       "      <td>smart</td>\n",
       "    </tr>\n",
       "    <tr>\n",
       "      <th>3173</th>\n",
       "      <td>1499</td>\n",
       "      <td>12</td>\n",
       "      <td>492</td>\n",
       "      <td>69</td>\n",
       "      <td>66.0</td>\n",
       "      <td>13055.58</td>\n",
       "      <td>smart</td>\n",
       "    </tr>\n",
       "  </tbody>\n",
       "</table>\n",
       "<p>3174 rows × 7 columns</p>\n",
       "</div>"
      ],
      "text/plain": [
       "      user_id  month  call_time  call_count  message_count    mb_sum tariff\n",
       "0        1000      5        159          22           22.0   2253.49  ultra\n",
       "1        1000      6        172          43           60.0  23233.77  ultra\n",
       "2        1000      7        340          47           75.0  14003.64  ultra\n",
       "3        1000      8        408          52           81.0  14055.93  ultra\n",
       "4        1000      9        466          58           57.0  14568.91  ultra\n",
       "...       ...    ...        ...         ...            ...       ...    ...\n",
       "3169     1498     10        247          41           42.0  20579.36  smart\n",
       "3170     1499      9         70           9           11.0   1845.75  smart\n",
       "3171     1499     10        449          68           48.0  17788.51  smart\n",
       "3172     1499     11        612          74           59.0  17963.31  smart\n",
       "3173     1499     12        492          69           66.0  13055.58  smart\n",
       "\n",
       "[3174 rows x 7 columns]"
      ]
     },
     "execution_count": 15,
     "metadata": {},
     "output_type": "execute_result"
    }
   ],
   "source": [
    "df_all = calls_pt.merge(message_pt, on = ['user_id', 'month'], how = 'left')\n",
    "df_all = df_all.merge(internet_pt, on = ['user_id', 'month'], how = 'left')\n",
    "df_all = df_all.reset_index(drop=False)\n",
    "df_all = df_all.merge(users[['user_id', 'tariff']], on='user_id', how = 'left')\n",
    "df_all.isnull().sum()\n",
    "df_all.message_count = df_all.message_count.fillna(0)\n",
    "df_all.mb_sum = df_all.mb_sum.fillna(0)\n",
    "df_all"
   ]
  },
  {
   "cell_type": "code",
   "execution_count": 16,
   "metadata": {},
   "outputs": [
    {
     "data": {
      "text/html": [
       "<div>\n",
       "<style scoped>\n",
       "    .dataframe tbody tr th:only-of-type {\n",
       "        vertical-align: middle;\n",
       "    }\n",
       "\n",
       "    .dataframe tbody tr th {\n",
       "        vertical-align: top;\n",
       "    }\n",
       "\n",
       "    .dataframe thead th {\n",
       "        text-align: right;\n",
       "    }\n",
       "</style>\n",
       "<table border=\"1\" class=\"dataframe\">\n",
       "  <thead>\n",
       "    <tr style=\"text-align: right;\">\n",
       "      <th></th>\n",
       "      <th>messages_included</th>\n",
       "      <th>mb_per_month_included</th>\n",
       "      <th>minutes_included</th>\n",
       "      <th>rub_monthly_fee</th>\n",
       "      <th>rub_per_gb</th>\n",
       "      <th>rub_per_message</th>\n",
       "      <th>rub_per_minute</th>\n",
       "      <th>tariff_name</th>\n",
       "    </tr>\n",
       "  </thead>\n",
       "  <tbody>\n",
       "    <tr>\n",
       "      <th>0</th>\n",
       "      <td>50</td>\n",
       "      <td>15360</td>\n",
       "      <td>500</td>\n",
       "      <td>550</td>\n",
       "      <td>200</td>\n",
       "      <td>3</td>\n",
       "      <td>3</td>\n",
       "      <td>smart</td>\n",
       "    </tr>\n",
       "    <tr>\n",
       "      <th>1</th>\n",
       "      <td>1000</td>\n",
       "      <td>30720</td>\n",
       "      <td>3000</td>\n",
       "      <td>1950</td>\n",
       "      <td>150</td>\n",
       "      <td>1</td>\n",
       "      <td>1</td>\n",
       "      <td>ultra</td>\n",
       "    </tr>\n",
       "  </tbody>\n",
       "</table>\n",
       "</div>"
      ],
      "text/plain": [
       "   messages_included  mb_per_month_included  minutes_included  \\\n",
       "0                 50                  15360               500   \n",
       "1               1000                  30720              3000   \n",
       "\n",
       "   rub_monthly_fee  rub_per_gb  rub_per_message  rub_per_minute tariff_name  \n",
       "0              550         200                3               3       smart  \n",
       "1             1950         150                1               1       ultra  "
      ]
     },
     "execution_count": 16,
     "metadata": {},
     "output_type": "execute_result"
    }
   ],
   "source": [
    "tariffs"
   ]
  },
  {
   "cell_type": "markdown",
   "metadata": {},
   "source": [
    "### 4. Exploring the data:"
   ]
  },
  {
   "cell_type": "markdown",
   "metadata": {},
   "source": [
    "#### Сreate a function for calculating revenue:"
   ]
  },
  {
   "cell_type": "code",
   "execution_count": 17,
   "metadata": {},
   "outputs": [],
   "source": [
    "def gain_calc(row):\n",
    "    time = row['call_time']\n",
    "    call_count = row['call_count']\n",
    "    mess_count = row['message_count']\n",
    "    mb = row['mb_sum']\n",
    "    tarif = row['tariff']\n",
    "    \n",
    "    if tarif == 'smart':\n",
    "        over_time = time - tariffs.loc[0, 'minutes_included'] \n",
    "        over_mess = mess_count - tariffs.loc[0, 'messages_included'] \n",
    "        over_mb = mb - tariffs.loc[0, 'mb_per_month_included'] \n",
    "        gb = math.ceil(over_mb / 1024)\n",
    "        \n",
    "        if over_time < 0:\n",
    "            over_time = 0\n",
    "        if over_mess < 0:\n",
    "            over_mess = 0\n",
    "        if over_mb < 0:\n",
    "            gb = 0\n",
    "            \n",
    "        gain =  ( tariffs.loc[0, 'rub_monthly_fee'] + over_time * tariffs.loc[0, 'rub_per_minute'] \n",
    "                 + over_mess * tariffs.loc[0, 'rub_per_message'] + gb * tariffs.loc[0, 'rub_per_gb'])\n",
    "        return gain\n",
    "    \n",
    "    if tarif == 'ultra':\n",
    "        over_time = time - tariffs.loc[1, 'minutes_included'] \n",
    "        over_mess = mess_count - tariffs.loc[1, 'messages_included'] \n",
    "        over_mb = mb - tariffs.loc[1, 'mb_per_month_included'] \n",
    "        gb = math.ceil(over_mb / 1024)\n",
    "        \n",
    "        if over_time < 0:\n",
    "            over_time = 0\n",
    "        if over_mess < 0:\n",
    "            over_mess = 0\n",
    "        if over_mb < 0:\n",
    "            gb = 0\n",
    "            \n",
    "        revenue =  (tariffs.loc[1, 'rub_monthly_fee'] + over_time * tariffs.loc[1, 'rub_per_minute'] \n",
    "                 + over_mess * tariffs.loc[1, 'rub_per_message'] + gb * tariffs.loc[1, 'rub_per_gb'])\n",
    "        return revenue"
   ]
  },
  {
   "cell_type": "markdown",
   "metadata": {},
   "source": [
    "#### Apply the function to the dataset by creating a column with the amount of revenue:"
   ]
  },
  {
   "cell_type": "code",
   "execution_count": 18,
   "metadata": {},
   "outputs": [],
   "source": [
    "df_all['revenue'] = df_all.apply(gain_calc, axis=1)"
   ]
  },
  {
   "cell_type": "code",
   "execution_count": 19,
   "metadata": {},
   "outputs": [
    {
     "data": {
      "text/html": [
       "<div>\n",
       "<style scoped>\n",
       "    .dataframe tbody tr th:only-of-type {\n",
       "        vertical-align: middle;\n",
       "    }\n",
       "\n",
       "    .dataframe tbody tr th {\n",
       "        vertical-align: top;\n",
       "    }\n",
       "\n",
       "    .dataframe thead th {\n",
       "        text-align: right;\n",
       "    }\n",
       "</style>\n",
       "<table border=\"1\" class=\"dataframe\">\n",
       "  <thead>\n",
       "    <tr style=\"text-align: right;\">\n",
       "      <th></th>\n",
       "      <th>user_id</th>\n",
       "      <th>month</th>\n",
       "      <th>call_time</th>\n",
       "      <th>call_count</th>\n",
       "      <th>message_count</th>\n",
       "      <th>mb_sum</th>\n",
       "      <th>tariff</th>\n",
       "      <th>revenue</th>\n",
       "    </tr>\n",
       "  </thead>\n",
       "  <tbody>\n",
       "    <tr>\n",
       "      <th>0</th>\n",
       "      <td>1000</td>\n",
       "      <td>5</td>\n",
       "      <td>159</td>\n",
       "      <td>22</td>\n",
       "      <td>22.0</td>\n",
       "      <td>2253.49</td>\n",
       "      <td>ultra</td>\n",
       "      <td>1950.0</td>\n",
       "    </tr>\n",
       "    <tr>\n",
       "      <th>1</th>\n",
       "      <td>1000</td>\n",
       "      <td>6</td>\n",
       "      <td>172</td>\n",
       "      <td>43</td>\n",
       "      <td>60.0</td>\n",
       "      <td>23233.77</td>\n",
       "      <td>ultra</td>\n",
       "      <td>1950.0</td>\n",
       "    </tr>\n",
       "    <tr>\n",
       "      <th>2</th>\n",
       "      <td>1000</td>\n",
       "      <td>7</td>\n",
       "      <td>340</td>\n",
       "      <td>47</td>\n",
       "      <td>75.0</td>\n",
       "      <td>14003.64</td>\n",
       "      <td>ultra</td>\n",
       "      <td>1950.0</td>\n",
       "    </tr>\n",
       "    <tr>\n",
       "      <th>3</th>\n",
       "      <td>1000</td>\n",
       "      <td>8</td>\n",
       "      <td>408</td>\n",
       "      <td>52</td>\n",
       "      <td>81.0</td>\n",
       "      <td>14055.93</td>\n",
       "      <td>ultra</td>\n",
       "      <td>1950.0</td>\n",
       "    </tr>\n",
       "    <tr>\n",
       "      <th>4</th>\n",
       "      <td>1000</td>\n",
       "      <td>9</td>\n",
       "      <td>466</td>\n",
       "      <td>58</td>\n",
       "      <td>57.0</td>\n",
       "      <td>14568.91</td>\n",
       "      <td>ultra</td>\n",
       "      <td>1950.0</td>\n",
       "    </tr>\n",
       "  </tbody>\n",
       "</table>\n",
       "</div>"
      ],
      "text/plain": [
       "   user_id  month  call_time  call_count  message_count    mb_sum tariff  \\\n",
       "0     1000      5        159          22           22.0   2253.49  ultra   \n",
       "1     1000      6        172          43           60.0  23233.77  ultra   \n",
       "2     1000      7        340          47           75.0  14003.64  ultra   \n",
       "3     1000      8        408          52           81.0  14055.93  ultra   \n",
       "4     1000      9        466          58           57.0  14568.91  ultra   \n",
       "\n",
       "   revenue  \n",
       "0   1950.0  \n",
       "1   1950.0  \n",
       "2   1950.0  \n",
       "3   1950.0  \n",
       "4   1950.0  "
      ]
     },
     "execution_count": 19,
     "metadata": {},
     "output_type": "execute_result"
    }
   ],
   "source": [
    "df_all.head()"
   ]
  },
  {
   "cell_type": "markdown",
   "metadata": {},
   "source": [
    "#### Calculate the median, the average revenue from ultra and smart tariffs:\n"
   ]
  },
  {
   "cell_type": "code",
   "execution_count": 20,
   "metadata": {},
   "outputs": [
    {
     "data": {
      "text/html": [
       "<div>\n",
       "<style scoped>\n",
       "    .dataframe tbody tr th:only-of-type {\n",
       "        vertical-align: middle;\n",
       "    }\n",
       "\n",
       "    .dataframe tbody tr th {\n",
       "        vertical-align: top;\n",
       "    }\n",
       "\n",
       "    .dataframe thead th {\n",
       "        text-align: right;\n",
       "    }\n",
       "</style>\n",
       "<table border=\"1\" class=\"dataframe\">\n",
       "  <thead>\n",
       "    <tr style=\"text-align: right;\">\n",
       "      <th></th>\n",
       "      <th>messages_included</th>\n",
       "      <th>mb_per_month_included</th>\n",
       "      <th>minutes_included</th>\n",
       "      <th>rub_monthly_fee</th>\n",
       "      <th>rub_per_gb</th>\n",
       "      <th>rub_per_message</th>\n",
       "      <th>rub_per_minute</th>\n",
       "      <th>tariff_name</th>\n",
       "    </tr>\n",
       "  </thead>\n",
       "  <tbody>\n",
       "    <tr>\n",
       "      <th>0</th>\n",
       "      <td>50</td>\n",
       "      <td>15360</td>\n",
       "      <td>500</td>\n",
       "      <td>550</td>\n",
       "      <td>200</td>\n",
       "      <td>3</td>\n",
       "      <td>3</td>\n",
       "      <td>smart</td>\n",
       "    </tr>\n",
       "    <tr>\n",
       "      <th>1</th>\n",
       "      <td>1000</td>\n",
       "      <td>30720</td>\n",
       "      <td>3000</td>\n",
       "      <td>1950</td>\n",
       "      <td>150</td>\n",
       "      <td>1</td>\n",
       "      <td>1</td>\n",
       "      <td>ultra</td>\n",
       "    </tr>\n",
       "  </tbody>\n",
       "</table>\n",
       "</div>"
      ],
      "text/plain": [
       "   messages_included  mb_per_month_included  minutes_included  \\\n",
       "0                 50                  15360               500   \n",
       "1               1000                  30720              3000   \n",
       "\n",
       "   rub_monthly_fee  rub_per_gb  rub_per_message  rub_per_minute tariff_name  \n",
       "0              550         200                3               3       smart  \n",
       "1             1950         150                1               1       ultra  "
      ]
     },
     "metadata": {},
     "output_type": "display_data"
    },
    {
     "data": {
      "text/html": [
       "<div>\n",
       "<style scoped>\n",
       "    .dataframe tbody tr th:only-of-type {\n",
       "        vertical-align: middle;\n",
       "    }\n",
       "\n",
       "    .dataframe tbody tr th {\n",
       "        vertical-align: top;\n",
       "    }\n",
       "\n",
       "    .dataframe thead th {\n",
       "        text-align: right;\n",
       "    }\n",
       "</style>\n",
       "<table border=\"1\" class=\"dataframe\">\n",
       "  <thead>\n",
       "    <tr style=\"text-align: right;\">\n",
       "      <th></th>\n",
       "      <th>call_count</th>\n",
       "      <th>call_time</th>\n",
       "      <th>mb_sum</th>\n",
       "      <th>message_count</th>\n",
       "      <th>month</th>\n",
       "      <th>revenue</th>\n",
       "      <th>user_id</th>\n",
       "    </tr>\n",
       "    <tr>\n",
       "      <th>tariff</th>\n",
       "      <th></th>\n",
       "      <th></th>\n",
       "      <th></th>\n",
       "      <th></th>\n",
       "      <th></th>\n",
       "      <th></th>\n",
       "      <th></th>\n",
       "    </tr>\n",
       "  </thead>\n",
       "  <tbody>\n",
       "    <tr>\n",
       "      <th>smart</th>\n",
       "      <td>60</td>\n",
       "      <td>423</td>\n",
       "      <td>16504.11</td>\n",
       "      <td>28.0</td>\n",
       "      <td>9</td>\n",
       "      <td>1030.0</td>\n",
       "      <td>1239</td>\n",
       "    </tr>\n",
       "    <tr>\n",
       "      <th>ultra</th>\n",
       "      <td>75</td>\n",
       "      <td>528</td>\n",
       "      <td>19352.48</td>\n",
       "      <td>39.0</td>\n",
       "      <td>9</td>\n",
       "      <td>1950.0</td>\n",
       "      <td>1281</td>\n",
       "    </tr>\n",
       "  </tbody>\n",
       "</table>\n",
       "</div>"
      ],
      "text/plain": [
       "        call_count  call_time    mb_sum  message_count  month  revenue  \\\n",
       "tariff                                                                   \n",
       "smart           60        423  16504.11           28.0      9   1030.0   \n",
       "ultra           75        528  19352.48           39.0      9   1950.0   \n",
       "\n",
       "        user_id  \n",
       "tariff           \n",
       "smart      1239  \n",
       "ultra      1281  "
      ]
     },
     "execution_count": 20,
     "metadata": {},
     "output_type": "execute_result"
    }
   ],
   "source": [
    "df_mean = df_all.pivot_table(index = 'tariff', aggfunc = 'median')\n",
    "display(tariffs)\n",
    "df_mean"
   ]
  },
  {
   "cell_type": "markdown",
   "metadata": {},
   "source": [
    "### Conclusion: \n",
    "   - ULTRA users are mainly invested in the monthly payment, and use more time, internet and messages. \n",
    "   - SMART users - no, they have to pay almost the cost of a monthly plan, although they use less in total."
   ]
  },
  {
   "cell_type": "markdown",
   "metadata": {},
   "source": [
    "### Create histograms:"
   ]
  },
  {
   "cell_type": "code",
   "execution_count": 21,
   "metadata": {},
   "outputs": [
    {
     "data": {
      "text/plain": [
       "Text(0.5, 1.0, 'Call histogram')"
      ]
     },
     "execution_count": 21,
     "metadata": {},
     "output_type": "execute_result"
    },
    {
     "data": {
      "image/png": "[encoded data removed]",
      "text/plain": [
       "<Figure size 432x288 with 1 Axes>"
      ]
     },
     "metadata": {
      "needs_background": "light"
     },
     "output_type": "display_data"
    }
   ],
   "source": [
    "smart_t = df_all.query('tariff == \"smart\"')\n",
    "ultra_t = df_all.query('tariff == \"ultra\"')\n",
    "smart_t.call_time.hist(alpha = 0.5)\n",
    "ultra_t.call_time.hist(alpha = 0.5)\n",
    "plt.legend(['smart', 'ultra'])\n",
    "plt.xlabel('Minute')\n",
    "plt.ylabel('Total Users')\n",
    "plt.title('Call histogram')\n"
   ]
  },
  {
   "cell_type": "code",
   "execution_count": 22,
   "metadata": {},
   "outputs": [
    {
     "data": {
      "text/plain": [
       "Text(0.5, 1.0, 'Message count histogram')"
      ]
     },
     "execution_count": 22,
     "metadata": {},
     "output_type": "execute_result"
    },
    {
     "data": {
      "image/png": "[encoded data removed]",
      "text/plain": [
       "<Figure size 432x288 with 1 Axes>"
      ]
     },
     "metadata": {
      "needs_background": "light"
     },
     "output_type": "display_data"
    }
   ],
   "source": [
    "smart_t.message_count.hist(alpha = 0.5)\n",
    "ultra_t.message_count.hist(alpha = 0.5)\n",
    "plt.legend(['smart', 'ultra'])\n",
    "plt.xlabel('Messages')\n",
    "plt.ylabel('Total Users')\n",
    "plt.title('Message count histogram')\n"
   ]
  },
  {
   "cell_type": "code",
   "execution_count": 23,
   "metadata": {},
   "outputs": [
    {
     "data": {
      "text/plain": [
       "Text(0.5, 1.0, 'Internet consumption histogram')"
      ]
     },
     "execution_count": 23,
     "metadata": {},
     "output_type": "execute_result"
    },
    {
     "data": {
      "image/png": "[encoded data removed]",
      "text/plain": [
       "<Figure size 432x288 with 1 Axes>"
      ]
     },
     "metadata": {
      "needs_background": "light"
     },
     "output_type": "display_data"
    }
   ],
   "source": [
    "smart_t.mb_sum.hist(alpha = 0.5)\n",
    "ultra_t.mb_sum.hist(alpha = 0.5)\n",
    "plt.legend(['smart', 'ultra'])\n",
    "plt.xlabel('Мegabytes')\n",
    "plt.ylabel('Total Users')\n",
    "plt.title('Internet consumption histogram')"
   ]
  },
  {
   "cell_type": "markdown",
   "metadata": {},
   "source": [
    "### Conclusion: \n",
    "In terms of the duration of calls and Internet consumption, the number of messages, we see that:\n",
    "   - The dispersion is greater on `Ultra`\n",
    "   - on `Smart` users try to keep within the allotted limits."
   ]
  },
  {
   "cell_type": "markdown",
   "metadata": {},
   "source": [
    "### 5. Hypothesis research:"
   ]
  },
  {
   "cell_type": "markdown",
   "metadata": {},
   "source": [
    "### 5.1 First hypothesis:"
   ]
  },
  {
   "cell_type": "markdown",
   "metadata": {},
   "source": [
    "`Null hypothesis`:\n",
    "   - The average revenue of ultra and smart tariffs is the same.\n",
    "   \n",
    "`Alternative hypothesis`:\n",
    "   - The average revenue of ultra and smart tariffs is different.\n",
    "   \n",
    "Threshold value of alpha - 0.05"
   ]
  },
  {
   "cell_type": "code",
   "execution_count": 24,
   "metadata": {},
   "outputs": [
    {
     "name": "stdout",
     "output_type": "stream",
     "text": [
      "p-value: 2.1830308249112924e-155\n",
      "Rejecting the null hypothesis\n"
     ]
    }
   ],
   "source": [
    "alpha = 0.05 \n",
    "results = st.ttest_ind(\n",
    "    smart_t['revenue'], \n",
    "    ultra_t['revenue'])\n",
    "\n",
    "print(f'p-value: {results.pvalue}')\n",
    "\n",
    "if (results.pvalue < alpha):\n",
    "    print(\"Rejecting the null hypothesis\")\n",
    "else:\n",
    "    print(\"Failed to reject the null hypothesis\")"
   ]
  },
  {
   "cell_type": "markdown",
   "metadata": {},
   "source": [
    "**The conclusion is that the average revenue of tariffs is really different. Null hypothesis is not confirmed**"
   ]
  },
  {
   "cell_type": "markdown",
   "metadata": {},
   "source": [
    "### 5.2 Second hypothesis:"
   ]
  },
  {
   "cell_type": "markdown",
   "metadata": {},
   "source": [
    "`Null hypothesis`:\n",
    "   - the average revenue of users from Moscow is equal to the revenue of users from other regions.\n",
    "   \n",
    "`Alternative hypothesis`:\n",
    "   - the average revenue of users from Moscow differs from the revenue of users from other regions.\n",
    "   \n",
    "Threshold value of alpha - 0.05"
   ]
  },
  {
   "cell_type": "code",
   "execution_count": 25,
   "metadata": {},
   "outputs": [],
   "source": [
    "df_all_city = df_all.merge(users, on = 'user_id')\n",
    "df_moskow = df_all_city.query('city == \"Москва\"')\n",
    "df_any = df_all_city.query('city != \"Москва\"')"
   ]
  },
  {
   "cell_type": "code",
   "execution_count": 26,
   "metadata": {},
   "outputs": [
    {
     "name": "stdout",
     "output_type": "stream",
     "text": [
      "p-value: 0.4619932225305272\n",
      "Failed to reject the null hypothesis\n"
     ]
    }
   ],
   "source": [
    "alpha = 0.05 \n",
    "results = st.ttest_ind(\n",
    "    df_moskow['revenue'], \n",
    "    df_any['revenue'])\n",
    "\n",
    "print(f'p-value: {results.pvalue}')\n",
    "\n",
    "if (results.pvalue < alpha):\n",
    "    print(\"Rejecting the null hypothesis\")\n",
    "else:\n",
    "    print(\"Failed to reject the null hypothesis\")"
   ]
  },
  {
   "cell_type": "markdown",
   "metadata": {},
   "source": [
    "#### Conclusion - the average revenue in Moscow and other cities is practically the same."
   ]
  },
  {
   "cell_type": "markdown",
   "metadata": {},
   "source": [
    "### General conclusions:\n",
    "- Opened several tables, looked at the data, processed them for analysis.\n",
    "- In the course of the work, pivot_tables and histograms were used.\n",
    "- Made the following conclusions:\n",
    "    - For the operator, the ultra tariff is more profitable, as it brings more revenue.\n",
    "    - In the smart tariff, users limit themselves and try not to go beyond the limits, but basically they have to pay extra for minutes and gigabytes. Smart tariff is more favorable for users\n",
    "    - We checked the hypotheses, the average revenue in Moscow does not differ from other cities, and the average revenue of tariffs differs"
   ]
  },
  {
   "cell_type": "code",
   "execution_count": null,
   "metadata": {},
   "outputs": [],
   "source": []
  }
 ],
 "metadata": {
  "ExecuteTimeLog": [
   {
    "duration": 660,
    "start_time": "2022-01-30T14:04:27.412Z"
   },
   {
    "duration": 353,
    "start_time": "2022-01-30T14:05:34.343Z"
   },
   {
    "duration": 366,
    "start_time": "2022-01-30T14:06:00.217Z"
   },
   {
    "duration": 24,
    "start_time": "2022-01-30T14:10:36.463Z"
   },
   {
    "duration": 6,
    "start_time": "2022-01-30T14:10:41.323Z"
   },
   {
    "duration": 88,
    "start_time": "2022-01-30T14:10:45.689Z"
   },
   {
    "duration": 19,
    "start_time": "2022-01-30T14:10:55.529Z"
   },
   {
    "duration": 6,
    "start_time": "2022-01-30T14:11:27.382Z"
   },
   {
    "duration": 16,
    "start_time": "2022-01-30T14:11:42.573Z"
   },
   {
    "duration": 13,
    "start_time": "2022-01-30T14:11:52.580Z"
   },
   {
    "duration": 6,
    "start_time": "2022-01-30T14:12:00.134Z"
   },
   {
    "duration": 6,
    "start_time": "2022-01-30T14:12:05.713Z"
   },
   {
    "duration": 7,
    "start_time": "2022-01-30T14:12:17.090Z"
   },
   {
    "duration": 9,
    "start_time": "2022-01-30T14:12:41.535Z"
   },
   {
    "duration": 5,
    "start_time": "2022-01-30T14:12:56.767Z"
   },
   {
    "duration": 24,
    "start_time": "2022-01-30T14:13:00.588Z"
   },
   {
    "duration": 6,
    "start_time": "2022-01-30T14:13:05.364Z"
   },
   {
    "duration": 23,
    "start_time": "2022-01-30T14:13:08.509Z"
   },
   {
    "duration": 7,
    "start_time": "2022-01-30T14:14:59.105Z"
   },
   {
    "duration": 7,
    "start_time": "2022-01-30T14:16:15.376Z"
   },
   {
    "duration": 372,
    "start_time": "2022-01-30T14:17:22.387Z"
   },
   {
    "duration": 321,
    "start_time": "2022-01-30T14:17:38.427Z"
   },
   {
    "duration": 255,
    "start_time": "2022-01-30T14:18:01.265Z"
   },
   {
    "duration": 280,
    "start_time": "2022-01-30T14:18:47.429Z"
   },
   {
    "duration": 360,
    "start_time": "2022-01-30T14:18:55.685Z"
   },
   {
    "duration": 237,
    "start_time": "2022-01-30T14:18:58.568Z"
   },
   {
    "duration": 86,
    "start_time": "2022-01-30T14:19:07.613Z"
   },
   {
    "duration": 9,
    "start_time": "2022-01-30T14:19:13.166Z"
   },
   {
    "duration": 8,
    "start_time": "2022-01-30T14:19:24.668Z"
   },
   {
    "duration": 21,
    "start_time": "2022-01-30T14:20:46.205Z"
   },
   {
    "duration": 297,
    "start_time": "2022-01-30T15:10:31.278Z"
   },
   {
    "duration": 30,
    "start_time": "2022-01-30T15:10:38.006Z"
   },
   {
    "duration": 19,
    "start_time": "2022-01-30T15:10:46.517Z"
   },
   {
    "duration": 254,
    "start_time": "2022-01-30T15:11:19.842Z"
   },
   {
    "duration": 31,
    "start_time": "2022-01-30T15:11:30.348Z"
   },
   {
    "duration": 32,
    "start_time": "2022-01-30T15:12:01.225Z"
   },
   {
    "duration": 32,
    "start_time": "2022-01-30T15:12:25.320Z"
   },
   {
    "duration": 31,
    "start_time": "2022-01-30T15:13:07.258Z"
   },
   {
    "duration": 16,
    "start_time": "2022-01-30T15:13:58.343Z"
   },
   {
    "duration": 20,
    "start_time": "2022-01-30T15:14:14.712Z"
   },
   {
    "duration": 18,
    "start_time": "2022-01-30T15:20:51.929Z"
   },
   {
    "duration": 31,
    "start_time": "2022-01-30T15:21:55.712Z"
   },
   {
    "duration": 45,
    "start_time": "2022-01-30T15:22:45.427Z"
   },
   {
    "duration": 39,
    "start_time": "2022-01-30T15:22:59.235Z"
   },
   {
    "duration": 36,
    "start_time": "2022-01-30T15:23:05.297Z"
   },
   {
    "duration": 351,
    "start_time": "2022-01-30T15:23:08.919Z"
   },
   {
    "duration": 19,
    "start_time": "2022-01-30T15:23:09.271Z"
   },
   {
    "duration": 48,
    "start_time": "2022-01-30T15:23:09.291Z"
   },
   {
    "duration": 73,
    "start_time": "2022-01-30T15:23:09.340Z"
   },
   {
    "duration": 43,
    "start_time": "2022-01-30T15:25:48.595Z"
   },
   {
    "duration": 16,
    "start_time": "2022-01-30T15:27:12.983Z"
   },
   {
    "duration": 40,
    "start_time": "2022-01-30T15:27:49.626Z"
   },
   {
    "duration": 295,
    "start_time": "2022-01-30T15:27:57.113Z"
   },
   {
    "duration": 29,
    "start_time": "2022-01-30T15:28:02.011Z"
   },
   {
    "duration": 288,
    "start_time": "2022-01-30T15:32:24.912Z"
   },
   {
    "duration": 320,
    "start_time": "2022-01-30T15:32:29.095Z"
   },
   {
    "duration": 274,
    "start_time": "2022-01-30T15:32:48.383Z"
   },
   {
    "duration": 72,
    "start_time": "2022-01-30T15:32:53.915Z"
   },
   {
    "duration": 268,
    "start_time": "2022-01-30T15:33:32.661Z"
   },
   {
    "duration": 268,
    "start_time": "2022-01-30T15:33:35.944Z"
   },
   {
    "duration": 71,
    "start_time": "2022-01-30T15:33:38.987Z"
   },
   {
    "duration": 77,
    "start_time": "2022-01-30T15:33:43.908Z"
   },
   {
    "duration": 491,
    "start_time": "2022-01-30T15:35:05.800Z"
   },
   {
    "duration": 10,
    "start_time": "2022-01-30T15:35:36.314Z"
   },
   {
    "duration": 12,
    "start_time": "2022-01-30T15:36:11.115Z"
   },
   {
    "duration": 11,
    "start_time": "2022-01-30T15:37:51.415Z"
   },
   {
    "duration": 6,
    "start_time": "2022-01-30T15:38:35.624Z"
   },
   {
    "duration": 17,
    "start_time": "2022-01-30T15:38:42.599Z"
   },
   {
    "duration": 9,
    "start_time": "2022-01-30T15:38:50.477Z"
   },
   {
    "duration": 293,
    "start_time": "2022-01-30T15:45:34.090Z"
   },
   {
    "duration": 1035,
    "start_time": "2022-01-30T15:45:38.318Z"
   },
   {
    "duration": 25,
    "start_time": "2022-01-30T15:45:39.355Z"
   },
   {
    "duration": 53,
    "start_time": "2022-01-30T15:45:39.382Z"
   },
   {
    "duration": 78,
    "start_time": "2022-01-30T15:45:39.437Z"
   },
   {
    "duration": 41,
    "start_time": "2022-01-30T15:45:39.516Z"
   },
   {
    "duration": 21,
    "start_time": "2022-01-30T15:45:39.558Z"
   },
   {
    "duration": 12,
    "start_time": "2022-01-30T15:45:39.580Z"
   },
   {
    "duration": 5,
    "start_time": "2022-01-30T15:45:39.594Z"
   },
   {
    "duration": 326,
    "start_time": "2022-01-30T15:45:47.633Z"
   },
   {
    "duration": 1073,
    "start_time": "2022-01-30T15:45:56.061Z"
   },
   {
    "duration": 19,
    "start_time": "2022-01-30T15:45:57.136Z"
   },
   {
    "duration": 64,
    "start_time": "2022-01-30T15:45:57.157Z"
   },
   {
    "duration": 66,
    "start_time": "2022-01-30T15:45:57.223Z"
   },
   {
    "duration": 43,
    "start_time": "2022-01-30T15:45:57.290Z"
   },
   {
    "duration": 9,
    "start_time": "2022-01-30T15:45:57.335Z"
   },
   {
    "duration": 32,
    "start_time": "2022-01-30T15:45:57.346Z"
   },
   {
    "duration": 7,
    "start_time": "2022-01-30T15:45:57.380Z"
   },
   {
    "duration": 279,
    "start_time": "2022-01-30T15:46:44.118Z"
   },
   {
    "duration": 250,
    "start_time": "2022-01-30T15:46:54.060Z"
   },
   {
    "duration": 1042,
    "start_time": "2022-01-30T15:47:03.082Z"
   },
   {
    "duration": 18,
    "start_time": "2022-01-30T15:47:04.126Z"
   },
   {
    "duration": 68,
    "start_time": "2022-01-30T15:47:04.146Z"
   },
   {
    "duration": 69,
    "start_time": "2022-01-30T15:47:04.216Z"
   },
   {
    "duration": 43,
    "start_time": "2022-01-30T15:47:04.287Z"
   },
   {
    "duration": 10,
    "start_time": "2022-01-30T15:47:04.332Z"
   },
   {
    "duration": 35,
    "start_time": "2022-01-30T15:47:04.343Z"
   },
   {
    "duration": 5,
    "start_time": "2022-01-30T15:47:04.380Z"
   },
   {
    "duration": 167,
    "start_time": "2022-01-30T15:47:04.387Z"
   },
   {
    "duration": 26,
    "start_time": "2022-01-30T15:47:04.555Z"
   },
   {
    "duration": 279,
    "start_time": "2022-01-30T15:47:36.682Z"
   },
   {
    "duration": 385,
    "start_time": "2022-01-30T15:47:39.595Z"
   },
   {
    "duration": 153,
    "start_time": "2022-01-30T15:47:48.710Z"
   },
   {
    "duration": 17,
    "start_time": "2022-01-30T15:47:50.683Z"
   },
   {
    "duration": 419,
    "start_time": "2022-01-30T15:48:04.622Z"
   },
   {
    "duration": 207,
    "start_time": "2022-01-30T15:48:08.398Z"
   },
   {
    "duration": 19,
    "start_time": "2022-01-30T15:48:10.155Z"
   },
   {
    "duration": 497,
    "start_time": "2022-01-30T15:48:34.647Z"
   },
   {
    "duration": 454,
    "start_time": "2022-01-30T15:48:37.980Z"
   },
   {
    "duration": 519,
    "start_time": "2022-01-30T15:48:43.735Z"
   },
   {
    "duration": 460,
    "start_time": "2022-01-30T15:48:46.396Z"
   },
   {
    "duration": 1067,
    "start_time": "2022-01-30T15:49:05.747Z"
   },
   {
    "duration": 20,
    "start_time": "2022-01-30T15:49:06.815Z"
   },
   {
    "duration": 74,
    "start_time": "2022-01-30T15:49:06.837Z"
   },
   {
    "duration": 66,
    "start_time": "2022-01-30T15:49:06.913Z"
   },
   {
    "duration": 43,
    "start_time": "2022-01-30T15:49:06.980Z"
   },
   {
    "duration": 10,
    "start_time": "2022-01-30T15:49:07.024Z"
   },
   {
    "duration": 37,
    "start_time": "2022-01-30T15:49:07.036Z"
   },
   {
    "duration": 7,
    "start_time": "2022-01-30T15:49:07.075Z"
   },
   {
    "duration": 18,
    "start_time": "2022-01-30T15:49:31.941Z"
   },
   {
    "duration": 12,
    "start_time": "2022-01-30T15:50:10.813Z"
   },
   {
    "duration": 658,
    "start_time": "2022-01-30T15:51:35.776Z"
   },
   {
    "duration": 302,
    "start_time": "2022-01-30T15:51:51.219Z"
   },
   {
    "duration": 47,
    "start_time": "2022-01-30T15:52:01.603Z"
   },
   {
    "duration": 52,
    "start_time": "2022-01-30T15:52:07.496Z"
   },
   {
    "duration": 55,
    "start_time": "2022-01-30T15:52:21.224Z"
   },
   {
    "duration": 385,
    "start_time": "2022-01-30T15:54:36.947Z"
   },
   {
    "duration": 1657,
    "start_time": "2022-01-30T15:54:46.536Z"
   },
   {
    "duration": 1037,
    "start_time": "2022-01-30T15:55:15.705Z"
   },
   {
    "duration": 49,
    "start_time": "2022-01-30T15:55:31.876Z"
   },
   {
    "duration": 48,
    "start_time": "2022-01-30T15:55:46.153Z"
   },
   {
    "duration": 12,
    "start_time": "2022-01-30T16:03:11.169Z"
   },
   {
    "duration": 265,
    "start_time": "2022-01-30T16:04:20.945Z"
   },
   {
    "duration": 32,
    "start_time": "2022-01-30T16:04:59.958Z"
   },
   {
    "duration": 29,
    "start_time": "2022-01-30T16:05:30.662Z"
   },
   {
    "duration": 15,
    "start_time": "2022-01-30T16:06:17.025Z"
   },
   {
    "duration": 43,
    "start_time": "2022-01-30T16:08:48.072Z"
   },
   {
    "duration": 24,
    "start_time": "2022-01-30T16:09:36.272Z"
   },
   {
    "duration": 24,
    "start_time": "2022-01-30T16:09:58.517Z"
   },
   {
    "duration": 274,
    "start_time": "2022-01-30T16:12:27.592Z"
   },
   {
    "duration": 27,
    "start_time": "2022-01-30T16:12:36.366Z"
   },
   {
    "duration": 247,
    "start_time": "2022-01-30T16:19:15.829Z"
   },
   {
    "duration": 260,
    "start_time": "2022-01-30T16:19:19.501Z"
   },
   {
    "duration": 280,
    "start_time": "2022-01-30T16:19:23.356Z"
   },
   {
    "duration": 15,
    "start_time": "2022-01-30T16:19:53.593Z"
   },
   {
    "duration": 2101,
    "start_time": "2022-01-30T16:20:07.605Z"
   },
   {
    "duration": 1159,
    "start_time": "2022-01-30T16:20:45.464Z"
   },
   {
    "duration": 34,
    "start_time": "2022-01-30T16:21:26.521Z"
   },
   {
    "duration": 582,
    "start_time": "2022-01-30T16:21:29.977Z"
   },
   {
    "duration": 41,
    "start_time": "2022-01-30T16:21:30.561Z"
   },
   {
    "duration": 84,
    "start_time": "2022-01-30T16:21:30.605Z"
   },
   {
    "duration": 81,
    "start_time": "2022-01-30T16:21:30.691Z"
   },
   {
    "duration": 43,
    "start_time": "2022-01-30T16:21:30.774Z"
   },
   {
    "duration": 11,
    "start_time": "2022-01-30T16:21:30.819Z"
   },
   {
    "duration": 47,
    "start_time": "2022-01-30T16:21:30.831Z"
   },
   {
    "duration": 19,
    "start_time": "2022-01-30T16:21:30.881Z"
   },
   {
    "duration": 1051,
    "start_time": "2022-01-30T16:21:30.902Z"
   },
   {
    "duration": 55320,
    "start_time": "2022-01-30T16:20:36.634Z"
   },
   {
    "duration": 55319,
    "start_time": "2022-01-30T16:20:36.636Z"
   },
   {
    "duration": 55302,
    "start_time": "2022-01-30T16:20:36.654Z"
   },
   {
    "duration": 500,
    "start_time": "2022-01-30T16:21:42.433Z"
   },
   {
    "duration": 18,
    "start_time": "2022-01-30T16:21:42.935Z"
   },
   {
    "duration": 64,
    "start_time": "2022-01-30T16:21:42.955Z"
   },
   {
    "duration": 65,
    "start_time": "2022-01-30T16:21:43.020Z"
   },
   {
    "duration": 43,
    "start_time": "2022-01-30T16:21:43.086Z"
   },
   {
    "duration": 12,
    "start_time": "2022-01-30T16:21:43.131Z"
   },
   {
    "duration": 11,
    "start_time": "2022-01-30T16:21:43.172Z"
   },
   {
    "duration": 17,
    "start_time": "2022-01-30T16:21:43.184Z"
   },
   {
    "duration": 425,
    "start_time": "2022-01-30T16:21:43.203Z"
   },
   {
    "duration": 55794,
    "start_time": "2022-01-30T16:20:47.836Z"
   },
   {
    "duration": 55792,
    "start_time": "2022-01-30T16:20:47.839Z"
   },
   {
    "duration": 55789,
    "start_time": "2022-01-30T16:20:47.843Z"
   },
   {
    "duration": 30,
    "start_time": "2022-01-30T16:22:02.230Z"
   },
   {
    "duration": 557,
    "start_time": "2022-01-30T16:22:05.439Z"
   },
   {
    "duration": 21,
    "start_time": "2022-01-30T16:22:05.999Z"
   },
   {
    "duration": 73,
    "start_time": "2022-01-30T16:22:06.023Z"
   },
   {
    "duration": 55,
    "start_time": "2022-01-30T16:22:06.098Z"
   },
   {
    "duration": 42,
    "start_time": "2022-01-30T16:22:06.171Z"
   },
   {
    "duration": 9,
    "start_time": "2022-01-30T16:22:06.214Z"
   },
   {
    "duration": 22,
    "start_time": "2022-01-30T16:22:06.225Z"
   },
   {
    "duration": 39,
    "start_time": "2022-01-30T16:22:06.249Z"
   },
   {
    "duration": 283,
    "start_time": "2022-01-30T16:22:06.290Z"
   },
   {
    "duration": 55794,
    "start_time": "2022-01-30T16:21:10.781Z"
   },
   {
    "duration": 55792,
    "start_time": "2022-01-30T16:21:10.784Z"
   },
   {
    "duration": 55788,
    "start_time": "2022-01-30T16:21:10.788Z"
   },
   {
    "duration": 39,
    "start_time": "2022-01-30T16:22:36.514Z"
   },
   {
    "duration": 29,
    "start_time": "2022-01-30T16:22:50.131Z"
   },
   {
    "duration": 30,
    "start_time": "2022-01-30T16:22:56.915Z"
   },
   {
    "duration": 24,
    "start_time": "2022-01-30T16:23:11.468Z"
   },
   {
    "duration": 18,
    "start_time": "2022-01-30T16:23:19.096Z"
   },
   {
    "duration": 281,
    "start_time": "2022-01-30T16:24:01.451Z"
   },
   {
    "duration": 18,
    "start_time": "2022-01-30T16:24:09.416Z"
   },
   {
    "duration": 19,
    "start_time": "2022-01-30T16:24:45.478Z"
   },
   {
    "duration": 280,
    "start_time": "2022-01-30T16:25:18.254Z"
   },
   {
    "duration": 26,
    "start_time": "2022-01-30T16:25:55.790Z"
   },
   {
    "duration": 27,
    "start_time": "2022-01-30T16:27:19.184Z"
   },
   {
    "duration": 42,
    "start_time": "2022-01-30T16:28:48.696Z"
   },
   {
    "duration": 39,
    "start_time": "2022-01-30T16:28:50.986Z"
   },
   {
    "duration": 25,
    "start_time": "2022-01-30T16:28:52.778Z"
   },
   {
    "duration": 28,
    "start_time": "2022-01-30T16:28:54.763Z"
   },
   {
    "duration": 28,
    "start_time": "2022-01-30T16:30:43.176Z"
   },
   {
    "duration": 525,
    "start_time": "2022-01-30T18:57:45.530Z"
   },
   {
    "duration": 24,
    "start_time": "2022-01-30T18:57:46.056Z"
   },
   {
    "duration": 48,
    "start_time": "2022-01-30T18:57:46.082Z"
   },
   {
    "duration": 71,
    "start_time": "2022-01-30T18:57:46.132Z"
   },
   {
    "duration": 41,
    "start_time": "2022-01-30T18:57:46.205Z"
   },
   {
    "duration": 30,
    "start_time": "2022-01-30T18:57:46.248Z"
   },
   {
    "duration": 11,
    "start_time": "2022-01-30T18:57:46.280Z"
   },
   {
    "duration": 18,
    "start_time": "2022-01-30T18:57:46.293Z"
   },
   {
    "duration": 75,
    "start_time": "2022-01-30T18:57:46.312Z"
   },
   {
    "duration": 27,
    "start_time": "2022-01-30T18:57:46.389Z"
   },
   {
    "duration": 25,
    "start_time": "2022-01-30T18:57:46.418Z"
   },
   {
    "duration": 49,
    "start_time": "2022-01-30T18:57:46.445Z"
   },
   {
    "duration": 253,
    "start_time": "2022-01-30T18:59:24.088Z"
   },
   {
    "duration": 7,
    "start_time": "2022-01-30T18:59:26.273Z"
   },
   {
    "duration": 4,
    "start_time": "2022-01-30T19:05:08.530Z"
   },
   {
    "duration": 250,
    "start_time": "2022-01-30T19:06:53.139Z"
   },
   {
    "duration": 6339,
    "start_time": "2022-01-30T19:06:58.741Z"
   },
   {
    "duration": 55758,
    "start_time": "2022-01-30T19:06:09.324Z"
   },
   {
    "duration": 11,
    "start_time": "2022-01-30T19:07:22.875Z"
   },
   {
    "duration": 737,
    "start_time": "2022-01-30T19:07:24.835Z"
   },
   {
    "duration": 3,
    "start_time": "2022-01-30T19:07:49.484Z"
   },
   {
    "duration": 567,
    "start_time": "2022-01-30T19:07:54.903Z"
   },
   {
    "duration": 3,
    "start_time": "2022-01-30T19:08:47.751Z"
   },
   {
    "duration": 3,
    "start_time": "2022-01-30T19:09:13.678Z"
   },
   {
    "duration": 500,
    "start_time": "2022-01-30T19:09:15.731Z"
   },
   {
    "duration": 3,
    "start_time": "2022-01-30T19:09:28.109Z"
   },
   {
    "duration": 1077,
    "start_time": "2022-01-30T19:09:30.687Z"
   },
   {
    "duration": 3,
    "start_time": "2022-01-30T19:10:00.346Z"
   },
   {
    "duration": 340,
    "start_time": "2022-01-30T19:10:02.542Z"
   },
   {
    "duration": 3,
    "start_time": "2022-01-30T19:10:19.998Z"
   },
   {
    "duration": 1096,
    "start_time": "2022-01-30T19:10:22.345Z"
   },
   {
    "duration": 4,
    "start_time": "2022-01-30T19:10:59.387Z"
   },
   {
    "duration": 598,
    "start_time": "2022-01-30T19:11:02.388Z"
   },
   {
    "duration": 3,
    "start_time": "2022-01-30T19:11:16.456Z"
   },
   {
    "duration": 490,
    "start_time": "2022-01-30T19:11:18.269Z"
   },
   {
    "duration": 3,
    "start_time": "2022-01-30T19:11:36.363Z"
   },
   {
    "duration": 921,
    "start_time": "2022-01-30T19:11:38.311Z"
   },
   {
    "duration": 4,
    "start_time": "2022-01-30T19:11:46.968Z"
   },
   {
    "duration": 554,
    "start_time": "2022-01-30T19:11:48.914Z"
   },
   {
    "duration": 3,
    "start_time": "2022-01-30T19:12:15.285Z"
   },
   {
    "duration": 563,
    "start_time": "2022-01-30T19:12:17.237Z"
   },
   {
    "duration": 4,
    "start_time": "2022-01-30T19:12:38.419Z"
   },
   {
    "duration": 344,
    "start_time": "2022-01-30T19:12:40.878Z"
   },
   {
    "duration": 3,
    "start_time": "2022-01-30T19:13:56.363Z"
   },
   {
    "duration": 109,
    "start_time": "2022-01-30T19:13:59.088Z"
   },
   {
    "duration": 12,
    "start_time": "2022-01-30T19:14:02.282Z"
   },
   {
    "duration": 4,
    "start_time": "2022-01-30T19:16:55.571Z"
   },
   {
    "duration": 130,
    "start_time": "2022-01-30T19:16:58.426Z"
   },
   {
    "duration": 11,
    "start_time": "2022-01-30T19:17:00.684Z"
   },
   {
    "duration": 115,
    "start_time": "2022-01-30T19:22:35.581Z"
   },
   {
    "duration": 5,
    "start_time": "2022-01-30T19:22:46.619Z"
   },
   {
    "duration": 189,
    "start_time": "2022-01-30T19:22:49.694Z"
   },
   {
    "duration": 11,
    "start_time": "2022-01-30T19:22:51.335Z"
   },
   {
    "duration": 8,
    "start_time": "2022-01-30T19:23:54.789Z"
   },
   {
    "duration": 288,
    "start_time": "2022-01-30T19:23:58.623Z"
   },
   {
    "duration": 11,
    "start_time": "2022-01-30T19:24:00.475Z"
   },
   {
    "duration": 36,
    "start_time": "2022-01-30T19:25:35.238Z"
   },
   {
    "duration": 508,
    "start_time": "2022-01-30T19:25:49.563Z"
   },
   {
    "duration": 18,
    "start_time": "2022-01-30T19:25:50.073Z"
   },
   {
    "duration": 50,
    "start_time": "2022-01-30T19:25:50.093Z"
   },
   {
    "duration": 72,
    "start_time": "2022-01-30T19:25:50.145Z"
   },
   {
    "duration": 59,
    "start_time": "2022-01-30T19:25:50.219Z"
   },
   {
    "duration": 10,
    "start_time": "2022-01-30T19:25:50.279Z"
   },
   {
    "duration": 15,
    "start_time": "2022-01-30T19:25:50.291Z"
   },
   {
    "duration": 20,
    "start_time": "2022-01-30T19:25:50.309Z"
   },
   {
    "duration": 86,
    "start_time": "2022-01-30T19:25:50.330Z"
   },
   {
    "duration": 30,
    "start_time": "2022-01-30T19:25:50.417Z"
   },
   {
    "duration": 275,
    "start_time": "2022-01-30T19:25:50.449Z"
   },
   {
    "duration": 55830,
    "start_time": "2022-01-30T19:24:54.896Z"
   },
   {
    "duration": 55827,
    "start_time": "2022-01-30T19:24:54.901Z"
   },
   {
    "duration": 55815,
    "start_time": "2022-01-30T19:24:54.914Z"
   },
   {
    "duration": 55813,
    "start_time": "2022-01-30T19:24:54.917Z"
   },
   {
    "duration": 55805,
    "start_time": "2022-01-30T19:24:54.927Z"
   },
   {
    "duration": 30,
    "start_time": "2022-01-30T19:26:25.782Z"
   },
   {
    "duration": 18,
    "start_time": "2022-01-30T19:26:49.955Z"
   },
   {
    "duration": 274,
    "start_time": "2022-01-30T19:27:32.168Z"
   },
   {
    "duration": 33,
    "start_time": "2022-01-30T19:27:48.984Z"
   },
   {
    "duration": 276,
    "start_time": "2022-01-30T19:27:54.042Z"
   },
   {
    "duration": 17,
    "start_time": "2022-01-30T19:28:17.165Z"
   },
   {
    "duration": 23,
    "start_time": "2022-01-30T19:28:21.658Z"
   },
   {
    "duration": 28,
    "start_time": "2022-01-30T19:28:36.558Z"
   },
   {
    "duration": 7,
    "start_time": "2022-01-30T19:28:41.905Z"
   },
   {
    "duration": 7,
    "start_time": "2022-01-30T19:28:44.089Z"
   },
   {
    "duration": 7,
    "start_time": "2022-01-30T19:29:40.969Z"
   },
   {
    "duration": 598,
    "start_time": "2022-01-30T19:29:42.984Z"
   },
   {
    "duration": 12,
    "start_time": "2022-01-30T19:29:44.020Z"
   },
   {
    "duration": 6,
    "start_time": "2022-01-30T19:30:19.517Z"
   },
   {
    "duration": 6,
    "start_time": "2022-01-30T19:30:25.234Z"
   },
   {
    "duration": 8,
    "start_time": "2022-01-30T19:30:51.892Z"
   },
   {
    "duration": 6,
    "start_time": "2022-01-30T19:31:11.140Z"
   },
   {
    "duration": 6,
    "start_time": "2022-01-30T19:31:46.829Z"
   },
   {
    "duration": 520,
    "start_time": "2022-01-30T19:32:17.655Z"
   },
   {
    "duration": 20,
    "start_time": "2022-01-30T19:32:18.177Z"
   },
   {
    "duration": 51,
    "start_time": "2022-01-30T19:32:18.200Z"
   },
   {
    "duration": 67,
    "start_time": "2022-01-30T19:32:18.253Z"
   },
   {
    "duration": 61,
    "start_time": "2022-01-30T19:32:18.322Z"
   },
   {
    "duration": 10,
    "start_time": "2022-01-30T19:32:18.384Z"
   },
   {
    "duration": 13,
    "start_time": "2022-01-30T19:32:18.395Z"
   },
   {
    "duration": 16,
    "start_time": "2022-01-30T19:32:18.410Z"
   },
   {
    "duration": 77,
    "start_time": "2022-01-30T19:32:18.427Z"
   },
   {
    "duration": 27,
    "start_time": "2022-01-30T19:32:18.505Z"
   },
   {
    "duration": 44,
    "start_time": "2022-01-30T19:32:18.534Z"
   },
   {
    "duration": 28,
    "start_time": "2022-01-30T19:32:18.580Z"
   },
   {
    "duration": 6,
    "start_time": "2022-01-30T19:32:18.609Z"
   },
   {
    "duration": 8,
    "start_time": "2022-01-30T19:32:18.617Z"
   },
   {
    "duration": 503,
    "start_time": "2022-01-30T19:32:18.626Z"
   },
   {
    "duration": 55821,
    "start_time": "2022-01-30T19:31:23.310Z"
   },
   {
    "duration": 84,
    "start_time": "2022-01-30T19:33:42.412Z"
   },
   {
    "duration": 9,
    "start_time": "2022-01-30T19:33:50.307Z"
   },
   {
    "duration": 479,
    "start_time": "2022-01-30T19:33:53.078Z"
   },
   {
    "duration": 10,
    "start_time": "2022-01-30T19:33:58.178Z"
   },
   {
    "duration": 7,
    "start_time": "2022-01-30T19:36:47.218Z"
   },
   {
    "duration": 518,
    "start_time": "2022-01-30T19:36:49.692Z"
   },
   {
    "duration": 7,
    "start_time": "2022-01-30T19:37:02.515Z"
   },
   {
    "duration": 217,
    "start_time": "2022-01-30T19:37:04.821Z"
   },
   {
    "duration": 13,
    "start_time": "2022-01-30T19:37:07.352Z"
   },
   {
    "duration": 6,
    "start_time": "2022-01-30T19:37:28.738Z"
   },
   {
    "duration": 6,
    "start_time": "2022-01-30T19:37:34.013Z"
   },
   {
    "duration": 216,
    "start_time": "2022-01-30T19:37:35.758Z"
   },
   {
    "duration": 13,
    "start_time": "2022-01-30T19:37:37.046Z"
   },
   {
    "duration": 6,
    "start_time": "2022-01-30T19:38:21.144Z"
   },
   {
    "duration": 219,
    "start_time": "2022-01-30T19:38:22.352Z"
   },
   {
    "duration": 12,
    "start_time": "2022-01-30T19:38:23.083Z"
   },
   {
    "duration": 7,
    "start_time": "2022-01-30T19:41:11.306Z"
   },
   {
    "duration": 210,
    "start_time": "2022-01-30T19:41:12.162Z"
   },
   {
    "duration": 12,
    "start_time": "2022-01-30T19:41:15.258Z"
   },
   {
    "duration": 4,
    "start_time": "2022-01-30T19:43:23.657Z"
   },
   {
    "duration": 94,
    "start_time": "2022-01-30T19:45:13.145Z"
   },
   {
    "duration": 6,
    "start_time": "2022-01-30T19:45:17.622Z"
   },
   {
    "duration": 216,
    "start_time": "2022-01-30T19:45:19.613Z"
   },
   {
    "duration": 12,
    "start_time": "2022-01-30T19:45:19.830Z"
   },
   {
    "duration": 6,
    "start_time": "2022-01-30T19:46:15.572Z"
   },
   {
    "duration": 270,
    "start_time": "2022-01-30T19:46:16.929Z"
   },
   {
    "duration": 15,
    "start_time": "2022-01-30T19:46:17.201Z"
   },
   {
    "duration": 7,
    "start_time": "2022-01-30T19:46:37.558Z"
   },
   {
    "duration": 225,
    "start_time": "2022-01-30T19:46:39.032Z"
   },
   {
    "duration": 20,
    "start_time": "2022-01-30T19:46:39.259Z"
   },
   {
    "duration": 7,
    "start_time": "2022-01-30T19:51:55.080Z"
   },
   {
    "duration": 220,
    "start_time": "2022-01-30T19:51:56.970Z"
   },
   {
    "duration": 14,
    "start_time": "2022-01-30T19:51:57.820Z"
   },
   {
    "duration": 6,
    "start_time": "2022-01-30T19:53:37.939Z"
   },
   {
    "duration": 89,
    "start_time": "2022-01-30T19:53:58.520Z"
   },
   {
    "duration": 255,
    "start_time": "2022-01-30T19:53:58.954Z"
   },
   {
    "duration": 14,
    "start_time": "2022-01-30T19:53:59.359Z"
   },
   {
    "duration": 86,
    "start_time": "2022-01-30T19:54:35.224Z"
   },
   {
    "duration": 221,
    "start_time": "2022-01-30T19:54:35.875Z"
   },
   {
    "duration": 14,
    "start_time": "2022-01-30T19:54:36.233Z"
   },
   {
    "duration": 93,
    "start_time": "2022-01-30T19:54:43.509Z"
   },
   {
    "duration": 219,
    "start_time": "2022-01-30T19:54:43.705Z"
   },
   {
    "duration": 12,
    "start_time": "2022-01-30T19:54:43.926Z"
   },
   {
    "duration": 4,
    "start_time": "2022-01-30T19:54:44.023Z"
   },
   {
    "duration": 487,
    "start_time": "2022-01-30T19:54:47.706Z"
   },
   {
    "duration": 21,
    "start_time": "2022-01-30T19:54:48.195Z"
   },
   {
    "duration": 76,
    "start_time": "2022-01-30T19:54:48.218Z"
   },
   {
    "duration": 49,
    "start_time": "2022-01-30T19:54:48.295Z"
   },
   {
    "duration": 58,
    "start_time": "2022-01-30T19:54:48.346Z"
   },
   {
    "duration": 9,
    "start_time": "2022-01-30T19:54:48.406Z"
   },
   {
    "duration": 11,
    "start_time": "2022-01-30T19:54:48.416Z"
   },
   {
    "duration": 44,
    "start_time": "2022-01-30T19:54:48.430Z"
   },
   {
    "duration": 42,
    "start_time": "2022-01-30T19:54:48.476Z"
   },
   {
    "duration": 52,
    "start_time": "2022-01-30T19:54:48.519Z"
   },
   {
    "duration": 26,
    "start_time": "2022-01-30T19:54:48.573Z"
   },
   {
    "duration": 27,
    "start_time": "2022-01-30T19:54:48.600Z"
   },
   {
    "duration": 6,
    "start_time": "2022-01-30T19:54:48.629Z"
   },
   {
    "duration": 83,
    "start_time": "2022-01-30T19:54:48.637Z"
   },
   {
    "duration": 55848,
    "start_time": "2022-01-30T19:53:52.873Z"
   },
   {
    "duration": 55846,
    "start_time": "2022-01-30T19:53:52.876Z"
   },
   {
    "duration": 55845,
    "start_time": "2022-01-30T19:53:52.878Z"
   },
   {
    "duration": 4,
    "start_time": "2022-01-30T19:55:17.847Z"
   },
   {
    "duration": 145,
    "start_time": "2022-01-30T19:55:18.416Z"
   },
   {
    "duration": 12,
    "start_time": "2022-01-30T19:55:18.723Z"
   },
   {
    "duration": 5,
    "start_time": "2022-01-30T19:56:02.206Z"
   },
   {
    "duration": 10,
    "start_time": "2022-01-30T19:56:08.082Z"
   },
   {
    "duration": 14,
    "start_time": "2022-01-30T19:56:14.176Z"
   },
   {
    "duration": 13,
    "start_time": "2022-01-30T19:56:32.623Z"
   },
   {
    "duration": 4,
    "start_time": "2022-01-30T19:56:59.040Z"
   },
   {
    "duration": 160,
    "start_time": "2022-01-30T19:56:59.856Z"
   },
   {
    "duration": 13,
    "start_time": "2022-01-30T19:57:00.040Z"
   },
   {
    "duration": 4,
    "start_time": "2022-01-30T19:58:11.399Z"
   },
   {
    "duration": 156,
    "start_time": "2022-01-30T19:58:11.954Z"
   },
   {
    "duration": 12,
    "start_time": "2022-01-30T19:58:12.115Z"
   },
   {
    "duration": 4,
    "start_time": "2022-01-30T19:58:39.281Z"
   },
   {
    "duration": 158,
    "start_time": "2022-01-30T19:58:40.232Z"
   },
   {
    "duration": 12,
    "start_time": "2022-01-30T19:58:40.392Z"
   },
   {
    "duration": 83,
    "start_time": "2022-01-30T19:59:41.276Z"
   },
   {
    "duration": 180,
    "start_time": "2022-01-30T19:59:41.466Z"
   },
   {
    "duration": 14,
    "start_time": "2022-01-30T19:59:41.699Z"
   },
   {
    "duration": 92,
    "start_time": "2022-01-30T19:59:59.303Z"
   },
   {
    "duration": 4,
    "start_time": "2022-01-30T20:00:09.811Z"
   },
   {
    "duration": 202,
    "start_time": "2022-01-30T20:00:10.844Z"
   },
   {
    "duration": 14,
    "start_time": "2022-01-30T20:00:11.047Z"
   },
   {
    "duration": 4,
    "start_time": "2022-01-30T20:00:24.186Z"
   },
   {
    "duration": 185,
    "start_time": "2022-01-30T20:00:24.632Z"
   },
   {
    "duration": 13,
    "start_time": "2022-01-30T20:00:24.857Z"
   },
   {
    "duration": 6,
    "start_time": "2022-01-30T20:01:04.294Z"
   },
   {
    "duration": 193,
    "start_time": "2022-01-30T20:01:04.690Z"
   },
   {
    "duration": 12,
    "start_time": "2022-01-30T20:01:04.885Z"
   },
   {
    "duration": 9,
    "start_time": "2022-01-30T20:01:10.577Z"
   },
   {
    "duration": 6,
    "start_time": "2022-01-30T20:01:23.145Z"
   },
   {
    "duration": 6,
    "start_time": "2022-01-30T20:01:30.747Z"
   },
   {
    "duration": 218,
    "start_time": "2022-01-30T20:01:32.258Z"
   },
   {
    "duration": 9,
    "start_time": "2022-01-30T20:01:32.478Z"
   },
   {
    "duration": 6,
    "start_time": "2022-01-30T20:02:10.145Z"
   },
   {
    "duration": 223,
    "start_time": "2022-01-30T20:02:49.535Z"
   },
   {
    "duration": 9,
    "start_time": "2022-01-30T20:02:50.034Z"
   },
   {
    "duration": 26,
    "start_time": "2022-01-30T20:12:34.250Z"
   },
   {
    "duration": 12,
    "start_time": "2022-01-30T20:13:13.548Z"
   },
   {
    "duration": 9,
    "start_time": "2022-01-30T20:13:18.002Z"
   },
   {
    "duration": 14,
    "start_time": "2022-01-30T20:16:57.098Z"
   },
   {
    "duration": 8,
    "start_time": "2022-01-30T20:16:58.554Z"
   },
   {
    "duration": 250,
    "start_time": "2022-01-30T20:17:25.391Z"
   },
   {
    "duration": 14,
    "start_time": "2022-01-30T20:17:28.263Z"
   },
   {
    "duration": 12,
    "start_time": "2022-01-30T20:20:02.118Z"
   },
   {
    "duration": 1044,
    "start_time": "2022-01-30T20:24:10.910Z"
   },
   {
    "duration": 23,
    "start_time": "2022-01-30T20:24:11.955Z"
   },
   {
    "duration": 55,
    "start_time": "2022-01-30T20:24:11.980Z"
   },
   {
    "duration": 69,
    "start_time": "2022-01-30T20:24:12.037Z"
   },
   {
    "duration": 42,
    "start_time": "2022-01-30T20:24:12.107Z"
   },
   {
    "duration": 22,
    "start_time": "2022-01-30T20:24:12.150Z"
   },
   {
    "duration": 13,
    "start_time": "2022-01-30T20:24:12.614Z"
   },
   {
    "duration": 17,
    "start_time": "2022-01-30T20:24:12.643Z"
   },
   {
    "duration": 43,
    "start_time": "2022-01-30T20:24:12.677Z"
   },
   {
    "duration": 27,
    "start_time": "2022-01-30T20:24:12.722Z"
   },
   {
    "duration": 36,
    "start_time": "2022-01-30T20:24:12.751Z"
   },
   {
    "duration": 26,
    "start_time": "2022-01-30T20:24:12.789Z"
   },
   {
    "duration": 7,
    "start_time": "2022-01-30T20:24:12.817Z"
   },
   {
    "duration": 7,
    "start_time": "2022-01-30T20:24:12.861Z"
   },
   {
    "duration": 220,
    "start_time": "2022-01-30T20:24:12.904Z"
   },
   {
    "duration": 9,
    "start_time": "2022-01-30T20:24:13.126Z"
   },
   {
    "duration": 16,
    "start_time": "2022-01-30T20:24:13.137Z"
   },
   {
    "duration": 25,
    "start_time": "2022-01-30T20:24:13.155Z"
   },
   {
    "duration": 301,
    "start_time": "2022-01-30T20:24:13.181Z"
   },
   {
    "duration": 294,
    "start_time": "2022-01-30T20:25:14.945Z"
   },
   {
    "duration": 274,
    "start_time": "2022-01-30T20:26:08.110Z"
   },
   {
    "duration": 283,
    "start_time": "2022-01-30T20:26:21.280Z"
   },
   {
    "duration": 1092,
    "start_time": "2022-01-30T20:26:32.400Z"
   },
   {
    "duration": 432,
    "start_time": "2022-01-30T20:26:45.307Z"
   },
   {
    "duration": 279,
    "start_time": "2022-01-30T20:26:59.808Z"
   },
   {
    "duration": 740,
    "start_time": "2022-01-30T20:27:04.155Z"
   },
   {
    "duration": 162,
    "start_time": "2022-01-30T20:27:20.252Z"
   },
   {
    "duration": 263,
    "start_time": "2022-01-30T20:27:49.371Z"
   },
   {
    "duration": 118,
    "start_time": "2022-01-30T20:28:00.497Z"
   },
   {
    "duration": 248,
    "start_time": "2022-01-30T20:28:33.837Z"
   },
   {
    "duration": 85,
    "start_time": "2022-01-30T20:29:04.296Z"
   },
   {
    "duration": 6487,
    "start_time": "2022-01-30T20:29:08.965Z"
   },
   {
    "duration": 353,
    "start_time": "2022-01-30T20:29:29.499Z"
   },
   {
    "duration": 6256,
    "start_time": "2022-01-30T20:31:46.232Z"
   },
   {
    "duration": 80,
    "start_time": "2022-01-30T20:32:36.753Z"
   },
   {
    "duration": 821,
    "start_time": "2022-01-30T20:32:42.318Z"
   },
   {
    "duration": 274,
    "start_time": "2022-01-30T20:33:12.012Z"
   },
   {
    "duration": 121,
    "start_time": "2022-01-30T20:33:48.628Z"
   },
   {
    "duration": 463,
    "start_time": "2022-01-30T20:34:10.458Z"
   },
   {
    "duration": 259,
    "start_time": "2022-01-30T20:34:31.987Z"
   },
   {
    "duration": 265,
    "start_time": "2022-01-30T20:34:36.642Z"
   },
   {
    "duration": 200,
    "start_time": "2022-01-30T20:34:47.634Z"
   },
   {
    "duration": 122,
    "start_time": "2022-01-30T20:34:53.718Z"
   },
   {
    "duration": 1815,
    "start_time": "2022-01-30T20:35:20.388Z"
   },
   {
    "duration": 124,
    "start_time": "2022-01-30T20:35:29.066Z"
   },
   {
    "duration": 139,
    "start_time": "2022-01-30T20:35:40.104Z"
   },
   {
    "duration": 119,
    "start_time": "2022-01-30T20:35:47.688Z"
   },
   {
    "duration": 122,
    "start_time": "2022-01-30T20:35:50.224Z"
   },
   {
    "duration": 311,
    "start_time": "2022-01-30T20:36:15.468Z"
   },
   {
    "duration": 108,
    "start_time": "2022-01-30T20:37:13.755Z"
   },
   {
    "duration": 124,
    "start_time": "2022-01-30T20:37:18.001Z"
   },
   {
    "duration": 124,
    "start_time": "2022-01-30T20:37:32.894Z"
   },
   {
    "duration": 494,
    "start_time": "2022-01-30T20:38:56.377Z"
   },
   {
    "duration": 131,
    "start_time": "2022-01-30T20:39:46.871Z"
   },
   {
    "duration": 1571,
    "start_time": "2022-01-30T20:40:15.484Z"
   },
   {
    "duration": 1758,
    "start_time": "2022-01-30T20:40:26.308Z"
   },
   {
    "duration": 322,
    "start_time": "2022-01-30T20:40:39.935Z"
   },
   {
    "duration": 1027,
    "start_time": "2022-01-30T20:40:44.486Z"
   },
   {
    "duration": 125,
    "start_time": "2022-01-30T20:41:24.028Z"
   },
   {
    "duration": 141,
    "start_time": "2022-01-30T20:41:41.721Z"
   },
   {
    "duration": 150,
    "start_time": "2022-01-30T20:41:54.686Z"
   },
   {
    "duration": 121,
    "start_time": "2022-01-30T20:42:14.207Z"
   },
   {
    "duration": 122,
    "start_time": "2022-01-30T20:42:34.746Z"
   },
   {
    "duration": 120,
    "start_time": "2022-01-30T20:42:37.020Z"
   },
   {
    "duration": 284,
    "start_time": "2022-01-30T20:44:30.371Z"
   },
   {
    "duration": 5,
    "start_time": "2022-01-30T20:44:43.098Z"
   },
   {
    "duration": 15,
    "start_time": "2022-01-30T20:44:53.554Z"
   },
   {
    "duration": 179,
    "start_time": "2022-01-30T20:45:36.450Z"
   },
   {
    "duration": 205,
    "start_time": "2022-01-30T20:46:00.702Z"
   },
   {
    "duration": 213,
    "start_time": "2022-01-30T20:46:25.958Z"
   },
   {
    "duration": 208,
    "start_time": "2022-01-30T20:48:19.925Z"
   },
   {
    "duration": 211,
    "start_time": "2022-01-30T20:49:28.676Z"
   },
   {
    "duration": 299,
    "start_time": "2022-01-30T20:49:45.288Z"
   },
   {
    "duration": 263,
    "start_time": "2022-01-30T20:55:19.104Z"
   },
   {
    "duration": 504,
    "start_time": "2022-01-30T20:55:51.358Z"
   },
   {
    "duration": 258,
    "start_time": "2022-01-30T20:55:55.692Z"
   },
   {
    "duration": 6,
    "start_time": "2022-01-30T20:56:06.711Z"
   },
   {
    "duration": 94,
    "start_time": "2022-01-30T20:58:13.235Z"
   },
   {
    "duration": 358,
    "start_time": "2022-01-30T20:59:30.859Z"
   },
   {
    "duration": 13,
    "start_time": "2022-01-30T21:00:27.404Z"
   },
   {
    "duration": 7,
    "start_time": "2022-01-30T21:00:48.101Z"
   },
   {
    "duration": 30,
    "start_time": "2022-01-30T21:00:52.472Z"
   },
   {
    "duration": 31,
    "start_time": "2022-01-30T21:01:11.869Z"
   },
   {
    "duration": 260,
    "start_time": "2022-01-30T21:01:50.881Z"
   },
   {
    "duration": 9,
    "start_time": "2022-01-30T21:01:56.506Z"
   },
   {
    "duration": 312,
    "start_time": "2022-01-30T21:01:57.036Z"
   },
   {
    "duration": 33,
    "start_time": "2022-01-30T21:02:09.764Z"
   },
   {
    "duration": 269,
    "start_time": "2022-01-30T21:03:12.038Z"
   },
   {
    "duration": 15,
    "start_time": "2022-01-30T21:03:25.279Z"
   },
   {
    "duration": 41,
    "start_time": "2022-01-30T21:03:28.920Z"
   },
   {
    "duration": 22,
    "start_time": "2022-01-30T21:03:42.865Z"
   },
   {
    "duration": 585,
    "start_time": "2022-01-30T21:03:49.736Z"
   },
   {
    "duration": 20,
    "start_time": "2022-01-30T21:03:50.324Z"
   },
   {
    "duration": 74,
    "start_time": "2022-01-30T21:03:50.347Z"
   },
   {
    "duration": 65,
    "start_time": "2022-01-30T21:03:50.423Z"
   },
   {
    "duration": 44,
    "start_time": "2022-01-30T21:03:50.490Z"
   },
   {
    "duration": 36,
    "start_time": "2022-01-30T21:03:50.536Z"
   },
   {
    "duration": 11,
    "start_time": "2022-01-30T21:03:50.574Z"
   },
   {
    "duration": 18,
    "start_time": "2022-01-30T21:03:50.587Z"
   },
   {
    "duration": 72,
    "start_time": "2022-01-30T21:03:50.607Z"
   },
   {
    "duration": 28,
    "start_time": "2022-01-30T21:03:50.681Z"
   },
   {
    "duration": 23,
    "start_time": "2022-01-30T21:03:50.711Z"
   },
   {
    "duration": 52,
    "start_time": "2022-01-30T21:03:50.736Z"
   },
   {
    "duration": 7,
    "start_time": "2022-01-30T21:03:50.789Z"
   },
   {
    "duration": 7,
    "start_time": "2022-01-30T21:03:50.797Z"
   },
   {
    "duration": 257,
    "start_time": "2022-01-30T21:03:50.806Z"
   },
   {
    "duration": 13,
    "start_time": "2022-01-30T21:03:51.065Z"
   },
   {
    "duration": 14,
    "start_time": "2022-01-30T21:03:51.080Z"
   },
   {
    "duration": 10,
    "start_time": "2022-01-30T21:03:51.096Z"
   },
   {
    "duration": 242,
    "start_time": "2022-01-30T21:03:51.108Z"
   },
   {
    "duration": 313,
    "start_time": "2022-01-30T21:03:51.351Z"
   },
   {
    "duration": 212,
    "start_time": "2022-01-30T21:03:51.666Z"
   },
   {
    "duration": 6,
    "start_time": "2022-01-30T21:03:51.880Z"
   },
   {
    "duration": 28,
    "start_time": "2022-01-30T21:03:51.890Z"
   },
   {
    "duration": 361,
    "start_time": "2022-01-30T21:03:51.919Z"
   },
   {
    "duration": 55759,
    "start_time": "2022-01-30T21:02:56.523Z"
   },
   {
    "duration": 33,
    "start_time": "2022-01-30T21:04:43.765Z"
   },
   {
    "duration": 27,
    "start_time": "2022-01-30T21:05:26.025Z"
   },
   {
    "duration": 11,
    "start_time": "2022-01-30T21:05:48.923Z"
   },
   {
    "duration": 25,
    "start_time": "2022-01-30T21:05:59.871Z"
   },
   {
    "duration": 27,
    "start_time": "2022-01-30T21:06:08.854Z"
   },
   {
    "duration": 22,
    "start_time": "2022-01-30T21:06:17.971Z"
   },
   {
    "duration": 34,
    "start_time": "2022-01-30T21:06:21.073Z"
   },
   {
    "duration": 518,
    "start_time": "2022-01-30T21:06:27.854Z"
   },
   {
    "duration": 20,
    "start_time": "2022-01-30T21:06:28.375Z"
   },
   {
    "duration": 53,
    "start_time": "2022-01-30T21:06:28.398Z"
   },
   {
    "duration": 70,
    "start_time": "2022-01-30T21:06:28.453Z"
   },
   {
    "duration": 69,
    "start_time": "2022-01-30T21:06:28.525Z"
   },
   {
    "duration": 12,
    "start_time": "2022-01-30T21:06:28.596Z"
   },
   {
    "duration": 13,
    "start_time": "2022-01-30T21:06:28.610Z"
   },
   {
    "duration": 55,
    "start_time": "2022-01-30T21:06:28.626Z"
   },
   {
    "duration": 46,
    "start_time": "2022-01-30T21:06:28.683Z"
   },
   {
    "duration": 49,
    "start_time": "2022-01-30T21:06:28.731Z"
   },
   {
    "duration": 24,
    "start_time": "2022-01-30T21:06:28.782Z"
   },
   {
    "duration": 27,
    "start_time": "2022-01-30T21:06:28.808Z"
   },
   {
    "duration": 7,
    "start_time": "2022-01-30T21:06:28.837Z"
   },
   {
    "duration": 33,
    "start_time": "2022-01-30T21:06:28.845Z"
   },
   {
    "duration": 236,
    "start_time": "2022-01-30T21:06:28.879Z"
   },
   {
    "duration": 8,
    "start_time": "2022-01-30T21:06:29.117Z"
   },
   {
    "duration": 15,
    "start_time": "2022-01-30T21:06:29.126Z"
   },
   {
    "duration": 11,
    "start_time": "2022-01-30T21:06:29.143Z"
   },
   {
    "duration": 231,
    "start_time": "2022-01-30T21:06:29.156Z"
   },
   {
    "duration": 219,
    "start_time": "2022-01-30T21:06:29.389Z"
   },
   {
    "duration": 218,
    "start_time": "2022-01-30T21:06:29.609Z"
   },
   {
    "duration": 5,
    "start_time": "2022-01-30T21:06:29.829Z"
   },
   {
    "duration": 13,
    "start_time": "2022-01-30T21:06:29.837Z"
   },
   {
    "duration": 311,
    "start_time": "2022-01-30T21:06:29.852Z"
   },
   {
    "duration": 55790,
    "start_time": "2022-01-30T21:05:34.375Z"
   },
   {
    "duration": 30,
    "start_time": "2022-01-30T21:06:37.775Z"
   },
   {
    "duration": 27,
    "start_time": "2022-01-30T21:06:43.011Z"
   },
   {
    "duration": 5,
    "start_time": "2022-01-30T21:07:05.124Z"
   },
   {
    "duration": 15,
    "start_time": "2022-01-30T21:07:12.123Z"
   },
   {
    "duration": 6,
    "start_time": "2022-01-30T21:07:14.683Z"
   },
   {
    "duration": 8,
    "start_time": "2022-01-30T21:07:19.589Z"
   },
   {
    "duration": 81,
    "start_time": "2022-01-30T21:08:10.703Z"
   },
   {
    "duration": 1562,
    "start_time": "2022-02-08T20:01:39.368Z"
   },
   {
    "duration": 19,
    "start_time": "2022-02-08T20:01:40.932Z"
   },
   {
    "duration": 54,
    "start_time": "2022-02-08T20:01:40.954Z"
   },
   {
    "duration": 52,
    "start_time": "2022-02-08T20:01:41.026Z"
   },
   {
    "duration": 55,
    "start_time": "2022-02-08T20:01:41.079Z"
   },
   {
    "duration": 10,
    "start_time": "2022-02-08T20:01:41.135Z"
   },
   {
    "duration": 12,
    "start_time": "2022-02-08T20:01:41.146Z"
   },
   {
    "duration": 16,
    "start_time": "2022-02-08T20:01:41.160Z"
   },
   {
    "duration": 82,
    "start_time": "2022-02-08T20:01:41.179Z"
   },
   {
    "duration": 30,
    "start_time": "2022-02-08T20:01:41.262Z"
   },
   {
    "duration": 37,
    "start_time": "2022-02-08T20:01:41.293Z"
   },
   {
    "duration": 25,
    "start_time": "2022-02-08T20:01:41.331Z"
   },
   {
    "duration": 6,
    "start_time": "2022-02-08T20:01:41.357Z"
   },
   {
    "duration": 6,
    "start_time": "2022-02-08T20:01:41.364Z"
   },
   {
    "duration": 235,
    "start_time": "2022-02-08T20:01:41.372Z"
   },
   {
    "duration": 8,
    "start_time": "2022-02-08T20:01:41.609Z"
   },
   {
    "duration": 20,
    "start_time": "2022-02-08T20:01:41.619Z"
   },
   {
    "duration": 12,
    "start_time": "2022-02-08T20:01:41.640Z"
   },
   {
    "duration": 216,
    "start_time": "2022-02-08T20:01:41.653Z"
   },
   {
    "duration": 210,
    "start_time": "2022-02-08T20:01:41.871Z"
   },
   {
    "duration": 201,
    "start_time": "2022-02-08T20:01:42.083Z"
   },
   {
    "duration": 5,
    "start_time": "2022-02-08T20:01:42.285Z"
   },
   {
    "duration": 13,
    "start_time": "2022-02-08T20:01:42.291Z"
   },
   {
    "duration": 4,
    "start_time": "2022-02-08T20:01:42.306Z"
   },
   {
    "duration": 5,
    "start_time": "2022-02-08T20:09:01.918Z"
   },
   {
    "duration": 268,
    "start_time": "2022-02-08T20:14:37.458Z"
   },
   {
    "duration": 1776,
    "start_time": "2022-02-08T20:14:40.841Z"
   },
   {
    "duration": 23,
    "start_time": "2022-02-08T20:14:42.619Z"
   },
   {
    "duration": 99,
    "start_time": "2022-02-08T20:14:42.644Z"
   },
   {
    "duration": 65,
    "start_time": "2022-02-08T20:14:42.751Z"
   },
   {
    "duration": 55,
    "start_time": "2022-02-08T20:14:42.818Z"
   },
   {
    "duration": 31,
    "start_time": "2022-02-08T20:14:42.876Z"
   },
   {
    "duration": 15,
    "start_time": "2022-02-08T20:14:42.910Z"
   },
   {
    "duration": 22,
    "start_time": "2022-02-08T20:14:42.927Z"
   },
   {
    "duration": 102,
    "start_time": "2022-02-08T20:14:42.953Z"
   },
   {
    "duration": 51,
    "start_time": "2022-02-08T20:14:43.058Z"
   },
   {
    "duration": 32,
    "start_time": "2022-02-08T20:14:43.112Z"
   },
   {
    "duration": 55,
    "start_time": "2022-02-08T20:14:43.146Z"
   },
   {
    "duration": 8,
    "start_time": "2022-02-08T20:14:43.203Z"
   },
   {
    "duration": 6,
    "start_time": "2022-02-08T20:14:43.213Z"
   },
   {
    "duration": 349,
    "start_time": "2022-02-08T20:14:43.221Z"
   },
   {
    "duration": 11,
    "start_time": "2022-02-08T20:14:43.572Z"
   },
   {
    "duration": 22,
    "start_time": "2022-02-08T20:14:43.585Z"
   },
   {
    "duration": 15,
    "start_time": "2022-02-08T20:14:43.609Z"
   },
   {
    "duration": 315,
    "start_time": "2022-02-08T20:14:43.626Z"
   },
   {
    "duration": 289,
    "start_time": "2022-02-08T20:14:43.943Z"
   },
   {
    "duration": 283,
    "start_time": "2022-02-08T20:14:44.234Z"
   },
   {
    "duration": 5,
    "start_time": "2022-02-08T20:14:44.519Z"
   },
   {
    "duration": 19,
    "start_time": "2022-02-08T20:14:44.526Z"
   },
   {
    "duration": 5,
    "start_time": "2022-02-08T20:14:44.547Z"
   },
   {
    "duration": 26,
    "start_time": "2022-02-08T20:15:06.711Z"
   },
   {
    "duration": 29,
    "start_time": "2022-02-08T20:15:18.271Z"
   },
   {
    "duration": 34,
    "start_time": "2022-02-08T20:15:26.223Z"
   },
   {
    "duration": 295,
    "start_time": "2022-02-08T20:15:33.135Z"
   },
   {
    "duration": 38,
    "start_time": "2022-02-08T20:15:38.191Z"
   },
   {
    "duration": 29,
    "start_time": "2022-02-08T20:16:02.488Z"
   },
   {
    "duration": 34,
    "start_time": "2022-02-08T20:16:19.847Z"
   },
   {
    "duration": 31,
    "start_time": "2022-02-08T20:16:23.720Z"
   },
   {
    "duration": 30,
    "start_time": "2022-02-08T20:16:37.554Z"
   },
   {
    "duration": 33,
    "start_time": "2022-02-08T20:16:45.096Z"
   },
   {
    "duration": 239,
    "start_time": "2022-02-08T20:16:57.049Z"
   },
   {
    "duration": 255,
    "start_time": "2022-02-08T20:17:00.824Z"
   },
   {
    "duration": 238,
    "start_time": "2022-02-08T20:17:09.081Z"
   },
   {
    "duration": 232,
    "start_time": "2022-02-08T20:17:15.506Z"
   },
   {
    "duration": 32,
    "start_time": "2022-02-08T20:17:18.274Z"
   },
   {
    "duration": 5472,
    "start_time": "2022-02-08T20:17:33.721Z"
   },
   {
    "duration": 45,
    "start_time": "2022-02-08T20:17:44.634Z"
   },
   {
    "duration": 233,
    "start_time": "2022-02-08T20:17:50.562Z"
   },
   {
    "duration": 25,
    "start_time": "2022-02-08T20:18:50.791Z"
   },
   {
    "duration": 25,
    "start_time": "2022-02-08T20:19:00.915Z"
   },
   {
    "duration": 26,
    "start_time": "2022-02-08T20:19:13.419Z"
   },
   {
    "duration": 25,
    "start_time": "2022-02-08T20:19:23.404Z"
   },
   {
    "duration": 27,
    "start_time": "2022-02-08T20:19:34.379Z"
   },
   {
    "duration": 28,
    "start_time": "2022-02-08T20:19:45.452Z"
   },
   {
    "duration": 38,
    "start_time": "2022-02-08T20:19:55.877Z"
   },
   {
    "duration": 37,
    "start_time": "2022-02-08T20:20:08.077Z"
   },
   {
    "duration": 9,
    "start_time": "2022-02-08T20:20:14.636Z"
   },
   {
    "duration": 1096,
    "start_time": "2022-02-08T20:20:19.499Z"
   },
   {
    "duration": 11,
    "start_time": "2022-02-08T20:20:20.636Z"
   },
   {
    "duration": 247,
    "start_time": "2022-02-08T20:20:42.078Z"
   },
   {
    "duration": 34,
    "start_time": "2022-02-08T20:20:44.782Z"
   },
   {
    "duration": 37,
    "start_time": "2022-02-08T20:20:54.262Z"
   },
   {
    "duration": 29,
    "start_time": "2022-02-08T20:21:05.305Z"
   },
   {
    "duration": 31,
    "start_time": "2022-02-08T20:24:08.866Z"
   },
   {
    "duration": 32,
    "start_time": "2022-02-08T20:24:21.515Z"
   },
   {
    "duration": 23,
    "start_time": "2022-02-08T20:24:26.562Z"
   },
   {
    "duration": 27,
    "start_time": "2022-02-08T20:24:42.618Z"
   },
   {
    "duration": 21,
    "start_time": "2022-02-08T20:24:53.403Z"
   },
   {
    "duration": 28,
    "start_time": "2022-02-08T20:29:01.944Z"
   },
   {
    "duration": 28,
    "start_time": "2022-02-08T20:29:14.223Z"
   },
   {
    "duration": 38,
    "start_time": "2022-02-08T20:29:37.952Z"
   },
   {
    "duration": 32,
    "start_time": "2022-02-08T20:29:58.915Z"
   },
   {
    "duration": 29,
    "start_time": "2022-02-08T20:30:03.033Z"
   },
   {
    "duration": 31,
    "start_time": "2022-02-08T20:30:36.129Z"
   },
   {
    "duration": 27,
    "start_time": "2022-02-08T20:30:42.970Z"
   },
   {
    "duration": 30,
    "start_time": "2022-02-08T20:31:24.354Z"
   },
   {
    "duration": 28,
    "start_time": "2022-02-08T20:31:40.875Z"
   },
   {
    "duration": 9,
    "start_time": "2022-02-08T20:31:44.330Z"
   },
   {
    "duration": 7,
    "start_time": "2022-02-08T20:31:47.482Z"
   },
   {
    "duration": 319,
    "start_time": "2022-02-08T20:31:49.419Z"
   },
   {
    "duration": 11,
    "start_time": "2022-02-08T20:31:52.275Z"
   },
   {
    "duration": 11,
    "start_time": "2022-02-08T20:31:56.242Z"
   },
   {
    "duration": 14,
    "start_time": "2022-02-08T20:31:58.043Z"
   },
   {
    "duration": 281,
    "start_time": "2022-02-08T20:32:58.036Z"
   },
   {
    "duration": 280,
    "start_time": "2022-02-08T20:33:04.796Z"
   },
   {
    "duration": 349,
    "start_time": "2022-02-08T20:33:07.829Z"
   },
   {
    "duration": 5,
    "start_time": "2022-02-08T20:33:17.781Z"
   },
   {
    "duration": 18,
    "start_time": "2022-02-08T20:33:47.453Z"
   },
   {
    "duration": 6,
    "start_time": "2022-02-08T20:33:48.429Z"
   }
  ],
  "kernelspec": {
   "display_name": "Python 3",
   "language": "python",
   "name": "python3"
  },
  "language_info": {
   "codemirror_mode": {
    "name": "ipython",
    "version": 3
   },
   "file_extension": ".py",
   "mimetype": "text/x-python",
   "name": "python",
   "nbconvert_exporter": "python",
   "pygments_lexer": "ipython3",
   "version": "3.9.0"
  },
  "toc": {
   "base_numbering": 1,
   "nav_menu": {},
   "number_sections": true,
   "sideBar": true,
   "skip_h1_title": true,
   "title_cell": "Table of Contents",
   "title_sidebar": "Contents",
   "toc_cell": false,
   "toc_position": {},
   "toc_section_display": true,
   "toc_window_display": false
  }
 },
 "nbformat": 4,
 "nbformat_minor": 2
}
