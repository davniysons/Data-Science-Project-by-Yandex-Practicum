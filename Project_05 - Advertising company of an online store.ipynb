{
 "cells": [
  {
   "cell_type": "markdown",
   "metadata": {},
   "source": [
    "# Project-05 -  \"Advertising company of an online store\"\n",
    "\n",
    "- You work in the Strimchik online store, which sells computer games all over the world. Historical game sales data, user and expert ratings, genres and platforms (such as Xbox or PlayStation) are available from public sources. You need to identify the patterns that determine the success of the game. This will allow you to bid on a potentially popular product and plan advertising campaigns.\n",
    "\n",
    "- Here is the data until 2016. Let's say it's December 2016 and you're planning a campaign for 2017. It is necessary to work out the principle of working with data. It doesn't matter if you're forecasting 2017 sales based on 2016 data or 2027 sales based on 2026 data.\n",
    "\n",
    "- In the data set, the abbreviation ESRB (Entertainment Software Rating Board) comes across - this is an association that determines the age rating of computer games. The ESRB evaluates game content and assigns it to an appropriate age rating, such as Mature, Toddler, or Teen."
   ]
  },
  {
   "cell_type": "markdown",
   "metadata": {},
   "source": [
    "### 1. Let's open the data file and examine the general information:"
   ]
  },
  {
   "cell_type": "code",
   "execution_count": 1,
   "metadata": {},
   "outputs": [],
   "source": [
    "import pandas as pd\n",
    "import numpy as np\n",
    "from matplotlib import pyplot as plt\n",
    "import math\n",
    "import seaborn as sns\n",
    "import scipy.stats as st"
   ]
  },
  {
   "cell_type": "code",
   "execution_count": 2,
   "metadata": {},
   "outputs": [
    {
     "name": "stdout",
     "output_type": "stream",
     "text": [
      "<class 'pandas.core.frame.DataFrame'>\n",
      "RangeIndex: 16715 entries, 0 to 16714\n",
      "Data columns (total 11 columns):\n",
      " #   Column           Non-Null Count  Dtype  \n",
      "---  ------           --------------  -----  \n",
      " 0   Name             16713 non-null  object \n",
      " 1   Platform         16715 non-null  object \n",
      " 2   Year_of_Release  16446 non-null  float64\n",
      " 3   Genre            16713 non-null  object \n",
      " 4   NA_sales         16715 non-null  float64\n",
      " 5   EU_sales         16715 non-null  float64\n",
      " 6   JP_sales         16715 non-null  float64\n",
      " 7   Other_sales      16715 non-null  float64\n",
      " 8   Critic_Score     8137 non-null   float64\n",
      " 9   User_Score       10014 non-null  object \n",
      " 10  Rating           9949 non-null   object \n",
      "dtypes: float64(6), object(5)\n",
      "memory usage: 1.4+ MB\n"
     ]
    },
    {
     "data": {
      "text/html": [
       "<div>\n",
       "<style scoped>\n",
       "    .dataframe tbody tr th:only-of-type {\n",
       "        vertical-align: middle;\n",
       "    }\n",
       "\n",
       "    .dataframe tbody tr th {\n",
       "        vertical-align: top;\n",
       "    }\n",
       "\n",
       "    .dataframe thead th {\n",
       "        text-align: right;\n",
       "    }\n",
       "</style>\n",
       "<table border=\"1\" class=\"dataframe\">\n",
       "  <thead>\n",
       "    <tr style=\"text-align: right;\">\n",
       "      <th></th>\n",
       "      <th>Name</th>\n",
       "      <th>Platform</th>\n",
       "      <th>Year_of_Release</th>\n",
       "      <th>Genre</th>\n",
       "      <th>NA_sales</th>\n",
       "      <th>EU_sales</th>\n",
       "      <th>JP_sales</th>\n",
       "      <th>Other_sales</th>\n",
       "      <th>Critic_Score</th>\n",
       "      <th>User_Score</th>\n",
       "      <th>Rating</th>\n",
       "    </tr>\n",
       "  </thead>\n",
       "  <tbody>\n",
       "    <tr>\n",
       "      <th>0</th>\n",
       "      <td>Wii Sports</td>\n",
       "      <td>Wii</td>\n",
       "      <td>2006.0</td>\n",
       "      <td>Sports</td>\n",
       "      <td>41.36</td>\n",
       "      <td>28.96</td>\n",
       "      <td>3.77</td>\n",
       "      <td>8.45</td>\n",
       "      <td>76.0</td>\n",
       "      <td>8</td>\n",
       "      <td>E</td>\n",
       "    </tr>\n",
       "    <tr>\n",
       "      <th>1</th>\n",
       "      <td>Super Mario Bros.</td>\n",
       "      <td>NES</td>\n",
       "      <td>1985.0</td>\n",
       "      <td>Platform</td>\n",
       "      <td>29.08</td>\n",
       "      <td>3.58</td>\n",
       "      <td>6.81</td>\n",
       "      <td>0.77</td>\n",
       "      <td>NaN</td>\n",
       "      <td>NaN</td>\n",
       "      <td>NaN</td>\n",
       "    </tr>\n",
       "    <tr>\n",
       "      <th>2</th>\n",
       "      <td>Mario Kart Wii</td>\n",
       "      <td>Wii</td>\n",
       "      <td>2008.0</td>\n",
       "      <td>Racing</td>\n",
       "      <td>15.68</td>\n",
       "      <td>12.76</td>\n",
       "      <td>3.79</td>\n",
       "      <td>3.29</td>\n",
       "      <td>82.0</td>\n",
       "      <td>8.3</td>\n",
       "      <td>E</td>\n",
       "    </tr>\n",
       "    <tr>\n",
       "      <th>3</th>\n",
       "      <td>Wii Sports Resort</td>\n",
       "      <td>Wii</td>\n",
       "      <td>2009.0</td>\n",
       "      <td>Sports</td>\n",
       "      <td>15.61</td>\n",
       "      <td>10.93</td>\n",
       "      <td>3.28</td>\n",
       "      <td>2.95</td>\n",
       "      <td>80.0</td>\n",
       "      <td>8</td>\n",
       "      <td>E</td>\n",
       "    </tr>\n",
       "    <tr>\n",
       "      <th>4</th>\n",
       "      <td>Pokemon Red/Pokemon Blue</td>\n",
       "      <td>GB</td>\n",
       "      <td>1996.0</td>\n",
       "      <td>Role-Playing</td>\n",
       "      <td>11.27</td>\n",
       "      <td>8.89</td>\n",
       "      <td>10.22</td>\n",
       "      <td>1.00</td>\n",
       "      <td>NaN</td>\n",
       "      <td>NaN</td>\n",
       "      <td>NaN</td>\n",
       "    </tr>\n",
       "    <tr>\n",
       "      <th>...</th>\n",
       "      <td>...</td>\n",
       "      <td>...</td>\n",
       "      <td>...</td>\n",
       "      <td>...</td>\n",
       "      <td>...</td>\n",
       "      <td>...</td>\n",
       "      <td>...</td>\n",
       "      <td>...</td>\n",
       "      <td>...</td>\n",
       "      <td>...</td>\n",
       "      <td>...</td>\n",
       "    </tr>\n",
       "    <tr>\n",
       "      <th>16710</th>\n",
       "      <td>Samurai Warriors: Sanada Maru</td>\n",
       "      <td>PS3</td>\n",
       "      <td>2016.0</td>\n",
       "      <td>Action</td>\n",
       "      <td>0.00</td>\n",
       "      <td>0.00</td>\n",
       "      <td>0.01</td>\n",
       "      <td>0.00</td>\n",
       "      <td>NaN</td>\n",
       "      <td>NaN</td>\n",
       "      <td>NaN</td>\n",
       "    </tr>\n",
       "    <tr>\n",
       "      <th>16711</th>\n",
       "      <td>LMA Manager 2007</td>\n",
       "      <td>X360</td>\n",
       "      <td>2006.0</td>\n",
       "      <td>Sports</td>\n",
       "      <td>0.00</td>\n",
       "      <td>0.01</td>\n",
       "      <td>0.00</td>\n",
       "      <td>0.00</td>\n",
       "      <td>NaN</td>\n",
       "      <td>NaN</td>\n",
       "      <td>NaN</td>\n",
       "    </tr>\n",
       "    <tr>\n",
       "      <th>16712</th>\n",
       "      <td>Haitaka no Psychedelica</td>\n",
       "      <td>PSV</td>\n",
       "      <td>2016.0</td>\n",
       "      <td>Adventure</td>\n",
       "      <td>0.00</td>\n",
       "      <td>0.00</td>\n",
       "      <td>0.01</td>\n",
       "      <td>0.00</td>\n",
       "      <td>NaN</td>\n",
       "      <td>NaN</td>\n",
       "      <td>NaN</td>\n",
       "    </tr>\n",
       "    <tr>\n",
       "      <th>16713</th>\n",
       "      <td>Spirits &amp; Spells</td>\n",
       "      <td>GBA</td>\n",
       "      <td>2003.0</td>\n",
       "      <td>Platform</td>\n",
       "      <td>0.01</td>\n",
       "      <td>0.00</td>\n",
       "      <td>0.00</td>\n",
       "      <td>0.00</td>\n",
       "      <td>NaN</td>\n",
       "      <td>NaN</td>\n",
       "      <td>NaN</td>\n",
       "    </tr>\n",
       "    <tr>\n",
       "      <th>16714</th>\n",
       "      <td>Winning Post 8 2016</td>\n",
       "      <td>PSV</td>\n",
       "      <td>2016.0</td>\n",
       "      <td>Simulation</td>\n",
       "      <td>0.00</td>\n",
       "      <td>0.00</td>\n",
       "      <td>0.01</td>\n",
       "      <td>0.00</td>\n",
       "      <td>NaN</td>\n",
       "      <td>NaN</td>\n",
       "      <td>NaN</td>\n",
       "    </tr>\n",
       "  </tbody>\n",
       "</table>\n",
       "<p>16715 rows × 11 columns</p>\n",
       "</div>"
      ],
      "text/plain": [
       "                                Name Platform  Year_of_Release         Genre  \\\n",
       "0                         Wii Sports      Wii           2006.0        Sports   \n",
       "1                  Super Mario Bros.      NES           1985.0      Platform   \n",
       "2                     Mario Kart Wii      Wii           2008.0        Racing   \n",
       "3                  Wii Sports Resort      Wii           2009.0        Sports   \n",
       "4           Pokemon Red/Pokemon Blue       GB           1996.0  Role-Playing   \n",
       "...                              ...      ...              ...           ...   \n",
       "16710  Samurai Warriors: Sanada Maru      PS3           2016.0        Action   \n",
       "16711               LMA Manager 2007     X360           2006.0        Sports   \n",
       "16712        Haitaka no Psychedelica      PSV           2016.0     Adventure   \n",
       "16713               Spirits & Spells      GBA           2003.0      Platform   \n",
       "16714            Winning Post 8 2016      PSV           2016.0    Simulation   \n",
       "\n",
       "       NA_sales  EU_sales  JP_sales  Other_sales  Critic_Score User_Score  \\\n",
       "0         41.36     28.96      3.77         8.45          76.0          8   \n",
       "1         29.08      3.58      6.81         0.77           NaN        NaN   \n",
       "2         15.68     12.76      3.79         3.29          82.0        8.3   \n",
       "3         15.61     10.93      3.28         2.95          80.0          8   \n",
       "4         11.27      8.89     10.22         1.00           NaN        NaN   \n",
       "...         ...       ...       ...          ...           ...        ...   \n",
       "16710      0.00      0.00      0.01         0.00           NaN        NaN   \n",
       "16711      0.00      0.01      0.00         0.00           NaN        NaN   \n",
       "16712      0.00      0.00      0.01         0.00           NaN        NaN   \n",
       "16713      0.01      0.00      0.00         0.00           NaN        NaN   \n",
       "16714      0.00      0.00      0.01         0.00           NaN        NaN   \n",
       "\n",
       "      Rating  \n",
       "0          E  \n",
       "1        NaN  \n",
       "2          E  \n",
       "3          E  \n",
       "4        NaN  \n",
       "...      ...  \n",
       "16710    NaN  \n",
       "16711    NaN  \n",
       "16712    NaN  \n",
       "16713    NaN  \n",
       "16714    NaN  \n",
       "\n",
       "[16715 rows x 11 columns]"
      ]
     },
     "execution_count": 2,
     "metadata": {},
     "output_type": "execute_result"
    }
   ],
   "source": [
    "df = pd.read_csv('games.csv')\n",
    "df.info()\n",
    "df"
   ]
  },
  {
   "cell_type": "markdown",
   "metadata": {},
   "source": [
    "### 2. Data preparation:"
   ]
  },
  {
   "cell_type": "markdown",
   "metadata": {},
   "source": [
    "#### 2.1 -  Change the column names to lower case:"
   ]
  },
  {
   "cell_type": "code",
   "execution_count": 3,
   "metadata": {},
   "outputs": [],
   "source": [
    "df.columns = ['name', 'platform', 'year_of_release', 'genre', 'na_sales', 'eu_sales', 'jp_sales', 'other_sales',\n",
    "             'critic_score', 'user_score', 'rating']"
   ]
  },
  {
   "cell_type": "markdown",
   "metadata": {},
   "source": [
    "#### 2.2 - Convert the year of issue to an integer value:"
   ]
  },
  {
   "cell_type": "code",
   "execution_count": 4,
   "metadata": {},
   "outputs": [],
   "source": [
    "df.year_of_release = df.year_of_release.astype('Int64')"
   ]
  },
  {
   "cell_type": "markdown",
   "metadata": {},
   "source": [
    "#### 2.3 -  After checking that there are no values ​​with zero in the critics' ratings, we will replace it with an integer value:"
   ]
  },
  {
   "cell_type": "code",
   "execution_count": 5,
   "metadata": {},
   "outputs": [],
   "source": [
    "df.critic_score.unique()\n",
    "df.critic_score = df.critic_score.astype('Int64')"
   ]
  },
  {
   "cell_type": "markdown",
   "metadata": {},
   "source": [
    "#### 2.4 - Missed 2 games in the title can be neglected, delete them:"
   ]
  },
  {
   "cell_type": "code",
   "execution_count": 6,
   "metadata": {},
   "outputs": [
    {
     "data": {
      "text/plain": [
       "2"
      ]
     },
     "execution_count": 6,
     "metadata": {},
     "output_type": "execute_result"
    }
   ],
   "source": [
    "df.name.isnull().sum()"
   ]
  },
  {
   "cell_type": "code",
   "execution_count": 7,
   "metadata": {},
   "outputs": [],
   "source": [
    "df.query('name.isnull()')\n",
    "df = df.dropna(axis='index', how='any', subset=['name'])"
   ]
  },
  {
   "cell_type": "markdown",
   "metadata": {},
   "source": [
    "#### 2.5 - We checked the columns with platforms, genres, sales - everything is fine here."
   ]
  },
  {
   "cell_type": "code",
   "execution_count": 8,
   "metadata": {},
   "outputs": [
    {
     "data": {
      "text/plain": [
       "0"
      ]
     },
     "execution_count": 8,
     "metadata": {},
     "output_type": "execute_result"
    }
   ],
   "source": [
    "df.platform.unique()\n",
    "df.platform.isnull().sum()\n",
    "df.genre.unique()\n",
    "df.genre.isnull().sum()\n",
    "df.na_sales.isnull().sum()\n",
    "df.eu_sales.isnull().sum()\n",
    "df.jp_sales.isnull().sum()\n",
    "df.other_sales.isnull().sum()"
   ]
  },
  {
   "cell_type": "markdown",
   "metadata": {},
   "source": [
    "#### 2.6 - There are a lot of missing values in the columns with user_score and critic_score, let's leave them as they are.\n",
    "In the column with criticism of users there is data \"tbd\", meaning that there is no data yet, we will also replace\n",
    "to empty values, NaN, and convert to \"float\""
   ]
  },
  {
   "cell_type": "code",
   "execution_count": 9,
   "metadata": {},
   "outputs": [
    {
     "data": {
      "text/plain": [
       "8576"
      ]
     },
     "execution_count": 9,
     "metadata": {},
     "output_type": "execute_result"
    }
   ],
   "source": [
    "df.critic_score.isnull().sum()"
   ]
  },
  {
   "cell_type": "code",
   "execution_count": 10,
   "metadata": {},
   "outputs": [
    {
     "data": {
      "text/plain": [
       "array(['8', nan, '8.3', '8.5', '6.6', '8.4', '8.6', '7.7', '6.3', '7.4',\n",
       "       '8.2', '9', '7.9', '8.1', '8.7', '7.1', '3.4', '5.3', '4.8', '3.2',\n",
       "       '8.9', '6.4', '7.8', '7.5', '2.6', '7.2', '9.2', '7', '7.3', '4.3',\n",
       "       '7.6', '5.7', '5', '9.1', '6.5', 'tbd', '8.8', '6.9', '9.4', '6.8',\n",
       "       '6.1', '6.7', '5.4', '4', '4.9', '4.5', '9.3', '6.2', '4.2', '6',\n",
       "       '3.7', '4.1', '5.8', '5.6', '5.5', '4.4', '4.6', '5.9', '3.9',\n",
       "       '3.1', '2.9', '5.2', '3.3', '4.7', '5.1', '3.5', '2.5', '1.9', '3',\n",
       "       '2.7', '2.2', '2', '9.5', '2.1', '3.6', '2.8', '1.8', '3.8', '0',\n",
       "       '1.6', '9.6', '2.4', '1.7', '1.1', '0.3', '1.5', '0.7', '1.2',\n",
       "       '2.3', '0.5', '1.3', '0.2', '0.6', '1.4', '0.9', '1', '9.7'],\n",
       "      dtype=object)"
      ]
     },
     "execution_count": 10,
     "metadata": {},
     "output_type": "execute_result"
    }
   ],
   "source": [
    "df.user_score.unique()"
   ]
  },
  {
   "cell_type": "code",
   "execution_count": 11,
   "metadata": {
    "collapsed": true
   },
   "outputs": [
    {
     "name": "stderr",
     "output_type": "stream",
     "text": [
      "c:\\users\\user\\appdata\\local\\programs\\python\\python39\\lib\\site-packages\\pandas\\core\\indexing.py:1817: SettingWithCopyWarning: \n",
      "A value is trying to be set on a copy of a slice from a DataFrame.\n",
      "Try using .loc[row_indexer,col_indexer] = value instead\n",
      "\n",
      "See the caveats in the documentation: https://pandas.pydata.org/pandas-docs/stable/user_guide/indexing.html#returning-a-view-versus-a-copy\n",
      "  self._setitem_single_column(loc, value, pi)\n",
      "c:\\users\\user\\appdata\\local\\programs\\python\\python39\\lib\\site-packages\\pandas\\core\\generic.py:5516: SettingWithCopyWarning: \n",
      "A value is trying to be set on a copy of a slice from a DataFrame.\n",
      "Try using .loc[row_indexer,col_indexer] = value instead\n",
      "\n",
      "See the caveats in the documentation: https://pandas.pydata.org/pandas-docs/stable/user_guide/indexing.html#returning-a-view-versus-a-copy\n",
      "  self[name] = value\n"
     ]
    }
   ],
   "source": [
    "df.loc[df['user_score'] == 'tbd', 'user_score'] = np.nan\n",
    "df.user_score = df.user_score.astype('float')"
   ]
  },
  {
   "cell_type": "markdown",
   "metadata": {},
   "source": [
    "#### 2.7 - Checked by ratings, there are missing values, but in general the data corresponds to the ESRB rating categories"
   ]
  },
  {
   "cell_type": "code",
   "execution_count": 12,
   "metadata": {},
   "outputs": [
    {
     "data": {
      "text/plain": [
       "array(['E', nan, 'M', 'T', 'E10+', 'K-A', 'AO', 'EC', 'RP'], dtype=object)"
      ]
     },
     "execution_count": 12,
     "metadata": {},
     "output_type": "execute_result"
    }
   ],
   "source": [
    "df.rating.unique()"
   ]
  },
  {
   "cell_type": "markdown",
   "metadata": {},
   "source": [
    "#### 2.8 - Calculate the total sales and add a separate column."
   ]
  },
  {
   "cell_type": "code",
   "execution_count": 13,
   "metadata": {
    "collapsed": true
   },
   "outputs": [
    {
     "name": "stderr",
     "output_type": "stream",
     "text": [
      "<ipython-input-13-d54859161449>:1: SettingWithCopyWarning: \n",
      "A value is trying to be set on a copy of a slice from a DataFrame.\n",
      "Try using .loc[row_indexer,col_indexer] = value instead\n",
      "\n",
      "See the caveats in the documentation: https://pandas.pydata.org/pandas-docs/stable/user_guide/indexing.html#returning-a-view-versus-a-copy\n",
      "  df['total_sale'] = df.eu_sales + df.jp_sales + df.na_sales + df.other_sales\n"
     ]
    }
   ],
   "source": [
    "df['total_sale'] = df.eu_sales + df.jp_sales + df.na_sales + df.other_sales"
   ]
  },
  {
   "cell_type": "code",
   "execution_count": 14,
   "metadata": {},
   "outputs": [
    {
     "data": {
      "text/html": [
       "<div>\n",
       "<style scoped>\n",
       "    .dataframe tbody tr th:only-of-type {\n",
       "        vertical-align: middle;\n",
       "    }\n",
       "\n",
       "    .dataframe tbody tr th {\n",
       "        vertical-align: top;\n",
       "    }\n",
       "\n",
       "    .dataframe thead th {\n",
       "        text-align: right;\n",
       "    }\n",
       "</style>\n",
       "<table border=\"1\" class=\"dataframe\">\n",
       "  <thead>\n",
       "    <tr style=\"text-align: right;\">\n",
       "      <th></th>\n",
       "      <th>name</th>\n",
       "      <th>platform</th>\n",
       "      <th>year_of_release</th>\n",
       "      <th>genre</th>\n",
       "      <th>na_sales</th>\n",
       "      <th>eu_sales</th>\n",
       "      <th>jp_sales</th>\n",
       "      <th>other_sales</th>\n",
       "      <th>critic_score</th>\n",
       "      <th>user_score</th>\n",
       "      <th>rating</th>\n",
       "      <th>total_sale</th>\n",
       "    </tr>\n",
       "  </thead>\n",
       "  <tbody>\n",
       "    <tr>\n",
       "      <th>0</th>\n",
       "      <td>Wii Sports</td>\n",
       "      <td>Wii</td>\n",
       "      <td>2006</td>\n",
       "      <td>Sports</td>\n",
       "      <td>41.36</td>\n",
       "      <td>28.96</td>\n",
       "      <td>3.77</td>\n",
       "      <td>8.45</td>\n",
       "      <td>76</td>\n",
       "      <td>8.0</td>\n",
       "      <td>E</td>\n",
       "      <td>82.54</td>\n",
       "    </tr>\n",
       "    <tr>\n",
       "      <th>1</th>\n",
       "      <td>Super Mario Bros.</td>\n",
       "      <td>NES</td>\n",
       "      <td>1985</td>\n",
       "      <td>Platform</td>\n",
       "      <td>29.08</td>\n",
       "      <td>3.58</td>\n",
       "      <td>6.81</td>\n",
       "      <td>0.77</td>\n",
       "      <td>&lt;NA&gt;</td>\n",
       "      <td>NaN</td>\n",
       "      <td>NaN</td>\n",
       "      <td>40.24</td>\n",
       "    </tr>\n",
       "    <tr>\n",
       "      <th>2</th>\n",
       "      <td>Mario Kart Wii</td>\n",
       "      <td>Wii</td>\n",
       "      <td>2008</td>\n",
       "      <td>Racing</td>\n",
       "      <td>15.68</td>\n",
       "      <td>12.76</td>\n",
       "      <td>3.79</td>\n",
       "      <td>3.29</td>\n",
       "      <td>82</td>\n",
       "      <td>8.3</td>\n",
       "      <td>E</td>\n",
       "      <td>35.52</td>\n",
       "    </tr>\n",
       "    <tr>\n",
       "      <th>3</th>\n",
       "      <td>Wii Sports Resort</td>\n",
       "      <td>Wii</td>\n",
       "      <td>2009</td>\n",
       "      <td>Sports</td>\n",
       "      <td>15.61</td>\n",
       "      <td>10.93</td>\n",
       "      <td>3.28</td>\n",
       "      <td>2.95</td>\n",
       "      <td>80</td>\n",
       "      <td>8.0</td>\n",
       "      <td>E</td>\n",
       "      <td>32.77</td>\n",
       "    </tr>\n",
       "    <tr>\n",
       "      <th>4</th>\n",
       "      <td>Pokemon Red/Pokemon Blue</td>\n",
       "      <td>GB</td>\n",
       "      <td>1996</td>\n",
       "      <td>Role-Playing</td>\n",
       "      <td>11.27</td>\n",
       "      <td>8.89</td>\n",
       "      <td>10.22</td>\n",
       "      <td>1.00</td>\n",
       "      <td>&lt;NA&gt;</td>\n",
       "      <td>NaN</td>\n",
       "      <td>NaN</td>\n",
       "      <td>31.38</td>\n",
       "    </tr>\n",
       "    <tr>\n",
       "      <th>...</th>\n",
       "      <td>...</td>\n",
       "      <td>...</td>\n",
       "      <td>...</td>\n",
       "      <td>...</td>\n",
       "      <td>...</td>\n",
       "      <td>...</td>\n",
       "      <td>...</td>\n",
       "      <td>...</td>\n",
       "      <td>...</td>\n",
       "      <td>...</td>\n",
       "      <td>...</td>\n",
       "      <td>...</td>\n",
       "    </tr>\n",
       "    <tr>\n",
       "      <th>16710</th>\n",
       "      <td>Samurai Warriors: Sanada Maru</td>\n",
       "      <td>PS3</td>\n",
       "      <td>2016</td>\n",
       "      <td>Action</td>\n",
       "      <td>0.00</td>\n",
       "      <td>0.00</td>\n",
       "      <td>0.01</td>\n",
       "      <td>0.00</td>\n",
       "      <td>&lt;NA&gt;</td>\n",
       "      <td>NaN</td>\n",
       "      <td>NaN</td>\n",
       "      <td>0.01</td>\n",
       "    </tr>\n",
       "    <tr>\n",
       "      <th>16711</th>\n",
       "      <td>LMA Manager 2007</td>\n",
       "      <td>X360</td>\n",
       "      <td>2006</td>\n",
       "      <td>Sports</td>\n",
       "      <td>0.00</td>\n",
       "      <td>0.01</td>\n",
       "      <td>0.00</td>\n",
       "      <td>0.00</td>\n",
       "      <td>&lt;NA&gt;</td>\n",
       "      <td>NaN</td>\n",
       "      <td>NaN</td>\n",
       "      <td>0.01</td>\n",
       "    </tr>\n",
       "    <tr>\n",
       "      <th>16712</th>\n",
       "      <td>Haitaka no Psychedelica</td>\n",
       "      <td>PSV</td>\n",
       "      <td>2016</td>\n",
       "      <td>Adventure</td>\n",
       "      <td>0.00</td>\n",
       "      <td>0.00</td>\n",
       "      <td>0.01</td>\n",
       "      <td>0.00</td>\n",
       "      <td>&lt;NA&gt;</td>\n",
       "      <td>NaN</td>\n",
       "      <td>NaN</td>\n",
       "      <td>0.01</td>\n",
       "    </tr>\n",
       "    <tr>\n",
       "      <th>16713</th>\n",
       "      <td>Spirits &amp; Spells</td>\n",
       "      <td>GBA</td>\n",
       "      <td>2003</td>\n",
       "      <td>Platform</td>\n",
       "      <td>0.01</td>\n",
       "      <td>0.00</td>\n",
       "      <td>0.00</td>\n",
       "      <td>0.00</td>\n",
       "      <td>&lt;NA&gt;</td>\n",
       "      <td>NaN</td>\n",
       "      <td>NaN</td>\n",
       "      <td>0.01</td>\n",
       "    </tr>\n",
       "    <tr>\n",
       "      <th>16714</th>\n",
       "      <td>Winning Post 8 2016</td>\n",
       "      <td>PSV</td>\n",
       "      <td>2016</td>\n",
       "      <td>Simulation</td>\n",
       "      <td>0.00</td>\n",
       "      <td>0.00</td>\n",
       "      <td>0.01</td>\n",
       "      <td>0.00</td>\n",
       "      <td>&lt;NA&gt;</td>\n",
       "      <td>NaN</td>\n",
       "      <td>NaN</td>\n",
       "      <td>0.01</td>\n",
       "    </tr>\n",
       "  </tbody>\n",
       "</table>\n",
       "<p>16713 rows × 12 columns</p>\n",
       "</div>"
      ],
      "text/plain": [
       "                                name platform  year_of_release         genre  \\\n",
       "0                         Wii Sports      Wii             2006        Sports   \n",
       "1                  Super Mario Bros.      NES             1985      Platform   \n",
       "2                     Mario Kart Wii      Wii             2008        Racing   \n",
       "3                  Wii Sports Resort      Wii             2009        Sports   \n",
       "4           Pokemon Red/Pokemon Blue       GB             1996  Role-Playing   \n",
       "...                              ...      ...              ...           ...   \n",
       "16710  Samurai Warriors: Sanada Maru      PS3             2016        Action   \n",
       "16711               LMA Manager 2007     X360             2006        Sports   \n",
       "16712        Haitaka no Psychedelica      PSV             2016     Adventure   \n",
       "16713               Spirits & Spells      GBA             2003      Platform   \n",
       "16714            Winning Post 8 2016      PSV             2016    Simulation   \n",
       "\n",
       "       na_sales  eu_sales  jp_sales  other_sales  critic_score  user_score  \\\n",
       "0         41.36     28.96      3.77         8.45            76         8.0   \n",
       "1         29.08      3.58      6.81         0.77          <NA>         NaN   \n",
       "2         15.68     12.76      3.79         3.29            82         8.3   \n",
       "3         15.61     10.93      3.28         2.95            80         8.0   \n",
       "4         11.27      8.89     10.22         1.00          <NA>         NaN   \n",
       "...         ...       ...       ...          ...           ...         ...   \n",
       "16710      0.00      0.00      0.01         0.00          <NA>         NaN   \n",
       "16711      0.00      0.01      0.00         0.00          <NA>         NaN   \n",
       "16712      0.00      0.00      0.01         0.00          <NA>         NaN   \n",
       "16713      0.01      0.00      0.00         0.00          <NA>         NaN   \n",
       "16714      0.00      0.00      0.01         0.00          <NA>         NaN   \n",
       "\n",
       "      rating  total_sale  \n",
       "0          E       82.54  \n",
       "1        NaN       40.24  \n",
       "2          E       35.52  \n",
       "3          E       32.77  \n",
       "4        NaN       31.38  \n",
       "...      ...         ...  \n",
       "16710    NaN        0.01  \n",
       "16711    NaN        0.01  \n",
       "16712    NaN        0.01  \n",
       "16713    NaN        0.01  \n",
       "16714    NaN        0.01  \n",
       "\n",
       "[16713 rows x 12 columns]"
      ]
     },
     "execution_count": 14,
     "metadata": {},
     "output_type": "execute_result"
    }
   ],
   "source": [
    "df"
   ]
  },
  {
   "cell_type": "markdown",
   "metadata": {},
   "source": [
    "###  3. Exploratory data analysis:"
   ]
  },
  {
   "cell_type": "markdown",
   "metadata": {},
   "source": [
    "#### 3.1 - How many games were released in different years?"
   ]
  },
  {
   "cell_type": "code",
   "execution_count": 15,
   "metadata": {},
   "outputs": [
    {
     "data": {
      "image/png": "[encoded data removed]",
      "text/plain": [
       "<Figure size 720x360 with 1 Axes>"
      ]
     },
     "metadata": {
      "needs_background": "light"
     },
     "output_type": "display_data"
    }
   ],
   "source": [
    "year = list(range(1980,2017))\n",
    "year_pt = df.pivot_table(index = 'year_of_release', values = 'name', aggfunc = 'count')\n",
    "year_pt.plot(figsize = (10,5), color = 'red')\n",
    "plt.title('Distribution of released games by years', fontsize = 15)\n",
    "plt.xticks(year, rotation= 90)\n",
    "plt.legend('')\n",
    "plt.grid()\n",
    "plt.xlabel('Year')\n",
    "plt.ylabel('Number of released games')\n",
    "plt.show()\n"
   ]
  },
  {
   "cell_type": "markdown",
   "metadata": {},
   "source": [
    "Looking at the histogram, we saw that, in general, the number of games began to increase in 1994, with a sharp rise after 2000, and after 2009, the number of released games began to decrease, which could have been affected by the 2008 crisis. For our analysis, we can take a selection from 2000."
   ]
  },
  {
   "cell_type": "code",
   "execution_count": 16,
   "metadata": {},
   "outputs": [],
   "source": [
    "df_over_2000 = df.query('year_of_release >= 2000')"
   ]
  },
  {
   "cell_type": "markdown",
   "metadata": {},
   "source": [
    "#### 3.2 - Let's choose the platforms with the highest total sales and plot the distribution by years."
   ]
  },
  {
   "cell_type": "code",
   "execution_count": 17,
   "metadata": {},
   "outputs": [
    {
     "data": {
      "text/plain": [
       "platform\n",
       "PS2     1233.56\n",
       "X360     961.24\n",
       "PS3      931.34\n",
       "Wii      891.18\n",
       "DS       802.76\n",
       "PS4      314.14\n",
       "GBA      312.88\n",
       "PSP      289.53\n",
       "3DS      257.81\n",
       "XB       251.57\n",
       "PC       205.72\n",
       "GC       196.73\n",
       "XOne     159.32\n",
       "PS       140.70\n",
       "WiiU      82.19\n",
       "PSV       53.81\n",
       "N64       37.30\n",
       "GB        29.00\n",
       "DC         7.41\n",
       "WS         0.96\n",
       "Name: total_sale, dtype: float64"
      ]
     },
     "execution_count": 17,
     "metadata": {},
     "output_type": "execute_result"
    }
   ],
   "source": [
    "df_most_platform_sales = df_over_2000.groupby('platform')['total_sale'].sum()\n",
    "df_most_platform_sales.sort_values(ascending=False)"
   ]
  },
  {
   "cell_type": "markdown",
   "metadata": {},
   "source": [
    "**Take the first 5 sales platforms and add PC**"
   ]
  },
  {
   "cell_type": "code",
   "execution_count": 18,
   "metadata": {},
   "outputs": [],
   "source": [
    "most_pltf = df_over_2000.query('platform == \"PS2\" or platform == \"X360\" or platform == \"PS3\" or platform == \"Wii\" or platform == \"DS\" or platform == \"PC\"')"
   ]
  },
  {
   "cell_type": "code",
   "execution_count": 19,
   "metadata": {},
   "outputs": [
    {
     "data": {
      "text/plain": [
       "Text(0, 0.5, 'Number of released games')"
      ]
     },
     "execution_count": 19,
     "metadata": {},
     "output_type": "execute_result"
    },
    {
     "data": {
      "image/png": "[encoded data removed]",
      "text/plain": [
       "<Figure size 1080x504 with 1 Axes>"
      ]
     },
     "metadata": {
      "needs_background": "light"
     },
     "output_type": "display_data"
    }
   ],
   "source": [
    "year = list(range(2000,2017))\n",
    "most_pltf.pivot_table(index = 'year_of_release',columns = 'platform', values = 'name', aggfunc = 'count').plot(figsize = (15,7))\n",
    "plt.title('Distribution of released games of top platforms by years', fontsize = 15)\n",
    "plt.xticks(year, rotation= 90)\n",
    "plt.grid()\n",
    "plt.xlabel('Year')\n",
    "plt.ylabel('Number of released games')"
   ]
  },
  {
   "cell_type": "markdown",
   "metadata": {},
   "source": [
    "According to the schedule, we can conclude that the average life span of the platform is 9-10 years. Only the PC differs in that it exists throughout the entire time, and by the end of the period of interest to us, it even becomes the leader in sales.\n",
    "For further work, we will take the current period from 2006 to 2016 based on this information."
   ]
  },
  {
   "cell_type": "code",
   "execution_count": 20,
   "metadata": {},
   "outputs": [],
   "source": [
    "df_actual = df.query('year_of_release >= 2013')"
   ]
  },
  {
   "cell_type": "markdown",
   "metadata": {},
   "source": [
    "#### 3.3 Which platforms are leading in sales, rising or falling? Let's choose a few potentially profitable platforms."
   ]
  },
  {
   "cell_type": "code",
   "execution_count": 21,
   "metadata": {},
   "outputs": [
    {
     "data": {
      "text/plain": [
       "Text(0, 0.5, 'Sales amount, mln')"
      ]
     },
     "execution_count": 21,
     "metadata": {},
     "output_type": "execute_result"
    },
    {
     "data": {
      "image/png": "[encoded data removed]",
      "text/plain": [
       "<Figure size 1080x504 with 1 Axes>"
      ]
     },
     "metadata": {
      "needs_background": "light"
     },
     "output_type": "display_data"
    }
   ],
   "source": [
    "year = list(range(2013,2017))\n",
    "df_potencial = df_actual.pivot_table(index = 'year_of_release',columns = 'platform', values = 'total_sale', aggfunc = 'sum')\n",
    "df_potencial.plot(figsize = (15,7), marker=\"o\")\n",
    "plt.title('Distribution of games by sales', fontsize = 15)\n",
    "plt.xticks(year, rotation= 90)\n",
    "plt.grid()\n",
    "plt.legend(loc=2,facecolor='w', framealpha=1)\n",
    "plt.xlabel('Year')\n",
    "plt.ylabel('Sales amount, mln')"
   ]
  },
  {
   "cell_type": "markdown",
   "metadata": {},
   "source": [
    "As we can see, the main part of the platforms is already losing popularity. But PS4, XOne were at their peak until recently, so you can still invest in them for 2017. Less profitable 3DS, but let's leave it the same. Let's not forget about the PC, this platform is in demand and is becoming popular again."
   ]
  },
  {
   "cell_type": "markdown",
   "metadata": {},
   "source": [
    "#### 3.4 - How do user reviews and critics affect sales within one popular platform?\n",
    "Build a scatterplot and calculate the correlation between reviews and sales."
   ]
  },
  {
   "cell_type": "code",
   "execution_count": 22,
   "metadata": {},
   "outputs": [
    {
     "name": "stdout",
     "output_type": "stream",
     "text": [
      "\n",
      "Dependence of sales on evaluation of critics and users on xOne\n",
      "-----------------------------------------------------\n"
     ]
    },
    {
     "data": {
      "text/html": [
       "<div>\n",
       "<style scoped>\n",
       "    .dataframe tbody tr th:only-of-type {\n",
       "        vertical-align: middle;\n",
       "    }\n",
       "\n",
       "    .dataframe tbody tr th {\n",
       "        vertical-align: top;\n",
       "    }\n",
       "\n",
       "    .dataframe thead th {\n",
       "        text-align: right;\n",
       "    }\n",
       "</style>\n",
       "<table border=\"1\" class=\"dataframe\">\n",
       "  <thead>\n",
       "    <tr style=\"text-align: right;\">\n",
       "      <th></th>\n",
       "      <th>total_sale</th>\n",
       "      <th>critic_score</th>\n",
       "      <th>user_score</th>\n",
       "    </tr>\n",
       "  </thead>\n",
       "  <tbody>\n",
       "    <tr>\n",
       "      <th>total_sale</th>\n",
       "      <td>1.000000</td>\n",
       "      <td>0.416998</td>\n",
       "      <td>-0.068925</td>\n",
       "    </tr>\n",
       "    <tr>\n",
       "      <th>critic_score</th>\n",
       "      <td>0.416998</td>\n",
       "      <td>1.000000</td>\n",
       "      <td>0.472462</td>\n",
       "    </tr>\n",
       "    <tr>\n",
       "      <th>user_score</th>\n",
       "      <td>-0.068925</td>\n",
       "      <td>0.472462</td>\n",
       "      <td>1.000000</td>\n",
       "    </tr>\n",
       "  </tbody>\n",
       "</table>\n",
       "</div>"
      ],
      "text/plain": [
       "              total_sale  critic_score  user_score\n",
       "total_sale      1.000000      0.416998   -0.068925\n",
       "critic_score    0.416998      1.000000    0.472462\n",
       "user_score     -0.068925      0.472462    1.000000"
      ]
     },
     "execution_count": 22,
     "metadata": {},
     "output_type": "execute_result"
    }
   ],
   "source": [
    "df_xOne = df_actual.query('platform == \"XOne\"')\n",
    "print()\n",
    "print('Dependence of sales on evaluation of critics and users on xOne')\n",
    "print('-'*53)\n",
    "df_xOne[['total_sale','critic_score', 'user_score']].corr()"
   ]
  },
  {
   "cell_type": "code",
   "execution_count": 23,
   "metadata": {},
   "outputs": [
    {
     "data": {
      "text/plain": [
       "Text(0, 0.5, 'Sales amount, mln')"
      ]
     },
     "execution_count": 23,
     "metadata": {},
     "output_type": "execute_result"
    },
    {
     "data": {
      "image/png": "[encoded data removed]",
      "text/plain": [
       "<Figure size 432x288 with 1 Axes>"
      ]
     },
     "metadata": {
      "needs_background": "light"
     },
     "output_type": "display_data"
    }
   ],
   "source": [
    "df_xOne.plot(kind='scatter', y = 'total_sale', x = 'critic_score')\n",
    "plt.title('Dependence of sales on the evaluation of critics', fontsize = 15)\n",
    "plt.grid()\n",
    "plt.xlabel('Critics score')\n",
    "plt.ylabel('Sales amount, mln')"
   ]
  },
  {
   "cell_type": "code",
   "execution_count": 24,
   "metadata": {},
   "outputs": [
    {
     "data": {
      "text/plain": [
       "Text(0, 0.5, 'Sales amount, mln')"
      ]
     },
     "execution_count": 24,
     "metadata": {},
     "output_type": "execute_result"
    },
    {
     "data": {
      "image/png": "[encoded data removed]",
      "text/plain": [
       "<Figure size 432x288 with 1 Axes>"
      ]
     },
     "metadata": {
      "needs_background": "light"
     },
     "output_type": "display_data"
    }
   ],
   "source": [
    "df_xOne.plot(kind='scatter', y = 'total_sale', x = 'user_score')\n",
    "plt.title('Dependence of sales on user ratings', fontsize = 15)\n",
    "plt.grid()\n",
    "plt.xlabel('User rating')\n",
    "plt.ylabel('Sales amount, mln')"
   ]
  },
  {
   "cell_type": "markdown",
   "metadata": {},
   "source": [
    "- There is an average positive correlation between critics' ratings and sales (0.41), on the graph we see that with a rating of more than 70 games are sold more.\n",
    "- There is no correlation between user rating and sales, the graph shows that games are sold with both a 3 and an 8 rating"
   ]
  },
  {
   "cell_type": "markdown",
   "metadata": {},
   "source": [
    "#### 3.5 - Overall correlation across the entire dataset"
   ]
  },
  {
   "cell_type": "code",
   "execution_count": 25,
   "metadata": {},
   "outputs": [
    {
     "data": {
      "text/html": [
       "<div>\n",
       "<style scoped>\n",
       "    .dataframe tbody tr th:only-of-type {\n",
       "        vertical-align: middle;\n",
       "    }\n",
       "\n",
       "    .dataframe tbody tr th {\n",
       "        vertical-align: top;\n",
       "    }\n",
       "\n",
       "    .dataframe thead th {\n",
       "        text-align: right;\n",
       "    }\n",
       "</style>\n",
       "<table border=\"1\" class=\"dataframe\">\n",
       "  <thead>\n",
       "    <tr style=\"text-align: right;\">\n",
       "      <th></th>\n",
       "      <th>total_sale</th>\n",
       "      <th>critic_score</th>\n",
       "      <th>user_score</th>\n",
       "    </tr>\n",
       "  </thead>\n",
       "  <tbody>\n",
       "    <tr>\n",
       "      <th>total_sale</th>\n",
       "      <td>1.000000</td>\n",
       "      <td>0.313700</td>\n",
       "      <td>-0.002608</td>\n",
       "    </tr>\n",
       "    <tr>\n",
       "      <th>critic_score</th>\n",
       "      <td>0.313700</td>\n",
       "      <td>1.000000</td>\n",
       "      <td>0.502221</td>\n",
       "    </tr>\n",
       "    <tr>\n",
       "      <th>user_score</th>\n",
       "      <td>-0.002608</td>\n",
       "      <td>0.502221</td>\n",
       "      <td>1.000000</td>\n",
       "    </tr>\n",
       "  </tbody>\n",
       "</table>\n",
       "</div>"
      ],
      "text/plain": [
       "              total_sale  critic_score  user_score\n",
       "total_sale      1.000000      0.313700   -0.002608\n",
       "critic_score    0.313700      1.000000    0.502221\n",
       "user_score     -0.002608      0.502221    1.000000"
      ]
     },
     "execution_count": 25,
     "metadata": {},
     "output_type": "execute_result"
    }
   ],
   "source": [
    "df_actual[['total_sale','critic_score', 'user_score']].corr()"
   ]
  },
  {
   "cell_type": "markdown",
   "metadata": {},
   "source": [
    "In fact, the situation is similar for the entire amount of data, insignificant, less than average dependence on the rating of critics, and almost no dependence on the rating of users."
   ]
  },
  {
   "cell_type": "markdown",
   "metadata": {},
   "source": [
    "#### 3.6 - Distribution of the number of released games by genre:"
   ]
  },
  {
   "cell_type": "code",
   "execution_count": 26,
   "metadata": {},
   "outputs": [
    {
     "data": {
      "image/png": "[encoded data removed]",
      "text/plain": [
       "<Figure size 720x720 with 1 Axes>"
      ]
     },
     "metadata": {},
     "output_type": "display_data"
    }
   ],
   "source": [
    "genre_pt = df_actual.pivot_table(index = 'genre', values = 'name', aggfunc = 'count')\n",
    "genre_pt.plot(figsize = (10,10), kind = 'pie', subplots = True, autopct=\"%.1f\", legend=None)\n",
    "plt.title('Distribution of the number of released games by genre for the period 2013-2016', fontsize = 15)\n",
    "plt.show()\n"
   ]
  },
  {
   "cell_type": "markdown",
   "metadata": {},
   "source": [
    "Top three: `Action` (34%) , `Role-play` (13%), `Adventure` (11%), outsiders - Puzzle, Strategy, Simulation"
   ]
  },
  {
   "cell_type": "markdown",
   "metadata": {},
   "source": [
    "#### 3.7 - Amount of game profits by genre:"
   ]
  },
  {
   "cell_type": "code",
   "execution_count": 27,
   "metadata": {},
   "outputs": [
    {
     "data": {
      "image/png": "[encoded data removed]",
      "text/plain": [
       "<Figure size 720x720 with 1 Axes>"
      ]
     },
     "metadata": {},
     "output_type": "display_data"
    }
   ],
   "source": [
    "genre_pt = df_actual.pivot_table(index = 'genre', values = 'total_sale', aggfunc = 'median')\n",
    "genre_pt.plot(figsize = (10,10), kind = 'pie', subplots = True, autopct=\"%.1f\", legend=None)\n",
    "plt.title('Profit distribution by genre for the period 2013-2016', fontsize = 15)\n",
    "plt.show()\n"
   ]
  },
  {
   "cell_type": "markdown",
   "metadata": {},
   "source": [
    "In the top three in sales: `Shooter, Sports, Platform` , outsiders - `Puzzle, Adventure, Strategy`"
   ]
  },
  {
   "cell_type": "markdown",
   "metadata": {},
   "source": [
    "#### 3.8 - Portrait of the user of each region:"
   ]
  },
  {
   "cell_type": "code",
   "execution_count": 28,
   "metadata": {},
   "outputs": [
    {
     "name": "stdout",
     "output_type": "stream",
     "text": [
      "Distribution of sales by platform in selected regions\n"
     ]
    },
    {
     "data": {
      "image/png": "[encoded data removed]",
      "text/plain": [
       "<Figure size 1080x360 with 3 Axes>"
      ]
     },
     "metadata": {
      "needs_background": "light"
     },
     "output_type": "display_data"
    }
   ],
   "source": [
    "top5_na = df_actual.groupby('platform')['na_sales'].sum().sort_values(ascending=False)[:5]\n",
    "top5_eu = df_actual.groupby('platform')['eu_sales'].sum().sort_values(ascending=False)[:5]\n",
    "top5_jp = df_actual.groupby('platform')['jp_sales'].sum().sort_values(ascending=False)[:5]\n",
    "\n",
    "print('Distribution of sales by platform in selected regions')\n",
    "plt.subplot(1,3,1)\n",
    "top5_na.plot(kind = 'bar', figsize = (15,5), color = 'r')\n",
    "plt.title('Sales in NA')\n",
    "plt.subplot(1,3,2)\n",
    "\n",
    "plt.title('Sales in EU')\n",
    "top5_eu.plot(kind = 'bar')\n",
    "\n",
    "plt.subplot(1,3,3)\n",
    "top5_jp.plot(kind = 'bar', color = 'g')\n",
    "plt.title('Sales in JP')\n",
    "plt.show()"
   ]
  },
  {
   "cell_type": "markdown",
   "metadata": {},
   "source": [
    "In terms of sales, we will conclude that most sales are in Europe, America is in second place, and Japan is in last. By platforms:\n",
    "- In America and Europe, the top five are the same platforms, 3DS in fifth place.\n",
    "- In Japan, #DS is in first place, and instead of X360 and Wii, PSV, WiU are in the top"
   ]
  },
  {
   "cell_type": "code",
   "execution_count": 29,
   "metadata": {},
   "outputs": [
    {
     "name": "stdout",
     "output_type": "stream",
     "text": [
      "Distribution of sales by genre in selected regions\n"
     ]
    },
    {
     "data": {
      "image/png": "[encoded data removed]",
      "text/plain": [
       "<Figure size 1080x360 with 3 Axes>"
      ]
     },
     "metadata": {
      "needs_background": "light"
     },
     "output_type": "display_data"
    }
   ],
   "source": [
    "top5_na = df_actual.groupby('genre')['na_sales'].sum().sort_values(ascending=False)[:5]\n",
    "top5_eu = df_actual.groupby('genre')['eu_sales'].sum().sort_values(ascending=False)[:5]\n",
    "top5_jp = df_actual.groupby('genre')['jp_sales'].sum().sort_values(ascending=False)[:5]\n",
    "\n",
    "print('Distribution of sales by genre in selected regions')\n",
    "plt.subplot(1,3,1)\n",
    "top5_na.plot(kind = 'bar', figsize = (15,5), color = 'r')\n",
    "plt.title('Sales in NA')\n",
    "plt.subplot(1,3,2)\n",
    "\n",
    "plt.title('Sales in EU')\n",
    "top5_eu.plot(kind = 'bar')\n",
    "\n",
    "plt.subplot(1,3,3)\n",
    "top5_jp.plot(kind = 'bar', color = 'g')\n",
    "plt.title('Sales in JP')\n",
    "plt.show()"
   ]
  },
  {
   "cell_type": "markdown",
   "metadata": {},
   "source": [
    "- In America and Europe, the distribution is similar, the first 4 places are the same, different genres close the top, other genres and races.\n",
    "- Again, Japan stands out, where role-playing games and action genres take 1-2 places by a wide margin."
   ]
  },
  {
   "cell_type": "code",
   "execution_count": 30,
   "metadata": {
    "collapsed": true
   },
   "outputs": [
    {
     "name": "stderr",
     "output_type": "stream",
     "text": [
      "<ipython-input-30-cad590533768>:2: SettingWithCopyWarning: \n",
      "A value is trying to be set on a copy of a slice from a DataFrame.\n",
      "Try using .loc[row_indexer,col_indexer] = value instead\n",
      "\n",
      "See the caveats in the documentation: https://pandas.pydata.org/pandas-docs/stable/user_guide/indexing.html#returning-a-view-versus-a-copy\n",
      "  df_actual['rating'] = df_actual['rating'].fillna('No Rate')\n"
     ]
    }
   ],
   "source": [
    "# Replace the data where there is no rating with `No Rate`\n",
    "df_actual['rating'] = df_actual['rating'].fillna('No Rate')"
   ]
  },
  {
   "cell_type": "code",
   "execution_count": 31,
   "metadata": {},
   "outputs": [
    {
     "name": "stdout",
     "output_type": "stream",
     "text": [
      "Distribution of sales depending on the rating in individual regions\n"
     ]
    },
    {
     "data": {
      "image/png": "[encoded data removed]",
      "text/plain": [
       "<Figure size 1080x360 with 3 Axes>"
      ]
     },
     "metadata": {
      "needs_background": "light"
     },
     "output_type": "display_data"
    }
   ],
   "source": [
    "top5_na = df_actual.groupby('rating')['na_sales'].sum().sort_values(ascending=False)\n",
    "top5_eu = df_actual.groupby('rating')['eu_sales'].sum().sort_values(ascending=False)\n",
    "top5_jp = df_actual.groupby('rating')['jp_sales'].sum().sort_values(ascending=False)\n",
    "\n",
    "print('Distribution of sales depending on the rating in individual regions')\n",
    "plt.subplot(1,3,1)\n",
    "top5_na.plot(kind = 'bar', figsize = (15,5), color = 'r')\n",
    "plt.title('Sales in NA')\n",
    "plt.subplot(1,3,2)\n",
    "\n",
    "plt.title('Sales in EU')\n",
    "top5_eu.plot(kind = 'bar')\n",
    "\n",
    "plt.subplot(1,3,3)\n",
    "top5_jp.plot(kind = 'bar', color = 'g')\n",
    "plt.title('Sales in JP')\n",
    "plt.show()\n"
   ]
  },
  {
   "cell_type": "markdown",
   "metadata": {},
   "source": [
    "   - Everywhere there are a lot of games on sale with an indeterminate rating, but Japan has the most.\n",
    "   - In Europe and America, games with an M rating are in first place, unlike Japan, where M is in 4th place"
   ]
  },
  {
   "cell_type": "markdown",
   "metadata": {},
   "source": [
    "### 4. Hypothesis testing"
   ]
  },
  {
   "cell_type": "markdown",
   "metadata": {},
   "source": [
    "**Hypothesis 1: The average user ratings of the Xbox One and PC platforms are the same.**\n",
    "\n",
    "- Null Hypothesis - The average user ratings of the Xbox One and PC platforms are the same.\n",
    "- Alternative: - The average user ratings of the Xbox One and PC platforms are different.\n",
    "- Let's take the threshold value of alpha 0.5"
   ]
  },
  {
   "cell_type": "code",
   "execution_count": 32,
   "metadata": {},
   "outputs": [
    {
     "name": "stdout",
     "output_type": "stream",
     "text": [
      "p-value: 3.750185722417337e-05\n",
      "Rejecting the null hypothesis\n"
     ]
    }
   ],
   "source": [
    "alpha = 0.05 \n",
    "results = st.ttest_ind(\n",
    "    df_over_2000.query('platform == \"XOne\"')['user_score'].dropna(), \n",
    "    df_over_2000.query('platform == \"PC\"')['user_score'].dropna())\n",
    "\n",
    "print('p-value:', results.pvalue)\n",
    "\n",
    "if (results.pvalue < alpha):\n",
    "    print(\"Rejecting the null hypothesis\")\n",
    "else:\n",
    "    print(\"Failed to reject the null hypothesis\")"
   ]
  },
  {
   "cell_type": "markdown",
   "metadata": {},
   "source": [
    "**Conclusion:** We reject the null hypothesis, the average ratings are different / **The hypothesis is not confirmed**"
   ]
  },
  {
   "cell_type": "code",
   "execution_count": 33,
   "metadata": {},
   "outputs": [
    {
     "name": "stdout",
     "output_type": "stream",
     "text": [
      "6.521428571428572\n",
      "7.0340599455040875\n",
      "\n"
     ]
    }
   ],
   "source": [
    "print(df_over_2000.query('platform == \"XOne\"').user_score.mean())\n",
    "print(df_over_2000.query('platform == \"PC\"').user_score.mean())\n",
    "print()"
   ]
  },
  {
   "cell_type": "markdown",
   "metadata": {},
   "source": [
    "**Hypothesis 2: Average user ratings for Action and Sports are different**\n",
    "\n",
    "- Null hypothesis - Average user ratings are different.\n",
    "- Alternative: - Average user ratings are the same.\n",
    "- Let's take the threshold value of alpha 0.5"
   ]
  },
  {
   "cell_type": "code",
   "execution_count": 34,
   "metadata": {},
   "outputs": [
    {
     "name": "stdout",
     "output_type": "stream",
     "text": [
      "p-value: 0.09063548503578989\n",
      "Failed to reject the null hypothesis\n"
     ]
    }
   ],
   "source": [
    "alpha = 0.05 \n",
    "results = st.ttest_ind(\n",
    "    df_over_2000.query('genre == \"Action\"')['user_score'].dropna(), \n",
    "    df_over_2000.query('genre == \"Sports\"')['user_score'].dropna())\n",
    "\n",
    "print('p-value:', results.pvalue)\n",
    "\n",
    "if (results.pvalue < alpha):\n",
    "    print(\"Rejecting the null hypothesis\")\n",
    "else:\n",
    "    print(\"Failed to reject the null hypothesis\")"
   ]
  },
  {
   "cell_type": "markdown",
   "metadata": {},
   "source": [
    "**Conclusion:** We accept the null hypothesis, the average user ratings are different./ **Hypothesis - confirmed!**"
   ]
  },
  {
   "cell_type": "markdown",
   "metadata": {},
   "source": [
    "### GENERAL CONCLUSIONS:\n",
    "- In this project, we opened and viewed data on games released since 1985.\n",
    "- First, we processed the missing values, converted the data to a logical and convenient type.\n",
    "- Summarized the total number of sales and created a separate column with the sum\n",
    "- After examining the data, we saw that in general the number of games began to increase in 1994, with a sharp rise after 2000, so for a start we singled out games released after 2000.\n",
    "- We found the average duration of the platform \"life\" of the platform - 9-10 years. We took the actual period from 2013 to 2016 of the data set for further analysis.\n",
    "- We looked at the dependence of profit on the genre, critics' and users' ratings, tested the hypotheses.\n",
    "- Separately studied the data on the regions.\n",
    "\n",
    "For the production of games for 2017, we will make the following forecast:\n",
    "- For America, we advise you to release Action, Shooter rated M on PS4, XONE platforms\n",
    "- For Europe - Action, Shooter rated M on PS4, PS3 platforms\n",
    "- In Japan, RPG and Action will be better sold on 3DS, PS3 platforms"
   ]
  },
  {
   "cell_type": "markdown",
   "metadata": {},
   "source": [
    "`*Data from Yandex Practicum was used for the project`"
   ]
  },
  {
   "cell_type": "code",
   "execution_count": null,
   "metadata": {},
   "outputs": [],
   "source": []
  }
 ],
 "metadata": {
  "ExecuteTimeLog": [
   {
    "duration": 711,
    "start_time": "2022-02-09T12:43:05.377Z"
   },
   {
    "duration": 19,
    "start_time": "2022-02-09T13:18:08.938Z"
   },
   {
    "duration": 43,
    "start_time": "2022-02-09T13:18:58.613Z"
   },
   {
    "duration": 39,
    "start_time": "2022-02-09T13:19:08.020Z"
   },
   {
    "duration": 58,
    "start_time": "2022-02-09T13:19:26.970Z"
   },
   {
    "duration": 30,
    "start_time": "2022-02-09T13:19:58.337Z"
   },
   {
    "duration": 3,
    "start_time": "2022-02-09T13:20:16.908Z"
   },
   {
    "duration": 297,
    "start_time": "2022-02-09T13:20:31.754Z"
   },
   {
    "duration": 20,
    "start_time": "2022-02-09T13:20:33.874Z"
   },
   {
    "duration": 238,
    "start_time": "2022-02-09T13:21:00.891Z"
   },
   {
    "duration": 334,
    "start_time": "2022-02-09T13:21:58.219Z"
   },
   {
    "duration": 218,
    "start_time": "2022-02-09T13:22:12.219Z"
   },
   {
    "duration": 234,
    "start_time": "2022-02-09T13:22:24.993Z"
   },
   {
    "duration": 209,
    "start_time": "2022-02-09T13:22:29.154Z"
   },
   {
    "duration": 5,
    "start_time": "2022-02-09T13:22:33.345Z"
   },
   {
    "duration": 5,
    "start_time": "2022-02-09T13:22:37.465Z"
   },
   {
    "duration": 234,
    "start_time": "2022-02-09T13:22:56.737Z"
   },
   {
    "duration": 6,
    "start_time": "2022-02-09T13:23:12.234Z"
   },
   {
    "duration": 5,
    "start_time": "2022-02-09T13:23:16.753Z"
   },
   {
    "duration": 4,
    "start_time": "2022-02-09T13:23:20.377Z"
   },
   {
    "duration": 10,
    "start_time": "2022-02-09T13:23:28.801Z"
   },
   {
    "duration": 223,
    "start_time": "2022-02-09T13:23:48.457Z"
   },
   {
    "duration": 27,
    "start_time": "2022-02-09T13:23:55.401Z"
   },
   {
    "duration": 76,
    "start_time": "2022-02-09T13:27:08.713Z"
   },
   {
    "duration": 331,
    "start_time": "2022-02-09T13:27:11.775Z"
   },
   {
    "duration": 90,
    "start_time": "2022-02-09T13:27:21.281Z"
   },
   {
    "duration": 247,
    "start_time": "2022-02-09T13:27:24.047Z"
   },
   {
    "duration": 5,
    "start_time": "2022-02-09T13:27:27.376Z"
   },
   {
    "duration": 21,
    "start_time": "2022-02-09T13:27:29.832Z"
   },
   {
    "duration": 47,
    "start_time": "2022-02-09T13:27:47.136Z"
   },
   {
    "duration": 218,
    "start_time": "2022-02-09T13:28:07.714Z"
   },
   {
    "duration": 239,
    "start_time": "2022-02-09T13:28:12.065Z"
   },
   {
    "duration": 3,
    "start_time": "2022-02-09T13:28:21.082Z"
   },
   {
    "duration": 58,
    "start_time": "2022-02-09T13:28:21.087Z"
   },
   {
    "duration": 3,
    "start_time": "2022-02-09T13:28:21.147Z"
   },
   {
    "duration": 20,
    "start_time": "2022-02-09T13:28:21.152Z"
   },
   {
    "duration": 8,
    "start_time": "2022-02-09T13:29:06.577Z"
   },
   {
    "duration": 7,
    "start_time": "2022-02-09T13:29:39.591Z"
   },
   {
    "duration": 15,
    "start_time": "2022-02-09T13:29:42.336Z"
   },
   {
    "duration": 21,
    "start_time": "2022-02-09T13:30:37.641Z"
   },
   {
    "duration": 7,
    "start_time": "2022-02-09T13:30:51.215Z"
   },
   {
    "duration": 7,
    "start_time": "2022-02-09T13:31:00.583Z"
   },
   {
    "duration": 5,
    "start_time": "2022-02-09T13:31:04.271Z"
   },
   {
    "duration": 17,
    "start_time": "2022-02-09T13:31:25.576Z"
   },
   {
    "duration": 26,
    "start_time": "2022-02-09T13:31:53.345Z"
   },
   {
    "duration": 594,
    "start_time": "2022-02-13T07:46:04.961Z"
   },
   {
    "duration": 71,
    "start_time": "2022-02-13T07:46:05.557Z"
   },
   {
    "duration": 3,
    "start_time": "2022-02-13T07:46:05.631Z"
   },
   {
    "duration": 20,
    "start_time": "2022-02-13T07:46:05.636Z"
   },
   {
    "duration": 32,
    "start_time": "2022-02-13T07:46:05.658Z"
   },
   {
    "duration": 423,
    "start_time": "2022-02-13T07:47:43.302Z"
   },
   {
    "duration": 297,
    "start_time": "2022-02-13T07:47:50.822Z"
   },
   {
    "duration": 81,
    "start_time": "2022-02-13T07:48:10.999Z"
   },
   {
    "duration": 337,
    "start_time": "2022-02-13T07:48:24.245Z"
   },
   {
    "duration": 266,
    "start_time": "2022-02-13T07:48:43.670Z"
   },
   {
    "duration": 251,
    "start_time": "2022-02-13T07:48:49.021Z"
   },
   {
    "duration": 238,
    "start_time": "2022-02-13T07:49:03.095Z"
   },
   {
    "duration": 220,
    "start_time": "2022-02-13T07:49:06.902Z"
   },
   {
    "duration": 242,
    "start_time": "2022-02-13T07:49:15.326Z"
   },
   {
    "duration": 19,
    "start_time": "2022-02-13T07:49:19.877Z"
   },
   {
    "duration": 14,
    "start_time": "2022-02-13T07:50:19.053Z"
   },
   {
    "duration": 26,
    "start_time": "2022-02-13T07:50:25.564Z"
   },
   {
    "duration": 31,
    "start_time": "2022-02-13T07:50:29.636Z"
   },
   {
    "duration": 253,
    "start_time": "2022-02-13T07:51:11.621Z"
   },
   {
    "duration": 6,
    "start_time": "2022-02-13T07:51:15.188Z"
   },
   {
    "duration": 6,
    "start_time": "2022-02-13T07:52:19.669Z"
   },
   {
    "duration": 5,
    "start_time": "2022-02-13T07:52:36.653Z"
   },
   {
    "duration": 7,
    "start_time": "2022-02-13T07:53:14.148Z"
   },
   {
    "duration": 9,
    "start_time": "2022-02-13T07:53:21.996Z"
   },
   {
    "duration": 227,
    "start_time": "2022-02-13T07:53:40.164Z"
   },
   {
    "duration": 9,
    "start_time": "2022-02-13T07:53:43.030Z"
   },
   {
    "duration": 6,
    "start_time": "2022-02-13T07:53:52.572Z"
   },
   {
    "duration": 6,
    "start_time": "2022-02-13T07:54:00.779Z"
   },
   {
    "duration": 7,
    "start_time": "2022-02-13T07:54:07.524Z"
   },
   {
    "duration": 9,
    "start_time": "2022-02-13T07:54:15.960Z"
   },
   {
    "duration": 260,
    "start_time": "2022-02-13T07:54:59.053Z"
   },
   {
    "duration": 5,
    "start_time": "2022-02-13T07:55:15.595Z"
   },
   {
    "duration": 6,
    "start_time": "2022-02-13T07:55:24.091Z"
   },
   {
    "duration": 8,
    "start_time": "2022-02-13T07:55:55.517Z"
   },
   {
    "duration": 25,
    "start_time": "2022-02-13T07:56:19.060Z"
   },
   {
    "duration": 35,
    "start_time": "2022-02-13T07:56:46.908Z"
   },
   {
    "duration": 41,
    "start_time": "2022-02-13T07:56:59.150Z"
   },
   {
    "duration": 8,
    "start_time": "2022-02-13T07:57:56.301Z"
   },
   {
    "duration": 60,
    "start_time": "2022-02-13T07:59:10.348Z"
   },
   {
    "duration": 336,
    "start_time": "2022-02-13T08:02:07.667Z"
   },
   {
    "duration": 225,
    "start_time": "2022-02-13T08:02:25.481Z"
   },
   {
    "duration": 2,
    "start_time": "2022-02-13T08:02:28.944Z"
   },
   {
    "duration": 67,
    "start_time": "2022-02-13T08:02:28.950Z"
   },
   {
    "duration": 4,
    "start_time": "2022-02-13T08:02:29.020Z"
   },
   {
    "duration": 13,
    "start_time": "2022-02-13T08:02:29.026Z"
   },
   {
    "duration": 15,
    "start_time": "2022-02-13T08:02:29.041Z"
   },
   {
    "duration": 8,
    "start_time": "2022-02-13T08:02:29.058Z"
   },
   {
    "duration": 6,
    "start_time": "2022-02-13T08:02:29.069Z"
   },
   {
    "duration": 44,
    "start_time": "2022-02-13T08:02:29.077Z"
   },
   {
    "duration": 3,
    "start_time": "2022-02-13T08:03:37.497Z"
   },
   {
    "duration": 14,
    "start_time": "2022-02-13T08:04:01.155Z"
   },
   {
    "duration": 15,
    "start_time": "2022-02-13T08:04:07.161Z"
   },
   {
    "duration": 14,
    "start_time": "2022-02-13T08:04:20.689Z"
   },
   {
    "duration": 234,
    "start_time": "2022-02-13T08:04:42.219Z"
   },
   {
    "duration": 16,
    "start_time": "2022-02-13T08:05:14.922Z"
   },
   {
    "duration": 18,
    "start_time": "2022-02-13T08:05:21.578Z"
   },
   {
    "duration": 7,
    "start_time": "2022-02-13T08:05:35.340Z"
   },
   {
    "duration": 13,
    "start_time": "2022-02-13T08:05:47.072Z"
   },
   {
    "duration": 10,
    "start_time": "2022-02-13T08:05:59.322Z"
   },
   {
    "duration": 27,
    "start_time": "2022-02-13T08:06:08.976Z"
   },
   {
    "duration": 6,
    "start_time": "2022-02-13T08:06:29.420Z"
   },
   {
    "duration": 6,
    "start_time": "2022-02-13T08:09:23.320Z"
   },
   {
    "duration": 6,
    "start_time": "2022-02-13T08:15:13.696Z"
   },
   {
    "duration": 24,
    "start_time": "2022-02-13T08:15:16.653Z"
   },
   {
    "duration": 5,
    "start_time": "2022-02-13T08:15:43.737Z"
   },
   {
    "duration": 25,
    "start_time": "2022-02-13T08:15:45.558Z"
   },
   {
    "duration": 1116,
    "start_time": "2022-02-13T08:16:49.817Z"
   },
   {
    "duration": -1423,
    "start_time": "2022-02-13T08:18:04.260Z"
   },
   {
    "duration": 3,
    "start_time": "2022-02-13T08:18:06.621Z"
   },
   {
    "duration": 72,
    "start_time": "2022-02-13T08:18:06.625Z"
   },
   {
    "duration": 4,
    "start_time": "2022-02-13T08:18:06.700Z"
   },
   {
    "duration": 14,
    "start_time": "2022-02-13T08:18:06.706Z"
   },
   {
    "duration": 28,
    "start_time": "2022-02-13T08:18:06.722Z"
   },
   {
    "duration": 13,
    "start_time": "2022-02-13T08:18:06.753Z"
   },
   {
    "duration": 14,
    "start_time": "2022-02-13T08:18:06.768Z"
   },
   {
    "duration": 41,
    "start_time": "2022-02-13T08:18:06.784Z"
   },
   {
    "duration": 8,
    "start_time": "2022-02-13T08:18:06.827Z"
   },
   {
    "duration": 8,
    "start_time": "2022-02-13T08:18:06.837Z"
   },
   {
    "duration": 24,
    "start_time": "2022-02-13T08:18:06.848Z"
   },
   {
    "duration": 272,
    "start_time": "2022-02-13T08:18:06.873Z"
   },
   {
    "duration": 401,
    "start_time": "2022-02-13T08:20:27.790Z"
   },
   {
    "duration": 227,
    "start_time": "2022-02-13T08:20:32.573Z"
   },
   {
    "duration": 210,
    "start_time": "2022-02-13T08:20:42.319Z"
   },
   {
    "duration": 223,
    "start_time": "2022-02-13T08:20:50.551Z"
   },
   {
    "duration": 407,
    "start_time": "2022-02-13T08:20:55.838Z"
   },
   {
    "duration": 464,
    "start_time": "2022-02-13T08:21:01.768Z"
   },
   {
    "duration": 261,
    "start_time": "2022-02-13T08:21:08.430Z"
   },
   {
    "duration": 233,
    "start_time": "2022-02-13T08:21:21.422Z"
   },
   {
    "duration": 275,
    "start_time": "2022-02-13T08:21:24.535Z"
   },
   {
    "duration": 359,
    "start_time": "2022-02-13T08:21:30.862Z"
   },
   {
    "duration": 288,
    "start_time": "2022-02-13T08:21:36.905Z"
   },
   {
    "duration": 267,
    "start_time": "2022-02-13T08:21:51.734Z"
   },
   {
    "duration": 347,
    "start_time": "2022-02-13T08:21:57.190Z"
   },
   {
    "duration": 223,
    "start_time": "2022-02-13T08:22:13.990Z"
   },
   {
    "duration": 355,
    "start_time": "2022-02-13T08:22:41.990Z"
   },
   {
    "duration": 70,
    "start_time": "2022-02-13T08:22:59.870Z"
   },
   {
    "duration": 216,
    "start_time": "2022-02-13T08:23:03.518Z"
   },
   {
    "duration": 440,
    "start_time": "2022-02-13T08:23:12.000Z"
   },
   {
    "duration": 475,
    "start_time": "2022-02-13T08:23:21.391Z"
   },
   {
    "duration": 311,
    "start_time": "2022-02-13T08:23:41.477Z"
   },
   {
    "duration": 431,
    "start_time": "2022-02-13T08:24:42.871Z"
   },
   {
    "duration": 3,
    "start_time": "2022-02-13T08:25:04.341Z"
   },
   {
    "duration": 209,
    "start_time": "2022-02-13T08:25:10.294Z"
   },
   {
    "duration": 237,
    "start_time": "2022-02-13T08:25:14.614Z"
   },
   {
    "duration": 237,
    "start_time": "2022-02-13T08:25:27.349Z"
   },
   {
    "duration": 319,
    "start_time": "2022-02-13T08:25:31.028Z"
   },
   {
    "duration": 252,
    "start_time": "2022-02-13T08:25:37.587Z"
   },
   {
    "duration": 327,
    "start_time": "2022-02-13T08:25:43.702Z"
   },
   {
    "duration": 318,
    "start_time": "2022-02-13T08:25:48.525Z"
   },
   {
    "duration": 291,
    "start_time": "2022-02-13T08:29:45.795Z"
   },
   {
    "duration": 500,
    "start_time": "2022-02-13T08:30:03.036Z"
   },
   {
    "duration": 498,
    "start_time": "2022-02-13T08:30:11.547Z"
   },
   {
    "duration": 16708,
    "start_time": "2022-02-13T08:30:25.612Z"
   },
   {
    "duration": 304,
    "start_time": "2022-02-13T08:31:01.419Z"
   },
   {
    "duration": 580,
    "start_time": "2022-02-13T08:33:11.178Z"
   },
   {
    "duration": 362,
    "start_time": "2022-02-13T08:35:26.858Z"
   },
   {
    "duration": 592,
    "start_time": "2022-02-13T08:35:37.146Z"
   },
   {
    "duration": 497,
    "start_time": "2022-02-13T08:35:46.043Z"
   },
   {
    "duration": 405,
    "start_time": "2022-02-13T08:35:50.729Z"
   },
   {
    "duration": 256,
    "start_time": "2022-02-13T08:36:03.097Z"
   },
   {
    "duration": 254,
    "start_time": "2022-02-13T08:36:58.728Z"
   },
   {
    "duration": 276,
    "start_time": "2022-02-13T08:37:04.658Z"
   },
   {
    "duration": 259,
    "start_time": "2022-02-13T08:37:08.234Z"
   },
   {
    "duration": 449,
    "start_time": "2022-02-13T08:37:12.409Z"
   },
   {
    "duration": 356,
    "start_time": "2022-02-13T08:37:23.546Z"
   },
   {
    "duration": 470,
    "start_time": "2022-02-13T08:37:35.402Z"
   },
   {
    "duration": 292,
    "start_time": "2022-02-13T08:37:53.256Z"
   },
   {
    "duration": 290,
    "start_time": "2022-02-13T08:38:27.161Z"
   },
   {
    "duration": 16,
    "start_time": "2022-02-13T08:40:26.815Z"
   },
   {
    "duration": 47,
    "start_time": "2022-02-13T08:40:31.089Z"
   },
   {
    "duration": 272,
    "start_time": "2022-02-13T08:42:49.099Z"
   },
   {
    "duration": 292,
    "start_time": "2022-02-13T08:42:57.127Z"
   },
   {
    "duration": 223,
    "start_time": "2022-02-13T08:55:54.833Z"
   },
   {
    "duration": 8,
    "start_time": "2022-02-13T08:56:06.242Z"
   },
   {
    "duration": 28,
    "start_time": "2022-02-13T08:56:10.430Z"
   },
   {
    "duration": 7,
    "start_time": "2022-02-13T08:56:24.543Z"
   },
   {
    "duration": 219,
    "start_time": "2022-02-13T08:56:50.526Z"
   },
   {
    "duration": 5,
    "start_time": "2022-02-13T08:56:55.583Z"
   },
   {
    "duration": 8,
    "start_time": "2022-02-13T08:56:59.629Z"
   },
   {
    "duration": 8,
    "start_time": "2022-02-13T08:57:08.839Z"
   },
   {
    "duration": 8,
    "start_time": "2022-02-13T08:57:18.846Z"
   },
   {
    "duration": 9,
    "start_time": "2022-02-13T08:57:23.847Z"
   },
   {
    "duration": 668,
    "start_time": "2022-02-13T19:11:36.788Z"
   },
   {
    "duration": 89,
    "start_time": "2022-02-13T19:11:37.459Z"
   },
   {
    "duration": 3,
    "start_time": "2022-02-13T19:11:37.551Z"
   },
   {
    "duration": 7,
    "start_time": "2022-02-13T19:11:37.556Z"
   },
   {
    "duration": 15,
    "start_time": "2022-02-13T19:11:37.565Z"
   },
   {
    "duration": 34,
    "start_time": "2022-02-13T19:11:37.581Z"
   },
   {
    "duration": 8,
    "start_time": "2022-02-13T19:11:37.617Z"
   },
   {
    "duration": 25,
    "start_time": "2022-02-13T19:11:37.627Z"
   },
   {
    "duration": 5,
    "start_time": "2022-02-13T19:11:37.655Z"
   },
   {
    "duration": 13,
    "start_time": "2022-02-13T19:11:37.661Z"
   },
   {
    "duration": 38,
    "start_time": "2022-02-13T19:11:37.676Z"
   },
   {
    "duration": 290,
    "start_time": "2022-02-13T19:11:37.716Z"
   },
   {
    "duration": 7,
    "start_time": "2022-02-13T19:11:38.012Z"
   },
   {
    "duration": 30,
    "start_time": "2022-02-13T19:11:38.020Z"
   },
   {
    "duration": 433,
    "start_time": "2022-02-13T19:12:40.416Z"
   },
   {
    "duration": 734,
    "start_time": "2022-02-13T19:12:53.160Z"
   },
   {
    "duration": 399,
    "start_time": "2022-02-13T19:14:10.010Z"
   },
   {
    "duration": 430,
    "start_time": "2022-02-13T19:14:28.443Z"
   },
   {
    "duration": 13,
    "start_time": "2022-02-13T19:16:05.395Z"
   },
   {
    "duration": 16,
    "start_time": "2022-02-13T19:16:11.259Z"
   },
   {
    "duration": 207,
    "start_time": "2022-02-13T19:16:28.748Z"
   },
   {
    "duration": 73,
    "start_time": "2022-02-13T19:17:11.544Z"
   },
   {
    "duration": 222,
    "start_time": "2022-02-13T19:17:14.220Z"
   },
   {
    "duration": 80,
    "start_time": "2022-02-13T19:17:43.021Z"
   },
   {
    "duration": 230,
    "start_time": "2022-02-13T19:17:47.653Z"
   },
   {
    "duration": 232,
    "start_time": "2022-02-13T19:18:03.150Z"
   },
   {
    "duration": 229,
    "start_time": "2022-02-13T19:18:54.583Z"
   },
   {
    "duration": 239,
    "start_time": "2022-02-13T19:19:02.676Z"
   },
   {
    "duration": 244,
    "start_time": "2022-02-13T19:19:08.007Z"
   },
   {
    "duration": 239,
    "start_time": "2022-02-13T19:19:29.344Z"
   },
   {
    "duration": 220,
    "start_time": "2022-02-13T19:20:38.129Z"
   },
   {
    "duration": 243,
    "start_time": "2022-02-13T19:20:46.685Z"
   },
   {
    "duration": 483,
    "start_time": "2022-02-13T19:20:53.745Z"
   },
   {
    "duration": 82,
    "start_time": "2022-02-13T19:20:56.795Z"
   },
   {
    "duration": 281,
    "start_time": "2022-02-13T19:21:00.089Z"
   },
   {
    "duration": 482,
    "start_time": "2022-02-13T19:21:14.954Z"
   },
   {
    "duration": 177,
    "start_time": "2022-02-13T19:21:25.114Z"
   },
   {
    "duration": 78,
    "start_time": "2022-02-13T19:21:29.051Z"
   },
   {
    "duration": 186,
    "start_time": "2022-02-13T19:21:32.810Z"
   },
   {
    "duration": 73,
    "start_time": "2022-02-13T19:21:51.597Z"
   },
   {
    "duration": 279,
    "start_time": "2022-02-13T19:21:58.538Z"
   },
   {
    "duration": 231,
    "start_time": "2022-02-13T19:22:29.972Z"
   },
   {
    "duration": 248,
    "start_time": "2022-02-13T19:22:36.972Z"
   },
   {
    "duration": 225,
    "start_time": "2022-02-13T19:22:40.725Z"
   },
   {
    "duration": 229,
    "start_time": "2022-02-13T19:23:22.204Z"
   },
   {
    "duration": 238,
    "start_time": "2022-02-13T19:23:27.503Z"
   },
   {
    "duration": 247,
    "start_time": "2022-02-13T19:23:37.366Z"
   },
   {
    "duration": 312,
    "start_time": "2022-02-13T19:23:47.062Z"
   },
   {
    "duration": 476,
    "start_time": "2022-02-13T19:23:54.797Z"
   },
   {
    "duration": 211,
    "start_time": "2022-02-13T19:24:06.021Z"
   },
   {
    "duration": 388,
    "start_time": "2022-02-13T19:25:14.466Z"
   },
   {
    "duration": 387,
    "start_time": "2022-02-13T19:25:40.583Z"
   },
   {
    "duration": 379,
    "start_time": "2022-02-13T19:25:47.457Z"
   },
   {
    "duration": 384,
    "start_time": "2022-02-13T19:25:57.258Z"
   },
   {
    "duration": 507,
    "start_time": "2022-02-13T19:26:13.928Z"
   },
   {
    "duration": 541,
    "start_time": "2022-02-13T19:27:09.793Z"
   },
   {
    "duration": 513,
    "start_time": "2022-02-13T19:27:23.594Z"
   },
   {
    "duration": 509,
    "start_time": "2022-02-13T19:27:51.906Z"
   },
   {
    "duration": 461,
    "start_time": "2022-02-13T19:28:01.522Z"
   },
   {
    "duration": 423,
    "start_time": "2022-02-13T19:28:07.891Z"
   },
   {
    "duration": 573,
    "start_time": "2022-02-13T19:28:14.850Z"
   },
   {
    "duration": 359,
    "start_time": "2022-02-13T19:28:20.050Z"
   },
   {
    "duration": 78,
    "start_time": "2022-02-13T19:31:33.662Z"
   },
   {
    "duration": 75,
    "start_time": "2022-02-13T19:31:45.902Z"
   },
   {
    "duration": 263,
    "start_time": "2022-02-13T19:32:14.695Z"
   },
   {
    "duration": 337,
    "start_time": "2022-02-13T19:32:27.320Z"
   },
   {
    "duration": 246,
    "start_time": "2022-02-13T19:32:36.737Z"
   },
   {
    "duration": 11,
    "start_time": "2022-02-13T19:32:54.880Z"
   },
   {
    "duration": 8,
    "start_time": "2022-02-13T19:33:02.080Z"
   },
   {
    "duration": 75,
    "start_time": "2022-02-13T19:33:07.176Z"
   },
   {
    "duration": 13,
    "start_time": "2022-02-13T19:33:27.547Z"
   },
   {
    "duration": 12,
    "start_time": "2022-02-13T19:33:34.236Z"
   },
   {
    "duration": 21,
    "start_time": "2022-02-13T19:33:35.721Z"
   },
   {
    "duration": 363,
    "start_time": "2022-02-13T19:34:25.322Z"
   },
   {
    "duration": 259,
    "start_time": "2022-02-13T19:34:42.577Z"
   },
   {
    "duration": 367,
    "start_time": "2022-02-13T19:34:49.708Z"
   },
   {
    "duration": 359,
    "start_time": "2022-02-13T19:34:58.610Z"
   },
   {
    "duration": 564,
    "start_time": "2022-02-13T19:35:22.363Z"
   },
   {
    "duration": 533,
    "start_time": "2022-02-13T19:35:28.047Z"
   },
   {
    "duration": 355,
    "start_time": "2022-02-13T19:35:58.260Z"
   },
   {
    "duration": 340,
    "start_time": "2022-02-13T19:36:01.668Z"
   },
   {
    "duration": 393,
    "start_time": "2022-02-13T19:36:06.248Z"
   },
   {
    "duration": 354,
    "start_time": "2022-02-13T19:36:10.248Z"
   },
   {
    "duration": 365,
    "start_time": "2022-02-13T19:36:47.429Z"
   },
   {
    "duration": 83,
    "start_time": "2022-02-13T19:37:50.513Z"
   },
   {
    "duration": 89,
    "start_time": "2022-02-13T19:38:08.180Z"
   },
   {
    "duration": 237,
    "start_time": "2022-02-13T19:38:15.415Z"
   },
   {
    "duration": 86,
    "start_time": "2022-02-13T19:41:29.492Z"
   },
   {
    "duration": 371,
    "start_time": "2022-02-13T19:42:09.084Z"
   },
   {
    "duration": 597,
    "start_time": "2022-02-13T19:42:57.574Z"
   },
   {
    "duration": 965,
    "start_time": "2022-02-13T19:46:01.817Z"
   },
   {
    "duration": 122210,
    "start_time": "2022-02-13T19:46:15.801Z"
   },
   {
    "duration": 80,
    "start_time": "2022-02-13T19:48:18.013Z"
   },
   {
    "duration": 87,
    "start_time": "2022-02-13T19:48:21.203Z"
   },
   {
    "duration": 572,
    "start_time": "2022-02-13T19:48:28.647Z"
   },
   {
    "duration": 568,
    "start_time": "2022-02-13T19:48:39.997Z"
   },
   {
    "duration": 5,
    "start_time": "2022-02-13T19:49:54.999Z"
   },
   {
    "duration": 15,
    "start_time": "2022-02-13T19:50:07.798Z"
   },
   {
    "duration": 204,
    "start_time": "2022-02-13T19:50:17.924Z"
   },
   {
    "duration": 400,
    "start_time": "2022-02-13T19:50:37.913Z"
   },
   {
    "duration": 86,
    "start_time": "2022-02-13T19:52:17.521Z"
   },
   {
    "duration": 18690,
    "start_time": "2022-02-13T19:52:20.777Z"
   },
   {
    "duration": 2009,
    "start_time": "2022-02-13T19:54:52.272Z"
   },
   {
    "duration": 232,
    "start_time": "2022-02-13T19:54:56.362Z"
   },
   {
    "duration": 233,
    "start_time": "2022-02-13T19:55:14.915Z"
   },
   {
    "duration": 51809,
    "start_time": "2022-02-13T19:55:26.163Z"
   },
   {
    "duration": 235,
    "start_time": "2022-02-13T19:57:17.791Z"
   },
   {
    "duration": 7,
    "start_time": "2022-02-13T19:57:28.559Z"
   },
   {
    "duration": 10,
    "start_time": "2022-02-13T19:57:33.533Z"
   },
   {
    "duration": 229,
    "start_time": "2022-02-13T19:57:45.191Z"
   },
   {
    "duration": 236,
    "start_time": "2022-02-13T19:58:47.248Z"
   },
   {
    "duration": 219,
    "start_time": "2022-02-13T19:58:53.873Z"
   },
   {
    "duration": 217,
    "start_time": "2022-02-13T19:59:07.672Z"
   },
   {
    "duration": 25,
    "start_time": "2022-02-13T19:59:12.968Z"
   },
   {
    "duration": 191,
    "start_time": "2022-02-13T19:59:46.507Z"
   },
   {
    "duration": 214,
    "start_time": "2022-02-13T20:00:27.075Z"
   },
   {
    "duration": 225,
    "start_time": "2022-02-13T20:00:41.413Z"
   },
   {
    "duration": 191,
    "start_time": "2022-02-13T20:00:52.466Z"
   },
   {
    "duration": 243,
    "start_time": "2022-02-13T20:01:13.963Z"
   },
   {
    "duration": 234,
    "start_time": "2022-02-13T20:01:23.788Z"
   },
   {
    "duration": 237,
    "start_time": "2022-02-13T20:01:30.341Z"
   },
   {
    "duration": 267,
    "start_time": "2022-02-13T20:01:49.619Z"
   },
   {
    "duration": 23,
    "start_time": "2022-02-13T20:01:57.901Z"
   },
   {
    "duration": 24,
    "start_time": "2022-02-13T20:02:37.293Z"
   },
   {
    "duration": 17,
    "start_time": "2022-02-13T20:02:46.834Z"
   },
   {
    "duration": 257,
    "start_time": "2022-02-13T20:06:48.174Z"
   },
   {
    "duration": 232,
    "start_time": "2022-02-13T20:06:57.210Z"
   },
   {
    "duration": 33956,
    "start_time": "2022-02-13T20:07:08.143Z"
   },
   {
    "duration": 244,
    "start_time": "2022-02-13T20:08:10.377Z"
   },
   {
    "duration": 250,
    "start_time": "2022-02-13T20:08:43.158Z"
   },
   {
    "duration": 199,
    "start_time": "2022-02-13T20:08:54.040Z"
   },
   {
    "duration": 596,
    "start_time": "2022-02-13T20:11:29.023Z"
   },
   {
    "duration": 603,
    "start_time": "2022-02-13T20:11:37.802Z"
   },
   {
    "duration": 16,
    "start_time": "2022-02-13T20:11:49.418Z"
   },
   {
    "duration": 23,
    "start_time": "2022-02-13T20:11:52.286Z"
   },
   {
    "duration": 224,
    "start_time": "2022-02-13T20:12:03.442Z"
   },
   {
    "duration": 22,
    "start_time": "2022-02-13T20:12:11.376Z"
   },
   {
    "duration": 24,
    "start_time": "2022-02-13T20:12:16.031Z"
   },
   {
    "duration": 235,
    "start_time": "2022-02-13T20:12:26.497Z"
   },
   {
    "duration": 232,
    "start_time": "2022-02-13T20:12:43.728Z"
   },
   {
    "duration": 228,
    "start_time": "2022-02-13T20:13:02.216Z"
   },
   {
    "duration": 264,
    "start_time": "2022-02-13T20:13:13.360Z"
   },
   {
    "duration": 219,
    "start_time": "2022-02-13T20:13:26.945Z"
   },
   {
    "duration": 5864,
    "start_time": "2022-02-13T20:26:28.396Z"
   },
   {
    "duration": 26,
    "start_time": "2022-02-13T20:26:37.880Z"
   },
   {
    "duration": 277,
    "start_time": "2022-02-13T20:26:49.219Z"
   },
   {
    "duration": 301,
    "start_time": "2022-02-13T20:27:20.356Z"
   },
   {
    "duration": 437,
    "start_time": "2022-02-13T20:27:27.036Z"
   },
   {
    "duration": 302,
    "start_time": "2022-02-13T20:28:14.438Z"
   },
   {
    "duration": 314,
    "start_time": "2022-02-13T20:28:25.853Z"
   },
   {
    "duration": 317,
    "start_time": "2022-02-13T20:28:53.518Z"
   },
   {
    "duration": 306,
    "start_time": "2022-02-13T20:29:14.030Z"
   },
   {
    "duration": 299,
    "start_time": "2022-02-13T20:29:36.334Z"
   },
   {
    "duration": 12,
    "start_time": "2022-02-13T20:29:37.833Z"
   },
   {
    "duration": 295,
    "start_time": "2022-02-13T20:30:07.896Z"
   },
   {
    "duration": 317,
    "start_time": "2022-02-13T20:30:15.325Z"
   },
   {
    "duration": 6,
    "start_time": "2022-02-13T20:35:20.834Z"
   },
   {
    "duration": 23,
    "start_time": "2022-02-13T20:35:27.902Z"
   },
   {
    "duration": 7,
    "start_time": "2022-02-13T20:35:35.125Z"
   },
   {
    "duration": 22,
    "start_time": "2022-02-13T20:35:37.710Z"
   },
   {
    "duration": 3,
    "start_time": "2022-02-13T20:36:14.872Z"
   },
   {
    "duration": 3,
    "start_time": "2022-02-13T20:36:19.481Z"
   },
   {
    "duration": 310,
    "start_time": "2022-02-13T20:36:51.044Z"
   },
   {
    "duration": 253,
    "start_time": "2022-02-13T20:37:34.950Z"
   },
   {
    "duration": 302,
    "start_time": "2022-02-13T20:37:39.440Z"
   },
   {
    "duration": 575,
    "start_time": "2022-02-13T20:37:54.514Z"
   },
   {
    "duration": 380,
    "start_time": "2022-02-13T20:37:58.858Z"
   },
   {
    "duration": 335,
    "start_time": "2022-02-13T20:38:05.442Z"
   },
   {
    "duration": 337,
    "start_time": "2022-02-13T20:38:45.589Z"
   },
   {
    "duration": 355,
    "start_time": "2022-02-13T20:39:01.339Z"
   },
   {
    "duration": 368,
    "start_time": "2022-02-13T20:39:16.547Z"
   },
   {
    "duration": 337,
    "start_time": "2022-02-13T20:44:16.864Z"
   },
   {
    "duration": 474,
    "start_time": "2022-02-13T20:44:48.715Z"
   },
   {
    "duration": 338,
    "start_time": "2022-02-13T20:50:01.265Z"
   },
   {
    "duration": 600,
    "start_time": "2022-02-13T20:50:25.426Z"
   },
   {
    "duration": 344,
    "start_time": "2022-02-13T20:51:14.211Z"
   },
   {
    "duration": 344,
    "start_time": "2022-02-13T20:51:18.770Z"
   },
   {
    "duration": 344,
    "start_time": "2022-02-13T20:51:23.435Z"
   },
   {
    "duration": 428,
    "start_time": "2022-02-13T20:53:07.557Z"
   },
   {
    "duration": 350,
    "start_time": "2022-02-13T20:53:36.110Z"
   },
   {
    "duration": 377,
    "start_time": "2022-02-13T20:54:04.660Z"
   },
   {
    "duration": 577,
    "start_time": "2022-02-13T20:54:14.968Z"
   },
   {
    "duration": 611,
    "start_time": "2022-02-13T20:54:20.906Z"
   },
   {
    "duration": 356,
    "start_time": "2022-02-13T20:55:11.517Z"
   },
   {
    "duration": 352,
    "start_time": "2022-02-13T20:57:01.169Z"
   },
   {
    "duration": 36455,
    "start_time": "2022-02-13T21:00:01.776Z"
   },
   {
    "duration": 406,
    "start_time": "2022-02-13T21:02:37.768Z"
   },
   {
    "duration": 460,
    "start_time": "2022-02-13T21:02:54.761Z"
   },
   {
    "duration": 648,
    "start_time": "2022-02-13T21:03:07.393Z"
   },
   {
    "duration": 533,
    "start_time": "2022-02-13T21:03:34.628Z"
   },
   {
    "duration": 632,
    "start_time": "2022-02-13T21:03:43.292Z"
   },
   {
    "duration": 862,
    "start_time": "2022-02-13T21:04:27.369Z"
   },
   {
    "duration": 625,
    "start_time": "2022-02-13T21:04:37.177Z"
   },
   {
    "duration": 574,
    "start_time": "2022-02-13T21:05:02.189Z"
   },
   {
    "duration": 611,
    "start_time": "2022-02-13T21:06:02.475Z"
   },
   {
    "duration": 631,
    "start_time": "2022-02-13T21:06:07.483Z"
   },
   {
    "duration": 858,
    "start_time": "2022-02-13T21:06:21.009Z"
   },
   {
    "duration": 829,
    "start_time": "2022-02-13T21:07:35.253Z"
   },
   {
    "duration": 662,
    "start_time": "2022-02-13T21:07:52.416Z"
   },
   {
    "duration": 528,
    "start_time": "2022-02-13T21:08:24.861Z"
   },
   {
    "duration": 2,
    "start_time": "2022-02-13T21:12:52.940Z"
   },
   {
    "duration": 236,
    "start_time": "2022-02-13T21:16:57.281Z"
   },
   {
    "duration": 227,
    "start_time": "2022-02-13T21:17:05.811Z"
   },
   {
    "duration": 216,
    "start_time": "2022-02-13T21:17:24.634Z"
   },
   {
    "duration": 24,
    "start_time": "2022-02-13T21:17:32.025Z"
   },
   {
    "duration": 24,
    "start_time": "2022-02-13T21:18:08.979Z"
   },
   {
    "duration": 26,
    "start_time": "2022-02-13T21:18:15.589Z"
   },
   {
    "duration": 25,
    "start_time": "2022-02-13T21:18:20.802Z"
   },
   {
    "duration": 16,
    "start_time": "2022-02-13T21:18:26.924Z"
   },
   {
    "duration": 17,
    "start_time": "2022-02-13T21:18:48.906Z"
   },
   {
    "duration": 16,
    "start_time": "2022-02-13T21:19:01.756Z"
   },
   {
    "duration": 26,
    "start_time": "2022-02-13T21:19:22.413Z"
   },
   {
    "duration": 18,
    "start_time": "2022-02-13T21:19:36.830Z"
   },
   {
    "duration": 16,
    "start_time": "2022-02-13T21:19:54.552Z"
   },
   {
    "duration": 15,
    "start_time": "2022-02-13T21:20:18.805Z"
   },
   {
    "duration": 13,
    "start_time": "2022-02-13T21:20:53.734Z"
   },
   {
    "duration": 14,
    "start_time": "2022-02-13T21:21:12.151Z"
   },
   {
    "duration": 15,
    "start_time": "2022-02-13T21:21:26.148Z"
   },
   {
    "duration": 15,
    "start_time": "2022-02-13T21:21:29.843Z"
   },
   {
    "duration": 15,
    "start_time": "2022-02-13T21:21:33.551Z"
   },
   {
    "duration": 14,
    "start_time": "2022-02-13T21:21:39.105Z"
   },
   {
    "duration": 14,
    "start_time": "2022-02-13T21:21:45.192Z"
   },
   {
    "duration": 14,
    "start_time": "2022-02-13T21:21:48.184Z"
   },
   {
    "duration": 15,
    "start_time": "2022-02-13T21:21:53.583Z"
   },
   {
    "duration": 15,
    "start_time": "2022-02-13T21:21:58.962Z"
   },
   {
    "duration": 14,
    "start_time": "2022-02-13T21:22:03.496Z"
   },
   {
    "duration": 13,
    "start_time": "2022-02-13T21:22:09.303Z"
   },
   {
    "duration": 273,
    "start_time": "2022-02-13T21:23:23.658Z"
   },
   {
    "duration": 328,
    "start_time": "2022-02-13T21:24:06.821Z"
   },
   {
    "duration": 347,
    "start_time": "2022-02-13T21:24:22.011Z"
   },
   {
    "duration": 329,
    "start_time": "2022-02-13T21:24:39.124Z"
   },
   {
    "duration": 345,
    "start_time": "2022-02-13T21:24:53.491Z"
   },
   {
    "duration": 357,
    "start_time": "2022-02-13T21:27:05.492Z"
   },
   {
    "duration": 17,
    "start_time": "2022-02-13T21:32:14.650Z"
   },
   {
    "duration": 11,
    "start_time": "2022-02-13T21:32:49.808Z"
   },
   {
    "duration": 11,
    "start_time": "2022-02-13T21:32:51.947Z"
   },
   {
    "duration": 13,
    "start_time": "2022-02-13T21:34:47.795Z"
   },
   {
    "duration": 222,
    "start_time": "2022-02-13T21:36:01.844Z"
   },
   {
    "duration": 221,
    "start_time": "2022-02-13T21:36:08.702Z"
   },
   {
    "duration": 219,
    "start_time": "2022-02-13T21:36:59.954Z"
   },
   {
    "duration": 219,
    "start_time": "2022-02-13T21:37:19.203Z"
   },
   {
    "duration": 218,
    "start_time": "2022-02-13T21:38:03.171Z"
   },
   {
    "duration": 234,
    "start_time": "2022-02-13T21:38:11.288Z"
   },
   {
    "duration": 451,
    "start_time": "2022-02-13T21:38:19.132Z"
   },
   {
    "duration": 222,
    "start_time": "2022-02-13T21:39:09.691Z"
   },
   {
    "duration": 455,
    "start_time": "2022-02-13T21:41:22.741Z"
   },
   {
    "duration": 219,
    "start_time": "2022-02-13T21:41:31.808Z"
   },
   {
    "duration": 264,
    "start_time": "2022-02-13T21:41:47.706Z"
   },
   {
    "duration": 226,
    "start_time": "2022-02-13T21:42:15.676Z"
   },
   {
    "duration": 449,
    "start_time": "2022-02-13T21:42:25.272Z"
   },
   {
    "duration": 443,
    "start_time": "2022-02-13T21:42:38.746Z"
   },
   {
    "duration": 464,
    "start_time": "2022-02-13T21:46:41.550Z"
   },
   {
    "duration": 431,
    "start_time": "2022-02-13T21:46:47.614Z"
   },
   {
    "duration": 228,
    "start_time": "2022-02-13T21:47:35.539Z"
   },
   {
    "duration": 418,
    "start_time": "2022-02-13T21:47:48.791Z"
   },
   {
    "duration": 153,
    "start_time": "2022-02-13T21:48:02.376Z"
   },
   {
    "duration": 206,
    "start_time": "2022-02-13T21:48:19.951Z"
   },
   {
    "duration": 209,
    "start_time": "2022-02-13T21:48:25.440Z"
   },
   {
    "duration": 205,
    "start_time": "2022-02-13T21:48:29.385Z"
   },
   {
    "duration": 225,
    "start_time": "2022-02-13T21:48:51.872Z"
   },
   {
    "duration": 594,
    "start_time": "2022-02-13T21:49:01.488Z"
   },
   {
    "duration": 411,
    "start_time": "2022-02-13T21:49:09.513Z"
   },
   {
    "duration": 419,
    "start_time": "2022-02-13T21:49:27.824Z"
   },
   {
    "duration": 659,
    "start_time": "2022-02-13T21:49:33.872Z"
   },
   {
    "duration": 278,
    "start_time": "2022-02-13T21:49:41.393Z"
   },
   {
    "duration": 291,
    "start_time": "2022-02-13T21:50:15.121Z"
   },
   {
    "duration": 297,
    "start_time": "2022-02-13T21:51:28.058Z"
   },
   {
    "duration": 281,
    "start_time": "2022-02-13T21:51:34.346Z"
   },
   {
    "duration": 282,
    "start_time": "2022-02-13T21:51:40.460Z"
   },
   {
    "duration": 222,
    "start_time": "2022-02-13T21:51:57.427Z"
   },
   {
    "duration": 295,
    "start_time": "2022-02-13T21:52:04.085Z"
   },
   {
    "duration": 302,
    "start_time": "2022-02-13T21:52:12.083Z"
   },
   {
    "duration": 501,
    "start_time": "2022-02-13T21:52:39.298Z"
   },
   {
    "duration": 488,
    "start_time": "2022-02-13T21:52:48.313Z"
   },
   {
    "duration": 514,
    "start_time": "2022-02-13T21:52:56.573Z"
   },
   {
    "duration": 485,
    "start_time": "2022-02-13T21:53:13.395Z"
   },
   {
    "duration": 222,
    "start_time": "2022-02-13T21:53:18.974Z"
   },
   {
    "duration": 276,
    "start_time": "2022-02-13T21:53:59.355Z"
   },
   {
    "duration": 239,
    "start_time": "2022-02-13T21:54:17.630Z"
   },
   {
    "duration": 221,
    "start_time": "2022-02-13T21:56:24.646Z"
   },
   {
    "duration": 78,
    "start_time": "2022-02-13T21:58:15.276Z"
   },
   {
    "duration": 86,
    "start_time": "2022-02-13T22:00:32.070Z"
   },
   {
    "duration": 242,
    "start_time": "2022-02-13T22:01:09.411Z"
   },
   {
    "duration": 222,
    "start_time": "2022-02-13T22:01:15.221Z"
   },
   {
    "duration": 2,
    "start_time": "2022-02-13T22:01:45.513Z"
   },
   {
    "duration": 62,
    "start_time": "2022-02-13T22:01:45.518Z"
   },
   {
    "duration": 3,
    "start_time": "2022-02-13T22:01:45.582Z"
   },
   {
    "duration": 8,
    "start_time": "2022-02-13T22:01:45.587Z"
   },
   {
    "duration": 20,
    "start_time": "2022-02-13T22:01:45.597Z"
   },
   {
    "duration": 7,
    "start_time": "2022-02-13T22:01:45.619Z"
   },
   {
    "duration": 7,
    "start_time": "2022-02-13T22:01:45.627Z"
   },
   {
    "duration": 12,
    "start_time": "2022-02-13T22:01:45.635Z"
   },
   {
    "duration": 7,
    "start_time": "2022-02-13T22:01:45.649Z"
   },
   {
    "duration": 8,
    "start_time": "2022-02-13T22:01:45.658Z"
   },
   {
    "duration": 51,
    "start_time": "2022-02-13T22:01:45.667Z"
   },
   {
    "duration": 355,
    "start_time": "2022-02-13T22:01:45.719Z"
   },
   {
    "duration": 7,
    "start_time": "2022-02-13T22:01:46.075Z"
   },
   {
    "duration": 8,
    "start_time": "2022-02-13T22:01:46.083Z"
   },
   {
    "duration": 27,
    "start_time": "2022-02-13T22:01:46.093Z"
   },
   {
    "duration": 293,
    "start_time": "2022-02-13T22:01:46.122Z"
   },
   {
    "duration": 7,
    "start_time": "2022-02-13T22:01:46.416Z"
   },
   {
    "duration": 383,
    "start_time": "2022-02-13T22:01:46.424Z"
   },
   {
    "duration": 527,
    "start_time": "2022-02-13T22:01:46.808Z"
   },
   {
    "duration": 13,
    "start_time": "2022-02-13T22:01:47.337Z"
   },
   {
    "duration": 303,
    "start_time": "2022-02-13T22:01:47.352Z"
   },
   {
    "duration": 309,
    "start_time": "2022-02-13T22:01:47.657Z"
   },
   {
    "duration": 12,
    "start_time": "2022-02-13T22:01:47.968Z"
   },
   {
    "duration": 251,
    "start_time": "2022-02-13T22:01:47.981Z"
   },
   {
    "duration": 233,
    "start_time": "2022-02-13T22:01:48.234Z"
   },
   {
    "duration": 241,
    "start_time": "2022-02-13T22:03:02.860Z"
   },
   {
    "duration": 25,
    "start_time": "2022-02-13T22:03:10.423Z"
   },
   {
    "duration": 52,
    "start_time": "2022-02-13T22:03:43.792Z"
   },
   {
    "duration": 40,
    "start_time": "2022-02-13T22:03:57.072Z"
   },
   {
    "duration": 67,
    "start_time": "2022-02-13T22:04:12.304Z"
   },
   {
    "duration": 45,
    "start_time": "2022-02-13T22:04:17.664Z"
   },
   {
    "duration": 647,
    "start_time": "2022-02-15T17:11:30.347Z"
   },
   {
    "duration": 64,
    "start_time": "2022-02-15T17:11:30.996Z"
   },
   {
    "duration": 3,
    "start_time": "2022-02-15T17:11:31.063Z"
   },
   {
    "duration": 42,
    "start_time": "2022-02-15T17:11:31.068Z"
   },
   {
    "duration": 20,
    "start_time": "2022-02-15T17:11:31.112Z"
   },
   {
    "duration": 7,
    "start_time": "2022-02-15T17:11:31.134Z"
   },
   {
    "duration": 21,
    "start_time": "2022-02-15T17:11:31.144Z"
   },
   {
    "duration": 20,
    "start_time": "2022-02-15T17:11:31.167Z"
   },
   {
    "duration": 16,
    "start_time": "2022-02-15T17:11:31.189Z"
   },
   {
    "duration": 14,
    "start_time": "2022-02-15T17:11:31.207Z"
   },
   {
    "duration": 24,
    "start_time": "2022-02-15T17:11:31.223Z"
   },
   {
    "duration": 373,
    "start_time": "2022-02-15T17:11:31.248Z"
   },
   {
    "duration": 8,
    "start_time": "2022-02-15T17:11:31.622Z"
   },
   {
    "duration": 18,
    "start_time": "2022-02-15T17:11:31.631Z"
   },
   {
    "duration": 26,
    "start_time": "2022-02-15T17:11:31.650Z"
   },
   {
    "duration": 302,
    "start_time": "2022-02-15T17:11:31.678Z"
   },
   {
    "duration": 6,
    "start_time": "2022-02-15T17:11:31.982Z"
   },
   {
    "duration": 449,
    "start_time": "2022-02-15T17:11:31.989Z"
   },
   {
    "duration": 497,
    "start_time": "2022-02-15T17:11:32.440Z"
   },
   {
    "duration": 20,
    "start_time": "2022-02-15T17:11:32.939Z"
   },
   {
    "duration": 329,
    "start_time": "2022-02-15T17:11:32.961Z"
   },
   {
    "duration": 312,
    "start_time": "2022-02-15T17:11:33.293Z"
   },
   {
    "duration": 11,
    "start_time": "2022-02-15T17:11:33.609Z"
   },
   {
    "duration": 229,
    "start_time": "2022-02-15T17:11:33.622Z"
   },
   {
    "duration": 225,
    "start_time": "2022-02-15T17:11:33.853Z"
   },
   {
    "duration": 31,
    "start_time": "2022-02-15T17:11:34.080Z"
   },
   {
    "duration": 8,
    "start_time": "2022-02-15T17:13:24.682Z"
   },
   {
    "duration": 10,
    "start_time": "2022-02-15T17:13:40.340Z"
   },
   {
    "duration": 195,
    "start_time": "2022-02-15T17:14:04.216Z"
   },
   {
    "duration": 156,
    "start_time": "2022-02-15T17:14:10.121Z"
   },
   {
    "duration": 9,
    "start_time": "2022-02-15T17:14:30.623Z"
   },
   {
    "duration": 144,
    "start_time": "2022-02-15T17:14:41.396Z"
   },
   {
    "duration": 319,
    "start_time": "2022-02-15T17:15:12.860Z"
   },
   {
    "duration": 231,
    "start_time": "2022-02-15T17:15:16.494Z"
   },
   {
    "duration": 198,
    "start_time": "2022-02-15T17:15:52.610Z"
   },
   {
    "duration": 316,
    "start_time": "2022-02-15T17:16:03.100Z"
   },
   {
    "duration": 165,
    "start_time": "2022-02-15T17:16:09.006Z"
   },
   {
    "duration": 186,
    "start_time": "2022-02-15T17:16:27.334Z"
   },
   {
    "duration": 6,
    "start_time": "2022-02-15T17:16:51.407Z"
   },
   {
    "duration": 6,
    "start_time": "2022-02-15T17:17:02.305Z"
   },
   {
    "duration": 186,
    "start_time": "2022-02-15T17:17:10.753Z"
   },
   {
    "duration": 5,
    "start_time": "2022-02-15T17:17:59.736Z"
   },
   {
    "duration": 163,
    "start_time": "2022-02-15T17:18:10.222Z"
   },
   {
    "duration": 4,
    "start_time": "2022-02-15T17:18:11.882Z"
   },
   {
    "duration": 185,
    "start_time": "2022-02-15T17:18:26.146Z"
   },
   {
    "duration": 160,
    "start_time": "2022-02-15T17:18:31.875Z"
   },
   {
    "duration": 154,
    "start_time": "2022-02-15T17:18:37.850Z"
   },
   {
    "duration": 164,
    "start_time": "2022-02-15T17:19:01.119Z"
   },
   {
    "duration": 5,
    "start_time": "2022-02-15T17:19:03.991Z"
   },
   {
    "duration": 188,
    "start_time": "2022-02-15T17:19:24.988Z"
   },
   {
    "duration": 253,
    "start_time": "2022-02-15T17:19:40.169Z"
   },
   {
    "duration": 127,
    "start_time": "2022-02-15T17:21:31.224Z"
   },
   {
    "duration": 165,
    "start_time": "2022-02-15T17:21:39.684Z"
   },
   {
    "duration": 141,
    "start_time": "2022-02-15T17:21:58.461Z"
   },
   {
    "duration": 136,
    "start_time": "2022-02-15T17:22:22.229Z"
   },
   {
    "duration": 147,
    "start_time": "2022-02-15T17:22:58.930Z"
   },
   {
    "duration": 292,
    "start_time": "2022-02-15T17:23:18.540Z"
   },
   {
    "duration": 249,
    "start_time": "2022-02-15T17:23:32.556Z"
   },
   {
    "duration": 170,
    "start_time": "2022-02-15T17:23:41.930Z"
   },
   {
    "duration": 187,
    "start_time": "2022-02-15T17:24:26.680Z"
   },
   {
    "duration": 5,
    "start_time": "2022-02-15T17:24:42.583Z"
   },
   {
    "duration": 154,
    "start_time": "2022-02-15T17:25:53.174Z"
   },
   {
    "duration": 155,
    "start_time": "2022-02-15T17:26:12.843Z"
   },
   {
    "duration": 284,
    "start_time": "2022-02-15T17:26:19.711Z"
   },
   {
    "duration": 156,
    "start_time": "2022-02-15T17:26:27.714Z"
   },
   {
    "duration": 243,
    "start_time": "2022-02-15T17:26:32.771Z"
   },
   {
    "duration": 73,
    "start_time": "2022-02-15T18:14:15.992Z"
   },
   {
    "duration": 260,
    "start_time": "2022-02-15T18:14:20.007Z"
   },
   {
    "duration": 681,
    "start_time": "2022-02-15T18:14:24.014Z"
   },
   {
    "duration": 64,
    "start_time": "2022-02-15T18:14:24.697Z"
   },
   {
    "duration": 3,
    "start_time": "2022-02-15T18:14:24.763Z"
   },
   {
    "duration": 8,
    "start_time": "2022-02-15T18:14:24.768Z"
   },
   {
    "duration": 14,
    "start_time": "2022-02-15T18:14:24.777Z"
   },
   {
    "duration": 25,
    "start_time": "2022-02-15T18:14:24.792Z"
   },
   {
    "duration": 6,
    "start_time": "2022-02-15T18:14:24.818Z"
   },
   {
    "duration": 14,
    "start_time": "2022-02-15T18:14:24.827Z"
   },
   {
    "duration": 4,
    "start_time": "2022-02-15T18:14:24.843Z"
   },
   {
    "duration": 6,
    "start_time": "2022-02-15T18:14:24.849Z"
   },
   {
    "duration": 58,
    "start_time": "2022-02-15T18:14:24.857Z"
   },
   {
    "duration": 389,
    "start_time": "2022-02-15T18:14:24.916Z"
   },
   {
    "duration": 11,
    "start_time": "2022-02-15T18:14:25.306Z"
   },
   {
    "duration": 8,
    "start_time": "2022-02-15T18:14:25.319Z"
   },
   {
    "duration": 14,
    "start_time": "2022-02-15T18:14:25.328Z"
   },
   {
    "duration": 327,
    "start_time": "2022-02-15T18:14:25.344Z"
   },
   {
    "duration": 7,
    "start_time": "2022-02-15T18:14:25.673Z"
   },
   {
    "duration": 419,
    "start_time": "2022-02-15T18:14:25.682Z"
   },
   {
    "duration": 516,
    "start_time": "2022-02-15T18:14:26.103Z"
   },
   {
    "duration": 15,
    "start_time": "2022-02-15T18:14:26.621Z"
   },
   {
    "duration": 322,
    "start_time": "2022-02-15T18:14:26.637Z"
   },
   {
    "duration": 304,
    "start_time": "2022-02-15T18:14:26.961Z"
   },
   {
    "duration": 12,
    "start_time": "2022-02-15T18:14:27.269Z"
   },
   {
    "duration": 241,
    "start_time": "2022-02-15T18:14:27.283Z"
   },
   {
    "duration": 226,
    "start_time": "2022-02-15T18:14:27.526Z"
   },
   {
    "duration": 32,
    "start_time": "2022-02-15T18:14:27.753Z"
   },
   {
    "duration": 202,
    "start_time": "2022-02-15T18:14:27.786Z"
   },
   {
    "duration": 4,
    "start_time": "2022-02-15T18:14:27.990Z"
   },
   {
    "duration": 183,
    "start_time": "2022-02-15T18:14:27.996Z"
   },
   {
    "duration": 160,
    "start_time": "2022-02-15T18:14:38.259Z"
   },
   {
    "duration": 266,
    "start_time": "2022-02-15T18:15:43.324Z"
   },
   {
    "duration": 275,
    "start_time": "2022-02-15T18:15:58.242Z"
   },
   {
    "duration": 4540,
    "start_time": "2022-02-15T18:16:04.369Z"
   },
   {
    "duration": 193,
    "start_time": "2022-02-15T18:16:18.883Z"
   },
   {
    "duration": 144,
    "start_time": "2022-02-15T18:16:37.924Z"
   },
   {
    "duration": 234,
    "start_time": "2022-02-15T18:16:44.632Z"
   },
   {
    "duration": 229,
    "start_time": "2022-02-15T18:16:53.029Z"
   },
   {
    "duration": 163,
    "start_time": "2022-02-15T18:17:12.122Z"
   },
   {
    "duration": 13,
    "start_time": "2022-02-15T18:17:16.037Z"
   },
   {
    "duration": 337,
    "start_time": "2022-02-15T18:17:24.532Z"
   },
   {
    "duration": 337,
    "start_time": "2022-02-15T18:17:42.475Z"
   },
   {
    "duration": 338,
    "start_time": "2022-02-15T18:18:08.092Z"
   },
   {
    "duration": 446,
    "start_time": "2022-02-15T18:18:14.902Z"
   },
   {
    "duration": 378,
    "start_time": "2022-02-15T18:18:20.752Z"
   },
   {
    "duration": 391,
    "start_time": "2022-02-15T18:18:39.822Z"
   },
   {
    "duration": 400,
    "start_time": "2022-02-15T18:19:02.315Z"
   },
   {
    "duration": 386,
    "start_time": "2022-02-15T18:19:20.766Z"
   },
   {
    "duration": 474,
    "start_time": "2022-02-15T18:19:30.146Z"
   },
   {
    "duration": 397,
    "start_time": "2022-02-15T18:19:51.867Z"
   },
   {
    "duration": 375,
    "start_time": "2022-02-15T18:19:54.914Z"
   },
   {
    "duration": 412,
    "start_time": "2022-02-15T18:20:03.133Z"
   },
   {
    "duration": 9,
    "start_time": "2022-02-15T18:20:28.222Z"
   },
   {
    "duration": 417,
    "start_time": "2022-02-15T18:21:24.303Z"
   },
   {
    "duration": 379,
    "start_time": "2022-02-15T18:33:38.349Z"
   },
   {
    "duration": 448,
    "start_time": "2022-02-15T18:33:42.194Z"
   },
   {
    "duration": 380,
    "start_time": "2022-02-15T18:34:09.518Z"
   },
   {
    "duration": 386,
    "start_time": "2022-02-15T18:34:32.650Z"
   },
   {
    "duration": 378,
    "start_time": "2022-02-15T18:34:45.065Z"
   },
   {
    "duration": 375,
    "start_time": "2022-02-15T18:34:54.124Z"
   },
   {
    "duration": 418,
    "start_time": "2022-02-15T18:36:12.900Z"
   },
   {
    "duration": 461,
    "start_time": "2022-02-15T18:36:56.456Z"
   },
   {
    "duration": 378,
    "start_time": "2022-02-15T18:40:15.340Z"
   },
   {
    "duration": 411,
    "start_time": "2022-02-15T18:40:55.358Z"
   },
   {
    "duration": 413,
    "start_time": "2022-02-15T18:41:09.618Z"
   },
   {
    "duration": 409,
    "start_time": "2022-02-15T18:41:28.836Z"
   },
   {
    "duration": 472,
    "start_time": "2022-02-15T18:41:38.249Z"
   },
   {
    "duration": 397,
    "start_time": "2022-02-15T18:42:35.080Z"
   },
   {
    "duration": 469,
    "start_time": "2022-02-15T18:50:06.329Z"
   },
   {
    "duration": 407,
    "start_time": "2022-02-15T18:50:15.219Z"
   },
   {
    "duration": 4,
    "start_time": "2022-02-15T18:50:21.292Z"
   },
   {
    "duration": 405,
    "start_time": "2022-02-15T18:50:29.158Z"
   },
   {
    "duration": 498,
    "start_time": "2022-02-15T18:55:50.157Z"
   },
   {
    "duration": 80,
    "start_time": "2022-02-15T18:58:08.019Z"
   },
   {
    "duration": 6,
    "start_time": "2022-02-15T18:58:13.510Z"
   },
   {
    "duration": 13,
    "start_time": "2022-02-15T18:58:17.627Z"
   },
   {
    "duration": 21,
    "start_time": "2022-02-15T18:58:36.688Z"
   },
   {
    "duration": 7,
    "start_time": "2022-02-15T18:58:49.028Z"
   },
   {
    "duration": 16,
    "start_time": "2022-02-15T18:59:17.841Z"
   },
   {
    "duration": 10,
    "start_time": "2022-02-15T18:59:40.564Z"
   },
   {
    "duration": 10,
    "start_time": "2022-02-15T18:59:43.792Z"
   },
   {
    "duration": 13,
    "start_time": "2022-02-15T19:03:11.811Z"
   },
   {
    "duration": 9,
    "start_time": "2022-02-15T19:04:39.461Z"
   },
   {
    "duration": 10,
    "start_time": "2022-02-15T19:05:04.198Z"
   },
   {
    "duration": 17,
    "start_time": "2022-02-15T19:05:17.436Z"
   },
   {
    "duration": 16,
    "start_time": "2022-02-15T19:05:34.158Z"
   },
   {
    "duration": 13,
    "start_time": "2022-02-15T19:05:42.645Z"
   },
   {
    "duration": 12,
    "start_time": "2022-02-15T19:05:46.669Z"
   },
   {
    "duration": 11,
    "start_time": "2022-02-15T19:05:53.980Z"
   },
   {
    "duration": 13,
    "start_time": "2022-02-15T19:06:01.607Z"
   },
   {
    "duration": 12,
    "start_time": "2022-02-15T19:06:20.737Z"
   },
   {
    "duration": 13,
    "start_time": "2022-02-15T19:06:24.500Z"
   },
   {
    "duration": 13,
    "start_time": "2022-02-15T19:06:30.227Z"
   },
   {
    "duration": 13,
    "start_time": "2022-02-15T19:06:38.737Z"
   },
   {
    "duration": 12,
    "start_time": "2022-02-15T19:07:57.769Z"
   },
   {
    "duration": 76,
    "start_time": "2022-02-15T19:08:59.726Z"
   },
   {
    "duration": 72,
    "start_time": "2022-02-15T19:10:17.087Z"
   },
   {
    "duration": 10,
    "start_time": "2022-02-15T19:10:55.285Z"
   },
   {
    "duration": 11,
    "start_time": "2022-02-15T19:10:59.098Z"
   },
   {
    "duration": 12,
    "start_time": "2022-02-15T19:11:22.690Z"
   },
   {
    "duration": 71,
    "start_time": "2022-02-15T19:12:09.396Z"
   },
   {
    "duration": 10,
    "start_time": "2022-02-15T19:12:36.952Z"
   },
   {
    "duration": 11,
    "start_time": "2022-02-15T19:12:52.122Z"
   },
   {
    "duration": 3,
    "start_time": "2022-02-15T19:29:26.236Z"
   },
   {
    "duration": 58,
    "start_time": "2022-02-15T19:29:26.243Z"
   },
   {
    "duration": 3,
    "start_time": "2022-02-15T19:29:26.303Z"
   },
   {
    "duration": 7,
    "start_time": "2022-02-15T19:29:26.308Z"
   },
   {
    "duration": 15,
    "start_time": "2022-02-15T19:29:26.316Z"
   },
   {
    "duration": 7,
    "start_time": "2022-02-15T19:29:26.332Z"
   },
   {
    "duration": 8,
    "start_time": "2022-02-15T19:29:26.340Z"
   },
   {
    "duration": 13,
    "start_time": "2022-02-15T19:29:26.349Z"
   },
   {
    "duration": 4,
    "start_time": "2022-02-15T19:29:26.364Z"
   },
   {
    "duration": 4,
    "start_time": "2022-02-15T19:29:26.371Z"
   },
   {
    "duration": 54,
    "start_time": "2022-02-15T19:29:26.377Z"
   },
   {
    "duration": 352,
    "start_time": "2022-02-15T19:29:26.433Z"
   },
   {
    "duration": 7,
    "start_time": "2022-02-15T19:29:26.786Z"
   },
   {
    "duration": 21,
    "start_time": "2022-02-15T19:29:26.794Z"
   },
   {
    "duration": 10,
    "start_time": "2022-02-15T19:29:26.817Z"
   },
   {
    "duration": 298,
    "start_time": "2022-02-15T19:29:26.829Z"
   },
   {
    "duration": 6,
    "start_time": "2022-02-15T19:29:27.128Z"
   },
   {
    "duration": 349,
    "start_time": "2022-02-15T19:29:27.136Z"
   },
   {
    "duration": 558,
    "start_time": "2022-02-15T19:29:27.487Z"
   },
   {
    "duration": 13,
    "start_time": "2022-02-15T19:29:28.047Z"
   },
   {
    "duration": 290,
    "start_time": "2022-02-15T19:29:28.062Z"
   },
   {
    "duration": 298,
    "start_time": "2022-02-15T19:29:28.353Z"
   },
   {
    "duration": 11,
    "start_time": "2022-02-15T19:29:28.653Z"
   },
   {
    "duration": 224,
    "start_time": "2022-02-15T19:29:28.666Z"
   },
   {
    "duration": 220,
    "start_time": "2022-02-15T19:29:28.892Z"
   },
   {
    "duration": 429,
    "start_time": "2022-02-15T19:29:29.114Z"
   },
   {
    "duration": 404,
    "start_time": "2022-02-15T19:29:29.545Z"
   },
   {
    "duration": 457,
    "start_time": "2022-02-15T19:29:29.950Z"
   },
   {
    "duration": 11,
    "start_time": "2022-02-15T19:29:30.409Z"
   },
   {
    "duration": 27,
    "start_time": "2022-02-15T19:29:30.421Z"
   },
   {
    "duration": 10,
    "start_time": "2022-02-15T19:29:30.450Z"
   },
   {
    "duration": 18,
    "start_time": "2022-02-15T19:29:30.462Z"
   },
   {
    "duration": 12,
    "start_time": "2022-02-15T19:29:34.406Z"
   },
   {
    "duration": 10,
    "start_time": "2022-02-15T19:29:39.840Z"
   },
   {
    "duration": 12,
    "start_time": "2022-02-15T19:29:41.407Z"
   },
   {
    "duration": 10,
    "start_time": "2022-02-15T19:29:43.934Z"
   },
   {
    "duration": 9,
    "start_time": "2022-02-15T19:29:50.839Z"
   },
   {
    "duration": 1376,
    "start_time": "2022-02-23T09:35:07.536Z"
   },
   {
    "duration": 73,
    "start_time": "2022-02-23T09:35:08.914Z"
   },
   {
    "duration": 4,
    "start_time": "2022-02-23T09:35:08.989Z"
   },
   {
    "duration": 21,
    "start_time": "2022-02-23T09:35:08.995Z"
   },
   {
    "duration": 20,
    "start_time": "2022-02-23T09:35:09.018Z"
   },
   {
    "duration": 12,
    "start_time": "2022-02-23T09:35:09.040Z"
   },
   {
    "duration": 16,
    "start_time": "2022-02-23T09:35:09.054Z"
   },
   {
    "duration": 426,
    "start_time": "2022-02-23T09:35:09.073Z"
   },
   {
    "duration": -50,
    "start_time": "2022-02-23T09:35:09.552Z"
   },
   {
    "duration": -49,
    "start_time": "2022-02-23T09:35:09.553Z"
   },
   {
    "duration": -49,
    "start_time": "2022-02-23T09:35:09.555Z"
   },
   {
    "duration": -51,
    "start_time": "2022-02-23T09:35:09.558Z"
   },
   {
    "duration": -51,
    "start_time": "2022-02-23T09:35:09.560Z"
   },
   {
    "duration": -52,
    "start_time": "2022-02-23T09:35:09.562Z"
   },
   {
    "duration": -53,
    "start_time": "2022-02-23T09:35:09.564Z"
   },
   {
    "duration": -53,
    "start_time": "2022-02-23T09:35:09.565Z"
   },
   {
    "duration": -52,
    "start_time": "2022-02-23T09:35:09.566Z"
   },
   {
    "duration": -52,
    "start_time": "2022-02-23T09:35:09.567Z"
   },
   {
    "duration": -52,
    "start_time": "2022-02-23T09:35:09.568Z"
   },
   {
    "duration": -54,
    "start_time": "2022-02-23T09:35:09.572Z"
   },
   {
    "duration": -54,
    "start_time": "2022-02-23T09:35:09.573Z"
   },
   {
    "duration": -55,
    "start_time": "2022-02-23T09:35:09.576Z"
   },
   {
    "duration": -55,
    "start_time": "2022-02-23T09:35:09.577Z"
   },
   {
    "duration": -55,
    "start_time": "2022-02-23T09:35:09.578Z"
   },
   {
    "duration": -54,
    "start_time": "2022-02-23T09:35:09.578Z"
   },
   {
    "duration": -54,
    "start_time": "2022-02-23T09:35:09.579Z"
   },
   {
    "duration": -54,
    "start_time": "2022-02-23T09:35:09.581Z"
   },
   {
    "duration": -54,
    "start_time": "2022-02-23T09:35:09.582Z"
   },
   {
    "duration": -55,
    "start_time": "2022-02-23T09:35:09.584Z"
   },
   {
    "duration": -54,
    "start_time": "2022-02-23T09:35:09.585Z"
   },
   {
    "duration": -54,
    "start_time": "2022-02-23T09:35:09.586Z"
   },
   {
    "duration": -53,
    "start_time": "2022-02-23T09:35:09.587Z"
   },
   {
    "duration": 2933,
    "start_time": "2022-02-23T09:35:39.694Z"
   },
   {
    "duration": 4,
    "start_time": "2022-02-23T09:35:54.229Z"
   },
   {
    "duration": 1384,
    "start_time": "2022-02-23T09:35:54.235Z"
   },
   {
    "duration": 77,
    "start_time": "2022-02-23T09:35:55.622Z"
   },
   {
    "duration": 8,
    "start_time": "2022-02-23T09:35:55.700Z"
   },
   {
    "duration": 9,
    "start_time": "2022-02-23T09:35:55.710Z"
   },
   {
    "duration": 18,
    "start_time": "2022-02-23T09:35:55.721Z"
   },
   {
    "duration": 13,
    "start_time": "2022-02-23T09:35:55.741Z"
   },
   {
    "duration": 7,
    "start_time": "2022-02-23T09:35:55.757Z"
   },
   {
    "duration": 376,
    "start_time": "2022-02-23T09:35:55.809Z"
   },
   {
    "duration": -41,
    "start_time": "2022-02-23T09:35:56.228Z"
   },
   {
    "duration": -41,
    "start_time": "2022-02-23T09:35:56.229Z"
   },
   {
    "duration": -42,
    "start_time": "2022-02-23T09:35:56.231Z"
   },
   {
    "duration": -47,
    "start_time": "2022-02-23T09:35:56.237Z"
   },
   {
    "duration": -47,
    "start_time": "2022-02-23T09:35:56.239Z"
   },
   {
    "duration": -47,
    "start_time": "2022-02-23T09:35:56.240Z"
   },
   {
    "duration": -47,
    "start_time": "2022-02-23T09:35:56.241Z"
   },
   {
    "duration": -47,
    "start_time": "2022-02-23T09:35:56.242Z"
   },
   {
    "duration": -47,
    "start_time": "2022-02-23T09:35:56.243Z"
   },
   {
    "duration": -46,
    "start_time": "2022-02-23T09:35:56.243Z"
   },
   {
    "duration": -46,
    "start_time": "2022-02-23T09:35:56.244Z"
   },
   {
    "duration": -47,
    "start_time": "2022-02-23T09:35:56.246Z"
   },
   {
    "duration": -47,
    "start_time": "2022-02-23T09:35:56.247Z"
   },
   {
    "duration": -47,
    "start_time": "2022-02-23T09:35:56.248Z"
   },
   {
    "duration": -52,
    "start_time": "2022-02-23T09:35:56.254Z"
   },
   {
    "duration": -52,
    "start_time": "2022-02-23T09:35:56.256Z"
   },
   {
    "duration": -53,
    "start_time": "2022-02-23T09:35:56.258Z"
   },
   {
    "duration": -53,
    "start_time": "2022-02-23T09:35:56.259Z"
   },
   {
    "duration": -53,
    "start_time": "2022-02-23T09:35:56.260Z"
   },
   {
    "duration": -53,
    "start_time": "2022-02-23T09:35:56.261Z"
   },
   {
    "duration": -55,
    "start_time": "2022-02-23T09:35:56.263Z"
   },
   {
    "duration": -54,
    "start_time": "2022-02-23T09:35:56.264Z"
   },
   {
    "duration": -61,
    "start_time": "2022-02-23T09:35:56.272Z"
   },
   {
    "duration": -61,
    "start_time": "2022-02-23T09:35:56.273Z"
   },
   {
    "duration": 21,
    "start_time": "2022-02-23T09:36:28.709Z"
   },
   {
    "duration": 3099,
    "start_time": "2022-02-23T09:36:57.326Z"
   },
   {
    "duration": 1380,
    "start_time": "2022-02-23T09:37:00.428Z"
   },
   {
    "duration": 74,
    "start_time": "2022-02-23T09:37:01.811Z"
   },
   {
    "duration": 4,
    "start_time": "2022-02-23T09:37:01.888Z"
   },
   {
    "duration": 17,
    "start_time": "2022-02-23T09:37:01.908Z"
   },
   {
    "duration": 26,
    "start_time": "2022-02-23T09:37:01.928Z"
   },
   {
    "duration": 13,
    "start_time": "2022-02-23T09:37:01.956Z"
   },
   {
    "duration": 11,
    "start_time": "2022-02-23T09:37:01.972Z"
   },
   {
    "duration": 487,
    "start_time": "2022-02-23T09:37:01.986Z"
   },
   {
    "duration": -41,
    "start_time": "2022-02-23T09:37:02.518Z"
   },
   {
    "duration": -42,
    "start_time": "2022-02-23T09:37:02.521Z"
   },
   {
    "duration": -45,
    "start_time": "2022-02-23T09:37:02.525Z"
   },
   {
    "duration": -44,
    "start_time": "2022-02-23T09:37:02.526Z"
   },
   {
    "duration": -45,
    "start_time": "2022-02-23T09:37:02.528Z"
   },
   {
    "duration": -44,
    "start_time": "2022-02-23T09:37:02.529Z"
   },
   {
    "duration": -43,
    "start_time": "2022-02-23T09:37:02.530Z"
   },
   {
    "duration": -42,
    "start_time": "2022-02-23T09:37:02.531Z"
   },
   {
    "duration": -42,
    "start_time": "2022-02-23T09:37:02.532Z"
   },
   {
    "duration": -41,
    "start_time": "2022-02-23T09:37:02.533Z"
   },
   {
    "duration": -39,
    "start_time": "2022-02-23T09:37:02.533Z"
   },
   {
    "duration": -39,
    "start_time": "2022-02-23T09:37:02.534Z"
   },
   {
    "duration": -38,
    "start_time": "2022-02-23T09:37:02.535Z"
   },
   {
    "duration": -37,
    "start_time": "2022-02-23T09:37:02.536Z"
   },
   {
    "duration": -36,
    "start_time": "2022-02-23T09:37:02.537Z"
   },
   {
    "duration": -36,
    "start_time": "2022-02-23T09:37:02.538Z"
   },
   {
    "duration": -35,
    "start_time": "2022-02-23T09:37:02.539Z"
   },
   {
    "duration": -34,
    "start_time": "2022-02-23T09:37:02.540Z"
   },
   {
    "duration": -37,
    "start_time": "2022-02-23T09:37:02.544Z"
   },
   {
    "duration": -36,
    "start_time": "2022-02-23T09:37:02.545Z"
   },
   {
    "duration": -37,
    "start_time": "2022-02-23T09:37:02.546Z"
   },
   {
    "duration": -37,
    "start_time": "2022-02-23T09:37:02.547Z"
   },
   {
    "duration": -37,
    "start_time": "2022-02-23T09:37:02.548Z"
   },
   {
    "duration": -36,
    "start_time": "2022-02-23T09:37:02.549Z"
   },
   {
    "duration": -36,
    "start_time": "2022-02-23T09:37:02.550Z"
   },
   {
    "duration": 1361,
    "start_time": "2022-02-23T09:37:33.763Z"
   },
   {
    "duration": 73,
    "start_time": "2022-02-23T09:37:35.127Z"
   },
   {
    "duration": 3,
    "start_time": "2022-02-23T09:37:35.208Z"
   },
   {
    "duration": 9,
    "start_time": "2022-02-23T09:37:35.214Z"
   },
   {
    "duration": 17,
    "start_time": "2022-02-23T09:37:35.226Z"
   },
   {
    "duration": 10,
    "start_time": "2022-02-23T09:37:35.245Z"
   },
   {
    "duration": 24,
    "start_time": "2022-02-23T09:37:35.257Z"
   },
   {
    "duration": 386,
    "start_time": "2022-02-23T09:37:35.285Z"
   },
   {
    "duration": -50,
    "start_time": "2022-02-23T09:37:35.723Z"
   },
   {
    "duration": -50,
    "start_time": "2022-02-23T09:37:35.725Z"
   },
   {
    "duration": -50,
    "start_time": "2022-02-23T09:37:35.726Z"
   },
   {
    "duration": -50,
    "start_time": "2022-02-23T09:37:35.727Z"
   },
   {
    "duration": -50,
    "start_time": "2022-02-23T09:37:35.728Z"
   },
   {
    "duration": -50,
    "start_time": "2022-02-23T09:37:35.729Z"
   },
   {
    "duration": -50,
    "start_time": "2022-02-23T09:37:35.731Z"
   },
   {
    "duration": -50,
    "start_time": "2022-02-23T09:37:35.732Z"
   },
   {
    "duration": -50,
    "start_time": "2022-02-23T09:37:35.734Z"
   },
   {
    "duration": -50,
    "start_time": "2022-02-23T09:37:35.735Z"
   },
   {
    "duration": -53,
    "start_time": "2022-02-23T09:37:35.739Z"
   },
   {
    "duration": -55,
    "start_time": "2022-02-23T09:37:35.742Z"
   },
   {
    "duration": -54,
    "start_time": "2022-02-23T09:37:35.743Z"
   },
   {
    "duration": -54,
    "start_time": "2022-02-23T09:37:35.744Z"
   },
   {
    "duration": -54,
    "start_time": "2022-02-23T09:37:35.745Z"
   },
   {
    "duration": -54,
    "start_time": "2022-02-23T09:37:35.746Z"
   },
   {
    "duration": -54,
    "start_time": "2022-02-23T09:37:35.747Z"
   },
   {
    "duration": -53,
    "start_time": "2022-02-23T09:37:35.747Z"
   },
   {
    "duration": -53,
    "start_time": "2022-02-23T09:37:35.748Z"
   },
   {
    "duration": -53,
    "start_time": "2022-02-23T09:37:35.749Z"
   },
   {
    "duration": -54,
    "start_time": "2022-02-23T09:37:35.751Z"
   },
   {
    "duration": -52,
    "start_time": "2022-02-23T09:37:35.751Z"
   },
   {
    "duration": -52,
    "start_time": "2022-02-23T09:37:35.752Z"
   },
   {
    "duration": -52,
    "start_time": "2022-02-23T09:37:35.753Z"
   },
   {
    "duration": -52,
    "start_time": "2022-02-23T09:37:35.754Z"
   },
   {
    "duration": 1169,
    "start_time": "2022-02-23T09:53:23.240Z"
   },
   {
    "duration": 66,
    "start_time": "2022-02-23T09:53:24.411Z"
   },
   {
    "duration": 3,
    "start_time": "2022-02-23T09:53:24.479Z"
   },
   {
    "duration": 12,
    "start_time": "2022-02-23T09:53:24.484Z"
   },
   {
    "duration": 27,
    "start_time": "2022-02-23T09:53:24.498Z"
   },
   {
    "duration": 8,
    "start_time": "2022-02-23T09:53:24.528Z"
   },
   {
    "duration": 14,
    "start_time": "2022-02-23T09:53:24.538Z"
   },
   {
    "duration": 17,
    "start_time": "2022-02-23T09:53:24.555Z"
   },
   {
    "duration": 11,
    "start_time": "2022-02-23T09:53:24.575Z"
   },
   {
    "duration": 33,
    "start_time": "2022-02-23T09:53:24.588Z"
   },
   {
    "duration": 15,
    "start_time": "2022-02-23T09:53:24.624Z"
   },
   {
    "duration": 24,
    "start_time": "2022-02-23T09:53:24.641Z"
   },
   {
    "duration": 398,
    "start_time": "2022-02-23T09:53:24.668Z"
   },
   {
    "duration": 9,
    "start_time": "2022-02-23T09:53:25.067Z"
   },
   {
    "duration": 17,
    "start_time": "2022-02-23T09:53:25.077Z"
   },
   {
    "duration": 31,
    "start_time": "2022-02-23T09:53:25.096Z"
   },
   {
    "duration": 310,
    "start_time": "2022-02-23T09:53:25.129Z"
   },
   {
    "duration": 7,
    "start_time": "2022-02-23T09:53:25.441Z"
   },
   {
    "duration": 384,
    "start_time": "2022-02-23T09:53:25.450Z"
   },
   {
    "duration": 526,
    "start_time": "2022-02-23T09:53:25.835Z"
   },
   {
    "duration": 14,
    "start_time": "2022-02-23T09:53:26.363Z"
   },
   {
    "duration": 406,
    "start_time": "2022-02-23T09:53:26.379Z"
   },
   {
    "duration": 399,
    "start_time": "2022-02-23T09:53:26.789Z"
   },
   {
    "duration": 13,
    "start_time": "2022-02-23T09:53:27.190Z"
   },
   {
    "duration": 247,
    "start_time": "2022-02-23T09:53:27.204Z"
   },
   {
    "duration": 237,
    "start_time": "2022-02-23T09:53:27.453Z"
   },
   {
    "duration": 447,
    "start_time": "2022-02-23T09:53:27.692Z"
   },
   {
    "duration": 455,
    "start_time": "2022-02-23T09:53:28.141Z"
   },
   {
    "duration": 492,
    "start_time": "2022-02-23T09:53:28.599Z"
   },
   {
    "duration": 24,
    "start_time": "2022-02-23T09:53:29.094Z"
   },
   {
    "duration": 13,
    "start_time": "2022-02-23T09:53:29.121Z"
   },
   {
    "duration": 10,
    "start_time": "2022-02-23T09:53:29.136Z"
   },
   {
    "duration": 12,
    "start_time": "2022-02-23T09:53:29.149Z"
   },
   {
    "duration": 1373,
    "start_time": "2022-02-23T10:35:26.507Z"
   },
   {
    "duration": 71,
    "start_time": "2022-02-23T10:35:27.883Z"
   },
   {
    "duration": 4,
    "start_time": "2022-02-23T10:35:27.959Z"
   },
   {
    "duration": 17,
    "start_time": "2022-02-23T10:35:27.964Z"
   },
   {
    "duration": 33,
    "start_time": "2022-02-23T10:35:27.984Z"
   },
   {
    "duration": 9,
    "start_time": "2022-02-23T10:35:28.019Z"
   },
   {
    "duration": 10,
    "start_time": "2022-02-23T10:35:28.031Z"
   },
   {
    "duration": 355,
    "start_time": "2022-02-23T10:35:28.045Z"
   },
   {
    "duration": -72,
    "start_time": "2022-02-23T10:35:28.475Z"
   },
   {
    "duration": -73,
    "start_time": "2022-02-23T10:35:28.477Z"
   },
   {
    "duration": -73,
    "start_time": "2022-02-23T10:35:28.478Z"
   },
   {
    "duration": -74,
    "start_time": "2022-02-23T10:35:28.480Z"
   },
   {
    "duration": -74,
    "start_time": "2022-02-23T10:35:28.481Z"
   },
   {
    "duration": -73,
    "start_time": "2022-02-23T10:35:28.482Z"
   },
   {
    "duration": -73,
    "start_time": "2022-02-23T10:35:28.483Z"
   },
   {
    "duration": -81,
    "start_time": "2022-02-23T10:35:28.492Z"
   },
   {
    "duration": -82,
    "start_time": "2022-02-23T10:35:28.494Z"
   },
   {
    "duration": -81,
    "start_time": "2022-02-23T10:35:28.495Z"
   },
   {
    "duration": -81,
    "start_time": "2022-02-23T10:35:28.496Z"
   },
   {
    "duration": -80,
    "start_time": "2022-02-23T10:35:28.496Z"
   },
   {
    "duration": -80,
    "start_time": "2022-02-23T10:35:28.497Z"
   },
   {
    "duration": -80,
    "start_time": "2022-02-23T10:35:28.498Z"
   },
   {
    "duration": -79,
    "start_time": "2022-02-23T10:35:28.499Z"
   },
   {
    "duration": -86,
    "start_time": "2022-02-23T10:35:28.507Z"
   },
   {
    "duration": -86,
    "start_time": "2022-02-23T10:35:28.508Z"
   },
   {
    "duration": -86,
    "start_time": "2022-02-23T10:35:28.509Z"
   },
   {
    "duration": -87,
    "start_time": "2022-02-23T10:35:28.510Z"
   },
   {
    "duration": -87,
    "start_time": "2022-02-23T10:35:28.511Z"
   },
   {
    "duration": -87,
    "start_time": "2022-02-23T10:35:28.512Z"
   },
   {
    "duration": -88,
    "start_time": "2022-02-23T10:35:28.513Z"
   },
   {
    "duration": -88,
    "start_time": "2022-02-23T10:35:28.515Z"
   },
   {
    "duration": -88,
    "start_time": "2022-02-23T10:35:28.516Z"
   },
   {
    "duration": -95,
    "start_time": "2022-02-23T10:35:28.524Z"
   },
   {
    "duration": 14,
    "start_time": "2022-02-23T10:36:05.688Z"
   },
   {
    "duration": 1244,
    "start_time": "2022-02-23T10:37:53.450Z"
   },
   {
    "duration": 78,
    "start_time": "2022-02-23T10:37:54.697Z"
   },
   {
    "duration": 4,
    "start_time": "2022-02-23T10:37:54.778Z"
   },
   {
    "duration": 28,
    "start_time": "2022-02-23T10:37:54.785Z"
   },
   {
    "duration": 35,
    "start_time": "2022-02-23T10:37:54.815Z"
   },
   {
    "duration": 9,
    "start_time": "2022-02-23T10:37:54.852Z"
   },
   {
    "duration": 11,
    "start_time": "2022-02-23T10:37:54.863Z"
   },
   {
    "duration": 19,
    "start_time": "2022-02-23T10:37:54.877Z"
   },
   {
    "duration": 19,
    "start_time": "2022-02-23T10:37:54.899Z"
   },
   {
    "duration": 14,
    "start_time": "2022-02-23T10:37:54.920Z"
   },
   {
    "duration": 23,
    "start_time": "2022-02-23T10:37:54.936Z"
   },
   {
    "duration": 38,
    "start_time": "2022-02-23T10:37:54.961Z"
   },
   {
    "duration": 1140,
    "start_time": "2022-02-23T10:37:55.001Z"
   },
   {
    "duration": 8,
    "start_time": "2022-02-23T10:37:56.143Z"
   },
   {
    "duration": 21,
    "start_time": "2022-02-23T10:37:56.153Z"
   },
   {
    "duration": 16,
    "start_time": "2022-02-23T10:37:56.176Z"
   },
   {
    "duration": 323,
    "start_time": "2022-02-23T10:37:56.195Z"
   },
   {
    "duration": 7,
    "start_time": "2022-02-23T10:37:56.520Z"
   },
   {
    "duration": 469,
    "start_time": "2022-02-23T10:37:56.529Z"
   },
   {
    "duration": 542,
    "start_time": "2022-02-23T10:37:57.007Z"
   },
   {
    "duration": 16,
    "start_time": "2022-02-23T10:37:57.551Z"
   },
   {
    "duration": 374,
    "start_time": "2022-02-23T10:37:57.569Z"
   },
   {
    "duration": 320,
    "start_time": "2022-02-23T10:37:57.947Z"
   },
   {
    "duration": 9,
    "start_time": "2022-02-23T10:37:58.269Z"
   },
   {
    "duration": 253,
    "start_time": "2022-02-23T10:37:58.281Z"
   },
   {
    "duration": 241,
    "start_time": "2022-02-23T10:37:58.536Z"
   },
   {
    "duration": 575,
    "start_time": "2022-02-23T10:37:58.779Z"
   },
   {
    "duration": 458,
    "start_time": "2022-02-23T10:37:59.356Z"
   },
   {
    "duration": 593,
    "start_time": "2022-02-23T10:37:59.816Z"
   },
   {
    "duration": 11,
    "start_time": "2022-02-23T10:38:00.412Z"
   },
   {
    "duration": 37,
    "start_time": "2022-02-23T10:38:00.425Z"
   },
   {
    "duration": 34,
    "start_time": "2022-02-23T10:38:00.464Z"
   },
   {
    "duration": 43,
    "start_time": "2022-02-23T10:38:00.500Z"
   },
   {
    "duration": 1258,
    "start_time": "2022-02-23T11:06:47.462Z"
   },
   {
    "duration": 72,
    "start_time": "2022-02-23T11:06:48.722Z"
   },
   {
    "duration": 11,
    "start_time": "2022-02-23T11:06:48.796Z"
   },
   {
    "duration": 14,
    "start_time": "2022-02-23T11:06:48.810Z"
   },
   {
    "duration": 15,
    "start_time": "2022-02-23T11:06:48.826Z"
   },
   {
    "duration": 10,
    "start_time": "2022-02-23T11:06:48.844Z"
   },
   {
    "duration": 7,
    "start_time": "2022-02-23T11:06:48.856Z"
   },
   {
    "duration": 47,
    "start_time": "2022-02-23T11:06:48.866Z"
   },
   {
    "duration": 17,
    "start_time": "2022-02-23T11:06:48.916Z"
   },
   {
    "duration": 7,
    "start_time": "2022-02-23T11:06:48.936Z"
   },
   {
    "duration": 10,
    "start_time": "2022-02-23T11:06:48.945Z"
   },
   {
    "duration": 54,
    "start_time": "2022-02-23T11:06:48.957Z"
   },
   {
    "duration": 840,
    "start_time": "2022-02-23T11:06:49.014Z"
   },
   {
    "duration": 10,
    "start_time": "2022-02-23T11:06:49.857Z"
   },
   {
    "duration": 10,
    "start_time": "2022-02-23T11:06:49.869Z"
   },
   {
    "duration": 38,
    "start_time": "2022-02-23T11:06:49.881Z"
   },
   {
    "duration": 332,
    "start_time": "2022-02-23T11:06:49.921Z"
   },
   {
    "duration": 6,
    "start_time": "2022-02-23T11:06:50.256Z"
   },
   {
    "duration": 453,
    "start_time": "2022-02-23T11:06:50.264Z"
   },
   {
    "duration": 559,
    "start_time": "2022-02-23T11:06:50.720Z"
   },
   {
    "duration": 29,
    "start_time": "2022-02-23T11:06:51.281Z"
   },
   {
    "duration": 336,
    "start_time": "2022-02-23T11:06:51.312Z"
   },
   {
    "duration": 328,
    "start_time": "2022-02-23T11:06:51.652Z"
   },
   {
    "duration": 10,
    "start_time": "2022-02-23T11:06:51.982Z"
   },
   {
    "duration": 247,
    "start_time": "2022-02-23T11:06:51.994Z"
   },
   {
    "duration": 253,
    "start_time": "2022-02-23T11:06:52.243Z"
   },
   {
    "duration": 469,
    "start_time": "2022-02-23T11:06:52.506Z"
   },
   {
    "duration": 469,
    "start_time": "2022-02-23T11:06:52.977Z"
   },
   {
    "duration": 600,
    "start_time": "2022-02-23T11:06:53.448Z"
   },
   {
    "duration": 11,
    "start_time": "2022-02-23T11:06:54.050Z"
   },
   {
    "duration": 12,
    "start_time": "2022-02-23T11:06:54.063Z"
   },
   {
    "duration": 37,
    "start_time": "2022-02-23T11:06:54.077Z"
   },
   {
    "duration": 12,
    "start_time": "2022-02-23T11:06:54.116Z"
   },
   {
    "duration": 266,
    "start_time": "2022-02-23T11:51:08.839Z"
   },
   {
    "duration": 1288,
    "start_time": "2022-02-23T11:51:16.220Z"
   },
   {
    "duration": 66,
    "start_time": "2022-02-23T11:51:17.510Z"
   },
   {
    "duration": 3,
    "start_time": "2022-02-23T11:51:17.579Z"
   },
   {
    "duration": 23,
    "start_time": "2022-02-23T11:51:17.585Z"
   },
   {
    "duration": 28,
    "start_time": "2022-02-23T11:51:17.610Z"
   },
   {
    "duration": 10,
    "start_time": "2022-02-23T11:51:17.641Z"
   },
   {
    "duration": 9,
    "start_time": "2022-02-23T11:51:17.652Z"
   },
   {
    "duration": 54,
    "start_time": "2022-02-23T11:51:17.664Z"
   },
   {
    "duration": 14,
    "start_time": "2022-02-23T11:51:17.720Z"
   },
   {
    "duration": 10,
    "start_time": "2022-02-23T11:51:17.737Z"
   },
   {
    "duration": 11,
    "start_time": "2022-02-23T11:51:17.750Z"
   },
   {
    "duration": 58,
    "start_time": "2022-02-23T11:51:17.763Z"
   },
   {
    "duration": 520,
    "start_time": "2022-02-23T11:51:17.823Z"
   },
   {
    "duration": 15,
    "start_time": "2022-02-23T11:51:18.363Z"
   },
   {
    "duration": 104,
    "start_time": "2022-02-23T11:51:18.381Z"
   },
   {
    "duration": 31,
    "start_time": "2022-02-23T11:51:18.487Z"
   },
   {
    "duration": 347,
    "start_time": "2022-02-23T11:51:18.521Z"
   },
   {
    "duration": 8,
    "start_time": "2022-02-23T11:51:18.870Z"
   },
   {
    "duration": 370,
    "start_time": "2022-02-23T11:51:18.880Z"
   },
   {
    "duration": 460,
    "start_time": "2022-02-23T11:51:19.253Z"
   },
   {
    "duration": 16,
    "start_time": "2022-02-23T11:51:19.715Z"
   },
   {
    "duration": 369,
    "start_time": "2022-02-23T11:51:19.733Z"
   },
   {
    "duration": 454,
    "start_time": "2022-02-23T11:51:20.110Z"
   },
   {
    "duration": 12,
    "start_time": "2022-02-23T11:51:20.567Z"
   },
   {
    "duration": 264,
    "start_time": "2022-02-23T11:51:20.581Z"
   },
   {
    "duration": 256,
    "start_time": "2022-02-23T11:51:20.847Z"
   },
   {
    "duration": 754,
    "start_time": "2022-02-23T11:51:21.108Z"
   },
   {
    "duration": 931,
    "start_time": "2022-02-23T11:51:21.865Z"
   },
   {
    "duration": 525,
    "start_time": "2022-02-23T11:51:22.798Z"
   },
   {
    "duration": 13,
    "start_time": "2022-02-23T11:51:23.325Z"
   },
   {
    "duration": 14,
    "start_time": "2022-02-23T11:51:23.340Z"
   },
   {
    "duration": 12,
    "start_time": "2022-02-23T11:51:23.357Z"
   },
   {
    "duration": 47,
    "start_time": "2022-02-23T11:51:23.371Z"
   },
   {
    "duration": 300,
    "start_time": "2022-02-23T11:51:38.614Z"
   },
   {
    "duration": 7,
    "start_time": "2022-02-23T11:52:19.995Z"
   },
   {
    "duration": 320,
    "start_time": "2022-02-23T11:52:22.045Z"
   },
   {
    "duration": 614,
    "start_time": "2022-02-23T11:53:00.969Z"
   },
   {
    "duration": 15,
    "start_time": "2022-02-23T11:53:05.620Z"
   },
   {
    "duration": 354,
    "start_time": "2022-02-23T11:53:10.303Z"
   },
   {
    "duration": 354,
    "start_time": "2022-02-23T11:53:15.189Z"
   },
   {
    "duration": 12,
    "start_time": "2022-02-23T11:53:19.104Z"
   },
   {
    "duration": 239,
    "start_time": "2022-02-23T11:55:53.891Z"
   },
   {
    "duration": 265,
    "start_time": "2022-02-23T11:56:26.092Z"
   },
   {
    "duration": 242,
    "start_time": "2022-02-23T11:57:04.130Z"
   },
   {
    "duration": 232,
    "start_time": "2022-02-23T11:57:11.739Z"
   },
   {
    "duration": 234,
    "start_time": "2022-02-23T11:57:42.252Z"
   },
   {
    "duration": 241,
    "start_time": "2022-02-23T11:58:00.085Z"
   },
   {
    "duration": 244,
    "start_time": "2022-02-23T12:08:48.656Z"
   },
   {
    "duration": 408,
    "start_time": "2022-02-23T12:15:54.987Z"
   },
   {
    "duration": 255,
    "start_time": "2022-02-23T12:17:33.429Z"
   },
   {
    "duration": 359,
    "start_time": "2022-02-23T12:17:59.407Z"
   },
   {
    "duration": 504,
    "start_time": "2022-02-23T12:21:02.003Z"
   },
   {
    "duration": 488,
    "start_time": "2022-02-23T12:21:20.091Z"
   },
   {
    "duration": 455,
    "start_time": "2022-02-23T12:23:23.656Z"
   },
   {
    "duration": 476,
    "start_time": "2022-02-23T13:17:47.604Z"
   },
   {
    "duration": 598,
    "start_time": "2022-02-23T13:20:18.746Z"
   },
   {
    "duration": 499,
    "start_time": "2022-02-23T13:20:34.808Z"
   },
   {
    "duration": 466,
    "start_time": "2022-02-23T13:21:17.809Z"
   },
   {
    "duration": 68,
    "start_time": "2022-02-23T13:25:05.145Z"
   },
   {
    "duration": 7,
    "start_time": "2022-02-23T13:25:09.680Z"
   },
   {
    "duration": 254,
    "start_time": "2022-02-23T13:25:31.665Z"
   },
   {
    "duration": 6,
    "start_time": "2022-02-23T13:25:38.337Z"
   },
   {
    "duration": 27,
    "start_time": "2022-02-23T13:25:44.056Z"
   },
   {
    "duration": 236,
    "start_time": "2022-02-23T13:26:29.834Z"
   },
   {
    "duration": 258,
    "start_time": "2022-02-23T13:26:36.276Z"
   },
   {
    "duration": 213,
    "start_time": "2022-02-23T13:27:31.072Z"
   },
   {
    "duration": 9,
    "start_time": "2022-02-23T13:27:36.048Z"
   },
   {
    "duration": 26,
    "start_time": "2022-02-23T13:27:42.012Z"
   },
   {
    "duration": 4,
    "start_time": "2022-02-23T13:27:52.138Z"
   },
   {
    "duration": 332,
    "start_time": "2022-02-23T13:27:56.885Z"
   },
   {
    "duration": 350,
    "start_time": "2022-02-23T13:28:05.823Z"
   },
   {
    "duration": 2687,
    "start_time": "2022-02-23T13:28:29.138Z"
   },
   {
    "duration": 5,
    "start_time": "2022-02-23T13:28:36.988Z"
   },
   {
    "duration": 4,
    "start_time": "2022-02-23T13:28:44.211Z"
   },
   {
    "duration": 71,
    "start_time": "2022-02-23T13:28:44.217Z"
   },
   {
    "duration": 4,
    "start_time": "2022-02-23T13:28:44.291Z"
   },
   {
    "duration": 8,
    "start_time": "2022-02-23T13:28:44.307Z"
   },
   {
    "duration": 18,
    "start_time": "2022-02-23T13:28:44.317Z"
   },
   {
    "duration": 9,
    "start_time": "2022-02-23T13:28:44.337Z"
   },
   {
    "duration": 6,
    "start_time": "2022-02-23T13:28:44.349Z"
   },
   {
    "duration": 50,
    "start_time": "2022-02-23T13:28:44.358Z"
   },
   {
    "duration": 14,
    "start_time": "2022-02-23T13:28:44.410Z"
   },
   {
    "duration": 7,
    "start_time": "2022-02-23T13:28:44.426Z"
   },
   {
    "duration": 7,
    "start_time": "2022-02-23T13:28:44.435Z"
   },
   {
    "duration": 68,
    "start_time": "2022-02-23T13:28:44.444Z"
   },
   {
    "duration": 374,
    "start_time": "2022-02-23T13:28:44.515Z"
   },
   {
    "duration": 16,
    "start_time": "2022-02-23T13:28:44.891Z"
   },
   {
    "duration": 9,
    "start_time": "2022-02-23T13:28:44.910Z"
   },
   {
    "duration": 14,
    "start_time": "2022-02-23T13:28:44.921Z"
   },
   {
    "duration": 342,
    "start_time": "2022-02-23T13:28:44.937Z"
   },
   {
    "duration": 6,
    "start_time": "2022-02-23T13:28:45.280Z"
   },
   {
    "duration": 324,
    "start_time": "2022-02-23T13:28:45.289Z"
   },
   {
    "duration": 535,
    "start_time": "2022-02-23T13:28:45.615Z"
   },
   {
    "duration": 15,
    "start_time": "2022-02-23T13:28:46.152Z"
   },
   {
    "duration": 408,
    "start_time": "2022-02-23T13:28:46.169Z"
   },
   {
    "duration": 371,
    "start_time": "2022-02-23T13:28:46.580Z"
   },
   {
    "duration": 10,
    "start_time": "2022-02-23T13:28:46.953Z"
   },
   {
    "duration": 265,
    "start_time": "2022-02-23T13:28:46.965Z"
   },
   {
    "duration": 261,
    "start_time": "2022-02-23T13:28:47.232Z"
   },
   {
    "duration": 478,
    "start_time": "2022-02-23T13:28:47.496Z"
   },
   {
    "duration": 486,
    "start_time": "2022-02-23T13:28:47.976Z"
   },
   {
    "duration": 27,
    "start_time": "2022-02-23T13:28:48.464Z"
   },
   {
    "duration": 574,
    "start_time": "2022-02-23T13:28:48.507Z"
   },
   {
    "duration": 24,
    "start_time": "2022-02-23T13:28:49.083Z"
   },
   {
    "duration": 15,
    "start_time": "2022-02-23T13:28:49.110Z"
   },
   {
    "duration": 12,
    "start_time": "2022-02-23T13:28:49.127Z"
   },
   {
    "duration": 16,
    "start_time": "2022-02-23T13:28:49.141Z"
   },
   {
    "duration": 35,
    "start_time": "2022-02-23T13:29:03.713Z"
   },
   {
    "duration": 3,
    "start_time": "2022-02-23T13:29:07.935Z"
   },
   {
    "duration": 62,
    "start_time": "2022-02-23T13:29:07.940Z"
   },
   {
    "duration": 4,
    "start_time": "2022-02-23T13:29:08.004Z"
   },
   {
    "duration": 11,
    "start_time": "2022-02-23T13:29:08.010Z"
   },
   {
    "duration": 14,
    "start_time": "2022-02-23T13:29:08.023Z"
   },
   {
    "duration": 9,
    "start_time": "2022-02-23T13:29:08.039Z"
   },
   {
    "duration": 7,
    "start_time": "2022-02-23T13:29:08.049Z"
   },
   {
    "duration": 18,
    "start_time": "2022-02-23T13:29:08.058Z"
   },
   {
    "duration": 11,
    "start_time": "2022-02-23T13:29:08.108Z"
   },
   {
    "duration": 5,
    "start_time": "2022-02-23T13:29:08.121Z"
   },
   {
    "duration": 6,
    "start_time": "2022-02-23T13:29:08.158Z"
   },
   {
    "duration": 27,
    "start_time": "2022-02-23T13:29:08.166Z"
   },
   {
    "duration": 372,
    "start_time": "2022-02-23T13:29:08.196Z"
   },
   {
    "duration": 8,
    "start_time": "2022-02-23T13:29:08.571Z"
   },
   {
    "duration": 13,
    "start_time": "2022-02-23T13:29:08.581Z"
   },
   {
    "duration": 25,
    "start_time": "2022-02-23T13:29:08.595Z"
   },
   {
    "duration": 456,
    "start_time": "2022-02-23T13:29:08.623Z"
   },
   {
    "duration": 7,
    "start_time": "2022-02-23T13:29:09.081Z"
   },
   {
    "duration": 347,
    "start_time": "2022-02-23T13:29:09.090Z"
   },
   {
    "duration": 455,
    "start_time": "2022-02-23T13:29:09.439Z"
   },
   {
    "duration": 16,
    "start_time": "2022-02-23T13:29:09.908Z"
   },
   {
    "duration": 340,
    "start_time": "2022-02-23T13:29:09.927Z"
   },
   {
    "duration": 369,
    "start_time": "2022-02-23T13:29:10.268Z"
   },
   {
    "duration": 11,
    "start_time": "2022-02-23T13:29:10.639Z"
   },
   {
    "duration": 258,
    "start_time": "2022-02-23T13:29:10.652Z"
   },
   {
    "duration": 259,
    "start_time": "2022-02-23T13:29:10.912Z"
   },
   {
    "duration": 468,
    "start_time": "2022-02-23T13:29:11.173Z"
   },
   {
    "duration": 578,
    "start_time": "2022-02-23T13:29:11.643Z"
   },
   {
    "duration": 32,
    "start_time": "2022-02-23T13:29:12.223Z"
   },
   {
    "duration": 495,
    "start_time": "2022-02-23T13:29:12.257Z"
   },
   {
    "duration": 13,
    "start_time": "2022-02-23T13:29:12.754Z"
   },
   {
    "duration": 16,
    "start_time": "2022-02-23T13:29:12.770Z"
   },
   {
    "duration": 10,
    "start_time": "2022-02-23T13:29:12.809Z"
   },
   {
    "duration": 14,
    "start_time": "2022-02-23T13:29:12.821Z"
   },
   {
    "duration": 470,
    "start_time": "2022-02-23T13:29:20.191Z"
   },
   {
    "duration": 5,
    "start_time": "2022-02-23T13:29:52.060Z"
   },
   {
    "duration": 463,
    "start_time": "2022-02-23T13:29:54.416Z"
   },
   {
    "duration": 14,
    "start_time": "2022-02-23T13:32:31.206Z"
   },
   {
    "duration": 13,
    "start_time": "2022-02-23T13:32:55.011Z"
   },
   {
    "duration": 14,
    "start_time": "2022-02-23T13:33:11.085Z"
   },
   {
    "duration": 12,
    "start_time": "2022-02-23T13:33:21.095Z"
   },
   {
    "duration": 16,
    "start_time": "2022-02-23T13:33:21.478Z"
   },
   {
    "duration": 12,
    "start_time": "2022-02-23T13:33:22.935Z"
   },
   {
    "duration": 16,
    "start_time": "2022-02-23T13:33:25.095Z"
   },
   {
    "duration": 4,
    "start_time": "2022-02-23T13:51:02.434Z"
   },
   {
    "duration": 135,
    "start_time": "2022-02-23T13:51:02.441Z"
   },
   {
    "duration": 3,
    "start_time": "2022-02-23T13:51:02.579Z"
   },
   {
    "duration": 12,
    "start_time": "2022-02-23T13:51:02.584Z"
   },
   {
    "duration": 23,
    "start_time": "2022-02-23T13:51:02.599Z"
   },
   {
    "duration": 18,
    "start_time": "2022-02-23T13:51:02.624Z"
   },
   {
    "duration": 12,
    "start_time": "2022-02-23T13:51:02.645Z"
   },
   {
    "duration": 49,
    "start_time": "2022-02-23T13:51:02.661Z"
   },
   {
    "duration": 14,
    "start_time": "2022-02-23T13:51:02.714Z"
   },
   {
    "duration": 7,
    "start_time": "2022-02-23T13:51:02.730Z"
   },
   {
    "duration": 11,
    "start_time": "2022-02-23T13:51:02.740Z"
   },
   {
    "duration": 55,
    "start_time": "2022-02-23T13:51:02.754Z"
   },
   {
    "duration": 398,
    "start_time": "2022-02-23T13:51:02.812Z"
   },
   {
    "duration": 9,
    "start_time": "2022-02-23T13:51:03.212Z"
   },
   {
    "duration": 17,
    "start_time": "2022-02-23T13:51:03.223Z"
   },
   {
    "duration": 16,
    "start_time": "2022-02-23T13:51:03.243Z"
   },
   {
    "duration": 358,
    "start_time": "2022-02-23T13:51:03.261Z"
   },
   {
    "duration": 8,
    "start_time": "2022-02-23T13:51:03.622Z"
   },
   {
    "duration": 352,
    "start_time": "2022-02-23T13:51:03.632Z"
   },
   {
    "duration": 634,
    "start_time": "2022-02-23T13:51:03.987Z"
   },
   {
    "duration": 19,
    "start_time": "2022-02-23T13:51:04.624Z"
   },
   {
    "duration": 357,
    "start_time": "2022-02-23T13:51:04.645Z"
   },
   {
    "duration": 363,
    "start_time": "2022-02-23T13:51:05.008Z"
   },
   {
    "duration": 14,
    "start_time": "2022-02-23T13:51:05.374Z"
   },
   {
    "duration": 270,
    "start_time": "2022-02-23T13:51:05.390Z"
   },
   {
    "duration": 255,
    "start_time": "2022-02-23T13:51:05.662Z"
   },
   {
    "duration": 499,
    "start_time": "2022-02-23T13:51:05.919Z"
   },
   {
    "duration": 496,
    "start_time": "2022-02-23T13:51:06.420Z"
   },
   {
    "duration": 5,
    "start_time": "2022-02-23T13:51:06.918Z"
   },
   {
    "duration": 489,
    "start_time": "2022-02-23T13:51:06.925Z"
   },
   {
    "duration": 12,
    "start_time": "2022-02-23T13:51:07.416Z"
   },
   {
    "duration": 15,
    "start_time": "2022-02-23T13:51:07.430Z"
   },
   {
    "duration": 12,
    "start_time": "2022-02-23T13:51:07.447Z"
   },
   {
    "duration": 51,
    "start_time": "2022-02-23T13:51:07.461Z"
   }
  ],
  "kernelspec": {
   "display_name": "Python 3",
   "language": "python",
   "name": "python3"
  },
  "language_info": {
   "codemirror_mode": {
    "name": "ipython",
    "version": 3
   },
   "file_extension": ".py",
   "mimetype": "text/x-python",
   "name": "python",
   "nbconvert_exporter": "python",
   "pygments_lexer": "ipython3",
   "version": "3.9.0"
  },
  "toc": {
   "base_numbering": 1,
   "nav_menu": {},
   "number_sections": true,
   "sideBar": true,
   "skip_h1_title": true,
   "title_cell": "Table of Contents",
   "title_sidebar": "Contents",
   "toc_cell": false,
   "toc_position": {},
   "toc_section_display": true,
   "toc_window_display": false
  }
 },
 "nbformat": 4,
 "nbformat_minor": 2
}
