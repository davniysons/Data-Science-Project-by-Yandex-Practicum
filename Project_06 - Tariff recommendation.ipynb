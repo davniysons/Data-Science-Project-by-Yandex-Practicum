{
 "cells": [
  {
   "cell_type": "markdown",
   "metadata": {},
   "source": [
    "# Tariff recommendation"
   ]
  },
  {
   "cell_type": "markdown",
   "metadata": {},
   "source": [
    "You have at your disposal data on the behavior of customers who have already switched to these tariffs (from the draft course \"Statistical Data Analysis\"). You need to build a model for the classification problem that will select the appropriate rate. Data preprocessing is not required - you have already done it.\n",
    "\n",
    "Build the model with the largest possible `accuracy` value. To pass the project successfully, you need to bring the percentage of correct answers to at least 0.75. Check `accuracy` on the test set yourself."
   ]
  },
  {
   "cell_type": "markdown",
   "metadata": {},
   "source": [
    "## 1. Open and explore data"
   ]
  },
  {
   "cell_type": "code",
   "execution_count": 1,
   "metadata": {},
   "outputs": [],
   "source": [
    "import pandas as pd\n",
    "from sklearn.model_selection import train_test_split\n",
    "from sklearn.ensemble import RandomForestClassifier\n",
    "from sklearn.linear_model import LogisticRegression\n",
    "from sklearn.tree import DecisionTreeClassifier\n",
    "from sklearn.metrics import accuracy_score\n",
    "from sklearn.metrics import precision_score\n",
    "from sklearn.metrics import f1_score\n",
    "from sklearn.preprocessing import StandardScaler\n",
    "\n",
    "\n",
    "df = pd.read_csv('users_behavior.csv')"
   ]
  },
  {
   "cell_type": "code",
   "execution_count": 2,
   "metadata": {},
   "outputs": [
    {
     "name": "stdout",
     "output_type": "stream",
     "text": [
      "<class 'pandas.core.frame.DataFrame'>\n",
      "RangeIndex: 3214 entries, 0 to 3213\n",
      "Data columns (total 5 columns):\n",
      " #   Column    Non-Null Count  Dtype  \n",
      "---  ------    --------------  -----  \n",
      " 0   calls     3214 non-null   float64\n",
      " 1   minutes   3214 non-null   float64\n",
      " 2   messages  3214 non-null   float64\n",
      " 3   mb_used   3214 non-null   float64\n",
      " 4   is_ultra  3214 non-null   int64  \n",
      "dtypes: float64(4), int64(1)\n",
      "memory usage: 125.7 KB\n"
     ]
    }
   ],
   "source": [
    "df.info()"
   ]
  },
  {
   "cell_type": "code",
   "execution_count": 3,
   "metadata": {},
   "outputs": [],
   "source": [
    "# We can convert messages to an integer type, since messages cannot be \"and a half\"\n",
    "#df['messages'] = df.messages.astype(int)"
   ]
  },
  {
   "cell_type": "markdown",
   "metadata": {},
   "source": [
    "**Conclusion:** We looked through the data, everything is in order, the data is prepared."
   ]
  },
  {
   "cell_type": "markdown",
   "metadata": {},
   "source": [
    "## 2. Split the data into samples"
   ]
  },
  {
   "cell_type": "code",
   "execution_count": 4,
   "metadata": {},
   "outputs": [],
   "source": [
    "df_learn, df_test = train_test_split(df, test_size=0.4, random_state=12345)\n",
    "df_test, df_valid = train_test_split(df_test, test_size=0.5, random_state=12345)\n",
    "\n",
    "features_learn = df_learn.drop('is_ultra', axis = 1)\n",
    "target_learn = df_learn['is_ultra']\n",
    "\n",
    "features_test = df_test.drop('is_ultra', axis = 1)\n",
    "target_test = df_test['is_ultra']\n",
    "\n",
    "features_valid = df_valid.drop('is_ultra', axis = 1)\n",
    "target_valid = df_valid['is_ultra']"
   ]
  },
  {
   "cell_type": "markdown",
   "metadata": {},
   "source": [
    "**Conclusion:** Split the data into samples in a ratio of 3:1:1"
   ]
  },
  {
   "cell_type": "markdown",
   "metadata": {},
   "source": [
    "## 3. Explore Models"
   ]
  },
  {
   "cell_type": "markdown",
   "metadata": {},
   "source": [
    "#### 3.1 RandomForest"
   ]
  },
  {
   "cell_type": "code",
   "execution_count": 5,
   "metadata": {},
   "outputs": [
    {
     "name": "stdout",
     "output_type": "stream",
     "text": [
      "Accuracy of the best model on the validation set: 0.8149300155520995, estimators: 14, max_depth: 9\n"
     ]
    }
   ],
   "source": [
    "best_model_forest = None\n",
    "best_score_forest = 0\n",
    "best_depth_forest = 0\n",
    "best_est_forest = 0\n",
    "for est in range(1, 20):\n",
    "    for depth in range(1,20):\n",
    "        model_RF = RandomForestClassifier(max_depth=depth, random_state = 12345, n_estimators=est)\n",
    "        model_RF.fit(features_learn, target_learn)\n",
    "        prediction_valid = model_RF.predict(features_valid)\n",
    "        result = accuracy_score(target_valid, prediction_valid)\n",
    "        if result > best_score_forest:\n",
    "            best_score_forest = result\n",
    "            best_model_forest = model_RF\n",
    "            best_depth_forest = depth\n",
    "            best_est_forest = est\n",
    "        \n",
    "print(f'Accuracy of the best model on the validation set: {best_score_forest}, estimators: {best_est_forest}, max_depth: {best_depth_forest}' )"
   ]
  },
  {
   "cell_type": "markdown",
   "metadata": {},
   "source": [
    "#### 3.2 LogisticRegression"
   ]
  },
  {
   "cell_type": "code",
   "execution_count": 6,
   "metadata": {},
   "outputs": [
    {
     "name": "stdout",
     "output_type": "stream",
     "text": [
      "Accuracy of the logistic regression model on the validation set: 0.6842923794712286\n"
     ]
    }
   ],
   "source": [
    "model_LR = LogisticRegression(random_state = 12345) \n",
    "model_LR.fit(features_learn, target_learn)\n",
    "result = model_LR.score(features_valid, target_valid)\n",
    "print(\"Accuracy of the logistic regression model on the validation set:\", result)"
   ]
  },
  {
   "cell_type": "markdown",
   "metadata": {},
   "source": [
    "#### 3.3 DecisionTreeClassifier"
   ]
  },
  {
   "cell_type": "code",
   "execution_count": 7,
   "metadata": {},
   "outputs": [
    {
     "name": "stdout",
     "output_type": "stream",
     "text": [
      "max_depth = 1 - Accuracy: 0.7356143079315708\n",
      "max_depth = 2 - Accuracy: 0.7744945567651633\n",
      "max_depth = 3 - Accuracy: 0.7791601866251944\n",
      "max_depth = 5 - Accuracy: 0.7838258164852255\n",
      "max_depth = 7 - Accuracy: 0.7993779160186625\n"
     ]
    }
   ],
   "source": [
    "best_model_tree = None\n",
    "best_score_tree = 0\n",
    "best_depth_tree = 0\n",
    "\n",
    "for depth in range(1, 10):\n",
    "    model_DT = DecisionTreeClassifier(max_depth=depth, random_state = 12345)\n",
    "    model_DT.fit(features_learn, target_learn)\n",
    "    prediction_valid = model_DT.predict(features_valid)\n",
    "    accuracy_tree = accuracy_score(target_valid, prediction_valid)\n",
    "    if accuracy_tree > best_score_tree:\n",
    "        best_score_tree = accuracy_tree\n",
    "        best_model_tree = model_DT\n",
    "        best_depth_tree = depth\n",
    "        \n",
    "        print(f'max_depth = {best_depth_tree} - Accuracy: {best_score_tree}')\n"
   ]
  },
  {
   "cell_type": "markdown",
   "metadata": {},
   "source": [
    "**Conclusion:** Comparing the data, we can conclude that the highest accuracy is given by the model created using the \"Random Forest\", the lowest - using Logistic Regression"
   ]
  },
  {
   "cell_type": "markdown",
   "metadata": {},
   "source": [
    "## 4. Check the model on the test set"
   ]
  },
  {
   "cell_type": "markdown",
   "metadata": {},
   "source": [
    "#### 4.1 - LogisticRegression"
   ]
  },
  {
   "cell_type": "code",
   "execution_count": 8,
   "metadata": {},
   "outputs": [
    {
     "name": "stdout",
     "output_type": "stream",
     "text": [
      "Accuracy of the Logistic Regression Model on the Test Set - 0.7107309486780715\n"
     ]
    }
   ],
   "source": [
    "predict_testLR = model_LR.predict(features_test)\n",
    "accuracy_testLR = accuracy_score(predict_testLR, target_test)\n",
    "print(f'Accuracy of the Logistic Regression Model on the Test Set - {accuracy_testLR}')"
   ]
  },
  {
   "cell_type": "markdown",
   "metadata": {},
   "source": [
    "#### 4.2 - RandomForest"
   ]
  },
  {
   "cell_type": "code",
   "execution_count": 9,
   "metadata": {},
   "outputs": [
    {
     "name": "stdout",
     "output_type": "stream",
     "text": [
      "Accuracy of the Random Forest model on the test set - 0.7900466562986003\n"
     ]
    }
   ],
   "source": [
    "predict_testRF = best_model_forest.predict(features_test)\n",
    "accuracy_testRF = accuracy_score(predict_testRF, target_test)\n",
    "print(f'Accuracy of the Random Forest model on the test set - {accuracy_testRF}')"
   ]
  },
  {
   "cell_type": "markdown",
   "metadata": {},
   "source": [
    "#### 4.3 DecisionTreeClassifier"
   ]
  },
  {
   "cell_type": "code",
   "execution_count": 10,
   "metadata": {},
   "outputs": [
    {
     "name": "stdout",
     "output_type": "stream",
     "text": [
      "Accuracy модели Случайного леса на тестовой выборке - 0.7822706065318819\n"
     ]
    }
   ],
   "source": [
    "predict_testRF = best_model_tree.predict(features_test)\n",
    "accuracy_testRF = accuracy_score(predict_testRF, target_test)\n",
    "print(f'Accuracy модели Случайного леса на тестовой выборке - {accuracy_testRF}')"
   ]
  },
  {
   "cell_type": "markdown",
   "metadata": {},
   "source": [
    "**Conclusion:** We checked the models on test samples, the values are similar, which means the models are working correctly."
   ]
  },
  {
   "cell_type": "markdown",
   "metadata": {},
   "source": [
    "## 5. Check models for adequacy"
   ]
  },
  {
   "cell_type": "code",
   "execution_count": 11,
   "metadata": {},
   "outputs": [
    {
     "name": "stdout",
     "output_type": "stream",
     "text": [
      "Accuracy Dummy Models on a Test Set: 0.7060653188180405\n"
     ]
    }
   ],
   "source": [
    "from sklearn.dummy import DummyClassifier\n",
    "dummy = DummyClassifier(strategy='most_frequent', random_state=12345).fit(features_learn, target_learn)\n",
    "dummy_pred = dummy.predict(features_test)\n",
    "print('Accuracy Dummy Models on a Test Set:', accuracy_score(target_test, dummy_pred))"
   ]
  },
  {
   "cell_type": "markdown",
   "metadata": {},
   "source": [
    "# Conclusions:\n",
    "   - we opened the dataset, divided it into samples, studied 3 variants of models with different hyperparameters. \n",
    "   - We found out that the `RandomForest` model works best. Checked on test samples, confirming the conclusions."
   ]
  }
 ],
 "metadata": {
  "ExecuteTimeLog": [
   {
    "duration": 537,
    "start_time": "2022-03-06T11:22:36.961Z"
   },
   {
    "duration": 7,
    "start_time": "2022-03-06T11:26:02.019Z"
   },
   {
    "duration": 3,
    "start_time": "2022-03-06T11:26:52.590Z"
   },
   {
    "duration": 9,
    "start_time": "2022-03-06T11:26:58.080Z"
   },
   {
    "duration": 7,
    "start_time": "2022-03-06T11:27:09.042Z"
   },
   {
    "duration": 22,
    "start_time": "2022-03-06T11:29:50.654Z"
   },
   {
    "duration": 189,
    "start_time": "2022-03-06T11:29:54.788Z"
   },
   {
    "duration": 6,
    "start_time": "2022-03-06T11:29:57.751Z"
   },
   {
    "duration": 429,
    "start_time": "2022-03-06T11:31:00.121Z"
   },
   {
    "duration": 7,
    "start_time": "2022-03-06T11:52:04.343Z"
   },
   {
    "duration": 15,
    "start_time": "2022-03-06T11:52:10.995Z"
   },
   {
    "duration": 13,
    "start_time": "2022-03-06T11:52:16.456Z"
   },
   {
    "duration": 13,
    "start_time": "2022-03-06T11:53:05.358Z"
   },
   {
    "duration": 14,
    "start_time": "2022-03-06T11:53:46.134Z"
   },
   {
    "duration": 7,
    "start_time": "2022-03-06T11:54:11.049Z"
   },
   {
    "duration": 15,
    "start_time": "2022-03-06T11:54:15.253Z"
   },
   {
    "duration": 15,
    "start_time": "2022-03-06T11:54:19.571Z"
   },
   {
    "duration": 14,
    "start_time": "2022-03-06T11:54:25.948Z"
   },
   {
    "duration": 15,
    "start_time": "2022-03-06T11:54:33.173Z"
   },
   {
    "duration": 16,
    "start_time": "2022-03-06T11:54:37.048Z"
   },
   {
    "duration": 15,
    "start_time": "2022-03-06T11:54:41.186Z"
   },
   {
    "duration": 8,
    "start_time": "2022-03-06T11:54:46.820Z"
   },
   {
    "duration": 11,
    "start_time": "2022-03-06T12:08:22.930Z"
   },
   {
    "duration": 43,
    "start_time": "2022-03-06T12:14:22.631Z"
   },
   {
    "duration": 333,
    "start_time": "2022-03-06T12:14:55.180Z"
   },
   {
    "duration": 1100,
    "start_time": "2022-03-06T12:15:55.077Z"
   },
   {
    "duration": 75,
    "start_time": "2022-03-06T12:16:03.297Z"
   },
   {
    "duration": 307,
    "start_time": "2022-03-06T12:16:07.416Z"
   },
   {
    "duration": 287,
    "start_time": "2022-03-06T12:16:36.422Z"
   },
   {
    "duration": 1088,
    "start_time": "2022-03-06T12:16:41.732Z"
   },
   {
    "duration": 1156,
    "start_time": "2022-03-06T12:17:30.151Z"
   },
   {
    "duration": 176,
    "start_time": "2022-03-06T12:19:32.491Z"
   },
   {
    "duration": 13,
    "start_time": "2022-03-06T12:19:38.910Z"
   },
   {
    "duration": 22,
    "start_time": "2022-03-06T12:19:41.681Z"
   },
   {
    "duration": 14,
    "start_time": "2022-03-06T12:20:02.067Z"
   },
   {
    "duration": 1082,
    "start_time": "2022-03-06T12:20:35.054Z"
   },
   {
    "duration": 13,
    "start_time": "2022-03-06T12:20:37.603Z"
   },
   {
    "duration": 12,
    "start_time": "2022-03-06T12:21:06.059Z"
   },
   {
    "duration": 141,
    "start_time": "2022-03-06T12:21:47.417Z"
   },
   {
    "duration": 13,
    "start_time": "2022-03-06T12:22:19.424Z"
   },
   {
    "duration": 30,
    "start_time": "2022-03-06T12:22:22.695Z"
   },
   {
    "duration": 67,
    "start_time": "2022-03-06T12:23:00.285Z"
   },
   {
    "duration": 687,
    "start_time": "2022-03-06T12:23:09.468Z"
   },
   {
    "duration": 25,
    "start_time": "2022-03-06T12:23:18.620Z"
   },
   {
    "duration": 31,
    "start_time": "2022-03-06T12:23:24.549Z"
   },
   {
    "duration": 30,
    "start_time": "2022-03-06T12:27:15.291Z"
   },
   {
    "duration": 587,
    "start_time": "2022-03-06T12:29:58.028Z"
   },
   {
    "duration": 579,
    "start_time": "2022-03-06T12:30:15.793Z"
   },
   {
    "duration": 30,
    "start_time": "2022-03-06T12:30:29.454Z"
   },
   {
    "duration": 538,
    "start_time": "2022-03-06T12:50:13.910Z"
   },
   {
    "duration": 549,
    "start_time": "2022-03-06T12:50:24.622Z"
   },
   {
    "duration": 16,
    "start_time": "2022-03-06T12:50:37.133Z"
   },
   {
    "duration": 10,
    "start_time": "2022-03-06T12:50:37.151Z"
   },
   {
    "duration": 7,
    "start_time": "2022-03-06T12:50:37.163Z"
   },
   {
    "duration": 10,
    "start_time": "2022-03-06T12:50:37.172Z"
   },
   {
    "duration": 568,
    "start_time": "2022-03-06T12:50:37.184Z"
   },
   {
    "duration": 14,
    "start_time": "2022-03-06T12:50:37.754Z"
   },
   {
    "duration": 188,
    "start_time": "2022-03-06T12:50:37.770Z"
   },
   {
    "duration": 592,
    "start_time": "2022-03-06T12:50:59.407Z"
   },
   {
    "duration": 21,
    "start_time": "2022-03-06T12:51:16.300Z"
   },
   {
    "duration": 32,
    "start_time": "2022-03-06T12:51:39.339Z"
   },
   {
    "duration": 181,
    "start_time": "2022-03-06T12:53:02.655Z"
   },
   {
    "duration": 134,
    "start_time": "2022-03-06T12:53:32.366Z"
   },
   {
    "duration": 13,
    "start_time": "2022-03-06T12:53:43.536Z"
   },
   {
    "duration": 6,
    "start_time": "2022-03-06T12:53:50.870Z"
   },
   {
    "duration": 4,
    "start_time": "2022-03-06T12:54:39.149Z"
   },
   {
    "duration": 12,
    "start_time": "2022-03-06T12:54:43.541Z"
   },
   {
    "duration": 12,
    "start_time": "2022-03-06T12:55:18.079Z"
   },
   {
    "duration": 11,
    "start_time": "2022-03-06T12:55:59.626Z"
   },
   {
    "duration": 6,
    "start_time": "2022-03-06T12:56:20.290Z"
   },
   {
    "duration": 10,
    "start_time": "2022-03-06T12:56:20.766Z"
   },
   {
    "duration": 7,
    "start_time": "2022-03-06T12:56:50.685Z"
   },
   {
    "duration": 42,
    "start_time": "2022-03-06T12:57:25.782Z"
   },
   {
    "duration": 5,
    "start_time": "2022-03-06T12:57:43.978Z"
   },
   {
    "duration": 41,
    "start_time": "2022-03-06T13:01:31.951Z"
   },
   {
    "duration": 7,
    "start_time": "2022-03-06T13:03:00.259Z"
   },
   {
    "duration": 7,
    "start_time": "2022-03-06T13:03:03.875Z"
   },
   {
    "duration": 3,
    "start_time": "2022-03-06T13:05:23.943Z"
   },
   {
    "duration": 17,
    "start_time": "2022-03-06T13:07:05.622Z"
   },
   {
    "duration": 6,
    "start_time": "2022-03-06T13:07:05.641Z"
   },
   {
    "duration": 8,
    "start_time": "2022-03-06T13:07:05.649Z"
   },
   {
    "duration": 12,
    "start_time": "2022-03-06T13:07:05.659Z"
   },
   {
    "duration": 620,
    "start_time": "2022-03-06T13:07:05.673Z"
   },
   {
    "duration": 44,
    "start_time": "2022-03-06T13:07:06.295Z"
   },
   {
    "duration": 122,
    "start_time": "2022-03-06T13:07:06.342Z"
   },
   {
    "duration": 6,
    "start_time": "2022-03-06T13:07:06.466Z"
   },
   {
    "duration": 104,
    "start_time": "2022-03-06T13:07:06.538Z"
   },
   {
    "duration": 5,
    "start_time": "2022-03-06T13:07:06.643Z"
   },
   {
    "duration": 6,
    "start_time": "2022-03-06T13:07:06.650Z"
   },
   {
    "duration": 13,
    "start_time": "2022-03-06T13:07:08.086Z"
   },
   {
    "duration": 6,
    "start_time": "2022-03-06T13:07:08.101Z"
   },
   {
    "duration": 5,
    "start_time": "2022-03-06T13:07:08.108Z"
   },
   {
    "duration": 10,
    "start_time": "2022-03-06T13:07:08.115Z"
   },
   {
    "duration": 591,
    "start_time": "2022-03-06T13:07:08.127Z"
   },
   {
    "duration": 16,
    "start_time": "2022-03-06T13:07:08.720Z"
   },
   {
    "duration": 204,
    "start_time": "2022-03-06T13:07:08.738Z"
   },
   {
    "duration": 7,
    "start_time": "2022-03-06T13:07:08.944Z"
   },
   {
    "duration": 105,
    "start_time": "2022-03-06T13:07:09.033Z"
   },
   {
    "duration": 5,
    "start_time": "2022-03-06T13:07:09.140Z"
   },
   {
    "duration": 3,
    "start_time": "2022-03-06T13:07:09.147Z"
   },
   {
    "duration": 986,
    "start_time": "2022-03-07T09:36:16.691Z"
   },
   {
    "duration": 8,
    "start_time": "2022-03-07T09:36:17.685Z"
   },
   {
    "duration": 8,
    "start_time": "2022-03-07T09:36:17.695Z"
   },
   {
    "duration": 14,
    "start_time": "2022-03-07T09:36:17.705Z"
   },
   {
    "duration": 274,
    "start_time": "2022-03-07T09:36:17.721Z"
   },
   {
    "duration": 513,
    "start_time": "2022-03-07T09:36:17.484Z"
   },
   {
    "duration": 501,
    "start_time": "2022-03-07T09:36:17.497Z"
   },
   {
    "duration": 483,
    "start_time": "2022-03-07T09:36:17.516Z"
   },
   {
    "duration": 477,
    "start_time": "2022-03-07T09:36:17.523Z"
   },
   {
    "duration": 472,
    "start_time": "2022-03-07T09:36:17.529Z"
   },
   {
    "duration": 463,
    "start_time": "2022-03-07T09:36:17.539Z"
   },
   {
    "duration": 453,
    "start_time": "2022-03-07T09:36:17.550Z"
   },
   {
    "duration": 169,
    "start_time": "2022-03-07T09:38:23.573Z"
   },
   {
    "duration": 575,
    "start_time": "2022-03-07T09:38:23.169Z"
   },
   {
    "duration": 567,
    "start_time": "2022-03-07T09:38:23.178Z"
   },
   {
    "duration": 556,
    "start_time": "2022-03-07T09:38:23.190Z"
   },
   {
    "duration": 548,
    "start_time": "2022-03-07T09:38:23.199Z"
   },
   {
    "duration": 166,
    "start_time": "2022-03-07T09:38:23.823Z"
   },
   {
    "duration": 566,
    "start_time": "2022-03-07T09:38:23.425Z"
   },
   {
    "duration": 549,
    "start_time": "2022-03-07T09:38:23.443Z"
   },
   {
    "duration": 70,
    "start_time": "2022-03-07T09:38:33.037Z"
   },
   {
    "duration": 28,
    "start_time": "2022-03-07T09:38:58.131Z"
   },
   {
    "duration": 10,
    "start_time": "2022-03-07T09:42:06.700Z"
   },
   {
    "duration": 408,
    "start_time": "2022-03-07T09:42:10.340Z"
   },
   {
    "duration": 14,
    "start_time": "2022-03-07T09:42:12.340Z"
   },
   {
    "duration": 23,
    "start_time": "2022-03-07T09:42:17.584Z"
   },
   {
    "duration": 5,
    "start_time": "2022-03-07T09:42:22.352Z"
   },
   {
    "duration": 7,
    "start_time": "2022-03-07T09:42:23.884Z"
   },
   {
    "duration": 23,
    "start_time": "2022-03-07T09:42:30.492Z"
   },
   {
    "duration": 374,
    "start_time": "2022-03-07T09:42:37.532Z"
   },
   {
    "duration": 4219,
    "start_time": "2022-03-07T09:42:43.568Z"
   },
   {
    "duration": 48,
    "start_time": "2022-03-07T09:42:55.412Z"
   },
   {
    "duration": 26,
    "start_time": "2022-03-07T09:43:07.051Z"
   },
   {
    "duration": 6,
    "start_time": "2022-03-07T09:43:09.331Z"
   },
   {
    "duration": 1036,
    "start_time": "2022-03-07T09:43:36.727Z"
   },
   {
    "duration": 7,
    "start_time": "2022-03-07T09:43:37.765Z"
   },
   {
    "duration": 4,
    "start_time": "2022-03-07T09:43:37.775Z"
   },
   {
    "duration": 11,
    "start_time": "2022-03-07T09:43:37.781Z"
   },
   {
    "duration": 10,
    "start_time": "2022-03-07T09:43:37.793Z"
   },
   {
    "duration": 255,
    "start_time": "2022-03-07T09:43:37.804Z"
   },
   {
    "duration": 566,
    "start_time": "2022-03-07T09:43:37.495Z"
   },
   {
    "duration": 562,
    "start_time": "2022-03-07T09:43:37.500Z"
   },
   {
    "duration": 559,
    "start_time": "2022-03-07T09:43:37.504Z"
   },
   {
    "duration": 554,
    "start_time": "2022-03-07T09:43:37.511Z"
   },
   {
    "duration": 552,
    "start_time": "2022-03-07T09:43:37.514Z"
   },
   {
    "duration": 548,
    "start_time": "2022-03-07T09:43:37.519Z"
   },
   {
    "duration": 544,
    "start_time": "2022-03-07T09:43:37.524Z"
   },
   {
    "duration": 11302,
    "start_time": "2022-03-07T09:45:59.176Z"
   },
   {
    "duration": 16,
    "start_time": "2022-03-07T09:46:20.018Z"
   },
   {
    "duration": 24,
    "start_time": "2022-03-07T09:46:22.000Z"
   },
   {
    "duration": 5,
    "start_time": "2022-03-07T09:46:29.728Z"
   },
   {
    "duration": 9,
    "start_time": "2022-03-07T09:46:31.019Z"
   },
   {
    "duration": 6,
    "start_time": "2022-03-07T09:46:33.345Z"
   },
   {
    "duration": 46,
    "start_time": "2022-03-07T09:46:35.447Z"
   },
   {
    "duration": 199,
    "start_time": "2022-03-07T09:47:34.449Z"
   },
   {
    "duration": 5,
    "start_time": "2022-03-07T09:48:09.121Z"
   },
   {
    "duration": 9,
    "start_time": "2022-03-07T09:48:23.177Z"
   },
   {
    "duration": 54,
    "start_time": "2022-03-07T09:48:29.687Z"
   },
   {
    "duration": 49,
    "start_time": "2022-03-07T10:25:51.615Z"
   },
   {
    "duration": 13,
    "start_time": "2022-03-07T10:26:02.445Z"
   },
   {
    "duration": 8,
    "start_time": "2022-03-07T10:26:05.109Z"
   },
   {
    "duration": 5,
    "start_time": "2022-03-07T10:26:07.327Z"
   },
   {
    "duration": 11,
    "start_time": "2022-03-07T10:26:10.337Z"
   },
   {
    "duration": 458,
    "start_time": "2022-03-07T10:26:14.134Z"
   },
   {
    "duration": 10620,
    "start_time": "2022-03-07T10:26:28.133Z"
   },
   {
    "duration": 41,
    "start_time": "2022-03-07T10:26:59.750Z"
   },
   {
    "duration": 14,
    "start_time": "2022-03-07T10:27:08.318Z"
   },
   {
    "duration": 24,
    "start_time": "2022-03-07T10:27:18.302Z"
   },
   {
    "duration": 139,
    "start_time": "2022-03-07T10:28:02.046Z"
   },
   {
    "duration": 5,
    "start_time": "2022-03-07T10:28:40.566Z"
   },
   {
    "duration": 8,
    "start_time": "2022-03-07T10:28:42.422Z"
   },
   {
    "duration": 6,
    "start_time": "2022-03-07T10:28:44.406Z"
   },
   {
    "duration": 149,
    "start_time": "2022-03-07T10:31:48.900Z"
   },
   {
    "duration": 239,
    "start_time": "2022-03-07T10:31:56.132Z"
   },
   {
    "duration": 229,
    "start_time": "2022-03-07T10:32:18.188Z"
   },
   {
    "duration": 10179,
    "start_time": "2022-03-07T10:34:44.195Z"
   },
   {
    "duration": 10304,
    "start_time": "2022-03-07T10:35:37.970Z"
   },
   {
    "duration": 1026,
    "start_time": "2022-03-07T10:55:30.654Z"
   },
   {
    "duration": 6,
    "start_time": "2022-03-07T10:55:31.681Z"
   },
   {
    "duration": 6,
    "start_time": "2022-03-07T10:55:31.689Z"
   },
   {
    "duration": 14,
    "start_time": "2022-03-07T10:55:31.697Z"
   },
   {
    "duration": 13,
    "start_time": "2022-03-07T10:55:31.712Z"
   },
   {
    "duration": 270,
    "start_time": "2022-03-07T10:55:31.727Z"
   },
   {
    "duration": 698,
    "start_time": "2022-03-07T10:55:31.301Z"
   },
   {
    "duration": 680,
    "start_time": "2022-03-07T10:55:31.320Z"
   },
   {
    "duration": 676,
    "start_time": "2022-03-07T10:55:31.325Z"
   },
   {
    "duration": 672,
    "start_time": "2022-03-07T10:55:31.330Z"
   },
   {
    "duration": 668,
    "start_time": "2022-03-07T10:55:31.335Z"
   },
   {
    "duration": 662,
    "start_time": "2022-03-07T10:55:31.342Z"
   },
   {
    "duration": 654,
    "start_time": "2022-03-07T10:55:31.351Z"
   },
   {
    "duration": 649,
    "start_time": "2022-03-07T10:55:31.357Z"
   },
   {
    "duration": 648,
    "start_time": "2022-03-07T10:55:31.359Z"
   },
   {
    "duration": 603,
    "start_time": "2022-03-07T10:55:31.405Z"
   },
   {
    "duration": 1042,
    "start_time": "2022-03-07T10:55:52.037Z"
   },
   {
    "duration": 8,
    "start_time": "2022-03-07T10:55:53.081Z"
   },
   {
    "duration": 5,
    "start_time": "2022-03-07T10:55:53.091Z"
   },
   {
    "duration": 12,
    "start_time": "2022-03-07T10:55:53.098Z"
   },
   {
    "duration": 23,
    "start_time": "2022-03-07T10:55:53.112Z"
   },
   {
    "duration": 4,
    "start_time": "2022-03-07T10:55:53.141Z"
   },
   {
    "duration": 10764,
    "start_time": "2022-03-07T10:55:53.147Z"
   },
   {
    "duration": 22,
    "start_time": "2022-03-07T10:56:03.913Z"
   },
   {
    "duration": 29,
    "start_time": "2022-03-07T10:56:03.939Z"
   },
   {
    "duration": 5,
    "start_time": "2022-03-07T10:56:03.970Z"
   },
   {
    "duration": 11039,
    "start_time": "2022-03-07T10:56:03.977Z"
   },
   {
    "duration": 15,
    "start_time": "2022-03-07T10:56:15.018Z"
   },
   {
    "duration": 53,
    "start_time": "2022-03-07T10:56:15.035Z"
   },
   {
    "duration": 3,
    "start_time": "2022-03-07T10:56:15.090Z"
   },
   {
    "duration": 9,
    "start_time": "2022-03-07T10:56:15.094Z"
   },
   {
    "duration": 31,
    "start_time": "2022-03-07T10:56:15.105Z"
   },
   {
    "duration": 10968,
    "start_time": "2022-03-07T10:56:49.568Z"
   },
   {
    "duration": 10750,
    "start_time": "2022-03-07T10:59:17.313Z"
   },
   {
    "duration": 57,
    "start_time": "2022-03-07T11:00:49.276Z"
   },
   {
    "duration": 10372,
    "start_time": "2022-03-07T11:00:54.549Z"
   },
   {
    "duration": 1044,
    "start_time": "2022-03-07T11:01:33.363Z"
   },
   {
    "duration": 7,
    "start_time": "2022-03-07T11:01:34.409Z"
   },
   {
    "duration": 14,
    "start_time": "2022-03-07T11:01:34.418Z"
   },
   {
    "duration": 9,
    "start_time": "2022-03-07T11:01:34.435Z"
   },
   {
    "duration": 9,
    "start_time": "2022-03-07T11:01:34.445Z"
   },
   {
    "duration": 2,
    "start_time": "2022-03-07T11:01:34.456Z"
   },
   {
    "duration": 11081,
    "start_time": "2022-03-07T11:01:34.460Z"
   },
   {
    "duration": 14,
    "start_time": "2022-03-07T11:01:45.543Z"
   },
   {
    "duration": 24,
    "start_time": "2022-03-07T11:01:45.560Z"
   },
   {
    "duration": 5,
    "start_time": "2022-03-07T11:01:45.586Z"
   },
   {
    "duration": 10440,
    "start_time": "2022-03-07T11:01:45.593Z"
   },
   {
    "duration": 5,
    "start_time": "2022-03-07T11:01:56.035Z"
   },
   {
    "duration": 47,
    "start_time": "2022-03-07T11:01:56.042Z"
   },
   {
    "duration": 2,
    "start_time": "2022-03-07T11:01:56.091Z"
   },
   {
    "duration": 7,
    "start_time": "2022-03-07T11:01:56.095Z"
   },
   {
    "duration": 37,
    "start_time": "2022-03-07T11:01:56.104Z"
   },
   {
    "duration": 10973,
    "start_time": "2022-03-07T11:03:58.483Z"
   },
   {
    "duration": 982,
    "start_time": "2022-03-07T12:03:29.501Z"
   },
   {
    "duration": 8,
    "start_time": "2022-03-07T12:03:30.485Z"
   },
   {
    "duration": 9,
    "start_time": "2022-03-07T12:03:30.496Z"
   },
   {
    "duration": 12,
    "start_time": "2022-03-07T12:03:30.507Z"
   },
   {
    "duration": 16,
    "start_time": "2022-03-07T12:03:30.521Z"
   },
   {
    "duration": 2,
    "start_time": "2022-03-07T12:03:30.541Z"
   },
   {
    "duration": 10830,
    "start_time": "2022-03-07T12:03:30.545Z"
   },
   {
    "duration": 14,
    "start_time": "2022-03-07T12:03:41.376Z"
   },
   {
    "duration": 41,
    "start_time": "2022-03-07T12:03:41.392Z"
   },
   {
    "duration": 6,
    "start_time": "2022-03-07T12:03:41.436Z"
   },
   {
    "duration": 10931,
    "start_time": "2022-03-07T12:03:41.444Z"
   },
   {
    "duration": 12263,
    "start_time": "2022-03-07T12:03:52.377Z"
   },
   {
    "duration": 6,
    "start_time": "2022-03-07T12:04:04.643Z"
   },
   {
    "duration": 57,
    "start_time": "2022-03-07T12:04:04.651Z"
   },
   {
    "duration": 2,
    "start_time": "2022-03-07T12:04:04.710Z"
   },
   {
    "duration": 22,
    "start_time": "2022-03-07T12:04:04.714Z"
   },
   {
    "duration": 16,
    "start_time": "2022-03-07T12:04:04.739Z"
   },
   {
    "duration": 11184,
    "start_time": "2022-03-07T12:06:53.811Z"
   },
   {
    "duration": 281,
    "start_time": "2022-03-07T12:08:31.582Z"
   },
   {
    "duration": 53,
    "start_time": "2022-03-07T12:08:47.190Z"
   },
   {
    "duration": 60,
    "start_time": "2022-03-07T12:08:55.703Z"
   },
   {
    "duration": 10825,
    "start_time": "2022-03-07T12:09:11.114Z"
   },
   {
    "duration": 10945,
    "start_time": "2022-03-07T12:10:19.679Z"
   },
   {
    "duration": 1056,
    "start_time": "2022-03-07T12:11:22.133Z"
   },
   {
    "duration": 7,
    "start_time": "2022-03-07T12:11:23.191Z"
   },
   {
    "duration": 5,
    "start_time": "2022-03-07T12:11:23.200Z"
   },
   {
    "duration": 10,
    "start_time": "2022-03-07T12:11:23.207Z"
   },
   {
    "duration": 25,
    "start_time": "2022-03-07T12:11:23.219Z"
   },
   {
    "duration": 7,
    "start_time": "2022-03-07T12:11:23.246Z"
   },
   {
    "duration": 10955,
    "start_time": "2022-03-07T12:11:23.254Z"
   },
   {
    "duration": 22,
    "start_time": "2022-03-07T12:11:34.212Z"
   },
   {
    "duration": 27,
    "start_time": "2022-03-07T12:11:34.236Z"
   },
   {
    "duration": 5,
    "start_time": "2022-03-07T12:11:34.265Z"
   },
   {
    "duration": 10855,
    "start_time": "2022-03-07T12:11:34.272Z"
   },
   {
    "duration": 8,
    "start_time": "2022-03-07T12:11:45.132Z"
   },
   {
    "duration": 54,
    "start_time": "2022-03-07T12:11:45.142Z"
   },
   {
    "duration": 2,
    "start_time": "2022-03-07T12:11:45.197Z"
   },
   {
    "duration": 7,
    "start_time": "2022-03-07T12:11:45.201Z"
   },
   {
    "duration": 40,
    "start_time": "2022-03-07T12:11:45.209Z"
   }
  ],
  "kernelspec": {
   "display_name": "Python 3",
   "language": "python",
   "name": "python3"
  },
  "language_info": {
   "codemirror_mode": {
    "name": "ipython",
    "version": 3
   },
   "file_extension": ".py",
   "mimetype": "text/x-python",
   "name": "python",
   "nbconvert_exporter": "python",
   "pygments_lexer": "ipython3",
   "version": "3.9.0"
  },
  "toc": {
   "base_numbering": 1,
   "nav_menu": {},
   "number_sections": true,
   "sideBar": true,
   "skip_h1_title": true,
   "title_cell": "Table of Contents",
   "title_sidebar": "Contents",
   "toc_cell": false,
   "toc_position": {},
   "toc_section_display": true,
   "toc_window_display": false
  }
 },
 "nbformat": 4,
 "nbformat_minor": 2
}
